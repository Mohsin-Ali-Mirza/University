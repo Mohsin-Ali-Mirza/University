{
  "nbformat": 4,
  "nbformat_minor": 0,
  "metadata": {
    "colab": {
      "provenance": [],
      "gpuType": "T4"
    },
    "kernelspec": {
      "name": "python3",
      "display_name": "Python 3"
    },
    "language_info": {
      "name": "python"
    },
    "accelerator": "GPU",
    "widgets": {
      "application/vnd.jupyter.widget-state+json": {
        "472a61d6882044e58c8d5835e2c6f88b": {
          "model_module": "@jupyter-widgets/controls",
          "model_name": "VBoxModel",
          "model_module_version": "1.5.0",
          "state": {
            "_dom_classes": [],
            "_model_module": "@jupyter-widgets/controls",
            "_model_module_version": "1.5.0",
            "_model_name": "VBoxModel",
            "_view_count": null,
            "_view_module": "@jupyter-widgets/controls",
            "_view_module_version": "1.5.0",
            "_view_name": "VBoxView",
            "box_style": "",
            "children": [
              "IPY_MODEL_3be896b281524fc0a9026b7f5d247c73",
              "IPY_MODEL_3f105a15d6ab444ea72b3e3df133e669"
            ],
            "layout": "IPY_MODEL_e00d775b7b94416182b90bb18fc809a5"
          }
        },
        "3be896b281524fc0a9026b7f5d247c73": {
          "model_module": "@jupyter-widgets/controls",
          "model_name": "LabelModel",
          "model_module_version": "1.5.0",
          "state": {
            "_dom_classes": [],
            "_model_module": "@jupyter-widgets/controls",
            "_model_module_version": "1.5.0",
            "_model_name": "LabelModel",
            "_view_count": null,
            "_view_module": "@jupyter-widgets/controls",
            "_view_module_version": "1.5.0",
            "_view_name": "LabelView",
            "description": "",
            "description_tooltip": null,
            "layout": "IPY_MODEL_0a96d87a50ba4ee79d3c83809b120530",
            "placeholder": "​",
            "style": "IPY_MODEL_a4c73b59b1d74c839c990c320ee0c163",
            "value": "2.831 MB of 2.831 MB uploaded\r"
          }
        },
        "3f105a15d6ab444ea72b3e3df133e669": {
          "model_module": "@jupyter-widgets/controls",
          "model_name": "FloatProgressModel",
          "model_module_version": "1.5.0",
          "state": {
            "_dom_classes": [],
            "_model_module": "@jupyter-widgets/controls",
            "_model_module_version": "1.5.0",
            "_model_name": "FloatProgressModel",
            "_view_count": null,
            "_view_module": "@jupyter-widgets/controls",
            "_view_module_version": "1.5.0",
            "_view_name": "ProgressView",
            "bar_style": "",
            "description": "",
            "description_tooltip": null,
            "layout": "IPY_MODEL_55700928b3634cad81c46f5e41cf0c93",
            "max": 1,
            "min": 0,
            "orientation": "horizontal",
            "style": "IPY_MODEL_6f1b703e717f4966a6f24a2ec6b84d47",
            "value": 1
          }
        },
        "e00d775b7b94416182b90bb18fc809a5": {
          "model_module": "@jupyter-widgets/base",
          "model_name": "LayoutModel",
          "model_module_version": "1.2.0",
          "state": {
            "_model_module": "@jupyter-widgets/base",
            "_model_module_version": "1.2.0",
            "_model_name": "LayoutModel",
            "_view_count": null,
            "_view_module": "@jupyter-widgets/base",
            "_view_module_version": "1.2.0",
            "_view_name": "LayoutView",
            "align_content": null,
            "align_items": null,
            "align_self": null,
            "border": null,
            "bottom": null,
            "display": null,
            "flex": null,
            "flex_flow": null,
            "grid_area": null,
            "grid_auto_columns": null,
            "grid_auto_flow": null,
            "grid_auto_rows": null,
            "grid_column": null,
            "grid_gap": null,
            "grid_row": null,
            "grid_template_areas": null,
            "grid_template_columns": null,
            "grid_template_rows": null,
            "height": null,
            "justify_content": null,
            "justify_items": null,
            "left": null,
            "margin": null,
            "max_height": null,
            "max_width": null,
            "min_height": null,
            "min_width": null,
            "object_fit": null,
            "object_position": null,
            "order": null,
            "overflow": null,
            "overflow_x": null,
            "overflow_y": null,
            "padding": null,
            "right": null,
            "top": null,
            "visibility": null,
            "width": null
          }
        },
        "0a96d87a50ba4ee79d3c83809b120530": {
          "model_module": "@jupyter-widgets/base",
          "model_name": "LayoutModel",
          "model_module_version": "1.2.0",
          "state": {
            "_model_module": "@jupyter-widgets/base",
            "_model_module_version": "1.2.0",
            "_model_name": "LayoutModel",
            "_view_count": null,
            "_view_module": "@jupyter-widgets/base",
            "_view_module_version": "1.2.0",
            "_view_name": "LayoutView",
            "align_content": null,
            "align_items": null,
            "align_self": null,
            "border": null,
            "bottom": null,
            "display": null,
            "flex": null,
            "flex_flow": null,
            "grid_area": null,
            "grid_auto_columns": null,
            "grid_auto_flow": null,
            "grid_auto_rows": null,
            "grid_column": null,
            "grid_gap": null,
            "grid_row": null,
            "grid_template_areas": null,
            "grid_template_columns": null,
            "grid_template_rows": null,
            "height": null,
            "justify_content": null,
            "justify_items": null,
            "left": null,
            "margin": null,
            "max_height": null,
            "max_width": null,
            "min_height": null,
            "min_width": null,
            "object_fit": null,
            "object_position": null,
            "order": null,
            "overflow": null,
            "overflow_x": null,
            "overflow_y": null,
            "padding": null,
            "right": null,
            "top": null,
            "visibility": null,
            "width": null
          }
        },
        "a4c73b59b1d74c839c990c320ee0c163": {
          "model_module": "@jupyter-widgets/controls",
          "model_name": "DescriptionStyleModel",
          "model_module_version": "1.5.0",
          "state": {
            "_model_module": "@jupyter-widgets/controls",
            "_model_module_version": "1.5.0",
            "_model_name": "DescriptionStyleModel",
            "_view_count": null,
            "_view_module": "@jupyter-widgets/base",
            "_view_module_version": "1.2.0",
            "_view_name": "StyleView",
            "description_width": ""
          }
        },
        "55700928b3634cad81c46f5e41cf0c93": {
          "model_module": "@jupyter-widgets/base",
          "model_name": "LayoutModel",
          "model_module_version": "1.2.0",
          "state": {
            "_model_module": "@jupyter-widgets/base",
            "_model_module_version": "1.2.0",
            "_model_name": "LayoutModel",
            "_view_count": null,
            "_view_module": "@jupyter-widgets/base",
            "_view_module_version": "1.2.0",
            "_view_name": "LayoutView",
            "align_content": null,
            "align_items": null,
            "align_self": null,
            "border": null,
            "bottom": null,
            "display": null,
            "flex": null,
            "flex_flow": null,
            "grid_area": null,
            "grid_auto_columns": null,
            "grid_auto_flow": null,
            "grid_auto_rows": null,
            "grid_column": null,
            "grid_gap": null,
            "grid_row": null,
            "grid_template_areas": null,
            "grid_template_columns": null,
            "grid_template_rows": null,
            "height": null,
            "justify_content": null,
            "justify_items": null,
            "left": null,
            "margin": null,
            "max_height": null,
            "max_width": null,
            "min_height": null,
            "min_width": null,
            "object_fit": null,
            "object_position": null,
            "order": null,
            "overflow": null,
            "overflow_x": null,
            "overflow_y": null,
            "padding": null,
            "right": null,
            "top": null,
            "visibility": null,
            "width": null
          }
        },
        "6f1b703e717f4966a6f24a2ec6b84d47": {
          "model_module": "@jupyter-widgets/controls",
          "model_name": "ProgressStyleModel",
          "model_module_version": "1.5.0",
          "state": {
            "_model_module": "@jupyter-widgets/controls",
            "_model_module_version": "1.5.0",
            "_model_name": "ProgressStyleModel",
            "_view_count": null,
            "_view_module": "@jupyter-widgets/base",
            "_view_module_version": "1.2.0",
            "_view_name": "StyleView",
            "bar_color": null,
            "description_width": ""
          }
        }
      }
    }
  },
  "cells": [
    {
      "cell_type": "markdown",
      "source": [
        "# After Training On Lenovo 1650Ti\n",
        "\n",
        "## Mohsin Ali Mirza k200353"
      ],
      "metadata": {
        "id": "0mJ3vBofypLu"
      }
    },
    {
      "cell_type": "markdown",
      "source": [
        "For A detailed explanation please refer to the `TrainingNotebook - k200353 - Colab` notebook"
      ],
      "metadata": {
        "id": "-h-VtF6Ayx1h"
      }
    },
    {
      "cell_type": "code",
      "source": [
        "%%shell\n",
        "git clone https://github.com/PaddlePaddle/PaddleOCR\n",
        "pip install -qqq paddlepaddle-gpu pyclipper attrdict\n",
        "cd PaddleOCR\n",
        "pip install -r requirements.txt"
      ],
      "metadata": {
        "id": "QbCcb-otwiMO",
        "colab": {
          "base_uri": "https://localhost:8080/"
        },
        "outputId": "0401ac3a-865a-4abd-8164-0cc818e2057d"
      },
      "execution_count": 1,
      "outputs": [
        {
          "output_type": "stream",
          "name": "stdout",
          "text": [
            "Cloning into 'PaddleOCR'...\n",
            "remote: Enumerating objects: 47637, done.\u001b[K\n",
            "remote: Total 47637 (delta 0), reused 0 (delta 0), pack-reused 47637\u001b[K\n",
            "Receiving objects: 100% (47637/47637), 345.17 MiB | 20.63 MiB/s, done.\n",
            "Resolving deltas: 100% (33521/33521), done.\n",
            "Updating files: 100% (1892/1892), done.\n",
            "\u001b[2K     \u001b[90m━━━━━━━━━━━━━━━━━━━━━━━━━━━━━━━━━━━━━━━━\u001b[0m \u001b[32m542.5/542.5 MB\u001b[0m \u001b[31m3.2 MB/s\u001b[0m eta \u001b[36m0:00:00\u001b[0m\n",
            "\u001b[2K     \u001b[90m━━━━━━━━━━━━━━━━━━━━━━━━━━━━━━━━━━━━━━━━\u001b[0m \u001b[32m908.3/908.3 kB\u001b[0m \u001b[31m53.9 MB/s\u001b[0m eta \u001b[36m0:00:00\u001b[0m\n",
            "\u001b[2K     \u001b[90m━━━━━━━━━━━━━━━━━━━━━━━━━━━━━━━━━━━━━━━━\u001b[0m \u001b[32m75.0/75.0 kB\u001b[0m \u001b[31m7.6 MB/s\u001b[0m eta \u001b[36m0:00:00\u001b[0m\n",
            "\u001b[2K     \u001b[90m━━━━━━━━━━━━━━━━━━━━━━━━━━━━━━━━━━━━━━━━\u001b[0m \u001b[32m76.9/76.9 kB\u001b[0m \u001b[31m10.1 MB/s\u001b[0m eta \u001b[36m0:00:00\u001b[0m\n",
            "\u001b[2K     \u001b[90m━━━━━━━━━━━━━━━━━━━━━━━━━━━━━━━━━━━━━━━━\u001b[0m \u001b[32m58.3/58.3 kB\u001b[0m \u001b[31m5.6 MB/s\u001b[0m eta \u001b[36m0:00:00\u001b[0m\n",
            "\u001b[?25hRequirement already satisfied: shapely in /usr/local/lib/python3.10/dist-packages (from -r requirements.txt (line 1)) (2.0.2)\n",
            "Requirement already satisfied: scikit-image in /usr/local/lib/python3.10/dist-packages (from -r requirements.txt (line 2)) (0.19.3)\n",
            "Requirement already satisfied: imgaug in /usr/local/lib/python3.10/dist-packages (from -r requirements.txt (line 3)) (0.4.0)\n",
            "Requirement already satisfied: pyclipper in /usr/local/lib/python3.10/dist-packages (from -r requirements.txt (line 4)) (1.3.0.post5)\n",
            "Collecting lmdb (from -r requirements.txt (line 5))\n",
            "  Downloading lmdb-1.4.1-cp310-cp310-manylinux_2_17_x86_64.manylinux2014_x86_64.whl (299 kB)\n",
            "\u001b[2K     \u001b[90m━━━━━━━━━━━━━━━━━━━━━━━━━━━━━━━━━━━━━━━━\u001b[0m \u001b[32m299.2/299.2 kB\u001b[0m \u001b[31m5.3 MB/s\u001b[0m eta \u001b[36m0:00:00\u001b[0m\n",
            "\u001b[?25hRequirement already satisfied: tqdm in /usr/local/lib/python3.10/dist-packages (from -r requirements.txt (line 6)) (4.66.1)\n",
            "Requirement already satisfied: numpy in /usr/local/lib/python3.10/dist-packages (from -r requirements.txt (line 7)) (1.23.5)\n",
            "Collecting visualdl (from -r requirements.txt (line 8))\n",
            "  Downloading visualdl-2.5.3-py3-none-any.whl (6.3 MB)\n",
            "\u001b[2K     \u001b[90m━━━━━━━━━━━━━━━━━━━━━━━━━━━━━━━━━━━━━━━━\u001b[0m \u001b[32m6.3/6.3 MB\u001b[0m \u001b[31m24.3 MB/s\u001b[0m eta \u001b[36m0:00:00\u001b[0m\n",
            "\u001b[?25hCollecting rapidfuzz (from -r requirements.txt (line 9))\n",
            "  Downloading rapidfuzz-3.5.2-cp310-cp310-manylinux_2_17_x86_64.manylinux2014_x86_64.whl (3.3 MB)\n",
            "\u001b[2K     \u001b[90m━━━━━━━━━━━━━━━━━━━━━━━━━━━━━━━━━━━━━━━━\u001b[0m \u001b[32m3.3/3.3 MB\u001b[0m \u001b[31m45.8 MB/s\u001b[0m eta \u001b[36m0:00:00\u001b[0m\n",
            "\u001b[?25hCollecting opencv-python<=4.6.0.66 (from -r requirements.txt (line 10))\n",
            "  Downloading opencv_python-4.6.0.66-cp36-abi3-manylinux_2_17_x86_64.manylinux2014_x86_64.whl (60.9 MB)\n",
            "\u001b[2K     \u001b[90m━━━━━━━━━━━━━━━━━━━━━━━━━━━━━━━━━━━━━━━━\u001b[0m \u001b[32m60.9/60.9 MB\u001b[0m \u001b[31m9.8 MB/s\u001b[0m eta \u001b[36m0:00:00\u001b[0m\n",
            "\u001b[?25hCollecting opencv-contrib-python<=4.6.0.66 (from -r requirements.txt (line 11))\n",
            "  Downloading opencv_contrib_python-4.6.0.66-cp36-abi3-manylinux_2_17_x86_64.manylinux2014_x86_64.whl (67.1 MB)\n",
            "\u001b[2K     \u001b[90m━━━━━━━━━━━━━━━━━━━━━━━━━━━━━━━━━━━━━━━━\u001b[0m \u001b[32m67.1/67.1 MB\u001b[0m \u001b[31m10.3 MB/s\u001b[0m eta \u001b[36m0:00:00\u001b[0m\n",
            "\u001b[?25hRequirement already satisfied: cython in /usr/local/lib/python3.10/dist-packages (from -r requirements.txt (line 12)) (3.0.6)\n",
            "Requirement already satisfied: lxml in /usr/local/lib/python3.10/dist-packages (from -r requirements.txt (line 13)) (4.9.3)\n",
            "Collecting premailer (from -r requirements.txt (line 14))\n",
            "  Downloading premailer-3.10.0-py2.py3-none-any.whl (19 kB)\n",
            "Requirement already satisfied: openpyxl in /usr/local/lib/python3.10/dist-packages (from -r requirements.txt (line 15)) (3.1.2)\n",
            "Requirement already satisfied: attrdict in /usr/local/lib/python3.10/dist-packages (from -r requirements.txt (line 16)) (2.0.1)\n",
            "Collecting PyMuPDF<1.21.0 (from -r requirements.txt (line 17))\n",
            "  Downloading PyMuPDF-1.20.2-cp310-cp310-manylinux_2_17_x86_64.manylinux2014_x86_64.whl (8.9 MB)\n",
            "\u001b[2K     \u001b[90m━━━━━━━━━━━━━━━━━━━━━━━━━━━━━━━━━━━━━━━━\u001b[0m \u001b[32m8.9/8.9 MB\u001b[0m \u001b[31m103.8 MB/s\u001b[0m eta \u001b[36m0:00:00\u001b[0m\n",
            "\u001b[?25hCollecting Pillow>=10.0.0 (from -r requirements.txt (line 18))\n",
            "  Downloading Pillow-10.1.0-cp310-cp310-manylinux_2_28_x86_64.whl (3.6 MB)\n",
            "\u001b[2K     \u001b[90m━━━━━━━━━━━━━━━━━━━━━━━━━━━━━━━━━━━━━━━━\u001b[0m \u001b[32m3.6/3.6 MB\u001b[0m \u001b[31m118.2 MB/s\u001b[0m eta \u001b[36m0:00:00\u001b[0m\n",
            "\u001b[?25hRequirement already satisfied: pyyaml in /usr/local/lib/python3.10/dist-packages (from -r requirements.txt (line 19)) (6.0.1)\n",
            "Requirement already satisfied: scipy>=1.4.1 in /usr/local/lib/python3.10/dist-packages (from scikit-image->-r requirements.txt (line 2)) (1.11.4)\n",
            "Requirement already satisfied: networkx>=2.2 in /usr/local/lib/python3.10/dist-packages (from scikit-image->-r requirements.txt (line 2)) (3.2.1)\n",
            "Requirement already satisfied: imageio>=2.4.1 in /usr/local/lib/python3.10/dist-packages (from scikit-image->-r requirements.txt (line 2)) (2.31.6)\n",
            "Requirement already satisfied: tifffile>=2019.7.26 in /usr/local/lib/python3.10/dist-packages (from scikit-image->-r requirements.txt (line 2)) (2023.9.26)\n",
            "Requirement already satisfied: PyWavelets>=1.1.1 in /usr/local/lib/python3.10/dist-packages (from scikit-image->-r requirements.txt (line 2)) (1.5.0)\n",
            "Requirement already satisfied: packaging>=20.0 in /usr/local/lib/python3.10/dist-packages (from scikit-image->-r requirements.txt (line 2)) (23.2)\n",
            "Requirement already satisfied: six in /usr/local/lib/python3.10/dist-packages (from imgaug->-r requirements.txt (line 3)) (1.16.0)\n",
            "Requirement already satisfied: matplotlib in /usr/local/lib/python3.10/dist-packages (from imgaug->-r requirements.txt (line 3)) (3.7.1)\n",
            "Collecting bce-python-sdk (from visualdl->-r requirements.txt (line 8))\n",
            "  Downloading bce_python_sdk-0.8.97-py3-none-any.whl (241 kB)\n",
            "\u001b[2K     \u001b[90m━━━━━━━━━━━━━━━━━━━━━━━━━━━━━━━━━━━━━━━━\u001b[0m \u001b[32m241.5/241.5 kB\u001b[0m \u001b[31m31.6 MB/s\u001b[0m eta \u001b[36m0:00:00\u001b[0m\n",
            "\u001b[?25hRequirement already satisfied: flask>=1.1.1 in /usr/local/lib/python3.10/dist-packages (from visualdl->-r requirements.txt (line 8)) (2.2.5)\n",
            "Collecting Flask-Babel>=3.0.0 (from visualdl->-r requirements.txt (line 8))\n",
            "  Downloading flask_babel-4.0.0-py3-none-any.whl (9.6 kB)\n",
            "Requirement already satisfied: protobuf>=3.20.0 in /usr/local/lib/python3.10/dist-packages (from visualdl->-r requirements.txt (line 8)) (3.20.3)\n",
            "Requirement already satisfied: requests in /usr/local/lib/python3.10/dist-packages (from visualdl->-r requirements.txt (line 8)) (2.31.0)\n",
            "Requirement already satisfied: pandas in /usr/local/lib/python3.10/dist-packages (from visualdl->-r requirements.txt (line 8)) (1.5.3)\n",
            "Collecting rarfile (from visualdl->-r requirements.txt (line 8))\n",
            "  Downloading rarfile-4.1-py3-none-any.whl (28 kB)\n",
            "Requirement already satisfied: psutil in /usr/local/lib/python3.10/dist-packages (from visualdl->-r requirements.txt (line 8)) (5.9.5)\n",
            "Collecting cssselect (from premailer->-r requirements.txt (line 14))\n",
            "  Downloading cssselect-1.2.0-py2.py3-none-any.whl (18 kB)\n",
            "Collecting cssutils (from premailer->-r requirements.txt (line 14))\n",
            "  Downloading cssutils-2.9.0-py3-none-any.whl (398 kB)\n",
            "\u001b[2K     \u001b[90m━━━━━━━━━━━━━━━━━━━━━━━━━━━━━━━━━━━━━━━━\u001b[0m \u001b[32m398.5/398.5 kB\u001b[0m \u001b[31m46.7 MB/s\u001b[0m eta \u001b[36m0:00:00\u001b[0m\n",
            "\u001b[?25hRequirement already satisfied: cachetools in /usr/local/lib/python3.10/dist-packages (from premailer->-r requirements.txt (line 14)) (5.3.2)\n",
            "Requirement already satisfied: et-xmlfile in /usr/local/lib/python3.10/dist-packages (from openpyxl->-r requirements.txt (line 15)) (1.1.0)\n",
            "Requirement already satisfied: Werkzeug>=2.2.2 in /usr/local/lib/python3.10/dist-packages (from flask>=1.1.1->visualdl->-r requirements.txt (line 8)) (3.0.1)\n",
            "Requirement already satisfied: Jinja2>=3.0 in /usr/local/lib/python3.10/dist-packages (from flask>=1.1.1->visualdl->-r requirements.txt (line 8)) (3.1.2)\n",
            "Requirement already satisfied: itsdangerous>=2.0 in /usr/local/lib/python3.10/dist-packages (from flask>=1.1.1->visualdl->-r requirements.txt (line 8)) (2.1.2)\n",
            "Requirement already satisfied: click>=8.0 in /usr/local/lib/python3.10/dist-packages (from flask>=1.1.1->visualdl->-r requirements.txt (line 8)) (8.1.7)\n",
            "Requirement already satisfied: Babel>=2.12 in /usr/local/lib/python3.10/dist-packages (from Flask-Babel>=3.0.0->visualdl->-r requirements.txt (line 8)) (2.13.1)\n",
            "Requirement already satisfied: pytz>=2022.7 in /usr/local/lib/python3.10/dist-packages (from Flask-Babel>=3.0.0->visualdl->-r requirements.txt (line 8)) (2023.3.post1)\n",
            "Collecting Pillow>=10.0.0 (from -r requirements.txt (line 18))\n",
            "  Downloading Pillow-10.0.1-cp310-cp310-manylinux_2_28_x86_64.whl (3.6 MB)\n",
            "\u001b[2K     \u001b[90m━━━━━━━━━━━━━━━━━━━━━━━━━━━━━━━━━━━━━━━━\u001b[0m \u001b[32m3.6/3.6 MB\u001b[0m \u001b[31m109.4 MB/s\u001b[0m eta \u001b[36m0:00:00\u001b[0m\n",
            "\u001b[?25hCollecting pycryptodome>=3.8.0 (from bce-python-sdk->visualdl->-r requirements.txt (line 8))\n",
            "  Downloading pycryptodome-3.19.0-cp35-abi3-manylinux_2_17_x86_64.manylinux2014_x86_64.whl (2.1 MB)\n",
            "\u001b[2K     \u001b[90m━━━━━━━━━━━━━━━━━━━━━━━━━━━━━━━━━━━━━━━━\u001b[0m \u001b[32m2.1/2.1 MB\u001b[0m \u001b[31m100.7 MB/s\u001b[0m eta \u001b[36m0:00:00\u001b[0m\n",
            "\u001b[?25hRequirement already satisfied: future>=0.6.0 in /usr/local/lib/python3.10/dist-packages (from bce-python-sdk->visualdl->-r requirements.txt (line 8)) (0.18.3)\n",
            "Requirement already satisfied: contourpy>=1.0.1 in /usr/local/lib/python3.10/dist-packages (from matplotlib->imgaug->-r requirements.txt (line 3)) (1.2.0)\n",
            "Requirement already satisfied: cycler>=0.10 in /usr/local/lib/python3.10/dist-packages (from matplotlib->imgaug->-r requirements.txt (line 3)) (0.12.1)\n",
            "Requirement already satisfied: fonttools>=4.22.0 in /usr/local/lib/python3.10/dist-packages (from matplotlib->imgaug->-r requirements.txt (line 3)) (4.45.1)\n",
            "Requirement already satisfied: kiwisolver>=1.0.1 in /usr/local/lib/python3.10/dist-packages (from matplotlib->imgaug->-r requirements.txt (line 3)) (1.4.5)\n",
            "Requirement already satisfied: pyparsing>=2.3.1 in /usr/local/lib/python3.10/dist-packages (from matplotlib->imgaug->-r requirements.txt (line 3)) (3.1.1)\n",
            "Requirement already satisfied: python-dateutil>=2.7 in /usr/local/lib/python3.10/dist-packages (from matplotlib->imgaug->-r requirements.txt (line 3)) (2.8.2)\n",
            "Requirement already satisfied: charset-normalizer<4,>=2 in /usr/local/lib/python3.10/dist-packages (from requests->visualdl->-r requirements.txt (line 8)) (3.3.2)\n",
            "Requirement already satisfied: idna<4,>=2.5 in /usr/local/lib/python3.10/dist-packages (from requests->visualdl->-r requirements.txt (line 8)) (3.6)\n",
            "Requirement already satisfied: urllib3<3,>=1.21.1 in /usr/local/lib/python3.10/dist-packages (from requests->visualdl->-r requirements.txt (line 8)) (2.0.7)\n",
            "Requirement already satisfied: certifi>=2017.4.17 in /usr/local/lib/python3.10/dist-packages (from requests->visualdl->-r requirements.txt (line 8)) (2023.11.17)\n",
            "Requirement already satisfied: MarkupSafe>=2.0 in /usr/local/lib/python3.10/dist-packages (from Jinja2>=3.0->flask>=1.1.1->visualdl->-r requirements.txt (line 8)) (2.1.3)\n",
            "Installing collected packages: lmdb, rarfile, rapidfuzz, PyMuPDF, pycryptodome, Pillow, opencv-python, opencv-contrib-python, cssutils, cssselect, premailer, bce-python-sdk, Flask-Babel, visualdl\n",
            "  Attempting uninstall: Pillow\n",
            "    Found existing installation: Pillow 9.4.0\n",
            "    Uninstalling Pillow-9.4.0:\n",
            "      Successfully uninstalled Pillow-9.4.0\n",
            "  Attempting uninstall: opencv-python\n",
            "    Found existing installation: opencv-python 4.8.0.76\n",
            "    Uninstalling opencv-python-4.8.0.76:\n",
            "      Successfully uninstalled opencv-python-4.8.0.76\n",
            "  Attempting uninstall: opencv-contrib-python\n",
            "    Found existing installation: opencv-contrib-python 4.8.0.76\n",
            "    Uninstalling opencv-contrib-python-4.8.0.76:\n",
            "      Successfully uninstalled opencv-contrib-python-4.8.0.76\n",
            "Successfully installed Flask-Babel-4.0.0 Pillow-10.0.1 PyMuPDF-1.20.2 bce-python-sdk-0.8.97 cssselect-1.2.0 cssutils-2.9.0 lmdb-1.4.1 opencv-contrib-python-4.6.0.66 opencv-python-4.6.0.66 premailer-3.10.0 pycryptodome-3.19.0 rapidfuzz-3.5.2 rarfile-4.1 visualdl-2.5.3\n"
          ]
        },
        {
          "output_type": "execute_result",
          "data": {
            "text/plain": []
          },
          "metadata": {},
          "execution_count": 1
        }
      ]
    },
    {
      "cell_type": "code",
      "source": [
        "!pip install -qqq wandb"
      ],
      "metadata": {
        "colab": {
          "base_uri": "https://localhost:8080/"
        },
        "id": "s2J2do6Net_R",
        "outputId": "624b0590-2102-420c-c7fb-b8b0501179e4"
      },
      "execution_count": 3,
      "outputs": [
        {
          "output_type": "stream",
          "name": "stdout",
          "text": [
            "\u001b[2K     \u001b[90m━━━━━━━━━━━━━━━━━━━━━━━━━━━━━━━━━━━━━━━━\u001b[0m \u001b[32m2.1/2.1 MB\u001b[0m \u001b[31m32.5 MB/s\u001b[0m eta \u001b[36m0:00:00\u001b[0m\n",
            "\u001b[2K     \u001b[90m━━━━━━━━━━━━━━━━━━━━━━━━━━━━━━━━━━━━━━━━\u001b[0m \u001b[32m190.6/190.6 kB\u001b[0m \u001b[31m23.1 MB/s\u001b[0m eta \u001b[36m0:00:00\u001b[0m\n",
            "\u001b[2K     \u001b[90m━━━━━━━━━━━━━━━━━━━━━━━━━━━━━━━━━━━━━━━━\u001b[0m \u001b[32m252.8/252.8 kB\u001b[0m \u001b[31m27.5 MB/s\u001b[0m eta \u001b[36m0:00:00\u001b[0m\n",
            "\u001b[2K     \u001b[90m━━━━━━━━━━━━━━━━━━━━━━━━━━━━━━━━━━━━━━━━\u001b[0m \u001b[32m62.7/62.7 kB\u001b[0m \u001b[31m7.1 MB/s\u001b[0m eta \u001b[36m0:00:00\u001b[0m\n",
            "\u001b[?25h"
          ]
        }
      ]
    },
    {
      "cell_type": "code",
      "source": [
        "import wandb\n",
        "wandb.login()"
      ],
      "metadata": {
        "id": "FCFl8iKyt1MV",
        "colab": {
          "base_uri": "https://localhost:8080/",
          "height": 121
        },
        "outputId": "634b6517-310d-49c1-b488-62e4b225932c"
      },
      "execution_count": 4,
      "outputs": [
        {
          "output_type": "display_data",
          "data": {
            "text/plain": [
              "<IPython.core.display.Javascript object>"
            ],
            "application/javascript": [
              "\n",
              "        window._wandbApiKey = new Promise((resolve, reject) => {\n",
              "            function loadScript(url) {\n",
              "            return new Promise(function(resolve, reject) {\n",
              "                let newScript = document.createElement(\"script\");\n",
              "                newScript.onerror = reject;\n",
              "                newScript.onload = resolve;\n",
              "                document.body.appendChild(newScript);\n",
              "                newScript.src = url;\n",
              "            });\n",
              "            }\n",
              "            loadScript(\"https://cdn.jsdelivr.net/npm/postmate/build/postmate.min.js\").then(() => {\n",
              "            const iframe = document.createElement('iframe')\n",
              "            iframe.style.cssText = \"width:0;height:0;border:none\"\n",
              "            document.body.appendChild(iframe)\n",
              "            const handshake = new Postmate({\n",
              "                container: iframe,\n",
              "                url: 'https://wandb.ai/authorize'\n",
              "            });\n",
              "            const timeout = setTimeout(() => reject(\"Couldn't auto authenticate\"), 5000)\n",
              "            handshake.then(function(child) {\n",
              "                child.on('authorize', data => {\n",
              "                    clearTimeout(timeout)\n",
              "                    resolve(data)\n",
              "                });\n",
              "            });\n",
              "            })\n",
              "        });\n",
              "    "
            ]
          },
          "metadata": {}
        },
        {
          "output_type": "stream",
          "name": "stderr",
          "text": [
            "\u001b[34m\u001b[1mwandb\u001b[0m: Logging into wandb.ai. (Learn how to deploy a W&B server locally: https://wandb.me/wandb-server)\n",
            "\u001b[34m\u001b[1mwandb\u001b[0m: You can find your API key in your browser here: https://wandb.ai/authorize\n",
            "wandb: Paste an API key from your profile and hit enter, or press ctrl+c to quit:"
          ]
        },
        {
          "name": "stdout",
          "output_type": "stream",
          "text": [
            " ··········\n"
          ]
        },
        {
          "output_type": "stream",
          "name": "stderr",
          "text": [
            "\u001b[34m\u001b[1mwandb\u001b[0m: Appending key for api.wandb.ai to your netrc file: /root/.netrc\n"
          ]
        },
        {
          "output_type": "execute_result",
          "data": {
            "text/plain": [
              "True"
            ]
          },
          "metadata": {},
          "execution_count": 4
        }
      ]
    },
    {
      "cell_type": "code",
      "execution_count": 13,
      "metadata": {
        "id": "HQkXQPDmttC9",
        "colab": {
          "base_uri": "https://localhost:8080/",
          "height": 34
        },
        "outputId": "81eae625-eaed-4c4d-8e0d-5a99762843e2"
      },
      "outputs": [
        {
          "output_type": "stream",
          "name": "stderr",
          "text": [
            "\u001b[34m\u001b[1mwandb\u001b[0m:   1 of 1 files downloaded.  \n"
          ]
        }
      ],
      "source": [
        "import wandb\n",
        "artifact = wandb.Api().artifact('fast-k200353/AML/model-m3wjx9wk:best', type='model')\n",
        "artifact_dir = artifact.download()"
      ]
    },
    {
      "cell_type": "code",
      "source": [
        "artifact_dir"
      ],
      "metadata": {
        "id": "5SdUx0AGwXw2",
        "colab": {
          "base_uri": "https://localhost:8080/",
          "height": 35
        },
        "outputId": "0029bdc2-e796-4866-d6b5-394800b7faa8"
      },
      "execution_count": 14,
      "outputs": [
        {
          "output_type": "execute_result",
          "data": {
            "text/plain": [
              "'/content/PaddleOCR/artifacts/model-m3wjx9wk:v208'"
            ],
            "application/vnd.google.colaboratory.intrinsic+json": {
              "type": "string"
            }
          },
          "metadata": {},
          "execution_count": 14
        }
      ]
    },
    {
      "cell_type": "code",
      "source": [
        "%cd PaddleOCR"
      ],
      "metadata": {
        "colab": {
          "base_uri": "https://localhost:8080/"
        },
        "id": "FbPjsEbvuaGV",
        "outputId": "d9e5242d-f813-4958-afa9-b149e4a3507c"
      },
      "execution_count": 10,
      "outputs": [
        {
          "output_type": "stream",
          "name": "stdout",
          "text": [
            "/content/PaddleOCR\n"
          ]
        }
      ]
    },
    {
      "cell_type": "code",
      "source": [
        "!python3 tools/infer_det.py -c configs/det/det_mv3_db.yml -o Global.infer_img=\"./doc/imgs_en/\" Global.pretrained_model=\"./artifacts/model-m3wjx9wk:v208/model_ckpt\""
      ],
      "metadata": {
        "id": "RMp4Pu4SwhrP",
        "colab": {
          "base_uri": "https://localhost:8080/"
        },
        "outputId": "5c0ef489-1107-48be-cd9d-08fc987e1cdf"
      },
      "execution_count": 16,
      "outputs": [
        {
          "output_type": "stream",
          "name": "stdout",
          "text": [
            "[2023/12/10 17:17:57] ppocr INFO: Architecture : \n",
            "[2023/12/10 17:17:57] ppocr INFO:     Backbone : \n",
            "[2023/12/10 17:17:57] ppocr INFO:         model_name : large\n",
            "[2023/12/10 17:17:57] ppocr INFO:         name : MobileNetV3\n",
            "[2023/12/10 17:17:57] ppocr INFO:         scale : 0.5\n",
            "[2023/12/10 17:17:57] ppocr INFO:     Head : \n",
            "[2023/12/10 17:17:57] ppocr INFO:         k : 50\n",
            "[2023/12/10 17:17:57] ppocr INFO:         name : DBHead\n",
            "[2023/12/10 17:17:57] ppocr INFO:     Neck : \n",
            "[2023/12/10 17:17:57] ppocr INFO:         name : DBFPN\n",
            "[2023/12/10 17:17:57] ppocr INFO:         out_channels : 256\n",
            "[2023/12/10 17:17:57] ppocr INFO:     Transform : None\n",
            "[2023/12/10 17:17:57] ppocr INFO:     algorithm : DB\n",
            "[2023/12/10 17:17:57] ppocr INFO:     model_type : det\n",
            "[2023/12/10 17:17:57] ppocr INFO: Eval : \n",
            "[2023/12/10 17:17:57] ppocr INFO:     dataset : \n",
            "[2023/12/10 17:17:57] ppocr INFO:         data_dir : ./train_data/icdar2015/text_localization/\n",
            "[2023/12/10 17:17:57] ppocr INFO:         label_file_list : ['./train_data/icdar2015/text_localization/test_icdar2015_label.txt']\n",
            "[2023/12/10 17:17:57] ppocr INFO:         name : SimpleDataSet\n",
            "[2023/12/10 17:17:57] ppocr INFO:         transforms : \n",
            "[2023/12/10 17:17:57] ppocr INFO:             DecodeImage : \n",
            "[2023/12/10 17:17:57] ppocr INFO:                 channel_first : False\n",
            "[2023/12/10 17:17:57] ppocr INFO:                 img_mode : BGR\n",
            "[2023/12/10 17:17:57] ppocr INFO:             DetLabelEncode : None\n",
            "[2023/12/10 17:17:57] ppocr INFO:             DetResizeForTest : \n",
            "[2023/12/10 17:17:57] ppocr INFO:                 image_shape : [736, 1280]\n",
            "[2023/12/10 17:17:57] ppocr INFO:             NormalizeImage : \n",
            "[2023/12/10 17:17:57] ppocr INFO:                 mean : [0.485, 0.456, 0.406]\n",
            "[2023/12/10 17:17:57] ppocr INFO:                 order : hwc\n",
            "[2023/12/10 17:17:57] ppocr INFO:                 scale : 1./255.\n",
            "[2023/12/10 17:17:57] ppocr INFO:                 std : [0.229, 0.224, 0.225]\n",
            "[2023/12/10 17:17:57] ppocr INFO:             ToCHWImage : None\n",
            "[2023/12/10 17:17:57] ppocr INFO:             KeepKeys : \n",
            "[2023/12/10 17:17:57] ppocr INFO:                 keep_keys : ['image', 'shape', 'polys', 'ignore_tags']\n",
            "[2023/12/10 17:17:57] ppocr INFO:     loader : \n",
            "[2023/12/10 17:17:57] ppocr INFO:         batch_size_per_card : 1\n",
            "[2023/12/10 17:17:57] ppocr INFO:         drop_last : False\n",
            "[2023/12/10 17:17:57] ppocr INFO:         num_workers : 8\n",
            "[2023/12/10 17:17:57] ppocr INFO:         shuffle : False\n",
            "[2023/12/10 17:17:57] ppocr INFO:         use_shared_memory : True\n",
            "[2023/12/10 17:17:57] ppocr INFO: Global : \n",
            "[2023/12/10 17:17:57] ppocr INFO:     cal_metric_during_train : False\n",
            "[2023/12/10 17:17:57] ppocr INFO:     checkpoints : None\n",
            "[2023/12/10 17:17:57] ppocr INFO:     distributed : False\n",
            "[2023/12/10 17:17:57] ppocr INFO:     epoch_num : 1200\n",
            "[2023/12/10 17:17:57] ppocr INFO:     eval_batch_step : [0, 2000]\n",
            "[2023/12/10 17:17:57] ppocr INFO:     infer_img : ./doc/imgs_en/\n",
            "[2023/12/10 17:17:57] ppocr INFO:     log_smooth_window : 20\n",
            "[2023/12/10 17:17:57] ppocr INFO:     pretrained_model : ../artifacts/model-m3wjx9wk:v208/model_ckpt\n",
            "[2023/12/10 17:17:57] ppocr INFO:     print_batch_step : 10\n",
            "[2023/12/10 17:17:57] ppocr INFO:     save_epoch_step : 1200\n",
            "[2023/12/10 17:17:57] ppocr INFO:     save_inference_dir : None\n",
            "[2023/12/10 17:17:57] ppocr INFO:     save_model_dir : ./output/db_mv3/\n",
            "[2023/12/10 17:17:57] ppocr INFO:     save_res_path : ./output/det_db/predicts_db.txt\n",
            "[2023/12/10 17:17:57] ppocr INFO:     use_gpu : True\n",
            "[2023/12/10 17:17:57] ppocr INFO:     use_mlu : False\n",
            "[2023/12/10 17:17:57] ppocr INFO:     use_visualdl : False\n",
            "[2023/12/10 17:17:57] ppocr INFO:     use_xpu : False\n",
            "[2023/12/10 17:17:57] ppocr INFO: Loss : \n",
            "[2023/12/10 17:17:57] ppocr INFO:     alpha : 5\n",
            "[2023/12/10 17:17:57] ppocr INFO:     balance_loss : True\n",
            "[2023/12/10 17:17:57] ppocr INFO:     beta : 10\n",
            "[2023/12/10 17:17:57] ppocr INFO:     main_loss_type : DiceLoss\n",
            "[2023/12/10 17:17:57] ppocr INFO:     name : DBLoss\n",
            "[2023/12/10 17:17:57] ppocr INFO:     ohem_ratio : 3\n",
            "[2023/12/10 17:17:57] ppocr INFO: Metric : \n",
            "[2023/12/10 17:17:57] ppocr INFO:     main_indicator : hmean\n",
            "[2023/12/10 17:17:57] ppocr INFO:     name : DetMetric\n",
            "[2023/12/10 17:17:57] ppocr INFO: Optimizer : \n",
            "[2023/12/10 17:17:57] ppocr INFO:     beta1 : 0.9\n",
            "[2023/12/10 17:17:57] ppocr INFO:     beta2 : 0.999\n",
            "[2023/12/10 17:17:57] ppocr INFO:     lr : \n",
            "[2023/12/10 17:17:57] ppocr INFO:         learning_rate : 0.001\n",
            "[2023/12/10 17:17:57] ppocr INFO:     name : Adam\n",
            "[2023/12/10 17:17:57] ppocr INFO:     regularizer : \n",
            "[2023/12/10 17:17:57] ppocr INFO:         factor : 0\n",
            "[2023/12/10 17:17:57] ppocr INFO:         name : L2\n",
            "[2023/12/10 17:17:57] ppocr INFO: PostProcess : \n",
            "[2023/12/10 17:17:57] ppocr INFO:     box_thresh : 0.6\n",
            "[2023/12/10 17:17:57] ppocr INFO:     max_candidates : 1000\n",
            "[2023/12/10 17:17:57] ppocr INFO:     name : DBPostProcess\n",
            "[2023/12/10 17:17:57] ppocr INFO:     thresh : 0.3\n",
            "[2023/12/10 17:17:57] ppocr INFO:     unclip_ratio : 1.5\n",
            "[2023/12/10 17:17:57] ppocr INFO: Train : \n",
            "[2023/12/10 17:17:57] ppocr INFO:     dataset : \n",
            "[2023/12/10 17:17:57] ppocr INFO:         data_dir : ./train_data/icdar2015/text_localization/\n",
            "[2023/12/10 17:17:57] ppocr INFO:         label_file_list : ['./train_data/icdar2015/text_localization/train_icdar2015_label.txt']\n",
            "[2023/12/10 17:17:57] ppocr INFO:         name : SimpleDataSet\n",
            "[2023/12/10 17:17:57] ppocr INFO:         ratio_list : [1.0]\n",
            "[2023/12/10 17:17:57] ppocr INFO:         transforms : \n",
            "[2023/12/10 17:17:57] ppocr INFO:             DecodeImage : \n",
            "[2023/12/10 17:17:57] ppocr INFO:                 channel_first : False\n",
            "[2023/12/10 17:17:57] ppocr INFO:                 img_mode : BGR\n",
            "[2023/12/10 17:17:57] ppocr INFO:             DetLabelEncode : None\n",
            "[2023/12/10 17:17:57] ppocr INFO:             IaaAugment : \n",
            "[2023/12/10 17:17:57] ppocr INFO:                 augmenter_args : \n",
            "[2023/12/10 17:17:57] ppocr INFO:                     args : \n",
            "[2023/12/10 17:17:57] ppocr INFO:                         p : 0.5\n",
            "[2023/12/10 17:17:57] ppocr INFO:                     type : Fliplr\n",
            "[2023/12/10 17:17:57] ppocr INFO:                     args : \n",
            "[2023/12/10 17:17:57] ppocr INFO:                         rotate : [-10, 10]\n",
            "[2023/12/10 17:17:57] ppocr INFO:                     type : Affine\n",
            "[2023/12/10 17:17:57] ppocr INFO:                     args : \n",
            "[2023/12/10 17:17:57] ppocr INFO:                         size : [0.5, 3]\n",
            "[2023/12/10 17:17:57] ppocr INFO:                     type : Resize\n",
            "[2023/12/10 17:17:57] ppocr INFO:             EastRandomCropData : \n",
            "[2023/12/10 17:17:57] ppocr INFO:                 keep_ratio : True\n",
            "[2023/12/10 17:17:57] ppocr INFO:                 max_tries : 50\n",
            "[2023/12/10 17:17:57] ppocr INFO:                 size : [640, 640]\n",
            "[2023/12/10 17:17:57] ppocr INFO:             MakeBorderMap : \n",
            "[2023/12/10 17:17:57] ppocr INFO:                 shrink_ratio : 0.4\n",
            "[2023/12/10 17:17:57] ppocr INFO:                 thresh_max : 0.7\n",
            "[2023/12/10 17:17:57] ppocr INFO:                 thresh_min : 0.3\n",
            "[2023/12/10 17:17:57] ppocr INFO:             MakeShrinkMap : \n",
            "[2023/12/10 17:17:57] ppocr INFO:                 min_text_size : 8\n",
            "[2023/12/10 17:17:57] ppocr INFO:                 shrink_ratio : 0.4\n",
            "[2023/12/10 17:17:57] ppocr INFO:             NormalizeImage : \n",
            "[2023/12/10 17:17:57] ppocr INFO:                 mean : [0.485, 0.456, 0.406]\n",
            "[2023/12/10 17:17:57] ppocr INFO:                 order : hwc\n",
            "[2023/12/10 17:17:57] ppocr INFO:                 scale : 1./255.\n",
            "[2023/12/10 17:17:57] ppocr INFO:                 std : [0.229, 0.224, 0.225]\n",
            "[2023/12/10 17:17:57] ppocr INFO:             ToCHWImage : None\n",
            "[2023/12/10 17:17:57] ppocr INFO:             KeepKeys : \n",
            "[2023/12/10 17:17:57] ppocr INFO:                 keep_keys : ['image', 'threshold_map', 'threshold_mask', 'shrink_map', 'shrink_mask']\n",
            "[2023/12/10 17:17:57] ppocr INFO:     loader : \n",
            "[2023/12/10 17:17:57] ppocr INFO:         batch_size_per_card : 16\n",
            "[2023/12/10 17:17:57] ppocr INFO:         drop_last : False\n",
            "[2023/12/10 17:17:57] ppocr INFO:         num_workers : 8\n",
            "[2023/12/10 17:17:57] ppocr INFO:         shuffle : True\n",
            "[2023/12/10 17:17:57] ppocr INFO:         use_shared_memory : True\n",
            "[2023/12/10 17:17:57] ppocr INFO: profiler_options : None\n",
            "[2023/12/10 17:17:57] ppocr INFO: train with paddle 2.5.2 and device Place(gpu:0)\n",
            "W1210 17:17:57.452649 19094 gpu_resources.cc:119] Please NOTE: device: 0, GPU Compute Capability: 7.5, Driver API Version: 12.0, Runtime API Version: 11.8\n",
            "W1210 17:17:57.453722 19094 gpu_resources.cc:149] device: 0, cuDNN Version: 8.9.\n",
            "[2023/12/10 17:17:59] ppocr INFO: load pretrain successful from ../artifacts/model-m3wjx9wk:v208/model_ckpt\n",
            "[2023/12/10 17:17:59] ppocr INFO: infer_img: ./doc/imgs_en/254.jpg\n",
            "[2023/12/10 17:18:07] ppocr INFO: The detected Image saved in ./output/det_db/det_results/254.jpg\n",
            "[2023/12/10 17:18:07] ppocr INFO: infer_img: ./doc/imgs_en/download.jpg\n",
            "[2023/12/10 17:18:07] ppocr INFO: The detected Image saved in ./output/det_db/det_results/download.jpg\n",
            "[2023/12/10 17:18:07] ppocr INFO: infer_img: ./doc/imgs_en/img623.jpg\n",
            "[2023/12/10 17:18:07] ppocr INFO: The detected Image saved in ./output/det_db/det_results/img623.jpg\n",
            "[2023/12/10 17:18:07] ppocr INFO: infer_img: ./doc/imgs_en/img_10.jpg\n",
            "[2023/12/10 17:18:07] ppocr INFO: The detected Image saved in ./output/det_db/det_results/img_10.jpg\n",
            "[2023/12/10 17:18:07] ppocr INFO: infer_img: ./doc/imgs_en/img_11.jpg\n",
            "[2023/12/10 17:18:07] ppocr INFO: The detected Image saved in ./output/det_db/det_results/img_11.jpg\n",
            "[2023/12/10 17:18:07] ppocr INFO: infer_img: ./doc/imgs_en/img_12.jpg\n",
            "[2023/12/10 17:18:07] ppocr INFO: The detected Image saved in ./output/det_db/det_results/img_12.jpg\n",
            "[2023/12/10 17:18:07] ppocr INFO: infer_img: ./doc/imgs_en/img_195.jpg\n",
            "[2023/12/10 17:18:08] ppocr INFO: The detected Image saved in ./output/det_db/det_results/img_195.jpg\n",
            "[2023/12/10 17:18:08] ppocr INFO: infer_img: ./doc/imgs_en/model_prod_flow_en.png\n",
            "[2023/12/10 17:18:08] ppocr INFO: The detected Image saved in ./output/det_db/det_results/model_prod_flow_en.png\n",
            "[2023/12/10 17:18:08] ppocr INFO: infer_img: ./doc/imgs_en/wandb_metrics.png\n",
            "[2023/12/10 17:18:08] ppocr INFO: The detected Image saved in ./output/det_db/det_results/wandb_metrics.png\n",
            "[2023/12/10 17:18:08] ppocr INFO: infer_img: ./doc/imgs_en/wandb_models.png\n",
            "[2023/12/10 17:18:08] ppocr INFO: The detected Image saved in ./output/det_db/det_results/wandb_models.png\n",
            "[2023/12/10 17:18:08] ppocr INFO: success!\n"
          ]
        }
      ]
    },
    {
      "cell_type": "code",
      "source": [
        "wandb.init(project=\"AML\")\n",
        "wandb.use_artifact('fast-k200353/AML/model-m3wjx9wk:best')"
      ],
      "metadata": {
        "id": "teqeIHyWwpn-",
        "colab": {
          "base_uri": "https://localhost:8080/",
          "height": 138
        },
        "outputId": "ba5eea32-e21f-4792-d6a0-4b04bdab9415"
      },
      "execution_count": 17,
      "outputs": [
        {
          "output_type": "stream",
          "name": "stderr",
          "text": [
            "\u001b[34m\u001b[1mwandb\u001b[0m: Currently logged in as: \u001b[33mk200353\u001b[0m (\u001b[33mfast-k200353\u001b[0m). Use \u001b[1m`wandb login --relogin`\u001b[0m to force relogin\n"
          ]
        },
        {
          "output_type": "display_data",
          "data": {
            "text/plain": [
              "<IPython.core.display.HTML object>"
            ],
            "text/html": [
              "Tracking run with wandb version 0.16.1"
            ]
          },
          "metadata": {}
        },
        {
          "output_type": "display_data",
          "data": {
            "text/plain": [
              "<IPython.core.display.HTML object>"
            ],
            "text/html": [
              "Run data is saved locally in <code>/content/PaddleOCR/wandb/run-20231210_171946-ridz93aa</code>"
            ]
          },
          "metadata": {}
        },
        {
          "output_type": "display_data",
          "data": {
            "text/plain": [
              "<IPython.core.display.HTML object>"
            ],
            "text/html": [
              "Syncing run <strong><a href='https://wandb.ai/fast-k200353/AML/runs/ridz93aa' target=\"_blank\">balmy-lion-8</a></strong> to <a href='https://wandb.ai/fast-k200353/AML' target=\"_blank\">Weights & Biases</a> (<a href='https://wandb.me/run' target=\"_blank\">docs</a>)<br/>"
            ]
          },
          "metadata": {}
        },
        {
          "output_type": "display_data",
          "data": {
            "text/plain": [
              "<IPython.core.display.HTML object>"
            ],
            "text/html": [
              " View project at <a href='https://wandb.ai/fast-k200353/AML' target=\"_blank\">https://wandb.ai/fast-k200353/AML</a>"
            ]
          },
          "metadata": {}
        },
        {
          "output_type": "display_data",
          "data": {
            "text/plain": [
              "<IPython.core.display.HTML object>"
            ],
            "text/html": [
              " View run at <a href='https://wandb.ai/fast-k200353/AML/runs/ridz93aa' target=\"_blank\">https://wandb.ai/fast-k200353/AML/runs/ridz93aa</a>"
            ]
          },
          "metadata": {}
        },
        {
          "output_type": "execute_result",
          "data": {
            "text/plain": [
              "<Artifact QXJ0aWZhY3Q6NjYzMTg5MTM5>"
            ]
          },
          "metadata": {},
          "execution_count": 17
        }
      ]
    },
    {
      "cell_type": "code",
      "source": [
        "table = wandb.Table(columns=[\"Input Image\", \"Annotated Image\"])"
      ],
      "metadata": {
        "id": "-6XvbmQbwryN"
      },
      "execution_count": 18,
      "outputs": []
    },
    {
      "cell_type": "code",
      "source": [
        "import glob\n",
        "inp_imgs = sorted(glob.glob(\"./doc/imgs_en/*.jpg\"), key=lambda x: x.split(\"/\")[-1])\n",
        "out_imgs = sorted(glob.glob(\"./output/det_db/det_results/*.jpg\"), key=lambda x: x.split(\"/\")[-1])"
      ],
      "metadata": {
        "id": "3H3kf0O-wtM9"
      },
      "execution_count": 19,
      "outputs": []
    },
    {
      "cell_type": "code",
      "source": [
        "for inp in inp_imgs:\n",
        "    for out in out_imgs:\n",
        "        if out.split(\"/\")[-1] != inp.split(\"/\")[-1]:\n",
        "            continue\n",
        "        table.add_data(\n",
        "            wandb.Image(inp),\n",
        "            wandb.Image(out)\n",
        "        )"
      ],
      "metadata": {
        "id": "Ip9rGqp6wuZu"
      },
      "execution_count": 20,
      "outputs": []
    },
    {
      "cell_type": "code",
      "source": [
        "wandb.log({\n",
        "    \"Predictions\": table\n",
        "})"
      ],
      "metadata": {
        "id": "X19IYwVzwvRe"
      },
      "execution_count": 21,
      "outputs": []
    },
    {
      "cell_type": "code",
      "source": [
        "wandb.finish()"
      ],
      "metadata": {
        "id": "WX20gOBMwxCd",
        "colab": {
          "base_uri": "https://localhost:8080/",
          "height": 69,
          "referenced_widgets": [
            "472a61d6882044e58c8d5835e2c6f88b",
            "3be896b281524fc0a9026b7f5d247c73",
            "3f105a15d6ab444ea72b3e3df133e669",
            "e00d775b7b94416182b90bb18fc809a5",
            "0a96d87a50ba4ee79d3c83809b120530",
            "a4c73b59b1d74c839c990c320ee0c163",
            "55700928b3634cad81c46f5e41cf0c93",
            "6f1b703e717f4966a6f24a2ec6b84d47"
          ]
        },
        "outputId": "6f88e84e-e9e0-4d22-a4e8-7e6844687413"
      },
      "execution_count": 22,
      "outputs": [
        {
          "output_type": "display_data",
          "data": {
            "text/plain": [
              "VBox(children=(Label(value='2.821 MB of 2.821 MB uploaded\\r'), FloatProgress(value=0.9999333970287637, max=1.0…"
            ],
            "application/vnd.jupyter.widget-view+json": {
              "version_major": 2,
              "version_minor": 0,
              "model_id": "472a61d6882044e58c8d5835e2c6f88b"
            }
          },
          "metadata": {}
        },
        {
          "output_type": "display_data",
          "data": {
            "text/plain": [
              "<IPython.core.display.HTML object>"
            ],
            "text/html": [
              " View run <strong style=\"color:#cdcd00\">balmy-lion-8</strong> at: <a href='https://wandb.ai/fast-k200353/AML/runs/ridz93aa' target=\"_blank\">https://wandb.ai/fast-k200353/AML/runs/ridz93aa</a><br/>Synced 4 W&B file(s), 1 media file(s), 15 artifact file(s) and 0 other file(s)"
            ]
          },
          "metadata": {}
        },
        {
          "output_type": "display_data",
          "data": {
            "text/plain": [
              "<IPython.core.display.HTML object>"
            ],
            "text/html": [
              "Find logs at: <code>./wandb/run-20231210_171946-ridz93aa/logs</code>"
            ]
          },
          "metadata": {}
        }
      ]
    }
  ]
}