{
  "cells": [
    {
      "cell_type": "markdown",
      "metadata": {
        "id": "GRf_MuMMSKa2"
      },
      "source": [
        "\n",
        "\n",
        "\n",
        "# PaddlePaddle OCR Training Done By Mohsin Ali Mirza k200353\n",
        "\n",
        "In this Notebook we'll fine-tune a text detection model - using the PaddleOCR framework from the PaddlePaddle ecosystem, developed by Baidu.\n",
        "\n",
        "To use PaddleOCR you need to install `paddlepaddle` as well. Since we have a GPU we'll install the GPU version: `paddlepaddle-gpu`.\n",
        "\n"
      ]
    },
    {
      "cell_type": "markdown",
      "metadata": {
        "id": "Rp67RnNhSMuz"
      },
      "source": [
        "## 1. Installing Libraries and Dependencies"
      ]
    },
    {
      "cell_type": "code",
      "execution_count": null,
      "metadata": {
        "colab": {
          "base_uri": "https://localhost:8080/"
        },
        "id": "9mGoMu04SXVp",
        "outputId": "1290e587-2fec-47c7-f5ef-6ca55e9e6e14"
      },
      "outputs": [
        {
          "name": "stdout",
          "output_type": "stream",
          "text": [
            "fatal: destination path 'PaddleOCR' already exists and is not an empty directory.\n",
            "Requirement already satisfied: shapely in /usr/local/lib/python3.10/dist-packages (from -r requirements.txt (line 1)) (2.0.2)\n",
            "Requirement already satisfied: scikit-image in /usr/local/lib/python3.10/dist-packages (from -r requirements.txt (line 2)) (0.19.3)\n",
            "Requirement already satisfied: imgaug in /usr/local/lib/python3.10/dist-packages (from -r requirements.txt (line 3)) (0.4.0)\n",
            "Requirement already satisfied: pyclipper in /usr/local/lib/python3.10/dist-packages (from -r requirements.txt (line 4)) (1.3.0.post5)\n",
            "Requirement already satisfied: lmdb in /usr/local/lib/python3.10/dist-packages (from -r requirements.txt (line 5)) (1.4.1)\n",
            "Requirement already satisfied: tqdm in /usr/local/lib/python3.10/dist-packages (from -r requirements.txt (line 6)) (4.66.1)\n",
            "Requirement already satisfied: numpy in /usr/local/lib/python3.10/dist-packages (from -r requirements.txt (line 7)) (1.23.5)\n",
            "Requirement already satisfied: visualdl in /usr/local/lib/python3.10/dist-packages (from -r requirements.txt (line 8)) (2.5.3)\n",
            "Requirement already satisfied: rapidfuzz in /usr/local/lib/python3.10/dist-packages (from -r requirements.txt (line 9)) (3.5.2)\n",
            "Requirement already satisfied: opencv-python<=4.6.0.66 in /usr/local/lib/python3.10/dist-packages (from -r requirements.txt (line 10)) (4.6.0.66)\n",
            "Requirement already satisfied: opencv-contrib-python<=4.6.0.66 in /usr/local/lib/python3.10/dist-packages (from -r requirements.txt (line 11)) (4.6.0.66)\n",
            "Requirement already satisfied: cython in /usr/local/lib/python3.10/dist-packages (from -r requirements.txt (line 12)) (3.0.6)\n",
            "Requirement already satisfied: lxml in /usr/local/lib/python3.10/dist-packages (from -r requirements.txt (line 13)) (4.9.3)\n",
            "Requirement already satisfied: premailer in /usr/local/lib/python3.10/dist-packages (from -r requirements.txt (line 14)) (3.10.0)\n",
            "Requirement already satisfied: openpyxl in /usr/local/lib/python3.10/dist-packages (from -r requirements.txt (line 15)) (3.1.2)\n",
            "Requirement already satisfied: attrdict in /usr/local/lib/python3.10/dist-packages (from -r requirements.txt (line 16)) (2.0.1)\n",
            "Requirement already satisfied: PyMuPDF<1.21.0 in /usr/local/lib/python3.10/dist-packages (from -r requirements.txt (line 17)) (1.20.2)\n",
            "Requirement already satisfied: Pillow>=10.0.0 in /usr/local/lib/python3.10/dist-packages (from -r requirements.txt (line 18)) (10.0.1)\n",
            "Requirement already satisfied: pyyaml in /usr/local/lib/python3.10/dist-packages (from -r requirements.txt (line 19)) (6.0.1)\n",
            "Requirement already satisfied: scipy>=1.4.1 in /usr/local/lib/python3.10/dist-packages (from scikit-image->-r requirements.txt (line 2)) (1.11.4)\n",
            "Requirement already satisfied: networkx>=2.2 in /usr/local/lib/python3.10/dist-packages (from scikit-image->-r requirements.txt (line 2)) (3.2.1)\n",
            "Requirement already satisfied: imageio>=2.4.1 in /usr/local/lib/python3.10/dist-packages (from scikit-image->-r requirements.txt (line 2)) (2.31.6)\n",
            "Requirement already satisfied: tifffile>=2019.7.26 in /usr/local/lib/python3.10/dist-packages (from scikit-image->-r requirements.txt (line 2)) (2023.9.26)\n",
            "Requirement already satisfied: PyWavelets>=1.1.1 in /usr/local/lib/python3.10/dist-packages (from scikit-image->-r requirements.txt (line 2)) (1.5.0)\n",
            "Requirement already satisfied: packaging>=20.0 in /usr/local/lib/python3.10/dist-packages (from scikit-image->-r requirements.txt (line 2)) (23.2)\n",
            "Requirement already satisfied: six in /usr/local/lib/python3.10/dist-packages (from imgaug->-r requirements.txt (line 3)) (1.16.0)\n",
            "Requirement already satisfied: matplotlib in /usr/local/lib/python3.10/dist-packages (from imgaug->-r requirements.txt (line 3)) (3.7.1)\n",
            "Requirement already satisfied: bce-python-sdk in /usr/local/lib/python3.10/dist-packages (from visualdl->-r requirements.txt (line 8)) (0.8.97)\n",
            "Requirement already satisfied: flask>=1.1.1 in /usr/local/lib/python3.10/dist-packages (from visualdl->-r requirements.txt (line 8)) (2.2.5)\n",
            "Requirement already satisfied: Flask-Babel>=3.0.0 in /usr/local/lib/python3.10/dist-packages (from visualdl->-r requirements.txt (line 8)) (4.0.0)\n",
            "Requirement already satisfied: protobuf>=3.20.0 in /usr/local/lib/python3.10/dist-packages (from visualdl->-r requirements.txt (line 8)) (3.20.3)\n",
            "Requirement already satisfied: requests in /usr/local/lib/python3.10/dist-packages (from visualdl->-r requirements.txt (line 8)) (2.31.0)\n",
            "Requirement already satisfied: pandas in /usr/local/lib/python3.10/dist-packages (from visualdl->-r requirements.txt (line 8)) (1.5.3)\n",
            "Requirement already satisfied: rarfile in /usr/local/lib/python3.10/dist-packages (from visualdl->-r requirements.txt (line 8)) (4.1)\n",
            "Requirement already satisfied: psutil in /usr/local/lib/python3.10/dist-packages (from visualdl->-r requirements.txt (line 8)) (5.9.5)\n",
            "Requirement already satisfied: cssselect in /usr/local/lib/python3.10/dist-packages (from premailer->-r requirements.txt (line 14)) (1.2.0)\n",
            "Requirement already satisfied: cssutils in /usr/local/lib/python3.10/dist-packages (from premailer->-r requirements.txt (line 14)) (2.9.0)\n",
            "Requirement already satisfied: cachetools in /usr/local/lib/python3.10/dist-packages (from premailer->-r requirements.txt (line 14)) (5.3.2)\n",
            "Requirement already satisfied: et-xmlfile in /usr/local/lib/python3.10/dist-packages (from openpyxl->-r requirements.txt (line 15)) (1.1.0)\n",
            "Requirement already satisfied: Werkzeug>=2.2.2 in /usr/local/lib/python3.10/dist-packages (from flask>=1.1.1->visualdl->-r requirements.txt (line 8)) (3.0.1)\n",
            "Requirement already satisfied: Jinja2>=3.0 in /usr/local/lib/python3.10/dist-packages (from flask>=1.1.1->visualdl->-r requirements.txt (line 8)) (3.1.2)\n",
            "Requirement already satisfied: itsdangerous>=2.0 in /usr/local/lib/python3.10/dist-packages (from flask>=1.1.1->visualdl->-r requirements.txt (line 8)) (2.1.2)\n",
            "Requirement already satisfied: click>=8.0 in /usr/local/lib/python3.10/dist-packages (from flask>=1.1.1->visualdl->-r requirements.txt (line 8)) (8.1.7)\n",
            "Requirement already satisfied: Babel>=2.12 in /usr/local/lib/python3.10/dist-packages (from Flask-Babel>=3.0.0->visualdl->-r requirements.txt (line 8)) (2.13.1)\n",
            "Requirement already satisfied: pytz>=2022.7 in /usr/local/lib/python3.10/dist-packages (from Flask-Babel>=3.0.0->visualdl->-r requirements.txt (line 8)) (2023.3.post1)\n",
            "Requirement already satisfied: pycryptodome>=3.8.0 in /usr/local/lib/python3.10/dist-packages (from bce-python-sdk->visualdl->-r requirements.txt (line 8)) (3.19.0)\n",
            "Requirement already satisfied: future>=0.6.0 in /usr/local/lib/python3.10/dist-packages (from bce-python-sdk->visualdl->-r requirements.txt (line 8)) (0.18.3)\n",
            "Requirement already satisfied: contourpy>=1.0.1 in /usr/local/lib/python3.10/dist-packages (from matplotlib->imgaug->-r requirements.txt (line 3)) (1.2.0)\n",
            "Requirement already satisfied: cycler>=0.10 in /usr/local/lib/python3.10/dist-packages (from matplotlib->imgaug->-r requirements.txt (line 3)) (0.12.1)\n",
            "Requirement already satisfied: fonttools>=4.22.0 in /usr/local/lib/python3.10/dist-packages (from matplotlib->imgaug->-r requirements.txt (line 3)) (4.45.1)\n",
            "Requirement already satisfied: kiwisolver>=1.0.1 in /usr/local/lib/python3.10/dist-packages (from matplotlib->imgaug->-r requirements.txt (line 3)) (1.4.5)\n",
            "Requirement already satisfied: pyparsing>=2.3.1 in /usr/local/lib/python3.10/dist-packages (from matplotlib->imgaug->-r requirements.txt (line 3)) (3.1.1)\n",
            "Requirement already satisfied: python-dateutil>=2.7 in /usr/local/lib/python3.10/dist-packages (from matplotlib->imgaug->-r requirements.txt (line 3)) (2.8.2)\n",
            "Requirement already satisfied: charset-normalizer<4,>=2 in /usr/local/lib/python3.10/dist-packages (from requests->visualdl->-r requirements.txt (line 8)) (3.3.2)\n",
            "Requirement already satisfied: idna<4,>=2.5 in /usr/local/lib/python3.10/dist-packages (from requests->visualdl->-r requirements.txt (line 8)) (3.6)\n",
            "Requirement already satisfied: urllib3<3,>=1.21.1 in /usr/local/lib/python3.10/dist-packages (from requests->visualdl->-r requirements.txt (line 8)) (2.0.7)\n",
            "Requirement already satisfied: certifi>=2017.4.17 in /usr/local/lib/python3.10/dist-packages (from requests->visualdl->-r requirements.txt (line 8)) (2023.11.17)\n",
            "Requirement already satisfied: MarkupSafe>=2.0 in /usr/local/lib/python3.10/dist-packages (from Jinja2>=3.0->flask>=1.1.1->visualdl->-r requirements.txt (line 8)) (2.1.3)\n"
          ]
        },
        {
          "data": {
            "text/plain": []
          },
          "execution_count": 2,
          "metadata": {},
          "output_type": "execute_result"
        }
      ],
      "source": [
        "%%shell\n",
        "git clone https://github.com/PaddlePaddle/PaddleOCR\n",
        "pip install -qqq paddlepaddle-gpu pyclipper attrdict\n",
        "cd PaddleOCR\n",
        "pip install -r requirements.txt"
      ]
    },
    {
      "cell_type": "markdown",
      "metadata": {},
      "source": [
        "## 2. Install `wandb` and log in\n",
        "\n",
        "If you don't yet have a Weights and Biases account you can create one here: https://wandb.ai/login?signup=true\n",
        "wandb is a Logging/Evaluation Metric Visualization Tool"
      ]
    },
    {
      "cell_type": "code",
      "execution_count": null,
      "metadata": {
        "colab": {
          "base_uri": "https://localhost:8080/"
        },
        "id": "XrochHz0SJ3T",
        "outputId": "1e973b4f-1298-4d90-a645-e873a0e7069a"
      },
      "outputs": [
        {
          "name": "stdout",
          "output_type": "stream",
          "text": [
            "\u001b[2K     \u001b[90m━━━━━━━━━━━━━━━━━━━━━━━━━━━━━━━━━━━━━━━━\u001b[0m \u001b[32m2.1/2.1 MB\u001b[0m \u001b[31m31.2 MB/s\u001b[0m eta \u001b[36m0:00:00\u001b[0m\n",
            "\u001b[2K     \u001b[90m━━━━━━━━━━━━━━━━━━━━━━━━━━━━━━━━━━━━━━━━\u001b[0m \u001b[32m190.6/190.6 kB\u001b[0m \u001b[31m22.3 MB/s\u001b[0m eta \u001b[36m0:00:00\u001b[0m\n",
            "\u001b[2K     \u001b[90m━━━━━━━━━━━━━━━━━━━━━━━━━━━━━━━━━━━━━━━━\u001b[0m \u001b[32m252.8/252.8 kB\u001b[0m \u001b[31m28.4 MB/s\u001b[0m eta \u001b[36m0:00:00\u001b[0m\n",
            "\u001b[2K     \u001b[90m━━━━━━━━━━━━━━━━━━━━━━━━━━━━━━━━━━━━━━━━\u001b[0m \u001b[32m62.7/62.7 kB\u001b[0m \u001b[31m8.3 MB/s\u001b[0m eta \u001b[36m0:00:00\u001b[0m\n",
            "\u001b[?25h"
          ]
        }
      ],
      "source": [
        "!pip install -qqq wandb"
      ]
    },
    {
      "cell_type": "code",
      "execution_count": null,
      "metadata": {
        "colab": {
          "base_uri": "https://localhost:8080/",
          "height": 104
        },
        "id": "qxxNrLGpSON5",
        "outputId": "ab70aedc-8dd6-4bae-8606-d9a0ca305033"
      },
      "outputs": [
        {
          "data": {
            "application/javascript": "\n        window._wandbApiKey = new Promise((resolve, reject) => {\n            function loadScript(url) {\n            return new Promise(function(resolve, reject) {\n                let newScript = document.createElement(\"script\");\n                newScript.onerror = reject;\n                newScript.onload = resolve;\n                document.body.appendChild(newScript);\n                newScript.src = url;\n            });\n            }\n            loadScript(\"https://cdn.jsdelivr.net/npm/postmate/build/postmate.min.js\").then(() => {\n            const iframe = document.createElement('iframe')\n            iframe.style.cssText = \"width:0;height:0;border:none\"\n            document.body.appendChild(iframe)\n            const handshake = new Postmate({\n                container: iframe,\n                url: 'https://wandb.ai/authorize'\n            });\n            const timeout = setTimeout(() => reject(\"Couldn't auto authenticate\"), 5000)\n            handshake.then(function(child) {\n                child.on('authorize', data => {\n                    clearTimeout(timeout)\n                    resolve(data)\n                });\n            });\n            })\n        });\n    ",
            "text/plain": [
              "<IPython.core.display.Javascript object>"
            ]
          },
          "metadata": {},
          "output_type": "display_data"
        },
        {
          "name": "stderr",
          "output_type": "stream",
          "text": [
            "\u001b[34m\u001b[1mwandb\u001b[0m: Logging into wandb.ai. (Learn how to deploy a W&B server locally: https://wandb.me/wandb-server)\n",
            "\u001b[34m\u001b[1mwandb\u001b[0m: You can find your API key in your browser here: https://wandb.ai/authorize\n",
            "wandb: Paste an API key from your profile and hit enter, or press ctrl+c to quit:"
          ]
        },
        {
          "name": "stdout",
          "output_type": "stream",
          "text": [
            " ··········\n"
          ]
        },
        {
          "data": {
            "text/plain": [
              "True"
            ]
          },
          "execution_count": 12,
          "metadata": {},
          "output_type": "execute_result"
        }
      ],
      "source": [
        "import wandb\n",
        "wandb.login()"
      ]
    },
    {
      "cell_type": "markdown",
      "metadata": {},
      "source": [
        "## 3. Downloading and Extracting the Dataset"
      ]
    },
    {
      "cell_type": "code",
      "execution_count": null,
      "metadata": {
        "colab": {
          "base_uri": "https://localhost:8080/"
        },
        "id": "b3RxGTUtZQZC",
        "outputId": "c1b68c6c-2985-4071-e205-b2d738541370"
      },
      "outputs": [
        {
          "name": "stdout",
          "output_type": "stream",
          "text": [
            "[Errno 2] No such file or directory: 'PaddleOCR/'\n",
            "/content/PaddleOCR\n"
          ]
        }
      ],
      "source": [
        "%cd PaddleOCR/"
      ]
    },
    {
      "cell_type": "markdown",
      "metadata": {},
      "source": [
        "Now, PaddleOCR expects the data to be in the following directories, per the [documentation](https://github-com.translate.goog/PaddlePaddle/PaddleOCR/blob/release/2.3/doc/doc_ch/detection.md?_x_tr_sl=auto&_x_tr_tl=en&_x_tr_hl=en&_x_tr_pto=wapp):\n",
        "```\n",
        "/PaddleOCR/train_data/icdar2015/text_localization/\n",
        "  └─ icdar_c4_train_imgs/         icdar数据集的训练数据\n",
        "  └─ ch4_test_images/             icdar数据集的测试数据\n",
        "  └─ train_icdar2015_label.txt    icdar数据集的训练标注\n",
        "  └─ test_icdar2015_label.txt     icdar数据集的测试标注"
      ]
    },
    {
      "cell_type": "code",
      "execution_count": null,
      "metadata": {
        "colab": {
          "base_uri": "https://localhost:8080/"
        },
        "id": "izS6wK7dVh9M",
        "outputId": "b8b57f42-bd5c-4651-f0e9-3f2b43a1d497"
      },
      "outputs": [
        {
          "name": "stdout",
          "output_type": "stream",
          "text": [
            "--2023-12-09 16:08:34--  https://paddleocr.bj.bcebos.com/dataset/train_icdar2015_label.txt\n",
            "Resolving paddleocr.bj.bcebos.com (paddleocr.bj.bcebos.com)... 103.235.46.61, 2409:8c04:1001:1002:0:ff:b001:368a\n",
            "Connecting to paddleocr.bj.bcebos.com (paddleocr.bj.bcebos.com)|103.235.46.61|:443... connected.\n",
            "HTTP request sent, awaiting response... 200 OK\n",
            "Length: 1063118 (1.0M) [text/plain]\n",
            "Saving to: ‘./train_data/icdar2015/text_localization/train_icdar2015_label.txt’\n",
            "\n",
            "./train_data/icdar2 100%[===================>]   1.01M  1.69MB/s    in 0.6s    \n",
            "\n",
            "2023-12-09 16:08:35 (1.69 MB/s) - ‘./train_data/icdar2015/text_localization/train_icdar2015_label.txt’ saved [1063118/1063118]\n",
            "\n",
            "--2023-12-09 16:08:35--  https://paddleocr.bj.bcebos.com/dataset/test_icdar2015_label.txt\n",
            "Resolving paddleocr.bj.bcebos.com (paddleocr.bj.bcebos.com)... 103.235.46.61, 2409:8c04:1001:1002:0:ff:b001:368a\n",
            "Connecting to paddleocr.bj.bcebos.com (paddleocr.bj.bcebos.com)|103.235.46.61|:443... connected.\n",
            "HTTP request sent, awaiting response... 200 OK\n",
            "Length: 468453 (457K) [text/plain]\n",
            "Saving to: ‘./train_data/icdar2015/text_localization/test_icdar2015_label.txt’\n",
            "\n",
            "./train_data/icdar2 100%[===================>] 457.47K   991KB/s    in 0.5s    \n",
            "\n",
            "2023-12-09 16:08:36 (991 KB/s) - ‘./train_data/icdar2015/text_localization/test_icdar2015_label.txt’ saved [468453/468453]\n",
            "\n",
            "ICDAR 2015 label files downloaded successfully.\n"
          ]
        }
      ],
      "source": [
        "import os\n",
        "import zipfile\n",
        "\n",
        "# Create necessary directories\n",
        "label_directory = \"./train_data/icdar2015/text_localization/\"\n",
        "os.makedirs(label_directory, exist_ok=True)\n",
        "\n",
        "# Specify the URLs for the label files\n",
        "train_label_url = \"https://paddleocr.bj.bcebos.com/dataset/train_icdar2015_label.txt\"\n",
        "test_label_url = \"https://paddleocr.bj.bcebos.com/dataset/test_icdar2015_label.txt\"\n",
        "\n",
        "# Specify where to save the downloaded label files\n",
        "train_label_path = label_directory + \"train_icdar2015_label.txt\"\n",
        "test_label_path = label_directory + \"test_icdar2015_label.txt\"\n",
        "\n",
        "# Download train_icdar2015_label.txt\n",
        "!wget $train_label_url -O $train_label_path\n",
        "\n",
        "# Download test_icdar2015_label.txt\n",
        "!wget $test_label_url -O $test_label_path\n",
        "\n",
        "print(\"ICDAR 2015 label files downloaded successfully.\")"
      ]
    },
    {
      "cell_type": "code",
      "execution_count": null,
      "metadata": {
        "colab": {
          "base_uri": "https://localhost:8080/",
          "height": 390
        },
        "id": "0v-rO3BCVy0a",
        "outputId": "48c8a7fe-f912-4754-b606-cd51bcfd432e"
      },
      "outputs": [],
      "source": [
        "import os\n",
        "import zipfile\n",
        "\n",
        "# Create necessary directories\n",
        "label_directory = \"./train_data/icdar2015/text_localization/\"\n",
        "os.makedirs(label_directory, exist_ok=True)\n",
        "\n",
        "# Specify where the zip files are located\n",
        "training_images_zip_path = \"./ch4_training_images.zip\"\n",
        "test_images_zip_path = \"./ch4_test_images.zip\"\n",
        "\n",
        "# Specify where to unzip the image files\n",
        "training_images_path = os.path.join(label_directory, \"icdar_c4_train_imgs\")\n",
        "test_images_path = os.path.join(label_directory, \"icdar_c4_test_imgs\")\n",
        "\n",
        "# Unzip ch4_training_images.zip\n",
        "with zipfile.ZipFile(training_images_zip_path, 'r') as zip_ref:\n",
        "    zip_ref.extractall(training_images_path)\n",
        "\n",
        "# Unzip ch4_test_images.zip\n",
        "with zipfile.ZipFile(test_images_zip_path, 'r') as zip_ref:\n",
        "    zip_ref.extractall(test_images_path)"
      ]
    },
    {
      "cell_type": "code",
      "execution_count": null,
      "metadata": {
        "colab": {
          "base_uri": "https://localhost:8080/"
        },
        "id": "HpDwH-sfWOi7",
        "outputId": "d1810c53-5c3d-410e-8b05-d54fa327a073"
      },
      "outputs": [
        {
          "name": "stdout",
          "output_type": "stream",
          "text": [
            "Drive already mounted at /content/drive; to attempt to forcibly remount, call drive.mount(\"/content/drive\", force_remount=True).\n",
            "Image files extracted successfully.\n"
          ]
        }
      ],
      "source": [
        "import os\n",
        "from google.colab import drive\n",
        "import zipfile\n",
        "\n",
        "# Mount Google Drive\n",
        "drive.mount('/content/drive')\n",
        "\n",
        "# Set the directory in Google Drive where your files are located\n",
        "drive_directory = '/content/drive/MyDrive/AML_Project/'\n",
        "\n",
        "# Create necessary directories\n",
        "label_directory = \"./train_data/icdar2015/text_localization/\"\n",
        "os.makedirs(label_directory, exist_ok=True)\n",
        "\n",
        "# Specify where to unzip the image files\n",
        "training_images_path = os.path.join(label_directory, \"icdar_c4_train_imgs\")\n",
        "test_images_path = os.path.join(label_directory, \"ch4_test_images\")\n",
        "\n",
        "# Specify the file paths in Google Drive\n",
        "training_images_zip_path = os.path.join(drive_directory, \"ch4_training_images.zip\")\n",
        "test_images_zip_path = os.path.join(drive_directory, \"ch4_test_images.zip\")\n",
        "\n",
        "# Unzip ch4_training_images.zip\n",
        "with zipfile.ZipFile(training_images_zip_path, 'r') as zip_ref:\n",
        "    zip_ref.extractall(training_images_path)\n",
        "\n",
        "# Unzip ch4_test_images.zip\n",
        "with zipfile.ZipFile(test_images_zip_path, 'r') as zip_ref:\n",
        "    zip_ref.extractall(test_images_path)\n",
        "\n",
        "print(\"Image files extracted successfully.\")"
      ]
    },
    {
      "cell_type": "markdown",
      "metadata": {
        "id": "KEd-VUIYb2FR"
      },
      "source": [
        "## 4. Download pretrained models\n",
        "\n",
        "Note that since ResNet50 is so performant (and because inferencing speed isn't a huge constraint of ours) we'll choose to download the pretrained weights for the ReNet50 model: https://github.com/PaddlePaddle/Paddleclas/tree/dygraph-dev#resnet-and-vd-series\n",
        "\n",
        "If you're looking for a more lightweight model feel free to go with the MobileNet model series: https://github.com/PaddlePaddle/Paddleclas/tree/dygraph-dev#mobile-series\n"
      ]
    },
    {
      "cell_type": "code",
      "execution_count": null,
      "metadata": {
        "colab": {
          "base_uri": "https://localhost:8080/"
        },
        "id": "KpXHi4Gdb0Z0",
        "outputId": "a7012608-e184-4000-b5e0-ba2ea603b569"
      },
      "outputs": [
        {
          "name": "stdout",
          "output_type": "stream",
          "text": [
            "--2023-12-09 16:19:46--  https://paddle-imagenet-models-name.bj.bcebos.com/dygraph/MobileNetV3_large_x0_5_pretrained.pdparams\n",
            "Resolving paddle-imagenet-models-name.bj.bcebos.com (paddle-imagenet-models-name.bj.bcebos.com)... 103.235.46.61, 2409:8c04:1001:1002:0:ff:b001:368a\n",
            "Connecting to paddle-imagenet-models-name.bj.bcebos.com (paddle-imagenet-models-name.bj.bcebos.com)|103.235.46.61|:443... connected.\n",
            "HTTP request sent, awaiting response... 200 OK\n",
            "Length: 16255295 (16M) [application/octet-stream]\n",
            "Saving to: ‘./pretrain_models/MobileNetV3_large_x0_5_pretrained.pdparams’\n",
            "\n",
            "MobileNetV3_large_x 100%[===================>]  15.50M  3.95MB/s    in 5.6s    \n",
            "\n",
            "2023-12-09 16:19:53 (2.74 MB/s) - ‘./pretrain_models/MobileNetV3_large_x0_5_pretrained.pdparams’ saved [16255295/16255295]\n",
            "\n"
          ]
        }
      ],
      "source": [
        "# Download the corresponding pre-training model according to different backbone options\n",
        "\n",
        "# Download the pre-trained model of MobileNetV3\n",
        "!wget -P ./pretrain_models/ https://paddle-imagenet-models-name.bj.bcebos.com/dygraph/MobileNetV3_large_x0_5_pretrained.pdparams\n",
        "# # Download the pre-trained model of ResNet18_vd\n",
        "# !wget -P ./pretrain_models/ https://paddle-imagenet-models-name.bj.bcebos.com/dygraph/ResNet18_vd_pretrained.pdparams\n",
        "# # Download the pre-trained model of ResNet50_vd\n",
        "# !wget -P ./pretrain_models/ https://paddle-imagenet-models-name.bj.bcebos.com/dygraph/ResNet50_vd_ssld_pretrained.pdparams\n"
      ]
    },
    {
      "cell_type": "markdown",
      "metadata": {
        "id": "tSOfFlZLd3R5"
      },
      "source": [
        "## 5. Verify your hyperparameters: edit your `config` file\n",
        "\n",
        "For the MobileNetv3 model the configuration file with its hyperparameters are located in the `configs/det/det_mv3_db.yml` file. Note that each model has a config file that 'matches' with its name, so if you are using a model other than MobileNetv3 make sure to use the correct YAML file with your model."
      ]
    },
    {
      "cell_type": "code",
      "execution_count": null,
      "metadata": {
        "colab": {
          "base_uri": "https://localhost:8080/"
        },
        "id": "SvXpDMA9eQpd",
        "outputId": "b8e4176c-5b1e-45d4-9e80-20bee0849bc1"
      },
      "outputs": [
        {
          "name": "stdout",
          "output_type": "stream",
          "text": [
            "Global:\n",
            "  use_gpu: true\n",
            "  use_xpu: false\n",
            "  epoch_num: 1200\n",
            "  log_smooth_window: 20\n",
            "  print_batch_step: 10\n",
            "  save_model_dir: ./output/db_mv3/\n",
            "  save_epoch_step: 1200\n",
            "  # evaluation is run every 2000 iterations\n",
            "  eval_batch_step: [0, 2000]\n"
          ]
        }
      ],
      "source": [
        "!head /content/PaddleOCR/configs/det/det_mv3_db.yml"
      ]
    },
    {
      "cell_type": "code",
      "execution_count": null,
      "metadata": {
        "id": "gPsa9iPreft7"
      },
      "outputs": [],
      "source": [
        "import yaml\n",
        "\n",
        "with open(\"configs/det/det_mv3_db.yml\", \"r\") as f:\n",
        "    config = yaml.safe_load(f)\n",
        "config.update({\n",
        "    'wandb': {\n",
        "        'project': 'OCR_with_Paddle'\n",
        "    }\n",
        "})\n",
        "config['Global'].update({\n",
        "    'epoch_num': 5,\n",
        "    'cal_metric_during_train': True\n",
        "    })\n",
        "\n",
        "with open(\"configs/det/det_mv3_db.yml\", \"w\") as f:\n",
        "    yaml.safe_dump(config, f)"
      ]
    },
    {
      "cell_type": "markdown",
      "metadata": {
        "id": "wtn20lfpgy_1"
      },
      "source": [
        "## 6. Beginning the fine-tuning process"
      ]
    },
    {
      "cell_type": "code",
      "execution_count": null,
      "metadata": {
        "colab": {
          "base_uri": "https://localhost:8080/"
        },
        "id": "51fNZ6juhQrA",
        "outputId": "40f32d31-d8d2-4e08-b849-9c1fb90febff"
      },
      "outputs": [
        {
          "name": "stdout",
          "output_type": "stream",
          "text": [
            "\u001b[34m\u001b[1mwandb\u001b[0m: Currently logged in as: \u001b[33mk200353-fast\u001b[0m (\u001b[33mfast-k203053\u001b[0m). Use \u001b[1m`wandb login --relogin`\u001b[0m to force relogin\n",
            "\u001b[34m\u001b[1mwandb\u001b[0m: Tracking run with wandb version 0.16.1\n",
            "\u001b[34m\u001b[1mwandb\u001b[0m: Run data is saved locally in \u001b[35m\u001b[1m./output/db_mv3/wandb/run-20231209_162439-gav9ely8\u001b[0m\n",
            "\u001b[34m\u001b[1mwandb\u001b[0m: Run \u001b[1m`wandb offline`\u001b[0m to turn off syncing.\n",
            "\u001b[34m\u001b[1mwandb\u001b[0m: Syncing run \u001b[33mMyOCRModel\u001b[0m\n",
            "\u001b[34m\u001b[1mwandb\u001b[0m: ⭐️ View project at \u001b[34m\u001b[4mhttps://wandb.ai/fast-k203053/CoolOCR\u001b[0m\n",
            "\u001b[34m\u001b[1mwandb\u001b[0m: 🚀 View run at \u001b[34m\u001b[4mhttps://wandb.ai/fast-k203053/CoolOCR/runs/gav9ely8\u001b[0m\n",
            "[2023/12/09 16:24:40] ppocr INFO: Architecture : \n",
            "[2023/12/09 16:24:40] ppocr INFO:     Backbone : \n",
            "[2023/12/09 16:24:40] ppocr INFO:         model_name : large\n",
            "[2023/12/09 16:24:40] ppocr INFO:         name : MobileNetV3\n",
            "[2023/12/09 16:24:40] ppocr INFO:         scale : 0.5\n",
            "[2023/12/09 16:24:40] ppocr INFO:     Head : \n",
            "[2023/12/09 16:24:40] ppocr INFO:         k : 50\n",
            "[2023/12/09 16:24:40] ppocr INFO:         name : DBHead\n",
            "[2023/12/09 16:24:40] ppocr INFO:     Neck : \n",
            "[2023/12/09 16:24:40] ppocr INFO:         name : DBFPN\n",
            "[2023/12/09 16:24:40] ppocr INFO:         out_channels : 256\n",
            "[2023/12/09 16:24:40] ppocr INFO:     Transform : None\n",
            "[2023/12/09 16:24:40] ppocr INFO:     algorithm : DB\n",
            "[2023/12/09 16:24:40] ppocr INFO:     model_type : det\n",
            "[2023/12/09 16:24:40] ppocr INFO: Eval : \n",
            "[2023/12/09 16:24:40] ppocr INFO:     dataset : \n",
            "[2023/12/09 16:24:40] ppocr INFO:         data_dir : ./train_data/icdar2015/text_localization/\n",
            "[2023/12/09 16:24:40] ppocr INFO:         label_file_list : ['./train_data/icdar2015/text_localization/test_icdar2015_label.txt']\n",
            "[2023/12/09 16:24:40] ppocr INFO:         name : SimpleDataSet\n",
            "[2023/12/09 16:24:40] ppocr INFO:         transforms : \n",
            "[2023/12/09 16:24:40] ppocr INFO:             DecodeImage : \n",
            "[2023/12/09 16:24:40] ppocr INFO:                 channel_first : False\n",
            "[2023/12/09 16:24:40] ppocr INFO:                 img_mode : BGR\n",
            "[2023/12/09 16:24:40] ppocr INFO:             DetLabelEncode : None\n",
            "[2023/12/09 16:24:40] ppocr INFO:             DetResizeForTest : \n",
            "[2023/12/09 16:24:40] ppocr INFO:                 image_shape : [736, 1280]\n",
            "[2023/12/09 16:24:40] ppocr INFO:             NormalizeImage : \n",
            "[2023/12/09 16:24:40] ppocr INFO:                 mean : [0.485, 0.456, 0.406]\n",
            "[2023/12/09 16:24:40] ppocr INFO:                 order : hwc\n",
            "[2023/12/09 16:24:40] ppocr INFO:                 scale : 1./255.\n",
            "[2023/12/09 16:24:40] ppocr INFO:                 std : [0.229, 0.224, 0.225]\n",
            "[2023/12/09 16:24:40] ppocr INFO:             ToCHWImage : None\n",
            "[2023/12/09 16:24:40] ppocr INFO:             KeepKeys : \n",
            "[2023/12/09 16:24:40] ppocr INFO:                 keep_keys : ['image', 'shape', 'polys', 'ignore_tags']\n",
            "[2023/12/09 16:24:40] ppocr INFO:     loader : \n",
            "[2023/12/09 16:24:40] ppocr INFO:         batch_size_per_card : 1\n",
            "[2023/12/09 16:24:40] ppocr INFO:         drop_last : False\n",
            "[2023/12/09 16:24:40] ppocr INFO:         num_workers : 8\n",
            "[2023/12/09 16:24:40] ppocr INFO:         shuffle : False\n",
            "[2023/12/09 16:24:40] ppocr INFO:         use_shared_memory : True\n",
            "[2023/12/09 16:24:40] ppocr INFO: Global : \n",
            "[2023/12/09 16:24:40] ppocr INFO:     cal_metric_during_train : False\n",
            "[2023/12/09 16:24:40] ppocr INFO:     checkpoints : None\n",
            "[2023/12/09 16:24:40] ppocr INFO:     distributed : False\n",
            "[2023/12/09 16:24:40] ppocr INFO:     epoch_num : 2\n",
            "[2023/12/09 16:24:40] ppocr INFO:     eval_batch_step : [0, 50]\n",
            "[2023/12/09 16:24:40] ppocr INFO:     infer_img : doc/imgs_en/img_10.jpg\n",
            "[2023/12/09 16:24:40] ppocr INFO:     log_smooth_window : 20\n",
            "[2023/12/09 16:24:40] ppocr INFO:     pretrained_model : ./pretrain_models/MobileNetV3_large_x0_5_pretrained\n",
            "[2023/12/09 16:24:40] ppocr INFO:     print_batch_step : 10\n",
            "[2023/12/09 16:24:40] ppocr INFO:     save_epoch_step : 1200\n",
            "[2023/12/09 16:24:40] ppocr INFO:     save_inference_dir : None\n",
            "[2023/12/09 16:24:40] ppocr INFO:     save_model_dir : ./output/db_mv3/\n",
            "[2023/12/09 16:24:40] ppocr INFO:     save_res_path : ./output/det_db/predicts_db.txt\n",
            "[2023/12/09 16:24:40] ppocr INFO:     use_gpu : True\n",
            "[2023/12/09 16:24:40] ppocr INFO:     use_mlu : False\n",
            "[2023/12/09 16:24:40] ppocr INFO:     use_visualdl : False\n",
            "[2023/12/09 16:24:40] ppocr INFO:     use_wandb : True\n",
            "[2023/12/09 16:24:40] ppocr INFO:     use_xpu : False\n",
            "[2023/12/09 16:24:40] ppocr INFO: Loss : \n",
            "[2023/12/09 16:24:40] ppocr INFO:     alpha : 5\n",
            "[2023/12/09 16:24:40] ppocr INFO:     balance_loss : True\n",
            "[2023/12/09 16:24:40] ppocr INFO:     beta : 10\n",
            "[2023/12/09 16:24:40] ppocr INFO:     main_loss_type : DiceLoss\n",
            "[2023/12/09 16:24:40] ppocr INFO:     name : DBLoss\n",
            "[2023/12/09 16:24:40] ppocr INFO:     ohem_ratio : 3\n",
            "[2023/12/09 16:24:40] ppocr INFO: Metric : \n",
            "[2023/12/09 16:24:40] ppocr INFO:     main_indicator : hmean\n",
            "[2023/12/09 16:24:40] ppocr INFO:     name : DetMetric\n",
            "[2023/12/09 16:24:40] ppocr INFO: Optimizer : \n",
            "[2023/12/09 16:24:40] ppocr INFO:     beta1 : 0.9\n",
            "[2023/12/09 16:24:40] ppocr INFO:     beta2 : 0.999\n",
            "[2023/12/09 16:24:40] ppocr INFO:     lr : \n",
            "[2023/12/09 16:24:40] ppocr INFO:         learning_rate : 0.001\n",
            "[2023/12/09 16:24:40] ppocr INFO:     name : Adam\n",
            "[2023/12/09 16:24:40] ppocr INFO:     regularizer : \n",
            "[2023/12/09 16:24:40] ppocr INFO:         factor : 0\n",
            "[2023/12/09 16:24:40] ppocr INFO:         name : L2\n",
            "[2023/12/09 16:24:40] ppocr INFO: PostProcess : \n",
            "[2023/12/09 16:24:40] ppocr INFO:     box_thresh : 0.6\n",
            "[2023/12/09 16:24:40] ppocr INFO:     max_candidates : 1000\n",
            "[2023/12/09 16:24:40] ppocr INFO:     name : DBPostProcess\n",
            "[2023/12/09 16:24:40] ppocr INFO:     thresh : 0.3\n",
            "[2023/12/09 16:24:40] ppocr INFO:     unclip_ratio : 1.5\n",
            "[2023/12/09 16:24:40] ppocr INFO: Train : \n",
            "[2023/12/09 16:24:40] ppocr INFO:     dataset : \n",
            "[2023/12/09 16:24:40] ppocr INFO:         data_dir : ./train_data/icdar2015/text_localization/\n",
            "[2023/12/09 16:24:40] ppocr INFO:         label_file_list : ['./train_data/icdar2015/text_localization/train_icdar2015_label.txt']\n",
            "[2023/12/09 16:24:40] ppocr INFO:         name : SimpleDataSet\n",
            "[2023/12/09 16:24:40] ppocr INFO:         ratio_list : [1.0]\n",
            "[2023/12/09 16:24:40] ppocr INFO:         transforms : \n",
            "[2023/12/09 16:24:40] ppocr INFO:             DecodeImage : \n",
            "[2023/12/09 16:24:40] ppocr INFO:                 channel_first : False\n",
            "[2023/12/09 16:24:40] ppocr INFO:                 img_mode : BGR\n",
            "[2023/12/09 16:24:40] ppocr INFO:             DetLabelEncode : None\n",
            "[2023/12/09 16:24:40] ppocr INFO:             IaaAugment : \n",
            "[2023/12/09 16:24:40] ppocr INFO:                 augmenter_args : \n",
            "[2023/12/09 16:24:40] ppocr INFO:                     args : \n",
            "[2023/12/09 16:24:40] ppocr INFO:                         p : 0.5\n",
            "[2023/12/09 16:24:40] ppocr INFO:                     type : Fliplr\n",
            "[2023/12/09 16:24:40] ppocr INFO:                     args : \n",
            "[2023/12/09 16:24:40] ppocr INFO:                         rotate : [-10, 10]\n",
            "[2023/12/09 16:24:40] ppocr INFO:                     type : Affine\n",
            "[2023/12/09 16:24:40] ppocr INFO:                     args : \n",
            "[2023/12/09 16:24:40] ppocr INFO:                         size : [0.5, 3]\n",
            "[2023/12/09 16:24:40] ppocr INFO:                     type : Resize\n",
            "[2023/12/09 16:24:40] ppocr INFO:             EastRandomCropData : \n",
            "[2023/12/09 16:24:40] ppocr INFO:                 keep_ratio : True\n",
            "[2023/12/09 16:24:40] ppocr INFO:                 max_tries : 50\n",
            "[2023/12/09 16:24:40] ppocr INFO:                 size : [640, 640]\n",
            "[2023/12/09 16:24:40] ppocr INFO:             MakeBorderMap : \n",
            "[2023/12/09 16:24:40] ppocr INFO:                 shrink_ratio : 0.4\n",
            "[2023/12/09 16:24:40] ppocr INFO:                 thresh_max : 0.7\n",
            "[2023/12/09 16:24:40] ppocr INFO:                 thresh_min : 0.3\n",
            "[2023/12/09 16:24:40] ppocr INFO:             MakeShrinkMap : \n",
            "[2023/12/09 16:24:40] ppocr INFO:                 min_text_size : 8\n",
            "[2023/12/09 16:24:40] ppocr INFO:                 shrink_ratio : 0.4\n",
            "[2023/12/09 16:24:40] ppocr INFO:             NormalizeImage : \n",
            "[2023/12/09 16:24:40] ppocr INFO:                 mean : [0.485, 0.456, 0.406]\n",
            "[2023/12/09 16:24:40] ppocr INFO:                 order : hwc\n",
            "[2023/12/09 16:24:40] ppocr INFO:                 scale : 1./255.\n",
            "[2023/12/09 16:24:40] ppocr INFO:                 std : [0.229, 0.224, 0.225]\n",
            "[2023/12/09 16:24:40] ppocr INFO:             ToCHWImage : None\n",
            "[2023/12/09 16:24:40] ppocr INFO:             KeepKeys : \n",
            "[2023/12/09 16:24:40] ppocr INFO:                 keep_keys : ['image', 'threshold_map', 'threshold_mask', 'shrink_map', 'shrink_mask']\n",
            "[2023/12/09 16:24:40] ppocr INFO:     loader : \n",
            "[2023/12/09 16:24:40] ppocr INFO:         batch_size_per_card : 16\n",
            "[2023/12/09 16:24:40] ppocr INFO:         drop_last : False\n",
            "[2023/12/09 16:24:40] ppocr INFO:         num_workers : 8\n",
            "[2023/12/09 16:24:40] ppocr INFO:         shuffle : True\n",
            "[2023/12/09 16:24:40] ppocr INFO:         use_shared_memory : True\n",
            "[2023/12/09 16:24:40] ppocr INFO: profiler_options : None\n",
            "[2023/12/09 16:24:40] ppocr INFO: wandb : \n",
            "[2023/12/09 16:24:40] ppocr INFO:     name : MyOCRModel\n",
            "[2023/12/09 16:24:40] ppocr INFO:     project : CoolOCR\n",
            "[2023/12/09 16:24:40] ppocr INFO:     save_dir : ./output/db_mv3/\n",
            "[2023/12/09 16:24:40] ppocr INFO: train with paddle 2.5.2 and device Place(gpu:0)\n",
            "[2023/12/09 16:24:40] ppocr INFO: Initialize indexs of datasets:['./train_data/icdar2015/text_localization/train_icdar2015_label.txt']\n",
            "[2023/12/09 16:24:40] ppocr INFO: Initialize indexs of datasets:['./train_data/icdar2015/text_localization/test_icdar2015_label.txt']\n",
            "W1209 16:24:40.567185 15306 gpu_resources.cc:119] Please NOTE: device: 0, GPU Compute Capability: 7.5, Driver API Version: 12.0, Runtime API Version: 11.8\n",
            "W1209 16:24:40.572274 15306 gpu_resources.cc:149] device: 0, cuDNN Version: 8.9.\n",
            "[2023/12/09 16:24:43] ppocr INFO: train dataloader has 63 iters\n",
            "[2023/12/09 16:24:43] ppocr INFO: valid dataloader has 500 iters\n",
            "[2023/12/09 16:24:43] ppocr WARNING: The pretrained params conv1.conv.weight not in model\n",
            "[2023/12/09 16:24:43] ppocr WARNING: The pretrained params conv1.bn.weight not in model\n",
            "[2023/12/09 16:24:43] ppocr WARNING: The pretrained params conv1.bn.bias not in model\n",
            "[2023/12/09 16:24:43] ppocr WARNING: The pretrained params conv1.bn._mean not in model\n",
            "[2023/12/09 16:24:43] ppocr WARNING: The pretrained params conv1.bn._variance not in model\n",
            "[2023/12/09 16:24:43] ppocr WARNING: The pretrained params conv2.expand_conv.conv.weight not in model\n",
            "[2023/12/09 16:24:43] ppocr WARNING: The pretrained params conv2.expand_conv.bn.weight not in model\n",
            "[2023/12/09 16:24:43] ppocr WARNING: The pretrained params conv2.expand_conv.bn.bias not in model\n",
            "[2023/12/09 16:24:43] ppocr WARNING: The pretrained params conv2.expand_conv.bn._mean not in model\n",
            "[2023/12/09 16:24:43] ppocr WARNING: The pretrained params conv2.expand_conv.bn._variance not in model\n",
            "[2023/12/09 16:24:43] ppocr WARNING: The pretrained params conv2.bottleneck_conv.conv.weight not in model\n",
            "[2023/12/09 16:24:43] ppocr WARNING: The pretrained params conv2.bottleneck_conv.bn.weight not in model\n",
            "[2023/12/09 16:24:43] ppocr WARNING: The pretrained params conv2.bottleneck_conv.bn.bias not in model\n",
            "[2023/12/09 16:24:43] ppocr WARNING: The pretrained params conv2.bottleneck_conv.bn._mean not in model\n",
            "[2023/12/09 16:24:43] ppocr WARNING: The pretrained params conv2.bottleneck_conv.bn._variance not in model\n",
            "[2023/12/09 16:24:43] ppocr WARNING: The pretrained params conv2.linear_conv.conv.weight not in model\n",
            "[2023/12/09 16:24:43] ppocr WARNING: The pretrained params conv2.linear_conv.bn.weight not in model\n",
            "[2023/12/09 16:24:43] ppocr WARNING: The pretrained params conv2.linear_conv.bn.bias not in model\n",
            "[2023/12/09 16:24:43] ppocr WARNING: The pretrained params conv2.linear_conv.bn._mean not in model\n",
            "[2023/12/09 16:24:43] ppocr WARNING: The pretrained params conv2.linear_conv.bn._variance not in model\n",
            "[2023/12/09 16:24:43] ppocr WARNING: The pretrained params conv3.expand_conv.conv.weight not in model\n",
            "[2023/12/09 16:24:43] ppocr WARNING: The pretrained params conv3.expand_conv.bn.weight not in model\n",
            "[2023/12/09 16:24:43] ppocr WARNING: The pretrained params conv3.expand_conv.bn.bias not in model\n",
            "[2023/12/09 16:24:43] ppocr WARNING: The pretrained params conv3.expand_conv.bn._mean not in model\n",
            "[2023/12/09 16:24:43] ppocr WARNING: The pretrained params conv3.expand_conv.bn._variance not in model\n",
            "[2023/12/09 16:24:43] ppocr WARNING: The pretrained params conv3.bottleneck_conv.conv.weight not in model\n",
            "[2023/12/09 16:24:43] ppocr WARNING: The pretrained params conv3.bottleneck_conv.bn.weight not in model\n",
            "[2023/12/09 16:24:43] ppocr WARNING: The pretrained params conv3.bottleneck_conv.bn.bias not in model\n",
            "[2023/12/09 16:24:43] ppocr WARNING: The pretrained params conv3.bottleneck_conv.bn._mean not in model\n",
            "[2023/12/09 16:24:43] ppocr WARNING: The pretrained params conv3.bottleneck_conv.bn._variance not in model\n",
            "[2023/12/09 16:24:43] ppocr WARNING: The pretrained params conv3.linear_conv.conv.weight not in model\n",
            "[2023/12/09 16:24:43] ppocr WARNING: The pretrained params conv3.linear_conv.bn.weight not in model\n",
            "[2023/12/09 16:24:43] ppocr WARNING: The pretrained params conv3.linear_conv.bn.bias not in model\n",
            "[2023/12/09 16:24:43] ppocr WARNING: The pretrained params conv3.linear_conv.bn._mean not in model\n",
            "[2023/12/09 16:24:43] ppocr WARNING: The pretrained params conv3.linear_conv.bn._variance not in model\n",
            "[2023/12/09 16:24:43] ppocr WARNING: The pretrained params conv4.expand_conv.conv.weight not in model\n",
            "[2023/12/09 16:24:43] ppocr WARNING: The pretrained params conv4.expand_conv.bn.weight not in model\n",
            "[2023/12/09 16:24:43] ppocr WARNING: The pretrained params conv4.expand_conv.bn.bias not in model\n",
            "[2023/12/09 16:24:43] ppocr WARNING: The pretrained params conv4.expand_conv.bn._mean not in model\n",
            "[2023/12/09 16:24:43] ppocr WARNING: The pretrained params conv4.expand_conv.bn._variance not in model\n",
            "[2023/12/09 16:24:43] ppocr WARNING: The pretrained params conv4.bottleneck_conv.conv.weight not in model\n",
            "[2023/12/09 16:24:43] ppocr WARNING: The pretrained params conv4.bottleneck_conv.bn.weight not in model\n",
            "[2023/12/09 16:24:43] ppocr WARNING: The pretrained params conv4.bottleneck_conv.bn.bias not in model\n",
            "[2023/12/09 16:24:43] ppocr WARNING: The pretrained params conv4.bottleneck_conv.bn._mean not in model\n",
            "[2023/12/09 16:24:43] ppocr WARNING: The pretrained params conv4.bottleneck_conv.bn._variance not in model\n",
            "[2023/12/09 16:24:43] ppocr WARNING: The pretrained params conv4.linear_conv.conv.weight not in model\n",
            "[2023/12/09 16:24:43] ppocr WARNING: The pretrained params conv4.linear_conv.bn.weight not in model\n",
            "[2023/12/09 16:24:43] ppocr WARNING: The pretrained params conv4.linear_conv.bn.bias not in model\n",
            "[2023/12/09 16:24:43] ppocr WARNING: The pretrained params conv4.linear_conv.bn._mean not in model\n",
            "[2023/12/09 16:24:43] ppocr WARNING: The pretrained params conv4.linear_conv.bn._variance not in model\n",
            "[2023/12/09 16:24:43] ppocr WARNING: The pretrained params conv5.expand_conv.conv.weight not in model\n",
            "[2023/12/09 16:24:43] ppocr WARNING: The pretrained params conv5.expand_conv.bn.weight not in model\n",
            "[2023/12/09 16:24:43] ppocr WARNING: The pretrained params conv5.expand_conv.bn.bias not in model\n",
            "[2023/12/09 16:24:43] ppocr WARNING: The pretrained params conv5.expand_conv.bn._mean not in model\n",
            "[2023/12/09 16:24:43] ppocr WARNING: The pretrained params conv5.expand_conv.bn._variance not in model\n",
            "[2023/12/09 16:24:43] ppocr WARNING: The pretrained params conv5.bottleneck_conv.conv.weight not in model\n",
            "[2023/12/09 16:24:43] ppocr WARNING: The pretrained params conv5.bottleneck_conv.bn.weight not in model\n",
            "[2023/12/09 16:24:43] ppocr WARNING: The pretrained params conv5.bottleneck_conv.bn.bias not in model\n",
            "[2023/12/09 16:24:43] ppocr WARNING: The pretrained params conv5.bottleneck_conv.bn._mean not in model\n",
            "[2023/12/09 16:24:43] ppocr WARNING: The pretrained params conv5.bottleneck_conv.bn._variance not in model\n",
            "[2023/12/09 16:24:43] ppocr WARNING: The pretrained params conv5.mid_se.conv1.weight not in model\n",
            "[2023/12/09 16:24:43] ppocr WARNING: The pretrained params conv5.mid_se.conv1.bias not in model\n",
            "[2023/12/09 16:24:43] ppocr WARNING: The pretrained params conv5.mid_se.conv2.weight not in model\n",
            "[2023/12/09 16:24:43] ppocr WARNING: The pretrained params conv5.mid_se.conv2.bias not in model\n",
            "[2023/12/09 16:24:43] ppocr WARNING: The pretrained params conv5.linear_conv.conv.weight not in model\n",
            "[2023/12/09 16:24:43] ppocr WARNING: The pretrained params conv5.linear_conv.bn.weight not in model\n",
            "[2023/12/09 16:24:43] ppocr WARNING: The pretrained params conv5.linear_conv.bn.bias not in model\n",
            "[2023/12/09 16:24:43] ppocr WARNING: The pretrained params conv5.linear_conv.bn._mean not in model\n",
            "[2023/12/09 16:24:43] ppocr WARNING: The pretrained params conv5.linear_conv.bn._variance not in model\n",
            "[2023/12/09 16:24:43] ppocr WARNING: The pretrained params conv6.expand_conv.conv.weight not in model\n",
            "[2023/12/09 16:24:43] ppocr WARNING: The pretrained params conv6.expand_conv.bn.weight not in model\n",
            "[2023/12/09 16:24:43] ppocr WARNING: The pretrained params conv6.expand_conv.bn.bias not in model\n",
            "[2023/12/09 16:24:43] ppocr WARNING: The pretrained params conv6.expand_conv.bn._mean not in model\n",
            "[2023/12/09 16:24:43] ppocr WARNING: The pretrained params conv6.expand_conv.bn._variance not in model\n",
            "[2023/12/09 16:24:43] ppocr WARNING: The pretrained params conv6.bottleneck_conv.conv.weight not in model\n",
            "[2023/12/09 16:24:43] ppocr WARNING: The pretrained params conv6.bottleneck_conv.bn.weight not in model\n",
            "[2023/12/09 16:24:43] ppocr WARNING: The pretrained params conv6.bottleneck_conv.bn.bias not in model\n",
            "[2023/12/09 16:24:43] ppocr WARNING: The pretrained params conv6.bottleneck_conv.bn._mean not in model\n",
            "[2023/12/09 16:24:43] ppocr WARNING: The pretrained params conv6.bottleneck_conv.bn._variance not in model\n",
            "[2023/12/09 16:24:43] ppocr WARNING: The pretrained params conv6.mid_se.conv1.weight not in model\n",
            "[2023/12/09 16:24:43] ppocr WARNING: The pretrained params conv6.mid_se.conv1.bias not in model\n",
            "[2023/12/09 16:24:43] ppocr WARNING: The pretrained params conv6.mid_se.conv2.weight not in model\n",
            "[2023/12/09 16:24:43] ppocr WARNING: The pretrained params conv6.mid_se.conv2.bias not in model\n",
            "[2023/12/09 16:24:43] ppocr WARNING: The pretrained params conv6.linear_conv.conv.weight not in model\n",
            "[2023/12/09 16:24:43] ppocr WARNING: The pretrained params conv6.linear_conv.bn.weight not in model\n",
            "[2023/12/09 16:24:43] ppocr WARNING: The pretrained params conv6.linear_conv.bn.bias not in model\n",
            "[2023/12/09 16:24:43] ppocr WARNING: The pretrained params conv6.linear_conv.bn._mean not in model\n",
            "[2023/12/09 16:24:43] ppocr WARNING: The pretrained params conv6.linear_conv.bn._variance not in model\n",
            "[2023/12/09 16:24:43] ppocr WARNING: The pretrained params conv7.expand_conv.conv.weight not in model\n",
            "[2023/12/09 16:24:43] ppocr WARNING: The pretrained params conv7.expand_conv.bn.weight not in model\n",
            "[2023/12/09 16:24:43] ppocr WARNING: The pretrained params conv7.expand_conv.bn.bias not in model\n",
            "[2023/12/09 16:24:43] ppocr WARNING: The pretrained params conv7.expand_conv.bn._mean not in model\n",
            "[2023/12/09 16:24:43] ppocr WARNING: The pretrained params conv7.expand_conv.bn._variance not in model\n",
            "[2023/12/09 16:24:43] ppocr WARNING: The pretrained params conv7.bottleneck_conv.conv.weight not in model\n",
            "[2023/12/09 16:24:43] ppocr WARNING: The pretrained params conv7.bottleneck_conv.bn.weight not in model\n",
            "[2023/12/09 16:24:43] ppocr WARNING: The pretrained params conv7.bottleneck_conv.bn.bias not in model\n",
            "[2023/12/09 16:24:43] ppocr WARNING: The pretrained params conv7.bottleneck_conv.bn._mean not in model\n",
            "[2023/12/09 16:24:43] ppocr WARNING: The pretrained params conv7.bottleneck_conv.bn._variance not in model\n",
            "[2023/12/09 16:24:43] ppocr WARNING: The pretrained params conv7.mid_se.conv1.weight not in model\n",
            "[2023/12/09 16:24:43] ppocr WARNING: The pretrained params conv7.mid_se.conv1.bias not in model\n",
            "[2023/12/09 16:24:43] ppocr WARNING: The pretrained params conv7.mid_se.conv2.weight not in model\n",
            "[2023/12/09 16:24:43] ppocr WARNING: The pretrained params conv7.mid_se.conv2.bias not in model\n",
            "[2023/12/09 16:24:43] ppocr WARNING: The pretrained params conv7.linear_conv.conv.weight not in model\n",
            "[2023/12/09 16:24:43] ppocr WARNING: The pretrained params conv7.linear_conv.bn.weight not in model\n",
            "[2023/12/09 16:24:43] ppocr WARNING: The pretrained params conv7.linear_conv.bn.bias not in model\n",
            "[2023/12/09 16:24:43] ppocr WARNING: The pretrained params conv7.linear_conv.bn._mean not in model\n",
            "[2023/12/09 16:24:43] ppocr WARNING: The pretrained params conv7.linear_conv.bn._variance not in model\n",
            "[2023/12/09 16:24:43] ppocr WARNING: The pretrained params conv8.expand_conv.conv.weight not in model\n",
            "[2023/12/09 16:24:43] ppocr WARNING: The pretrained params conv8.expand_conv.bn.weight not in model\n",
            "[2023/12/09 16:24:43] ppocr WARNING: The pretrained params conv8.expand_conv.bn.bias not in model\n",
            "[2023/12/09 16:24:43] ppocr WARNING: The pretrained params conv8.expand_conv.bn._mean not in model\n",
            "[2023/12/09 16:24:43] ppocr WARNING: The pretrained params conv8.expand_conv.bn._variance not in model\n",
            "[2023/12/09 16:24:43] ppocr WARNING: The pretrained params conv8.bottleneck_conv.conv.weight not in model\n",
            "[2023/12/09 16:24:43] ppocr WARNING: The pretrained params conv8.bottleneck_conv.bn.weight not in model\n",
            "[2023/12/09 16:24:43] ppocr WARNING: The pretrained params conv8.bottleneck_conv.bn.bias not in model\n",
            "[2023/12/09 16:24:43] ppocr WARNING: The pretrained params conv8.bottleneck_conv.bn._mean not in model\n",
            "[2023/12/09 16:24:43] ppocr WARNING: The pretrained params conv8.bottleneck_conv.bn._variance not in model\n",
            "[2023/12/09 16:24:43] ppocr WARNING: The pretrained params conv8.linear_conv.conv.weight not in model\n",
            "[2023/12/09 16:24:43] ppocr WARNING: The pretrained params conv8.linear_conv.bn.weight not in model\n",
            "[2023/12/09 16:24:43] ppocr WARNING: The pretrained params conv8.linear_conv.bn.bias not in model\n",
            "[2023/12/09 16:24:43] ppocr WARNING: The pretrained params conv8.linear_conv.bn._mean not in model\n",
            "[2023/12/09 16:24:43] ppocr WARNING: The pretrained params conv8.linear_conv.bn._variance not in model\n",
            "[2023/12/09 16:24:43] ppocr WARNING: The pretrained params conv9.expand_conv.conv.weight not in model\n",
            "[2023/12/09 16:24:43] ppocr WARNING: The pretrained params conv9.expand_conv.bn.weight not in model\n",
            "[2023/12/09 16:24:43] ppocr WARNING: The pretrained params conv9.expand_conv.bn.bias not in model\n",
            "[2023/12/09 16:24:43] ppocr WARNING: The pretrained params conv9.expand_conv.bn._mean not in model\n",
            "[2023/12/09 16:24:43] ppocr WARNING: The pretrained params conv9.expand_conv.bn._variance not in model\n",
            "[2023/12/09 16:24:43] ppocr WARNING: The pretrained params conv9.bottleneck_conv.conv.weight not in model\n",
            "[2023/12/09 16:24:43] ppocr WARNING: The pretrained params conv9.bottleneck_conv.bn.weight not in model\n",
            "[2023/12/09 16:24:43] ppocr WARNING: The pretrained params conv9.bottleneck_conv.bn.bias not in model\n",
            "[2023/12/09 16:24:43] ppocr WARNING: The pretrained params conv9.bottleneck_conv.bn._mean not in model\n",
            "[2023/12/09 16:24:43] ppocr WARNING: The pretrained params conv9.bottleneck_conv.bn._variance not in model\n",
            "[2023/12/09 16:24:43] ppocr WARNING: The pretrained params conv9.linear_conv.conv.weight not in model\n",
            "[2023/12/09 16:24:43] ppocr WARNING: The pretrained params conv9.linear_conv.bn.weight not in model\n",
            "[2023/12/09 16:24:43] ppocr WARNING: The pretrained params conv9.linear_conv.bn.bias not in model\n",
            "[2023/12/09 16:24:43] ppocr WARNING: The pretrained params conv9.linear_conv.bn._mean not in model\n",
            "[2023/12/09 16:24:43] ppocr WARNING: The pretrained params conv9.linear_conv.bn._variance not in model\n",
            "[2023/12/09 16:24:43] ppocr WARNING: The pretrained params conv10.expand_conv.conv.weight not in model\n",
            "[2023/12/09 16:24:43] ppocr WARNING: The pretrained params conv10.expand_conv.bn.weight not in model\n",
            "[2023/12/09 16:24:43] ppocr WARNING: The pretrained params conv10.expand_conv.bn.bias not in model\n",
            "[2023/12/09 16:24:43] ppocr WARNING: The pretrained params conv10.expand_conv.bn._mean not in model\n",
            "[2023/12/09 16:24:43] ppocr WARNING: The pretrained params conv10.expand_conv.bn._variance not in model\n",
            "[2023/12/09 16:24:43] ppocr WARNING: The pretrained params conv10.bottleneck_conv.conv.weight not in model\n",
            "[2023/12/09 16:24:43] ppocr WARNING: The pretrained params conv10.bottleneck_conv.bn.weight not in model\n",
            "[2023/12/09 16:24:43] ppocr WARNING: The pretrained params conv10.bottleneck_conv.bn.bias not in model\n",
            "[2023/12/09 16:24:43] ppocr WARNING: The pretrained params conv10.bottleneck_conv.bn._mean not in model\n",
            "[2023/12/09 16:24:43] ppocr WARNING: The pretrained params conv10.bottleneck_conv.bn._variance not in model\n",
            "[2023/12/09 16:24:43] ppocr WARNING: The pretrained params conv10.linear_conv.conv.weight not in model\n",
            "[2023/12/09 16:24:43] ppocr WARNING: The pretrained params conv10.linear_conv.bn.weight not in model\n",
            "[2023/12/09 16:24:43] ppocr WARNING: The pretrained params conv10.linear_conv.bn.bias not in model\n",
            "[2023/12/09 16:24:43] ppocr WARNING: The pretrained params conv10.linear_conv.bn._mean not in model\n",
            "[2023/12/09 16:24:43] ppocr WARNING: The pretrained params conv10.linear_conv.bn._variance not in model\n",
            "[2023/12/09 16:24:43] ppocr WARNING: The pretrained params conv11.expand_conv.conv.weight not in model\n",
            "[2023/12/09 16:24:43] ppocr WARNING: The pretrained params conv11.expand_conv.bn.weight not in model\n",
            "[2023/12/09 16:24:43] ppocr WARNING: The pretrained params conv11.expand_conv.bn.bias not in model\n",
            "[2023/12/09 16:24:43] ppocr WARNING: The pretrained params conv11.expand_conv.bn._mean not in model\n",
            "[2023/12/09 16:24:43] ppocr WARNING: The pretrained params conv11.expand_conv.bn._variance not in model\n",
            "[2023/12/09 16:24:43] ppocr WARNING: The pretrained params conv11.bottleneck_conv.conv.weight not in model\n",
            "[2023/12/09 16:24:43] ppocr WARNING: The pretrained params conv11.bottleneck_conv.bn.weight not in model\n",
            "[2023/12/09 16:24:43] ppocr WARNING: The pretrained params conv11.bottleneck_conv.bn.bias not in model\n",
            "[2023/12/09 16:24:43] ppocr WARNING: The pretrained params conv11.bottleneck_conv.bn._mean not in model\n",
            "[2023/12/09 16:24:43] ppocr WARNING: The pretrained params conv11.bottleneck_conv.bn._variance not in model\n",
            "[2023/12/09 16:24:43] ppocr WARNING: The pretrained params conv11.linear_conv.conv.weight not in model\n",
            "[2023/12/09 16:24:43] ppocr WARNING: The pretrained params conv11.linear_conv.bn.weight not in model\n",
            "[2023/12/09 16:24:43] ppocr WARNING: The pretrained params conv11.linear_conv.bn.bias not in model\n",
            "[2023/12/09 16:24:43] ppocr WARNING: The pretrained params conv11.linear_conv.bn._mean not in model\n",
            "[2023/12/09 16:24:43] ppocr WARNING: The pretrained params conv11.linear_conv.bn._variance not in model\n",
            "[2023/12/09 16:24:43] ppocr WARNING: The pretrained params conv12.expand_conv.conv.weight not in model\n",
            "[2023/12/09 16:24:43] ppocr WARNING: The pretrained params conv12.expand_conv.bn.weight not in model\n",
            "[2023/12/09 16:24:43] ppocr WARNING: The pretrained params conv12.expand_conv.bn.bias not in model\n",
            "[2023/12/09 16:24:43] ppocr WARNING: The pretrained params conv12.expand_conv.bn._mean not in model\n",
            "[2023/12/09 16:24:43] ppocr WARNING: The pretrained params conv12.expand_conv.bn._variance not in model\n",
            "[2023/12/09 16:24:43] ppocr WARNING: The pretrained params conv12.bottleneck_conv.conv.weight not in model\n",
            "[2023/12/09 16:24:43] ppocr WARNING: The pretrained params conv12.bottleneck_conv.bn.weight not in model\n",
            "[2023/12/09 16:24:43] ppocr WARNING: The pretrained params conv12.bottleneck_conv.bn.bias not in model\n",
            "[2023/12/09 16:24:43] ppocr WARNING: The pretrained params conv12.bottleneck_conv.bn._mean not in model\n",
            "[2023/12/09 16:24:43] ppocr WARNING: The pretrained params conv12.bottleneck_conv.bn._variance not in model\n",
            "[2023/12/09 16:24:43] ppocr WARNING: The pretrained params conv12.mid_se.conv1.weight not in model\n",
            "[2023/12/09 16:24:43] ppocr WARNING: The pretrained params conv12.mid_se.conv1.bias not in model\n",
            "[2023/12/09 16:24:43] ppocr WARNING: The pretrained params conv12.mid_se.conv2.weight not in model\n",
            "[2023/12/09 16:24:43] ppocr WARNING: The pretrained params conv12.mid_se.conv2.bias not in model\n",
            "[2023/12/09 16:24:43] ppocr WARNING: The pretrained params conv12.linear_conv.conv.weight not in model\n",
            "[2023/12/09 16:24:43] ppocr WARNING: The pretrained params conv12.linear_conv.bn.weight not in model\n",
            "[2023/12/09 16:24:43] ppocr WARNING: The pretrained params conv12.linear_conv.bn.bias not in model\n",
            "[2023/12/09 16:24:43] ppocr WARNING: The pretrained params conv12.linear_conv.bn._mean not in model\n",
            "[2023/12/09 16:24:43] ppocr WARNING: The pretrained params conv12.linear_conv.bn._variance not in model\n",
            "[2023/12/09 16:24:43] ppocr WARNING: The pretrained params conv13.expand_conv.conv.weight not in model\n",
            "[2023/12/09 16:24:43] ppocr WARNING: The pretrained params conv13.expand_conv.bn.weight not in model\n",
            "[2023/12/09 16:24:43] ppocr WARNING: The pretrained params conv13.expand_conv.bn.bias not in model\n",
            "[2023/12/09 16:24:43] ppocr WARNING: The pretrained params conv13.expand_conv.bn._mean not in model\n",
            "[2023/12/09 16:24:43] ppocr WARNING: The pretrained params conv13.expand_conv.bn._variance not in model\n",
            "[2023/12/09 16:24:43] ppocr WARNING: The pretrained params conv13.bottleneck_conv.conv.weight not in model\n",
            "[2023/12/09 16:24:43] ppocr WARNING: The pretrained params conv13.bottleneck_conv.bn.weight not in model\n",
            "[2023/12/09 16:24:43] ppocr WARNING: The pretrained params conv13.bottleneck_conv.bn.bias not in model\n",
            "[2023/12/09 16:24:43] ppocr WARNING: The pretrained params conv13.bottleneck_conv.bn._mean not in model\n",
            "[2023/12/09 16:24:43] ppocr WARNING: The pretrained params conv13.bottleneck_conv.bn._variance not in model\n",
            "[2023/12/09 16:24:43] ppocr WARNING: The pretrained params conv13.mid_se.conv1.weight not in model\n",
            "[2023/12/09 16:24:43] ppocr WARNING: The pretrained params conv13.mid_se.conv1.bias not in model\n",
            "[2023/12/09 16:24:43] ppocr WARNING: The pretrained params conv13.mid_se.conv2.weight not in model\n",
            "[2023/12/09 16:24:43] ppocr WARNING: The pretrained params conv13.mid_se.conv2.bias not in model\n",
            "[2023/12/09 16:24:43] ppocr WARNING: The pretrained params conv13.linear_conv.conv.weight not in model\n",
            "[2023/12/09 16:24:43] ppocr WARNING: The pretrained params conv13.linear_conv.bn.weight not in model\n",
            "[2023/12/09 16:24:43] ppocr WARNING: The pretrained params conv13.linear_conv.bn.bias not in model\n",
            "[2023/12/09 16:24:43] ppocr WARNING: The pretrained params conv13.linear_conv.bn._mean not in model\n",
            "[2023/12/09 16:24:43] ppocr WARNING: The pretrained params conv13.linear_conv.bn._variance not in model\n",
            "[2023/12/09 16:24:43] ppocr WARNING: The pretrained params conv14.expand_conv.conv.weight not in model\n",
            "[2023/12/09 16:24:43] ppocr WARNING: The pretrained params conv14.expand_conv.bn.weight not in model\n",
            "[2023/12/09 16:24:43] ppocr WARNING: The pretrained params conv14.expand_conv.bn.bias not in model\n",
            "[2023/12/09 16:24:43] ppocr WARNING: The pretrained params conv14.expand_conv.bn._mean not in model\n",
            "[2023/12/09 16:24:43] ppocr WARNING: The pretrained params conv14.expand_conv.bn._variance not in model\n",
            "[2023/12/09 16:24:43] ppocr WARNING: The pretrained params conv14.bottleneck_conv.conv.weight not in model\n",
            "[2023/12/09 16:24:43] ppocr WARNING: The pretrained params conv14.bottleneck_conv.bn.weight not in model\n",
            "[2023/12/09 16:24:43] ppocr WARNING: The pretrained params conv14.bottleneck_conv.bn.bias not in model\n",
            "[2023/12/09 16:24:43] ppocr WARNING: The pretrained params conv14.bottleneck_conv.bn._mean not in model\n",
            "[2023/12/09 16:24:43] ppocr WARNING: The pretrained params conv14.bottleneck_conv.bn._variance not in model\n",
            "[2023/12/09 16:24:43] ppocr WARNING: The pretrained params conv14.mid_se.conv1.weight not in model\n",
            "[2023/12/09 16:24:43] ppocr WARNING: The pretrained params conv14.mid_se.conv1.bias not in model\n",
            "[2023/12/09 16:24:43] ppocr WARNING: The pretrained params conv14.mid_se.conv2.weight not in model\n",
            "[2023/12/09 16:24:43] ppocr WARNING: The pretrained params conv14.mid_se.conv2.bias not in model\n",
            "[2023/12/09 16:24:43] ppocr WARNING: The pretrained params conv14.linear_conv.conv.weight not in model\n",
            "[2023/12/09 16:24:43] ppocr WARNING: The pretrained params conv14.linear_conv.bn.weight not in model\n",
            "[2023/12/09 16:24:43] ppocr WARNING: The pretrained params conv14.linear_conv.bn.bias not in model\n",
            "[2023/12/09 16:24:43] ppocr WARNING: The pretrained params conv14.linear_conv.bn._mean not in model\n",
            "[2023/12/09 16:24:43] ppocr WARNING: The pretrained params conv14.linear_conv.bn._variance not in model\n",
            "[2023/12/09 16:24:43] ppocr WARNING: The pretrained params conv15.expand_conv.conv.weight not in model\n",
            "[2023/12/09 16:24:43] ppocr WARNING: The pretrained params conv15.expand_conv.bn.weight not in model\n",
            "[2023/12/09 16:24:43] ppocr WARNING: The pretrained params conv15.expand_conv.bn.bias not in model\n",
            "[2023/12/09 16:24:43] ppocr WARNING: The pretrained params conv15.expand_conv.bn._mean not in model\n",
            "[2023/12/09 16:24:43] ppocr WARNING: The pretrained params conv15.expand_conv.bn._variance not in model\n",
            "[2023/12/09 16:24:43] ppocr WARNING: The pretrained params conv15.bottleneck_conv.conv.weight not in model\n",
            "[2023/12/09 16:24:43] ppocr WARNING: The pretrained params conv15.bottleneck_conv.bn.weight not in model\n",
            "[2023/12/09 16:24:43] ppocr WARNING: The pretrained params conv15.bottleneck_conv.bn.bias not in model\n",
            "[2023/12/09 16:24:43] ppocr WARNING: The pretrained params conv15.bottleneck_conv.bn._mean not in model\n",
            "[2023/12/09 16:24:43] ppocr WARNING: The pretrained params conv15.bottleneck_conv.bn._variance not in model\n",
            "[2023/12/09 16:24:43] ppocr WARNING: The pretrained params conv15.mid_se.conv1.weight not in model\n",
            "[2023/12/09 16:24:43] ppocr WARNING: The pretrained params conv15.mid_se.conv1.bias not in model\n",
            "[2023/12/09 16:24:43] ppocr WARNING: The pretrained params conv15.mid_se.conv2.weight not in model\n",
            "[2023/12/09 16:24:43] ppocr WARNING: The pretrained params conv15.mid_se.conv2.bias not in model\n",
            "[2023/12/09 16:24:43] ppocr WARNING: The pretrained params conv15.linear_conv.conv.weight not in model\n",
            "[2023/12/09 16:24:43] ppocr WARNING: The pretrained params conv15.linear_conv.bn.weight not in model\n",
            "[2023/12/09 16:24:43] ppocr WARNING: The pretrained params conv15.linear_conv.bn.bias not in model\n",
            "[2023/12/09 16:24:43] ppocr WARNING: The pretrained params conv15.linear_conv.bn._mean not in model\n",
            "[2023/12/09 16:24:43] ppocr WARNING: The pretrained params conv15.linear_conv.bn._variance not in model\n",
            "[2023/12/09 16:24:43] ppocr WARNING: The pretrained params conv16.expand_conv.conv.weight not in model\n",
            "[2023/12/09 16:24:43] ppocr WARNING: The pretrained params conv16.expand_conv.bn.weight not in model\n",
            "[2023/12/09 16:24:43] ppocr WARNING: The pretrained params conv16.expand_conv.bn.bias not in model\n",
            "[2023/12/09 16:24:43] ppocr WARNING: The pretrained params conv16.expand_conv.bn._mean not in model\n",
            "[2023/12/09 16:24:43] ppocr WARNING: The pretrained params conv16.expand_conv.bn._variance not in model\n",
            "[2023/12/09 16:24:43] ppocr WARNING: The pretrained params conv16.bottleneck_conv.conv.weight not in model\n",
            "[2023/12/09 16:24:43] ppocr WARNING: The pretrained params conv16.bottleneck_conv.bn.weight not in model\n",
            "[2023/12/09 16:24:43] ppocr WARNING: The pretrained params conv16.bottleneck_conv.bn.bias not in model\n",
            "[2023/12/09 16:24:43] ppocr WARNING: The pretrained params conv16.bottleneck_conv.bn._mean not in model\n",
            "[2023/12/09 16:24:43] ppocr WARNING: The pretrained params conv16.bottleneck_conv.bn._variance not in model\n",
            "[2023/12/09 16:24:43] ppocr WARNING: The pretrained params conv16.mid_se.conv1.weight not in model\n",
            "[2023/12/09 16:24:43] ppocr WARNING: The pretrained params conv16.mid_se.conv1.bias not in model\n",
            "[2023/12/09 16:24:43] ppocr WARNING: The pretrained params conv16.mid_se.conv2.weight not in model\n",
            "[2023/12/09 16:24:43] ppocr WARNING: The pretrained params conv16.mid_se.conv2.bias not in model\n",
            "[2023/12/09 16:24:43] ppocr WARNING: The pretrained params conv16.linear_conv.conv.weight not in model\n",
            "[2023/12/09 16:24:43] ppocr WARNING: The pretrained params conv16.linear_conv.bn.weight not in model\n",
            "[2023/12/09 16:24:43] ppocr WARNING: The pretrained params conv16.linear_conv.bn.bias not in model\n",
            "[2023/12/09 16:24:43] ppocr WARNING: The pretrained params conv16.linear_conv.bn._mean not in model\n",
            "[2023/12/09 16:24:43] ppocr WARNING: The pretrained params conv16.linear_conv.bn._variance not in model\n",
            "[2023/12/09 16:24:43] ppocr WARNING: The pretrained params last_second_conv.conv.weight not in model\n",
            "[2023/12/09 16:24:43] ppocr WARNING: The pretrained params last_second_conv.bn.weight not in model\n",
            "[2023/12/09 16:24:43] ppocr WARNING: The pretrained params last_second_conv.bn.bias not in model\n",
            "[2023/12/09 16:24:43] ppocr WARNING: The pretrained params last_second_conv.bn._mean not in model\n",
            "[2023/12/09 16:24:43] ppocr WARNING: The pretrained params last_second_conv.bn._variance not in model\n",
            "[2023/12/09 16:24:43] ppocr WARNING: The pretrained params last_conv.weight not in model\n",
            "[2023/12/09 16:24:43] ppocr WARNING: The pretrained params out.weight not in model\n",
            "[2023/12/09 16:24:43] ppocr WARNING: The pretrained params out.bias not in model\n",
            "[2023/12/09 16:24:43] ppocr INFO: load pretrain successful from ./pretrain_models/MobileNetV3_large_x0_5_pretrained\n",
            "[2023/12/09 16:24:43] ppocr INFO: During the training process, after the 0th iteration, an evaluation is run every 50 iterations\n",
            "[2023/12/09 16:25:21] ppocr INFO: epoch: [1/2], global_step: 10, lr: 0.001000, loss: 7.661617, loss_shrink_maps: 4.895496, loss_threshold_maps: 1.786670, loss_binary_maps: 0.976616, loss_cbn: 0.000000, avg_reader_cost: 1.23788 s, avg_batch_cost: 3.64130 s, avg_samples: 16.0, ips: 4.39404 samples/s, eta: 0:07:02\n",
            "[2023/12/09 16:25:33] ppocr INFO: epoch: [1/2], global_step: 20, lr: 0.001000, loss: 7.174425, loss_shrink_maps: 4.864483, loss_threshold_maps: 1.402812, loss_binary_maps: 0.968420, loss_cbn: 0.000000, avg_reader_cost: 0.00634 s, avg_batch_cost: 1.16209 s, avg_samples: 16.0, ips: 13.76832 samples/s, eta: 0:04:14\n",
            "[2023/12/09 16:25:48] ppocr INFO: epoch: [1/2], global_step: 30, lr: 0.001000, loss: 6.975032, loss_shrink_maps: 4.819258, loss_threshold_maps: 1.184176, loss_binary_maps: 0.955051, loss_cbn: 0.000000, avg_reader_cost: 0.00948 s, avg_batch_cost: 1.35971 s, avg_samples: 16.0, ips: 11.76723 samples/s, eta: 0:03:17\n",
            "[2023/12/09 16:26:02] ppocr INFO: epoch: [1/2], global_step: 40, lr: 0.001000, loss: 6.878294, loss_shrink_maps: 4.779185, loss_threshold_maps: 1.152211, loss_binary_maps: 0.946456, loss_cbn: 0.000000, avg_reader_cost: 0.00507 s, avg_batch_cost: 1.29364 s, avg_samples: 16.0, ips: 12.36825 samples/s, eta: 0:02:40\n",
            "[2023/12/09 16:26:15] ppocr INFO: epoch: [1/2], global_step: 50, lr: 0.001000, loss: 6.732751, loss_shrink_maps: 4.676280, loss_threshold_maps: 1.146678, loss_binary_maps: 0.916993, loss_cbn: 0.000000, avg_reader_cost: 0.00470 s, avg_batch_cost: 1.29609 s, avg_samples: 16.0, ips: 12.34482 samples/s, eta: 0:02:13\n",
            "eval model:: 100% 500/500 [00:56<00:00,  8.87it/s]\n",
            "[2023/12/09 16:27:12] ppocr INFO: cur metric, precision: 0.0, recall: 0.0, hmean: 0, fps: 18.83991883161801\n",
            "[2023/12/09 16:27:12] ppocr INFO: save best model is to ./output/db_mv3/best_accuracy\n",
            "[2023/12/09 16:27:12] ppocr INFO: best metric, hmean: 0, is_float16: False, precision: 0.0, recall: 0.0, fps: 18.83991883161801, best_epoch: 1\n",
            "[2023/12/09 16:27:20] ppocr INFO: epoch: [1/2], global_step: 60, lr: 0.001000, loss: 6.517850, loss_shrink_maps: 4.528136, loss_threshold_maps: 1.137132, loss_binary_maps: 0.874750, loss_cbn: 0.000000, avg_reader_cost: 0.00063 s, avg_batch_cost: 0.64553 s, avg_samples: 16.0, ips: 24.78602 samples/s, eta: 0:01:43\n",
            "[2023/12/09 16:27:22] ppocr INFO: epoch: [1/2], global_step: 63, lr: 0.001000, loss: 6.497489, loss_shrink_maps: 4.498230, loss_threshold_maps: 1.137132, loss_binary_maps: 0.868730, loss_cbn: 0.000000, avg_reader_cost: 0.00036 s, avg_batch_cost: 0.15152 s, avg_samples: 4.0, ips: 26.39890 samples/s, eta: 0:01:35\n",
            "[2023/12/09 16:27:22] ppocr INFO: save model in ./output/db_mv3/latest\n",
            "[2023/12/09 16:27:45] ppocr INFO: epoch: [2/2], global_step: 70, lr: 0.001000, loss: 6.266986, loss_shrink_maps: 4.287215, loss_threshold_maps: 1.127679, loss_binary_maps: 0.834893, loss_cbn: 0.000000, avg_reader_cost: 1.45978 s, avg_batch_cost: 2.25377 s, avg_samples: 11.2, ips: 4.96945 samples/s, eta: 0:01:34\n",
            "[2023/12/09 16:27:59] ppocr INFO: epoch: [2/2], global_step: 80, lr: 0.001000, loss: 6.085300, loss_shrink_maps: 4.175301, loss_threshold_maps: 1.119215, loss_binary_maps: 0.789589, loss_cbn: 0.000000, avg_reader_cost: 0.24634 s, avg_batch_cost: 1.29788 s, avg_samples: 16.0, ips: 12.32782 samples/s, eta: 0:01:15\n",
            "[2023/12/09 16:28:16] ppocr INFO: epoch: [2/2], global_step: 90, lr: 0.001000, loss: 5.864005, loss_shrink_maps: 4.006814, loss_threshold_maps: 1.089362, loss_binary_maps: 0.758322, loss_cbn: 0.000000, avg_reader_cost: 0.42807 s, avg_batch_cost: 1.58234 s, avg_samples: 16.0, ips: 10.11162 samples/s, eta: 0:00:58\n",
            "[2023/12/09 16:28:33] ppocr INFO: epoch: [2/2], global_step: 100, lr: 0.001000, loss: 5.322644, loss_shrink_maps: 3.600994, loss_threshold_maps: 1.081738, loss_binary_maps: 0.670738, loss_cbn: 0.000000, avg_reader_cost: 0.18979 s, avg_batch_cost: 1.58802 s, avg_samples: 16.0, ips: 10.07545 samples/s, eta: 0:00:42\n",
            "eval model:: 100% 500/500 [00:58<00:00,  8.52it/s]\n",
            "[2023/12/09 16:29:32] ppocr INFO: cur metric, precision: 0.09172661870503597, recall: 0.02455464612421762, hmean: 0.03873908089631599, fps: 15.043906767335557\n",
            "[2023/12/09 16:29:32] ppocr INFO: save best model is to ./output/db_mv3/best_accuracy\n",
            "[2023/12/09 16:29:32] ppocr INFO: best metric, hmean: 0.03873908089631599, is_float16: False, precision: 0.09172661870503597, recall: 0.02455464612421762, fps: 15.043906767335557, best_epoch: 2\n",
            "[2023/12/09 16:29:43] ppocr INFO: epoch: [2/2], global_step: 110, lr: 0.001000, loss: 5.322644, loss_shrink_maps: 3.600994, loss_threshold_maps: 1.075431, loss_binary_maps: 0.678869, loss_cbn: 0.000000, avg_reader_cost: 0.00771 s, avg_batch_cost: 0.99386 s, avg_samples: 16.0, ips: 16.09888 samples/s, eta: 0:00:25\n",
            "[2023/12/09 16:29:52] ppocr INFO: epoch: [2/2], global_step: 120, lr: 0.001000, loss: 5.589704, loss_shrink_maps: 3.776936, loss_threshold_maps: 1.078151, loss_binary_maps: 0.719703, loss_cbn: 0.000000, avg_reader_cost: 0.00183 s, avg_batch_cost: 0.81529 s, avg_samples: 16.0, ips: 19.62486 samples/s, eta: 0:00:09\n",
            "[2023/12/09 16:29:57] ppocr INFO: epoch: [2/2], global_step: 126, lr: 0.001000, loss: 5.454142, loss_shrink_maps: 3.635671, loss_threshold_maps: 1.072439, loss_binary_maps: 0.708234, loss_cbn: 0.000000, avg_reader_cost: 0.00012 s, avg_batch_cost: 0.35573 s, avg_samples: 8.8, ips: 24.73784 samples/s, eta: 0:00:00\n",
            "[2023/12/09 16:29:58] ppocr INFO: save model in ./output/db_mv3/latest\n",
            "[2023/12/09 16:29:58] ppocr INFO: best metric, hmean: 0.03873908089631599, is_float16: False, precision: 0.09172661870503597, recall: 0.02455464612421762, fps: 15.043906767335557, best_epoch: 2\n",
            "\u001b[34m\u001b[1mwandb\u001b[0m:                                                                                \n",
            "\u001b[34m\u001b[1mwandb\u001b[0m: \n",
            "\u001b[34m\u001b[1mwandb\u001b[0m: Run history:\n",
            "\u001b[34m\u001b[1mwandb\u001b[0m:           eval/best_hmean ▁█\n",
            "\u001b[34m\u001b[1mwandb\u001b[0m:                  eval/fps █▁\n",
            "\u001b[34m\u001b[1mwandb\u001b[0m:                eval/hmean ▁█\n",
            "\u001b[34m\u001b[1mwandb\u001b[0m:            eval/precision ▁█\n",
            "\u001b[34m\u001b[1mwandb\u001b[0m:               eval/recall ▁█\n",
            "\u001b[34m\u001b[1mwandb\u001b[0m:                train/loss █▇▆▅▅▅▄▄▄▄▄▄▄▄▄▃▃▃▃▃▃▃▃▃▃▂▂▂▂▂▂▁▁▁▁▁▁▁▁▁\n",
            "\u001b[34m\u001b[1mwandb\u001b[0m:    train/loss_binary_maps ████████▇▇▇▇▇▇▇▇▆▆▆▆▅▅▅▅▅▃▃▃▃▃▂▁▁▁▁▁▁▂▂▂\n",
            "\u001b[34m\u001b[1mwandb\u001b[0m:            train/loss_cbn ▁▁▁▁▁▁▁▁▁▁▁▁▁▁▁▁▁▁▁▁▁▁▁▁▁▁▁▁▁▁▁▁▁▁▁▁▁▁▁▁\n",
            "\u001b[34m\u001b[1mwandb\u001b[0m:    train/loss_shrink_maps ██████████▇▇▇▇▇▇▇▆▆▆▆▅▅▅▅▄▄▃▃▃▂▁▁▁▁▁▁▂▁▁\n",
            "\u001b[34m\u001b[1mwandb\u001b[0m: train/loss_threshold_maps █▇▅▃▃▂▂▂▁▁▁▁▁▁▁▁▁▁▁▁▁▁▁▁▁▁▁▁▁▁▁▁▁▁▁▁▁▁▁▁\n",
            "\u001b[34m\u001b[1mwandb\u001b[0m:                  train/lr ▁▁▁▁▁▁▁▁▁▁▁▁▁▁▁▁▁▁▁▁▁▁▁▁▁▁▁▁▁▁▁▁▁▁▁▁▁▁▁▁\n",
            "\u001b[34m\u001b[1mwandb\u001b[0m: \n",
            "\u001b[34m\u001b[1mwandb\u001b[0m: Run summary:\n",
            "\u001b[34m\u001b[1mwandb\u001b[0m:           eval/best_hmean 0.03874\n",
            "\u001b[34m\u001b[1mwandb\u001b[0m:                  eval/fps 15.04391\n",
            "\u001b[34m\u001b[1mwandb\u001b[0m:                eval/hmean 0.03874\n",
            "\u001b[34m\u001b[1mwandb\u001b[0m:            eval/precision 0.09173\n",
            "\u001b[34m\u001b[1mwandb\u001b[0m:               eval/recall 0.02455\n",
            "\u001b[34m\u001b[1mwandb\u001b[0m:                train/loss 5.45414\n",
            "\u001b[34m\u001b[1mwandb\u001b[0m:    train/loss_binary_maps 0.70823\n",
            "\u001b[34m\u001b[1mwandb\u001b[0m:            train/loss_cbn 0.0\n",
            "\u001b[34m\u001b[1mwandb\u001b[0m:    train/loss_shrink_maps 3.63567\n",
            "\u001b[34m\u001b[1mwandb\u001b[0m: train/loss_threshold_maps 1.07244\n",
            "\u001b[34m\u001b[1mwandb\u001b[0m:                  train/lr 0.001\n",
            "\u001b[34m\u001b[1mwandb\u001b[0m: \n",
            "\u001b[34m\u001b[1mwandb\u001b[0m: 🚀 View run \u001b[33mMyOCRModel\u001b[0m at: \u001b[34m\u001b[4mhttps://wandb.ai/fast-k203053/CoolOCR/runs/gav9ely8\u001b[0m\n",
            "\u001b[34m\u001b[1mwandb\u001b[0m: ️⚡ View job at \u001b[34m\u001b[4mhttps://wandb.ai/fast-k203053/CoolOCR/jobs/QXJ0aWZhY3RDb2xsZWN0aW9uOjEyMjIxMDkzOA==/version_details/v0\u001b[0m\n",
            "\u001b[34m\u001b[1mwandb\u001b[0m: Synced 5 W&B file(s), 0 media file(s), 6 artifact file(s) and 0 other file(s)\n",
            "\u001b[34m\u001b[1mwandb\u001b[0m: Find logs at: \u001b[35m\u001b[1m./output/db_mv3/wandb/run-20231209_162439-gav9ely8/logs\u001b[0m\n"
          ]
        }
      ],
      "source": [
        "# Fine-tune the Mobile Net V3 model\n",
        "!python3 /content/PaddleOCR/tools/train.py -c configs/det/det_mv3_db.yml \\\n",
        "     -o Global.pretrained_model=./pretrain_models/MobileNetV3_large_x0_5_pretrained"
      ]
    },
    {
      "cell_type": "markdown",
      "metadata": {},
      "source": [
        "## 7. Download The Best Model From `Wandb`"
      ]
    },
    {
      "cell_type": "code",
      "execution_count": null,
      "metadata": {
        "colab": {
          "base_uri": "https://localhost:8080/",
          "height": 34
        },
        "id": "Yk_m592MbJCT",
        "outputId": "3a32a853-526f-4386-8e58-74e4a6bb78b3"
      },
      "outputs": [
        {
          "name": "stderr",
          "output_type": "stream",
          "text": [
            "\u001b[34m\u001b[1mwandb\u001b[0m:   1 of 1 files downloaded.  \n"
          ]
        }
      ],
      "source": [
        "import wandb\n",
        "artifact = wandb.Api().artifact('fast-k203053/CoolOCR/model-gav9ely8:best', type='model')\n",
        "artifact_dir = artifact.download()"
      ]
    },
    {
      "cell_type": "code",
      "execution_count": null,
      "metadata": {
        "colab": {
          "base_uri": "https://localhost:8080/",
          "height": 35
        },
        "id": "HGeUzh5sdgHy",
        "outputId": "8bea00a7-7167-4a5e-a20c-5d11564c5e05"
      },
      "outputs": [
        {
          "data": {
            "application/vnd.google.colaboratory.intrinsic+json": {
              "type": "string"
            },
            "text/plain": [
              "'/content/PaddleOCR/artifacts/model-gav9ely8:v2'"
            ]
          },
          "execution_count": 21,
          "metadata": {},
          "output_type": "execute_result"
        }
      ],
      "source": [
        "artifact_dir"
      ]
    },
    {
      "cell_type": "code",
      "execution_count": null,
      "metadata": {
        "colab": {
          "base_uri": "https://localhost:8080/"
        },
        "id": "OlxKyAV9dvwP",
        "outputId": "0a3956c9-dd30-4791-b92a-80412c6ed10e"
      },
      "outputs": [
        {
          "name": "stdout",
          "output_type": "stream",
          "text": [
            "\u001b[34m\u001b[1mwandb\u001b[0m: Currently logged in as: \u001b[33mk200353-fast\u001b[0m (\u001b[33mfast-k203053\u001b[0m). Use \u001b[1m`wandb login --relogin`\u001b[0m to force relogin\n",
            "\u001b[34m\u001b[1mwandb\u001b[0m: Tracking run with wandb version 0.16.1\n",
            "\u001b[34m\u001b[1mwandb\u001b[0m: Run data is saved locally in \u001b[35m\u001b[1m./output/db_mv3/wandb/run-20231209_164706-y7yb8lr9\u001b[0m\n",
            "\u001b[34m\u001b[1mwandb\u001b[0m: Run \u001b[1m`wandb offline`\u001b[0m to turn off syncing.\n",
            "\u001b[34m\u001b[1mwandb\u001b[0m: Syncing run \u001b[33mMyOCRModel\u001b[0m\n",
            "\u001b[34m\u001b[1mwandb\u001b[0m: ⭐️ View project at \u001b[34m\u001b[4mhttps://wandb.ai/fast-k203053/CoolOCR\u001b[0m\n",
            "\u001b[34m\u001b[1mwandb\u001b[0m: 🚀 View run at \u001b[34m\u001b[4mhttps://wandb.ai/fast-k203053/CoolOCR/runs/y7yb8lr9\u001b[0m\n",
            "[2023/12/09 16:47:07] ppocr INFO: Architecture : \n",
            "[2023/12/09 16:47:07] ppocr INFO:     Backbone : \n",
            "[2023/12/09 16:47:07] ppocr INFO:         model_name : large\n",
            "[2023/12/09 16:47:07] ppocr INFO:         name : MobileNetV3\n",
            "[2023/12/09 16:47:07] ppocr INFO:         scale : 0.5\n",
            "[2023/12/09 16:47:07] ppocr INFO:     Head : \n",
            "[2023/12/09 16:47:07] ppocr INFO:         k : 50\n",
            "[2023/12/09 16:47:07] ppocr INFO:         name : DBHead\n",
            "[2023/12/09 16:47:07] ppocr INFO:     Neck : \n",
            "[2023/12/09 16:47:07] ppocr INFO:         name : DBFPN\n",
            "[2023/12/09 16:47:07] ppocr INFO:         out_channels : 256\n",
            "[2023/12/09 16:47:07] ppocr INFO:     Transform : None\n",
            "[2023/12/09 16:47:07] ppocr INFO:     algorithm : DB\n",
            "[2023/12/09 16:47:07] ppocr INFO:     model_type : det\n",
            "[2023/12/09 16:47:07] ppocr INFO: Eval : \n",
            "[2023/12/09 16:47:07] ppocr INFO:     dataset : \n",
            "[2023/12/09 16:47:07] ppocr INFO:         data_dir : ./train_data/icdar2015/text_localization/\n",
            "[2023/12/09 16:47:07] ppocr INFO:         label_file_list : ['./train_data/icdar2015/text_localization/test_icdar2015_label.txt']\n",
            "[2023/12/09 16:47:07] ppocr INFO:         name : SimpleDataSet\n",
            "[2023/12/09 16:47:07] ppocr INFO:         transforms : \n",
            "[2023/12/09 16:47:07] ppocr INFO:             DecodeImage : \n",
            "[2023/12/09 16:47:07] ppocr INFO:                 channel_first : False\n",
            "[2023/12/09 16:47:07] ppocr INFO:                 img_mode : BGR\n",
            "[2023/12/09 16:47:07] ppocr INFO:             DetLabelEncode : None\n",
            "[2023/12/09 16:47:07] ppocr INFO:             DetResizeForTest : \n",
            "[2023/12/09 16:47:07] ppocr INFO:                 image_shape : [736, 1280]\n",
            "[2023/12/09 16:47:07] ppocr INFO:             NormalizeImage : \n",
            "[2023/12/09 16:47:07] ppocr INFO:                 mean : [0.485, 0.456, 0.406]\n",
            "[2023/12/09 16:47:07] ppocr INFO:                 order : hwc\n",
            "[2023/12/09 16:47:07] ppocr INFO:                 scale : 1./255.\n",
            "[2023/12/09 16:47:07] ppocr INFO:                 std : [0.229, 0.224, 0.225]\n",
            "[2023/12/09 16:47:07] ppocr INFO:             ToCHWImage : None\n",
            "[2023/12/09 16:47:07] ppocr INFO:             KeepKeys : \n",
            "[2023/12/09 16:47:07] ppocr INFO:                 keep_keys : ['image', 'shape', 'polys', 'ignore_tags']\n",
            "[2023/12/09 16:47:07] ppocr INFO:     loader : \n",
            "[2023/12/09 16:47:07] ppocr INFO:         batch_size_per_card : 1\n",
            "[2023/12/09 16:47:07] ppocr INFO:         drop_last : False\n",
            "[2023/12/09 16:47:07] ppocr INFO:         num_workers : 8\n",
            "[2023/12/09 16:47:07] ppocr INFO:         shuffle : False\n",
            "[2023/12/09 16:47:07] ppocr INFO:         use_shared_memory : True\n",
            "[2023/12/09 16:47:07] ppocr INFO: Global : \n",
            "[2023/12/09 16:47:07] ppocr INFO:     cal_metric_during_train : False\n",
            "[2023/12/09 16:47:07] ppocr INFO:     checkpoints : ./artifacts/model-gav9ely8:v2/model_ckpt\n",
            "[2023/12/09 16:47:07] ppocr INFO:     distributed : False\n",
            "[2023/12/09 16:47:07] ppocr INFO:     epoch_num : 2\n",
            "[2023/12/09 16:47:07] ppocr INFO:     eval_batch_step : [0, 50]\n",
            "[2023/12/09 16:47:07] ppocr INFO:     infer_img : doc/imgs_en/img_10.jpg\n",
            "[2023/12/09 16:47:07] ppocr INFO:     log_smooth_window : 20\n",
            "[2023/12/09 16:47:07] ppocr INFO:     pretrained_model : ./pretrain_models/MobileNetV3_large_x0_5_pretrained\n",
            "[2023/12/09 16:47:07] ppocr INFO:     print_batch_step : 10\n",
            "[2023/12/09 16:47:07] ppocr INFO:     save_epoch_step : 1200\n",
            "[2023/12/09 16:47:07] ppocr INFO:     save_inference_dir : None\n",
            "[2023/12/09 16:47:07] ppocr INFO:     save_model_dir : ./output/db_mv3/\n",
            "[2023/12/09 16:47:07] ppocr INFO:     save_res_path : ./output/det_db/predicts_db.txt\n",
            "[2023/12/09 16:47:07] ppocr INFO:     use_gpu : True\n",
            "[2023/12/09 16:47:07] ppocr INFO:     use_mlu : False\n",
            "[2023/12/09 16:47:07] ppocr INFO:     use_visualdl : False\n",
            "[2023/12/09 16:47:07] ppocr INFO:     use_wandb : True\n",
            "[2023/12/09 16:47:07] ppocr INFO:     use_xpu : False\n",
            "[2023/12/09 16:47:07] ppocr INFO: Loss : \n",
            "[2023/12/09 16:47:07] ppocr INFO:     alpha : 5\n",
            "[2023/12/09 16:47:07] ppocr INFO:     balance_loss : True\n",
            "[2023/12/09 16:47:07] ppocr INFO:     beta : 10\n",
            "[2023/12/09 16:47:07] ppocr INFO:     main_loss_type : DiceLoss\n",
            "[2023/12/09 16:47:07] ppocr INFO:     name : DBLoss\n",
            "[2023/12/09 16:47:07] ppocr INFO:     ohem_ratio : 3\n",
            "[2023/12/09 16:47:07] ppocr INFO: Metric : \n",
            "[2023/12/09 16:47:07] ppocr INFO:     main_indicator : hmean\n",
            "[2023/12/09 16:47:07] ppocr INFO:     name : DetMetric\n",
            "[2023/12/09 16:47:07] ppocr INFO: Optimizer : \n",
            "[2023/12/09 16:47:07] ppocr INFO:     beta1 : 0.9\n",
            "[2023/12/09 16:47:07] ppocr INFO:     beta2 : 0.999\n",
            "[2023/12/09 16:47:07] ppocr INFO:     lr : \n",
            "[2023/12/09 16:47:07] ppocr INFO:         learning_rate : 0.001\n",
            "[2023/12/09 16:47:07] ppocr INFO:     name : Adam\n",
            "[2023/12/09 16:47:07] ppocr INFO:     regularizer : \n",
            "[2023/12/09 16:47:07] ppocr INFO:         factor : 0\n",
            "[2023/12/09 16:47:07] ppocr INFO:         name : L2\n",
            "[2023/12/09 16:47:07] ppocr INFO: PostProcess : \n",
            "[2023/12/09 16:47:07] ppocr INFO:     box_thresh : 0.6\n",
            "[2023/12/09 16:47:07] ppocr INFO:     max_candidates : 1000\n",
            "[2023/12/09 16:47:07] ppocr INFO:     name : DBPostProcess\n",
            "[2023/12/09 16:47:07] ppocr INFO:     thresh : 0.3\n",
            "[2023/12/09 16:47:07] ppocr INFO:     unclip_ratio : 1.5\n",
            "[2023/12/09 16:47:07] ppocr INFO: Train : \n",
            "[2023/12/09 16:47:07] ppocr INFO:     dataset : \n",
            "[2023/12/09 16:47:07] ppocr INFO:         data_dir : ./train_data/icdar2015/text_localization/\n",
            "[2023/12/09 16:47:07] ppocr INFO:         label_file_list : ['./train_data/icdar2015/text_localization/train_icdar2015_label.txt']\n",
            "[2023/12/09 16:47:07] ppocr INFO:         name : SimpleDataSet\n",
            "[2023/12/09 16:47:07] ppocr INFO:         ratio_list : [1.0]\n",
            "[2023/12/09 16:47:07] ppocr INFO:         transforms : \n",
            "[2023/12/09 16:47:07] ppocr INFO:             DecodeImage : \n",
            "[2023/12/09 16:47:07] ppocr INFO:                 channel_first : False\n",
            "[2023/12/09 16:47:07] ppocr INFO:                 img_mode : BGR\n",
            "[2023/12/09 16:47:07] ppocr INFO:             DetLabelEncode : None\n",
            "[2023/12/09 16:47:07] ppocr INFO:             IaaAugment : \n",
            "[2023/12/09 16:47:07] ppocr INFO:                 augmenter_args : \n",
            "[2023/12/09 16:47:07] ppocr INFO:                     args : \n",
            "[2023/12/09 16:47:07] ppocr INFO:                         p : 0.5\n",
            "[2023/12/09 16:47:07] ppocr INFO:                     type : Fliplr\n",
            "[2023/12/09 16:47:07] ppocr INFO:                     args : \n",
            "[2023/12/09 16:47:07] ppocr INFO:                         rotate : [-10, 10]\n",
            "[2023/12/09 16:47:07] ppocr INFO:                     type : Affine\n",
            "[2023/12/09 16:47:07] ppocr INFO:                     args : \n",
            "[2023/12/09 16:47:07] ppocr INFO:                         size : [0.5, 3]\n",
            "[2023/12/09 16:47:07] ppocr INFO:                     type : Resize\n",
            "[2023/12/09 16:47:07] ppocr INFO:             EastRandomCropData : \n",
            "[2023/12/09 16:47:07] ppocr INFO:                 keep_ratio : True\n",
            "[2023/12/09 16:47:07] ppocr INFO:                 max_tries : 50\n",
            "[2023/12/09 16:47:07] ppocr INFO:                 size : [640, 640]\n",
            "[2023/12/09 16:47:07] ppocr INFO:             MakeBorderMap : \n",
            "[2023/12/09 16:47:07] ppocr INFO:                 shrink_ratio : 0.4\n",
            "[2023/12/09 16:47:07] ppocr INFO:                 thresh_max : 0.7\n",
            "[2023/12/09 16:47:07] ppocr INFO:                 thresh_min : 0.3\n",
            "[2023/12/09 16:47:07] ppocr INFO:             MakeShrinkMap : \n",
            "[2023/12/09 16:47:07] ppocr INFO:                 min_text_size : 8\n",
            "[2023/12/09 16:47:07] ppocr INFO:                 shrink_ratio : 0.4\n",
            "[2023/12/09 16:47:07] ppocr INFO:             NormalizeImage : \n",
            "[2023/12/09 16:47:07] ppocr INFO:                 mean : [0.485, 0.456, 0.406]\n",
            "[2023/12/09 16:47:07] ppocr INFO:                 order : hwc\n",
            "[2023/12/09 16:47:07] ppocr INFO:                 scale : 1./255.\n",
            "[2023/12/09 16:47:07] ppocr INFO:                 std : [0.229, 0.224, 0.225]\n",
            "[2023/12/09 16:47:07] ppocr INFO:             ToCHWImage : None\n",
            "[2023/12/09 16:47:07] ppocr INFO:             KeepKeys : \n",
            "[2023/12/09 16:47:07] ppocr INFO:                 keep_keys : ['image', 'threshold_map', 'threshold_mask', 'shrink_map', 'shrink_mask']\n",
            "[2023/12/09 16:47:07] ppocr INFO:     loader : \n",
            "[2023/12/09 16:47:07] ppocr INFO:         batch_size_per_card : 16\n",
            "[2023/12/09 16:47:07] ppocr INFO:         drop_last : False\n",
            "[2023/12/09 16:47:07] ppocr INFO:         num_workers : 8\n",
            "[2023/12/09 16:47:07] ppocr INFO:         shuffle : True\n",
            "[2023/12/09 16:47:07] ppocr INFO:         use_shared_memory : True\n",
            "[2023/12/09 16:47:07] ppocr INFO: profiler_options : None\n",
            "[2023/12/09 16:47:07] ppocr INFO: wandb : \n",
            "[2023/12/09 16:47:07] ppocr INFO:     name : MyOCRModel\n",
            "[2023/12/09 16:47:07] ppocr INFO:     project : CoolOCR\n",
            "[2023/12/09 16:47:07] ppocr INFO:     save_dir : ./output/db_mv3/\n",
            "[2023/12/09 16:47:07] ppocr INFO: train with paddle 2.5.2 and device Place(gpu:0)\n",
            "[2023/12/09 16:47:07] ppocr INFO: Initialize indexs of datasets:['./train_data/icdar2015/text_localization/test_icdar2015_label.txt']\n",
            "W1209 16:47:07.291710 21215 gpu_resources.cc:119] Please NOTE: device: 0, GPU Compute Capability: 7.5, Driver API Version: 12.0, Runtime API Version: 11.8\n",
            "W1209 16:47:07.305792 21215 gpu_resources.cc:149] device: 0, cuDNN Version: 8.9.\n",
            "[2023/12/09 16:47:14] ppocr INFO: resume from ./artifacts/model-gav9ely8:v2/model_ckpt\n",
            "[2023/12/09 16:47:14] ppocr INFO: metric in ckpt ***************\n",
            "[2023/12/09 16:47:14] ppocr INFO: is_float16:False\n",
            "eval model:: 100% 500/500 [00:49<00:00, 10.16it/s]\n",
            "[2023/12/09 16:48:03] ppocr INFO: metric eval ***************\n",
            "[2023/12/09 16:48:03] ppocr INFO: precision:0.09172661870503597\n",
            "[2023/12/09 16:48:03] ppocr INFO: recall:0.02455464612421762\n",
            "[2023/12/09 16:48:03] ppocr INFO: hmean:0.03873908089631599\n",
            "[2023/12/09 16:48:03] ppocr INFO: fps:14.86864908325718\n"
          ]
        }
      ],
      "source": [
        "!python3 tools/eval.py -c configs/det/det_mv3_db.yml  -o Global.checkpoints=\"./artifacts/model-gav9ely8:v2/model_ckpt\" PostProcess.box_thresh=0.6 PostProcess.unclip_ratio=1.5"
      ]
    },
    {
      "cell_type": "markdown",
      "metadata": {},
      "source": [
        "## 8. Inference Testing"
      ]
    },
    {
      "cell_type": "code",
      "execution_count": null,
      "metadata": {
        "colab": {
          "base_uri": "https://localhost:8080/"
        },
        "id": "v9PlkJU8eufK",
        "outputId": "ee06e06a-306c-45d5-d868-b3fa3791b651"
      },
      "outputs": [
        {
          "name": "stdout",
          "output_type": "stream",
          "text": [
            "\u001b[34m\u001b[1mwandb\u001b[0m: Currently logged in as: \u001b[33mk200353-fast\u001b[0m (\u001b[33mfast-k203053\u001b[0m). Use \u001b[1m`wandb login --relogin`\u001b[0m to force relogin\n",
            "\u001b[34m\u001b[1mwandb\u001b[0m: Tracking run with wandb version 0.16.1\n",
            "\u001b[34m\u001b[1mwandb\u001b[0m: Run data is saved locally in \u001b[35m\u001b[1m./output/db_mv3/wandb/run-20231209_164846-t59m1by8\u001b[0m\n",
            "\u001b[34m\u001b[1mwandb\u001b[0m: Run \u001b[1m`wandb offline`\u001b[0m to turn off syncing.\n",
            "\u001b[34m\u001b[1mwandb\u001b[0m: Syncing run \u001b[33mMyOCRModel\u001b[0m\n",
            "\u001b[34m\u001b[1mwandb\u001b[0m: ⭐️ View project at \u001b[34m\u001b[4mhttps://wandb.ai/fast-k203053/CoolOCR\u001b[0m\n",
            "\u001b[34m\u001b[1mwandb\u001b[0m: 🚀 View run at \u001b[34m\u001b[4mhttps://wandb.ai/fast-k203053/CoolOCR/runs/t59m1by8\u001b[0m\n",
            "[2023/12/09 16:48:47] ppocr INFO: Architecture : \n",
            "[2023/12/09 16:48:47] ppocr INFO:     Backbone : \n",
            "[2023/12/09 16:48:47] ppocr INFO:         model_name : large\n",
            "[2023/12/09 16:48:47] ppocr INFO:         name : MobileNetV3\n",
            "[2023/12/09 16:48:47] ppocr INFO:         scale : 0.5\n",
            "[2023/12/09 16:48:47] ppocr INFO:     Head : \n",
            "[2023/12/09 16:48:47] ppocr INFO:         k : 50\n",
            "[2023/12/09 16:48:47] ppocr INFO:         name : DBHead\n",
            "[2023/12/09 16:48:47] ppocr INFO:     Neck : \n",
            "[2023/12/09 16:48:47] ppocr INFO:         name : DBFPN\n",
            "[2023/12/09 16:48:47] ppocr INFO:         out_channels : 256\n",
            "[2023/12/09 16:48:47] ppocr INFO:     Transform : None\n",
            "[2023/12/09 16:48:47] ppocr INFO:     algorithm : DB\n",
            "[2023/12/09 16:48:47] ppocr INFO:     model_type : det\n",
            "[2023/12/09 16:48:47] ppocr INFO: Eval : \n",
            "[2023/12/09 16:48:47] ppocr INFO:     dataset : \n",
            "[2023/12/09 16:48:47] ppocr INFO:         data_dir : ./train_data/icdar2015/text_localization/\n",
            "[2023/12/09 16:48:47] ppocr INFO:         label_file_list : ['./train_data/icdar2015/text_localization/test_icdar2015_label.txt']\n",
            "[2023/12/09 16:48:47] ppocr INFO:         name : SimpleDataSet\n",
            "[2023/12/09 16:48:47] ppocr INFO:         transforms : \n",
            "[2023/12/09 16:48:47] ppocr INFO:             DecodeImage : \n",
            "[2023/12/09 16:48:47] ppocr INFO:                 channel_first : False\n",
            "[2023/12/09 16:48:47] ppocr INFO:                 img_mode : BGR\n",
            "[2023/12/09 16:48:47] ppocr INFO:             DetLabelEncode : None\n",
            "[2023/12/09 16:48:47] ppocr INFO:             DetResizeForTest : \n",
            "[2023/12/09 16:48:47] ppocr INFO:                 image_shape : [736, 1280]\n",
            "[2023/12/09 16:48:47] ppocr INFO:             NormalizeImage : \n",
            "[2023/12/09 16:48:47] ppocr INFO:                 mean : [0.485, 0.456, 0.406]\n",
            "[2023/12/09 16:48:47] ppocr INFO:                 order : hwc\n",
            "[2023/12/09 16:48:47] ppocr INFO:                 scale : 1./255.\n",
            "[2023/12/09 16:48:47] ppocr INFO:                 std : [0.229, 0.224, 0.225]\n",
            "[2023/12/09 16:48:47] ppocr INFO:             ToCHWImage : None\n",
            "[2023/12/09 16:48:47] ppocr INFO:             KeepKeys : \n",
            "[2023/12/09 16:48:47] ppocr INFO:                 keep_keys : ['image', 'shape', 'polys', 'ignore_tags']\n",
            "[2023/12/09 16:48:47] ppocr INFO:     loader : \n",
            "[2023/12/09 16:48:47] ppocr INFO:         batch_size_per_card : 1\n",
            "[2023/12/09 16:48:47] ppocr INFO:         drop_last : False\n",
            "[2023/12/09 16:48:47] ppocr INFO:         num_workers : 8\n",
            "[2023/12/09 16:48:47] ppocr INFO:         shuffle : False\n",
            "[2023/12/09 16:48:47] ppocr INFO:         use_shared_memory : True\n",
            "[2023/12/09 16:48:47] ppocr INFO: Global : \n",
            "[2023/12/09 16:48:47] ppocr INFO:     cal_metric_during_train : False\n",
            "[2023/12/09 16:48:47] ppocr INFO:     checkpoints : None\n",
            "[2023/12/09 16:48:47] ppocr INFO:     distributed : False\n",
            "[2023/12/09 16:48:47] ppocr INFO:     epoch_num : 2\n",
            "[2023/12/09 16:48:47] ppocr INFO:     eval_batch_step : [0, 50]\n",
            "[2023/12/09 16:48:47] ppocr INFO:     infer_img : ./doc/imgs_en/\n",
            "[2023/12/09 16:48:47] ppocr INFO:     log_smooth_window : 20\n",
            "[2023/12/09 16:48:47] ppocr INFO:     pretrained_model : ./artifacts/model-gav9ely8:v2/model_ckpt\n",
            "[2023/12/09 16:48:47] ppocr INFO:     print_batch_step : 10\n",
            "[2023/12/09 16:48:47] ppocr INFO:     save_epoch_step : 1200\n",
            "[2023/12/09 16:48:47] ppocr INFO:     save_inference_dir : None\n",
            "[2023/12/09 16:48:47] ppocr INFO:     save_model_dir : ./output/db_mv3/\n",
            "[2023/12/09 16:48:47] ppocr INFO:     save_res_path : ./output/det_db/predicts_db.txt\n",
            "[2023/12/09 16:48:47] ppocr INFO:     use_gpu : True\n",
            "[2023/12/09 16:48:47] ppocr INFO:     use_mlu : False\n",
            "[2023/12/09 16:48:47] ppocr INFO:     use_visualdl : False\n",
            "[2023/12/09 16:48:47] ppocr INFO:     use_wandb : True\n",
            "[2023/12/09 16:48:47] ppocr INFO:     use_xpu : False\n",
            "[2023/12/09 16:48:47] ppocr INFO: Loss : \n",
            "[2023/12/09 16:48:47] ppocr INFO:     alpha : 5\n",
            "[2023/12/09 16:48:47] ppocr INFO:     balance_loss : True\n",
            "[2023/12/09 16:48:47] ppocr INFO:     beta : 10\n",
            "[2023/12/09 16:48:47] ppocr INFO:     main_loss_type : DiceLoss\n",
            "[2023/12/09 16:48:47] ppocr INFO:     name : DBLoss\n",
            "[2023/12/09 16:48:47] ppocr INFO:     ohem_ratio : 3\n",
            "[2023/12/09 16:48:47] ppocr INFO: Metric : \n",
            "[2023/12/09 16:48:47] ppocr INFO:     main_indicator : hmean\n",
            "[2023/12/09 16:48:47] ppocr INFO:     name : DetMetric\n",
            "[2023/12/09 16:48:47] ppocr INFO: Optimizer : \n",
            "[2023/12/09 16:48:47] ppocr INFO:     beta1 : 0.9\n",
            "[2023/12/09 16:48:47] ppocr INFO:     beta2 : 0.999\n",
            "[2023/12/09 16:48:47] ppocr INFO:     lr : \n",
            "[2023/12/09 16:48:47] ppocr INFO:         learning_rate : 0.001\n",
            "[2023/12/09 16:48:47] ppocr INFO:     name : Adam\n",
            "[2023/12/09 16:48:47] ppocr INFO:     regularizer : \n",
            "[2023/12/09 16:48:47] ppocr INFO:         factor : 0\n",
            "[2023/12/09 16:48:47] ppocr INFO:         name : L2\n",
            "[2023/12/09 16:48:47] ppocr INFO: PostProcess : \n",
            "[2023/12/09 16:48:47] ppocr INFO:     box_thresh : 0.6\n",
            "[2023/12/09 16:48:47] ppocr INFO:     max_candidates : 1000\n",
            "[2023/12/09 16:48:47] ppocr INFO:     name : DBPostProcess\n",
            "[2023/12/09 16:48:47] ppocr INFO:     thresh : 0.3\n",
            "[2023/12/09 16:48:47] ppocr INFO:     unclip_ratio : 1.5\n",
            "[2023/12/09 16:48:47] ppocr INFO: Train : \n",
            "[2023/12/09 16:48:47] ppocr INFO:     dataset : \n",
            "[2023/12/09 16:48:47] ppocr INFO:         data_dir : ./train_data/icdar2015/text_localization/\n",
            "[2023/12/09 16:48:47] ppocr INFO:         label_file_list : ['./train_data/icdar2015/text_localization/train_icdar2015_label.txt']\n",
            "[2023/12/09 16:48:47] ppocr INFO:         name : SimpleDataSet\n",
            "[2023/12/09 16:48:47] ppocr INFO:         ratio_list : [1.0]\n",
            "[2023/12/09 16:48:47] ppocr INFO:         transforms : \n",
            "[2023/12/09 16:48:47] ppocr INFO:             DecodeImage : \n",
            "[2023/12/09 16:48:47] ppocr INFO:                 channel_first : False\n",
            "[2023/12/09 16:48:47] ppocr INFO:                 img_mode : BGR\n",
            "[2023/12/09 16:48:47] ppocr INFO:             DetLabelEncode : None\n",
            "[2023/12/09 16:48:47] ppocr INFO:             IaaAugment : \n",
            "[2023/12/09 16:48:47] ppocr INFO:                 augmenter_args : \n",
            "[2023/12/09 16:48:47] ppocr INFO:                     args : \n",
            "[2023/12/09 16:48:47] ppocr INFO:                         p : 0.5\n",
            "[2023/12/09 16:48:47] ppocr INFO:                     type : Fliplr\n",
            "[2023/12/09 16:48:47] ppocr INFO:                     args : \n",
            "[2023/12/09 16:48:47] ppocr INFO:                         rotate : [-10, 10]\n",
            "[2023/12/09 16:48:47] ppocr INFO:                     type : Affine\n",
            "[2023/12/09 16:48:47] ppocr INFO:                     args : \n",
            "[2023/12/09 16:48:47] ppocr INFO:                         size : [0.5, 3]\n",
            "[2023/12/09 16:48:47] ppocr INFO:                     type : Resize\n",
            "[2023/12/09 16:48:47] ppocr INFO:             EastRandomCropData : \n",
            "[2023/12/09 16:48:47] ppocr INFO:                 keep_ratio : True\n",
            "[2023/12/09 16:48:47] ppocr INFO:                 max_tries : 50\n",
            "[2023/12/09 16:48:47] ppocr INFO:                 size : [640, 640]\n",
            "[2023/12/09 16:48:47] ppocr INFO:             MakeBorderMap : \n",
            "[2023/12/09 16:48:47] ppocr INFO:                 shrink_ratio : 0.4\n",
            "[2023/12/09 16:48:47] ppocr INFO:                 thresh_max : 0.7\n",
            "[2023/12/09 16:48:47] ppocr INFO:                 thresh_min : 0.3\n",
            "[2023/12/09 16:48:47] ppocr INFO:             MakeShrinkMap : \n",
            "[2023/12/09 16:48:47] ppocr INFO:                 min_text_size : 8\n",
            "[2023/12/09 16:48:47] ppocr INFO:                 shrink_ratio : 0.4\n",
            "[2023/12/09 16:48:47] ppocr INFO:             NormalizeImage : \n",
            "[2023/12/09 16:48:47] ppocr INFO:                 mean : [0.485, 0.456, 0.406]\n",
            "[2023/12/09 16:48:47] ppocr INFO:                 order : hwc\n",
            "[2023/12/09 16:48:47] ppocr INFO:                 scale : 1./255.\n",
            "[2023/12/09 16:48:47] ppocr INFO:                 std : [0.229, 0.224, 0.225]\n",
            "[2023/12/09 16:48:47] ppocr INFO:             ToCHWImage : None\n",
            "[2023/12/09 16:48:47] ppocr INFO:             KeepKeys : \n",
            "[2023/12/09 16:48:47] ppocr INFO:                 keep_keys : ['image', 'threshold_map', 'threshold_mask', 'shrink_map', 'shrink_mask']\n",
            "[2023/12/09 16:48:47] ppocr INFO:     loader : \n",
            "[2023/12/09 16:48:47] ppocr INFO:         batch_size_per_card : 16\n",
            "[2023/12/09 16:48:47] ppocr INFO:         drop_last : False\n",
            "[2023/12/09 16:48:47] ppocr INFO:         num_workers : 8\n",
            "[2023/12/09 16:48:47] ppocr INFO:         shuffle : True\n",
            "[2023/12/09 16:48:47] ppocr INFO:         use_shared_memory : True\n",
            "[2023/12/09 16:48:47] ppocr INFO: profiler_options : None\n",
            "[2023/12/09 16:48:47] ppocr INFO: wandb : \n",
            "[2023/12/09 16:48:47] ppocr INFO:     name : MyOCRModel\n",
            "[2023/12/09 16:48:47] ppocr INFO:     project : CoolOCR\n",
            "[2023/12/09 16:48:47] ppocr INFO:     save_dir : ./output/db_mv3/\n",
            "[2023/12/09 16:48:47] ppocr INFO: train with paddle 2.5.2 and device Place(gpu:0)\n",
            "W1209 16:48:47.286514 21760 gpu_resources.cc:119] Please NOTE: device: 0, GPU Compute Capability: 7.5, Driver API Version: 12.0, Runtime API Version: 11.8\n",
            "W1209 16:48:47.288146 21760 gpu_resources.cc:149] device: 0, cuDNN Version: 8.9.\n",
            "[2023/12/09 16:48:50] ppocr INFO: load pretrain successful from ./artifacts/model-gav9ely8:v2/model_ckpt\n",
            "[2023/12/09 16:48:50] ppocr INFO: infer_img: ./doc/imgs_en/254.jpg\n",
            "[2023/12/09 16:48:52] ppocr INFO: The detected Image saved in ./output/det_db/det_results/254.jpg\n",
            "[2023/12/09 16:48:52] ppocr INFO: infer_img: ./doc/imgs_en/img623.jpg\n",
            "[2023/12/09 16:48:52] ppocr INFO: The detected Image saved in ./output/det_db/det_results/img623.jpg\n",
            "[2023/12/09 16:48:52] ppocr INFO: infer_img: ./doc/imgs_en/img_10.jpg\n",
            "[2023/12/09 16:48:52] ppocr INFO: The detected Image saved in ./output/det_db/det_results/img_10.jpg\n",
            "[2023/12/09 16:48:52] ppocr INFO: infer_img: ./doc/imgs_en/img_11.jpg\n",
            "[2023/12/09 16:48:52] ppocr INFO: The detected Image saved in ./output/det_db/det_results/img_11.jpg\n",
            "[2023/12/09 16:48:52] ppocr INFO: infer_img: ./doc/imgs_en/img_12.jpg\n",
            "[2023/12/09 16:48:52] ppocr INFO: The detected Image saved in ./output/det_db/det_results/img_12.jpg\n",
            "[2023/12/09 16:48:52] ppocr INFO: infer_img: ./doc/imgs_en/img_195.jpg\n",
            "[2023/12/09 16:48:52] ppocr INFO: The detected Image saved in ./output/det_db/det_results/img_195.jpg\n",
            "[2023/12/09 16:48:52] ppocr INFO: infer_img: ./doc/imgs_en/model_prod_flow_en.png\n",
            "[2023/12/09 16:48:52] ppocr INFO: The detected Image saved in ./output/det_db/det_results/model_prod_flow_en.png\n",
            "[2023/12/09 16:48:52] ppocr INFO: infer_img: ./doc/imgs_en/wandb_metrics.png\n",
            "[2023/12/09 16:48:52] ppocr INFO: The detected Image saved in ./output/det_db/det_results/wandb_metrics.png\n",
            "[2023/12/09 16:48:52] ppocr INFO: infer_img: ./doc/imgs_en/wandb_models.png\n",
            "[2023/12/09 16:48:53] ppocr INFO: The detected Image saved in ./output/det_db/det_results/wandb_models.png\n",
            "[2023/12/09 16:48:53] ppocr INFO: success!\n"
          ]
        }
      ],
      "source": [
        "!python3 tools/infer_det.py -c configs/det/det_mv3_db.yml -o Global.infer_img=\"./doc/imgs_en/\" Global.pretrained_model=\"./artifacts/model-gav9ely8:v2/model_ckpt\""
      ]
    },
    {
      "cell_type": "markdown",
      "metadata": {},
      "source": [
        "## 9. Save The Inference Results On `Wandb`"
      ]
    },
    {
      "cell_type": "code",
      "execution_count": null,
      "metadata": {
        "colab": {
          "base_uri": "https://localhost:8080/",
          "height": 546
        },
        "id": "WIS5tM0pf0o6",
        "outputId": "6cefecd8-7e0c-4849-b9a2-96963cbd1f34"
      },
      "outputs": [
        {
          "name": "stderr",
          "output_type": "stream",
          "text": [
            "\u001b[34m\u001b[1mwandb\u001b[0m: Currently logged in as: \u001b[33mk200353-fast\u001b[0m (\u001b[33mfast-k203053\u001b[0m). Use \u001b[1m`wandb login --relogin`\u001b[0m to force relogin\n"
          ]
        },
        {
          "data": {
            "text/html": [
              "Tracking run with wandb version 0.16.1"
            ],
            "text/plain": [
              "<IPython.core.display.HTML object>"
            ]
          },
          "metadata": {},
          "output_type": "display_data"
        },
        {
          "data": {
            "text/html": [
              "Run data is saved locally in <code>/content/PaddleOCR/wandb/run-20231209_165426-wnpz6uii</code>"
            ],
            "text/plain": [
              "<IPython.core.display.HTML object>"
            ]
          },
          "metadata": {},
          "output_type": "display_data"
        },
        {
          "data": {
            "text/html": [
              "Syncing run <strong><a href='https://wandb.ai/fast-k203053/CoolOCR/runs/wnpz6uii' target=\"_blank\">sweet-planet-5</a></strong> to <a href='https://wandb.ai/fast-k203053/CoolOCR' target=\"_blank\">Weights & Biases</a> (<a href='https://wandb.me/run' target=\"_blank\">docs</a>)<br/>"
            ],
            "text/plain": [
              "<IPython.core.display.HTML object>"
            ]
          },
          "metadata": {},
          "output_type": "display_data"
        },
        {
          "data": {
            "text/html": [
              " View project at <a href='https://wandb.ai/fast-k203053/CoolOCR' target=\"_blank\">https://wandb.ai/fast-k203053/CoolOCR</a>"
            ],
            "text/plain": [
              "<IPython.core.display.HTML object>"
            ]
          },
          "metadata": {},
          "output_type": "display_data"
        },
        {
          "data": {
            "text/html": [
              " View run at <a href='https://wandb.ai/fast-k203053/CoolOCR/runs/wnpz6uii' target=\"_blank\">https://wandb.ai/fast-k203053/CoolOCR/runs/wnpz6uii</a>"
            ],
            "text/plain": [
              "<IPython.core.display.HTML object>"
            ]
          },
          "metadata": {},
          "output_type": "display_data"
        },
        {
          "ename": "CommError",
          "evalue": "ignored",
          "output_type": "error",
          "traceback": [
            "\u001b[0;31m---------------------------------------------------------------------------\u001b[0m",
            "\u001b[0;31mAttributeError\u001b[0m                            Traceback (most recent call last)",
            "\u001b[0;32m/usr/local/lib/python3.10/dist-packages/wandb/apis/normalize.py\u001b[0m in \u001b[0;36mwrapper\u001b[0;34m(*args, **kwargs)\u001b[0m\n\u001b[1;32m     40\u001b[0m         \u001b[0;32mtry\u001b[0m\u001b[0;34m:\u001b[0m\u001b[0;34m\u001b[0m\u001b[0;34m\u001b[0m\u001b[0m\n\u001b[0;32m---> 41\u001b[0;31m             \u001b[0;32mreturn\u001b[0m \u001b[0mfunc\u001b[0m\u001b[0;34m(\u001b[0m\u001b[0;34m*\u001b[0m\u001b[0margs\u001b[0m\u001b[0;34m,\u001b[0m \u001b[0;34m**\u001b[0m\u001b[0mkwargs\u001b[0m\u001b[0;34m)\u001b[0m\u001b[0;34m\u001b[0m\u001b[0;34m\u001b[0m\u001b[0m\n\u001b[0m\u001b[1;32m     42\u001b[0m         \u001b[0;32mexcept\u001b[0m \u001b[0mrequests\u001b[0m\u001b[0;34m.\u001b[0m\u001b[0mHTTPError\u001b[0m \u001b[0;32mas\u001b[0m \u001b[0merror\u001b[0m\u001b[0;34m:\u001b[0m\u001b[0;34m\u001b[0m\u001b[0;34m\u001b[0m\u001b[0m\n",
            "\u001b[0;32m/usr/local/lib/python3.10/dist-packages/wandb/apis/public.py\u001b[0m in \u001b[0;36martifact\u001b[0;34m(self, name, type)\u001b[0m\n\u001b[1;32m   1067\u001b[0m         \u001b[0mentity\u001b[0m\u001b[0;34m,\u001b[0m \u001b[0mproject\u001b[0m\u001b[0;34m,\u001b[0m \u001b[0martifact_name\u001b[0m \u001b[0;34m=\u001b[0m \u001b[0mself\u001b[0m\u001b[0;34m.\u001b[0m\u001b[0m_parse_artifact_path\u001b[0m\u001b[0;34m(\u001b[0m\u001b[0mname\u001b[0m\u001b[0;34m)\u001b[0m\u001b[0;34m\u001b[0m\u001b[0;34m\u001b[0m\u001b[0m\n\u001b[0;32m-> 1068\u001b[0;31m         artifact = wandb.Artifact._from_name(\n\u001b[0m\u001b[1;32m   1069\u001b[0m             \u001b[0mentity\u001b[0m\u001b[0;34m,\u001b[0m \u001b[0mproject\u001b[0m\u001b[0;34m,\u001b[0m \u001b[0martifact_name\u001b[0m\u001b[0;34m,\u001b[0m \u001b[0mself\u001b[0m\u001b[0;34m.\u001b[0m\u001b[0mclient\u001b[0m\u001b[0;34m\u001b[0m\u001b[0;34m\u001b[0m\u001b[0m\n",
            "\u001b[0;32m/usr/local/lib/python3.10/dist-packages/wandb/sdk/artifacts/artifact.py\u001b[0m in \u001b[0;36m_from_name\u001b[0;34m(cls, entity, project, name, client)\u001b[0m\n\u001b[1;32m    253\u001b[0m         )\n\u001b[0;32m--> 254\u001b[0;31m         \u001b[0mattrs\u001b[0m \u001b[0;34m=\u001b[0m \u001b[0mresponse\u001b[0m\u001b[0;34m.\u001b[0m\u001b[0mget\u001b[0m\u001b[0;34m(\u001b[0m\u001b[0;34m\"project\"\u001b[0m\u001b[0;34m,\u001b[0m \u001b[0;34m{\u001b[0m\u001b[0;34m}\u001b[0m\u001b[0;34m)\u001b[0m\u001b[0;34m.\u001b[0m\u001b[0mget\u001b[0m\u001b[0;34m(\u001b[0m\u001b[0;34m\"artifact\"\u001b[0m\u001b[0;34m)\u001b[0m\u001b[0;34m\u001b[0m\u001b[0;34m\u001b[0m\u001b[0m\n\u001b[0m\u001b[1;32m    255\u001b[0m         \u001b[0;32mif\u001b[0m \u001b[0mattrs\u001b[0m \u001b[0;32mis\u001b[0m \u001b[0;32mNone\u001b[0m\u001b[0;34m:\u001b[0m\u001b[0;34m\u001b[0m\u001b[0;34m\u001b[0m\u001b[0m\n",
            "\u001b[0;31mAttributeError\u001b[0m: 'NoneType' object has no attribute 'get'",
            "\nDuring handling of the above exception, another exception occurred:\n",
            "\u001b[0;31mCommError\u001b[0m                                 Traceback (most recent call last)",
            "\u001b[0;32m<ipython-input-24-a53f5aa1dba9>\u001b[0m in \u001b[0;36m<cell line: 2>\u001b[0;34m()\u001b[0m\n\u001b[1;32m      1\u001b[0m \u001b[0mwandb\u001b[0m\u001b[0;34m.\u001b[0m\u001b[0minit\u001b[0m\u001b[0;34m(\u001b[0m\u001b[0mproject\u001b[0m\u001b[0;34m=\u001b[0m\u001b[0;34m\"CoolOCR\"\u001b[0m\u001b[0;34m)\u001b[0m\u001b[0;34m\u001b[0m\u001b[0;34m\u001b[0m\u001b[0m\n\u001b[0;32m----> 2\u001b[0;31m \u001b[0mwandb\u001b[0m\u001b[0;34m.\u001b[0m\u001b[0muse_artifact\u001b[0m\u001b[0;34m(\u001b[0m\u001b[0;34m'manan-goel/CoolOCR/model-gav9ely8:best'\u001b[0m\u001b[0;34m)\u001b[0m\u001b[0;34m\u001b[0m\u001b[0;34m\u001b[0m\u001b[0m\n\u001b[0m",
            "\u001b[0;32m/usr/local/lib/python3.10/dist-packages/wandb/sdk/wandb_run.py\u001b[0m in \u001b[0;36mwrapper_fn\u001b[0;34m(self, *args, **kwargs)\u001b[0m\n\u001b[1;32m    369\u001b[0m             \u001b[0;32mdef\u001b[0m \u001b[0mwrapper_fn\u001b[0m\u001b[0;34m(\u001b[0m\u001b[0mself\u001b[0m\u001b[0;34m:\u001b[0m \u001b[0mType\u001b[0m\u001b[0;34m[\u001b[0m\u001b[0;34m\"Run\"\u001b[0m\u001b[0;34m]\u001b[0m\u001b[0;34m,\u001b[0m \u001b[0;34m*\u001b[0m\u001b[0margs\u001b[0m\u001b[0;34m:\u001b[0m \u001b[0mAny\u001b[0m\u001b[0;34m,\u001b[0m \u001b[0;34m**\u001b[0m\u001b[0mkwargs\u001b[0m\u001b[0;34m:\u001b[0m \u001b[0mAny\u001b[0m\u001b[0;34m)\u001b[0m \u001b[0;34m->\u001b[0m \u001b[0mAny\u001b[0m\u001b[0;34m:\u001b[0m\u001b[0;34m\u001b[0m\u001b[0;34m\u001b[0m\u001b[0m\n\u001b[1;32m    370\u001b[0m                 \u001b[0;32mif\u001b[0m \u001b[0;32mnot\u001b[0m \u001b[0mgetattr\u001b[0m\u001b[0;34m(\u001b[0m\u001b[0mself\u001b[0m\u001b[0;34m,\u001b[0m \u001b[0;34m\"_is_finished\"\u001b[0m\u001b[0;34m,\u001b[0m \u001b[0;32mFalse\u001b[0m\u001b[0;34m)\u001b[0m\u001b[0;34m:\u001b[0m\u001b[0;34m\u001b[0m\u001b[0;34m\u001b[0m\u001b[0m\n\u001b[0;32m--> 371\u001b[0;31m                     \u001b[0;32mreturn\u001b[0m \u001b[0mfunc\u001b[0m\u001b[0;34m(\u001b[0m\u001b[0mself\u001b[0m\u001b[0;34m,\u001b[0m \u001b[0;34m*\u001b[0m\u001b[0margs\u001b[0m\u001b[0;34m,\u001b[0m \u001b[0;34m**\u001b[0m\u001b[0mkwargs\u001b[0m\u001b[0;34m)\u001b[0m\u001b[0;34m\u001b[0m\u001b[0;34m\u001b[0m\u001b[0m\n\u001b[0m\u001b[1;32m    372\u001b[0m \u001b[0;34m\u001b[0m\u001b[0m\n\u001b[1;32m    373\u001b[0m                 default_message = (\n",
            "\u001b[0;32m/usr/local/lib/python3.10/dist-packages/wandb/sdk/wandb_run.py\u001b[0m in \u001b[0;36mwrapper\u001b[0;34m(self, *args, **kwargs)\u001b[0m\n\u001b[1;32m    359\u001b[0m                     \u001b[0;32mraise\u001b[0m \u001b[0me\u001b[0m\u001b[0;34m\u001b[0m\u001b[0;34m\u001b[0m\u001b[0m\n\u001b[1;32m    360\u001b[0m                 \u001b[0mcls\u001b[0m\u001b[0;34m.\u001b[0m\u001b[0m_is_attaching\u001b[0m \u001b[0;34m=\u001b[0m \u001b[0;34m\"\"\u001b[0m\u001b[0;34m\u001b[0m\u001b[0;34m\u001b[0m\u001b[0m\n\u001b[0;32m--> 361\u001b[0;31m             \u001b[0;32mreturn\u001b[0m \u001b[0mfunc\u001b[0m\u001b[0;34m(\u001b[0m\u001b[0mself\u001b[0m\u001b[0;34m,\u001b[0m \u001b[0;34m*\u001b[0m\u001b[0margs\u001b[0m\u001b[0;34m,\u001b[0m \u001b[0;34m**\u001b[0m\u001b[0mkwargs\u001b[0m\u001b[0;34m)\u001b[0m\u001b[0;34m\u001b[0m\u001b[0;34m\u001b[0m\u001b[0m\n\u001b[0m\u001b[1;32m    362\u001b[0m \u001b[0;34m\u001b[0m\u001b[0m\n\u001b[1;32m    363\u001b[0m         \u001b[0;32mreturn\u001b[0m \u001b[0mwrapper\u001b[0m\u001b[0;34m\u001b[0m\u001b[0;34m\u001b[0m\u001b[0m\n",
            "\u001b[0;32m/usr/local/lib/python3.10/dist-packages/wandb/sdk/wandb_run.py\u001b[0m in \u001b[0;36muse_artifact\u001b[0;34m(self, artifact_or_name, type, aliases, use_as)\u001b[0m\n\u001b[1;32m   2767\u001b[0m                 \u001b[0mname\u001b[0m \u001b[0;34m=\u001b[0m \u001b[0martifact_or_name\u001b[0m\u001b[0;34m\u001b[0m\u001b[0;34m\u001b[0m\u001b[0m\n\u001b[1;32m   2768\u001b[0m             \u001b[0mpublic_api\u001b[0m \u001b[0;34m=\u001b[0m \u001b[0mself\u001b[0m\u001b[0;34m.\u001b[0m\u001b[0m_public_api\u001b[0m\u001b[0;34m(\u001b[0m\u001b[0;34m)\u001b[0m\u001b[0;34m\u001b[0m\u001b[0;34m\u001b[0m\u001b[0m\n\u001b[0;32m-> 2769\u001b[0;31m             \u001b[0martifact\u001b[0m \u001b[0;34m=\u001b[0m \u001b[0mpublic_api\u001b[0m\u001b[0;34m.\u001b[0m\u001b[0martifact\u001b[0m\u001b[0;34m(\u001b[0m\u001b[0mtype\u001b[0m\u001b[0;34m=\u001b[0m\u001b[0mtype\u001b[0m\u001b[0;34m,\u001b[0m \u001b[0mname\u001b[0m\u001b[0;34m=\u001b[0m\u001b[0mname\u001b[0m\u001b[0;34m)\u001b[0m\u001b[0;34m\u001b[0m\u001b[0;34m\u001b[0m\u001b[0m\n\u001b[0m\u001b[1;32m   2770\u001b[0m             \u001b[0;32mif\u001b[0m \u001b[0mtype\u001b[0m \u001b[0;32mis\u001b[0m \u001b[0;32mnot\u001b[0m \u001b[0;32mNone\u001b[0m \u001b[0;32mand\u001b[0m \u001b[0mtype\u001b[0m \u001b[0;34m!=\u001b[0m \u001b[0martifact\u001b[0m\u001b[0;34m.\u001b[0m\u001b[0mtype\u001b[0m\u001b[0;34m:\u001b[0m\u001b[0;34m\u001b[0m\u001b[0;34m\u001b[0m\u001b[0m\n\u001b[1;32m   2771\u001b[0m                 raise ValueError(\n",
            "\u001b[0;32m/usr/local/lib/python3.10/dist-packages/wandb/apis/normalize.py\u001b[0m in \u001b[0;36mwrapper\u001b[0;34m(*args, **kwargs)\u001b[0m\n\u001b[1;32m     85\u001b[0m                 \u001b[0;32mraise\u001b[0m\u001b[0;34m\u001b[0m\u001b[0;34m\u001b[0m\u001b[0m\n\u001b[1;32m     86\u001b[0m             \u001b[0;32melse\u001b[0m\u001b[0;34m:\u001b[0m\u001b[0;34m\u001b[0m\u001b[0;34m\u001b[0m\u001b[0m\n\u001b[0;32m---> 87\u001b[0;31m                 \u001b[0;32mraise\u001b[0m \u001b[0mCommError\u001b[0m\u001b[0;34m(\u001b[0m\u001b[0mmessage\u001b[0m\u001b[0;34m,\u001b[0m \u001b[0merr\u001b[0m\u001b[0;34m)\u001b[0m\u001b[0;34m.\u001b[0m\u001b[0mwith_traceback\u001b[0m\u001b[0;34m(\u001b[0m\u001b[0msys\u001b[0m\u001b[0;34m.\u001b[0m\u001b[0mexc_info\u001b[0m\u001b[0;34m(\u001b[0m\u001b[0;34m)\u001b[0m\u001b[0;34m[\u001b[0m\u001b[0;36m2\u001b[0m\u001b[0;34m]\u001b[0m\u001b[0;34m)\u001b[0m\u001b[0;34m\u001b[0m\u001b[0;34m\u001b[0m\u001b[0m\n\u001b[0m\u001b[1;32m     88\u001b[0m \u001b[0;34m\u001b[0m\u001b[0m\n\u001b[1;32m     89\u001b[0m     \u001b[0;32mreturn\u001b[0m \u001b[0mwrapper\u001b[0m\u001b[0;34m\u001b[0m\u001b[0;34m\u001b[0m\u001b[0m\n",
            "\u001b[0;32m/usr/local/lib/python3.10/dist-packages/wandb/apis/normalize.py\u001b[0m in \u001b[0;36mwrapper\u001b[0;34m(*args, **kwargs)\u001b[0m\n\u001b[1;32m     39\u001b[0m         \u001b[0mmessage\u001b[0m \u001b[0;34m=\u001b[0m \u001b[0;34m\"Whoa, you found a bug.\"\u001b[0m\u001b[0;34m\u001b[0m\u001b[0;34m\u001b[0m\u001b[0m\n\u001b[1;32m     40\u001b[0m         \u001b[0;32mtry\u001b[0m\u001b[0;34m:\u001b[0m\u001b[0;34m\u001b[0m\u001b[0;34m\u001b[0m\u001b[0m\n\u001b[0;32m---> 41\u001b[0;31m             \u001b[0;32mreturn\u001b[0m \u001b[0mfunc\u001b[0m\u001b[0;34m(\u001b[0m\u001b[0;34m*\u001b[0m\u001b[0margs\u001b[0m\u001b[0;34m,\u001b[0m \u001b[0;34m**\u001b[0m\u001b[0mkwargs\u001b[0m\u001b[0;34m)\u001b[0m\u001b[0;34m\u001b[0m\u001b[0;34m\u001b[0m\u001b[0m\n\u001b[0m\u001b[1;32m     42\u001b[0m         \u001b[0;32mexcept\u001b[0m \u001b[0mrequests\u001b[0m\u001b[0;34m.\u001b[0m\u001b[0mHTTPError\u001b[0m \u001b[0;32mas\u001b[0m \u001b[0merror\u001b[0m\u001b[0;34m:\u001b[0m\u001b[0;34m\u001b[0m\u001b[0;34m\u001b[0m\u001b[0m\n\u001b[1;32m     43\u001b[0m             \u001b[0merrors\u001b[0m \u001b[0;34m=\u001b[0m \u001b[0mparse_backend_error_messages\u001b[0m\u001b[0;34m(\u001b[0m\u001b[0merror\u001b[0m\u001b[0;34m.\u001b[0m\u001b[0mresponse\u001b[0m\u001b[0;34m)\u001b[0m\u001b[0;34m\u001b[0m\u001b[0;34m\u001b[0m\u001b[0m\n",
            "\u001b[0;32m/usr/local/lib/python3.10/dist-packages/wandb/apis/public.py\u001b[0m in \u001b[0;36martifact\u001b[0;34m(self, name, type)\u001b[0m\n\u001b[1;32m   1066\u001b[0m             \u001b[0;32mraise\u001b[0m \u001b[0mValueError\u001b[0m\u001b[0;34m(\u001b[0m\u001b[0;34m\"You must specify name= to fetch an artifact.\"\u001b[0m\u001b[0;34m)\u001b[0m\u001b[0;34m\u001b[0m\u001b[0;34m\u001b[0m\u001b[0m\n\u001b[1;32m   1067\u001b[0m         \u001b[0mentity\u001b[0m\u001b[0;34m,\u001b[0m \u001b[0mproject\u001b[0m\u001b[0;34m,\u001b[0m \u001b[0martifact_name\u001b[0m \u001b[0;34m=\u001b[0m \u001b[0mself\u001b[0m\u001b[0;34m.\u001b[0m\u001b[0m_parse_artifact_path\u001b[0m\u001b[0;34m(\u001b[0m\u001b[0mname\u001b[0m\u001b[0;34m)\u001b[0m\u001b[0;34m\u001b[0m\u001b[0;34m\u001b[0m\u001b[0m\n\u001b[0;32m-> 1068\u001b[0;31m         artifact = wandb.Artifact._from_name(\n\u001b[0m\u001b[1;32m   1069\u001b[0m             \u001b[0mentity\u001b[0m\u001b[0;34m,\u001b[0m \u001b[0mproject\u001b[0m\u001b[0;34m,\u001b[0m \u001b[0martifact_name\u001b[0m\u001b[0;34m,\u001b[0m \u001b[0mself\u001b[0m\u001b[0;34m.\u001b[0m\u001b[0mclient\u001b[0m\u001b[0;34m\u001b[0m\u001b[0;34m\u001b[0m\u001b[0m\n\u001b[1;32m   1070\u001b[0m         )\n",
            "\u001b[0;32m/usr/local/lib/python3.10/dist-packages/wandb/sdk/artifacts/artifact.py\u001b[0m in \u001b[0;36m_from_name\u001b[0;34m(cls, entity, project, name, client)\u001b[0m\n\u001b[1;32m    252\u001b[0m             },\n\u001b[1;32m    253\u001b[0m         )\n\u001b[0;32m--> 254\u001b[0;31m         \u001b[0mattrs\u001b[0m \u001b[0;34m=\u001b[0m \u001b[0mresponse\u001b[0m\u001b[0;34m.\u001b[0m\u001b[0mget\u001b[0m\u001b[0;34m(\u001b[0m\u001b[0;34m\"project\"\u001b[0m\u001b[0;34m,\u001b[0m \u001b[0;34m{\u001b[0m\u001b[0;34m}\u001b[0m\u001b[0;34m)\u001b[0m\u001b[0;34m.\u001b[0m\u001b[0mget\u001b[0m\u001b[0;34m(\u001b[0m\u001b[0;34m\"artifact\"\u001b[0m\u001b[0;34m)\u001b[0m\u001b[0;34m\u001b[0m\u001b[0;34m\u001b[0m\u001b[0m\n\u001b[0m\u001b[1;32m    255\u001b[0m         \u001b[0;32mif\u001b[0m \u001b[0mattrs\u001b[0m \u001b[0;32mis\u001b[0m \u001b[0;32mNone\u001b[0m\u001b[0;34m:\u001b[0m\u001b[0;34m\u001b[0m\u001b[0;34m\u001b[0m\u001b[0m\n\u001b[1;32m    256\u001b[0m             raise ValueError(\n",
            "\u001b[0;31mCommError\u001b[0m: 'NoneType' object has no attribute 'get'"
          ]
        }
      ],
      "source": [
        "wandb.init(project=\"CoolOCR\")\n",
        "wandb.use_artifact('manan-goel/CoolOCR/model-gav9ely8:best')"
      ]
    },
    {
      "cell_type": "code",
      "execution_count": null,
      "metadata": {
        "id": "KpED8nsHf2m5"
      },
      "outputs": [],
      "source": [
        "table = wandb.Table(columns=[\"Input Image\", \"Annotated Image\"])"
      ]
    },
    {
      "cell_type": "code",
      "execution_count": null,
      "metadata": {
        "id": "2Vzo2y5Ef4FR"
      },
      "outputs": [],
      "source": [
        "import glob\n",
        "inp_imgs = sorted(glob.glob(\"./doc/imgs_en/*.jpg\"), key=lambda x: x.split(\"/\")[-1])\n",
        "out_imgs = sorted(glob.glob(\"./output/det_db/det_results/*.jpg\"), key=lambda x: x.split(\"/\")[-1])"
      ]
    },
    {
      "cell_type": "code",
      "execution_count": null,
      "metadata": {
        "id": "fEeAECzdf5cx"
      },
      "outputs": [],
      "source": [
        "for inp in inp_imgs:\n",
        "    for out in out_imgs:\n",
        "        if out.split(\"/\")[-1] != inp.split(\"/\")[-1]:\n",
        "            continue\n",
        "        table.add_data(\n",
        "            wandb.Image(inp),\n",
        "            wandb.Image(out)\n",
        "        )"
      ]
    },
    {
      "cell_type": "code",
      "execution_count": null,
      "metadata": {
        "id": "TE4qnOw5f61U"
      },
      "outputs": [],
      "source": [
        "wandb.log({\n",
        "    \"Predictions\": table\n",
        "})"
      ]
    },
    {
      "cell_type": "code",
      "execution_count": null,
      "metadata": {
        "colab": {
          "base_uri": "https://localhost:8080/",
          "height": 69,
          "referenced_widgets": [
            "fccef745f4d649cab41f689b46c9fbc4",
            "1ea6a48a10f54eb6962046a0e099d7f8",
            "c482e81be7074eef8d9b0767523c7119",
            "6117a427c08e49d4a19ae267749976ac",
            "15524aa1e4a94092b216920bfcfdaa15",
            "d6f78d01ee8e4fcd8aee308e46cdcb61",
            "85e360d98df342e7bbb7a6e187727e80",
            "5a4ee8dc5bfc42b08877dbbcfc38c864"
          ]
        },
        "id": "FeSy8orDf8Oa",
        "outputId": "104f14ce-67d2-429a-b706-012d0d558a2d"
      },
      "outputs": [
        {
          "data": {
            "application/vnd.jupyter.widget-view+json": {
              "model_id": "fccef745f4d649cab41f689b46c9fbc4",
              "version_major": 2,
              "version_minor": 0
            },
            "text/plain": [
              "VBox(children=(Label(value='2.698 MB of 2.698 MB uploaded\\r'), FloatProgress(value=1.0, max=1.0)))"
            ]
          },
          "metadata": {},
          "output_type": "display_data"
        },
        {
          "data": {
            "text/html": [
              " View run <strong style=\"color:#cdcd00\">sweet-planet-5</strong> at: <a href='https://wandb.ai/fast-k203053/CoolOCR/runs/wnpz6uii' target=\"_blank\">https://wandb.ai/fast-k203053/CoolOCR/runs/wnpz6uii</a><br/>Synced 4 W&B file(s), 1 media file(s), 13 artifact file(s) and 0 other file(s)"
            ],
            "text/plain": [
              "<IPython.core.display.HTML object>"
            ]
          },
          "metadata": {},
          "output_type": "display_data"
        },
        {
          "data": {
            "text/html": [
              "Find logs at: <code>./wandb/run-20231209_165426-wnpz6uii/logs</code>"
            ],
            "text/plain": [
              "<IPython.core.display.HTML object>"
            ]
          },
          "metadata": {},
          "output_type": "display_data"
        }
      ],
      "source": [
        "wandb.finish()"
      ]
    }
  ],
  "metadata": {
    "accelerator": "GPU",
    "colab": {
      "provenance": []
    },
    "kernelspec": {
      "display_name": "Python 3",
      "name": "python3"
    },
    "language_info": {
      "name": "python"
    },
    "widgets": {
      "application/vnd.jupyter.widget-state+json": {
        "15524aa1e4a94092b216920bfcfdaa15": {
          "model_module": "@jupyter-widgets/base",
          "model_module_version": "1.2.0",
          "model_name": "LayoutModel",
          "state": {
            "_model_module": "@jupyter-widgets/base",
            "_model_module_version": "1.2.0",
            "_model_name": "LayoutModel",
            "_view_count": null,
            "_view_module": "@jupyter-widgets/base",
            "_view_module_version": "1.2.0",
            "_view_name": "LayoutView",
            "align_content": null,
            "align_items": null,
            "align_self": null,
            "border": null,
            "bottom": null,
            "display": null,
            "flex": null,
            "flex_flow": null,
            "grid_area": null,
            "grid_auto_columns": null,
            "grid_auto_flow": null,
            "grid_auto_rows": null,
            "grid_column": null,
            "grid_gap": null,
            "grid_row": null,
            "grid_template_areas": null,
            "grid_template_columns": null,
            "grid_template_rows": null,
            "height": null,
            "justify_content": null,
            "justify_items": null,
            "left": null,
            "margin": null,
            "max_height": null,
            "max_width": null,
            "min_height": null,
            "min_width": null,
            "object_fit": null,
            "object_position": null,
            "order": null,
            "overflow": null,
            "overflow_x": null,
            "overflow_y": null,
            "padding": null,
            "right": null,
            "top": null,
            "visibility": null,
            "width": null
          }
        },
        "1ea6a48a10f54eb6962046a0e099d7f8": {
          "model_module": "@jupyter-widgets/controls",
          "model_module_version": "1.5.0",
          "model_name": "LabelModel",
          "state": {
            "_dom_classes": [],
            "_model_module": "@jupyter-widgets/controls",
            "_model_module_version": "1.5.0",
            "_model_name": "LabelModel",
            "_view_count": null,
            "_view_module": "@jupyter-widgets/controls",
            "_view_module_version": "1.5.0",
            "_view_name": "LabelView",
            "description": "",
            "description_tooltip": null,
            "layout": "IPY_MODEL_15524aa1e4a94092b216920bfcfdaa15",
            "placeholder": "​",
            "style": "IPY_MODEL_d6f78d01ee8e4fcd8aee308e46cdcb61",
            "value": "2.698 MB of 2.698 MB uploaded\r"
          }
        },
        "5a4ee8dc5bfc42b08877dbbcfc38c864": {
          "model_module": "@jupyter-widgets/controls",
          "model_module_version": "1.5.0",
          "model_name": "ProgressStyleModel",
          "state": {
            "_model_module": "@jupyter-widgets/controls",
            "_model_module_version": "1.5.0",
            "_model_name": "ProgressStyleModel",
            "_view_count": null,
            "_view_module": "@jupyter-widgets/base",
            "_view_module_version": "1.2.0",
            "_view_name": "StyleView",
            "bar_color": null,
            "description_width": ""
          }
        },
        "6117a427c08e49d4a19ae267749976ac": {
          "model_module": "@jupyter-widgets/base",
          "model_module_version": "1.2.0",
          "model_name": "LayoutModel",
          "state": {
            "_model_module": "@jupyter-widgets/base",
            "_model_module_version": "1.2.0",
            "_model_name": "LayoutModel",
            "_view_count": null,
            "_view_module": "@jupyter-widgets/base",
            "_view_module_version": "1.2.0",
            "_view_name": "LayoutView",
            "align_content": null,
            "align_items": null,
            "align_self": null,
            "border": null,
            "bottom": null,
            "display": null,
            "flex": null,
            "flex_flow": null,
            "grid_area": null,
            "grid_auto_columns": null,
            "grid_auto_flow": null,
            "grid_auto_rows": null,
            "grid_column": null,
            "grid_gap": null,
            "grid_row": null,
            "grid_template_areas": null,
            "grid_template_columns": null,
            "grid_template_rows": null,
            "height": null,
            "justify_content": null,
            "justify_items": null,
            "left": null,
            "margin": null,
            "max_height": null,
            "max_width": null,
            "min_height": null,
            "min_width": null,
            "object_fit": null,
            "object_position": null,
            "order": null,
            "overflow": null,
            "overflow_x": null,
            "overflow_y": null,
            "padding": null,
            "right": null,
            "top": null,
            "visibility": null,
            "width": null
          }
        },
        "85e360d98df342e7bbb7a6e187727e80": {
          "model_module": "@jupyter-widgets/base",
          "model_module_version": "1.2.0",
          "model_name": "LayoutModel",
          "state": {
            "_model_module": "@jupyter-widgets/base",
            "_model_module_version": "1.2.0",
            "_model_name": "LayoutModel",
            "_view_count": null,
            "_view_module": "@jupyter-widgets/base",
            "_view_module_version": "1.2.0",
            "_view_name": "LayoutView",
            "align_content": null,
            "align_items": null,
            "align_self": null,
            "border": null,
            "bottom": null,
            "display": null,
            "flex": null,
            "flex_flow": null,
            "grid_area": null,
            "grid_auto_columns": null,
            "grid_auto_flow": null,
            "grid_auto_rows": null,
            "grid_column": null,
            "grid_gap": null,
            "grid_row": null,
            "grid_template_areas": null,
            "grid_template_columns": null,
            "grid_template_rows": null,
            "height": null,
            "justify_content": null,
            "justify_items": null,
            "left": null,
            "margin": null,
            "max_height": null,
            "max_width": null,
            "min_height": null,
            "min_width": null,
            "object_fit": null,
            "object_position": null,
            "order": null,
            "overflow": null,
            "overflow_x": null,
            "overflow_y": null,
            "padding": null,
            "right": null,
            "top": null,
            "visibility": null,
            "width": null
          }
        },
        "c482e81be7074eef8d9b0767523c7119": {
          "model_module": "@jupyter-widgets/controls",
          "model_module_version": "1.5.0",
          "model_name": "FloatProgressModel",
          "state": {
            "_dom_classes": [],
            "_model_module": "@jupyter-widgets/controls",
            "_model_module_version": "1.5.0",
            "_model_name": "FloatProgressModel",
            "_view_count": null,
            "_view_module": "@jupyter-widgets/controls",
            "_view_module_version": "1.5.0",
            "_view_name": "ProgressView",
            "bar_style": "",
            "description": "",
            "description_tooltip": null,
            "layout": "IPY_MODEL_85e360d98df342e7bbb7a6e187727e80",
            "max": 1,
            "min": 0,
            "orientation": "horizontal",
            "style": "IPY_MODEL_5a4ee8dc5bfc42b08877dbbcfc38c864",
            "value": 1
          }
        },
        "d6f78d01ee8e4fcd8aee308e46cdcb61": {
          "model_module": "@jupyter-widgets/controls",
          "model_module_version": "1.5.0",
          "model_name": "DescriptionStyleModel",
          "state": {
            "_model_module": "@jupyter-widgets/controls",
            "_model_module_version": "1.5.0",
            "_model_name": "DescriptionStyleModel",
            "_view_count": null,
            "_view_module": "@jupyter-widgets/base",
            "_view_module_version": "1.2.0",
            "_view_name": "StyleView",
            "description_width": ""
          }
        },
        "fccef745f4d649cab41f689b46c9fbc4": {
          "model_module": "@jupyter-widgets/controls",
          "model_module_version": "1.5.0",
          "model_name": "VBoxModel",
          "state": {
            "_dom_classes": [],
            "_model_module": "@jupyter-widgets/controls",
            "_model_module_version": "1.5.0",
            "_model_name": "VBoxModel",
            "_view_count": null,
            "_view_module": "@jupyter-widgets/controls",
            "_view_module_version": "1.5.0",
            "_view_name": "VBoxView",
            "box_style": "",
            "children": [
              "IPY_MODEL_1ea6a48a10f54eb6962046a0e099d7f8",
              "IPY_MODEL_c482e81be7074eef8d9b0767523c7119"
            ],
            "layout": "IPY_MODEL_6117a427c08e49d4a19ae267749976ac"
          }
        }
      }
    }
  },
  "nbformat": 4,
  "nbformat_minor": 0
}
