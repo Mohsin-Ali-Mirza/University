{
  "nbformat": 4,
  "nbformat_minor": 0,
  "metadata": {
    "colab": {
      "provenance": []
    },
    "kernelspec": {
      "name": "python3",
      "display_name": "Python 3"
    }
  },
  "cells": [
    {
      "cell_type": "code",
      "metadata": {
        "id": "jclMT5MNSTlE"
      },
      "source": [
        "import pandas as pd\n",
        "import numpy as np\n",
        "from mlxtend.plotting import plot_decision_regions"
      ],
      "execution_count": 1,
      "outputs": []
    },
    {
      "cell_type": "code",
      "metadata": {
        "id": "EF5WoGjUSayH"
      },
      "source": [
        "df = pd.DataFrame()"
      ],
      "execution_count": 2,
      "outputs": []
    },
    {
      "cell_type": "code",
      "metadata": {
        "id": "-gqo-BzHSc-h"
      },
      "source": [
        "df['X1'] = [1,2,3,4,5,6,6,7,9,9]\n",
        "df['X2'] = [5,3,6,8,1,9,5,8,9,2]\n",
        "df['label'] = [1,1,0,1,0,1,0,1,0,0]"
      ],
      "execution_count": 3,
      "outputs": []
    },
    {
      "cell_type": "code",
      "metadata": {
        "colab": {
          "base_uri": "https://localhost:8080/",
          "height": 363
        },
        "id": "4pFG25FGSfNT",
        "outputId": "a0caac79-94e0-4dbc-99a1-71bd4efc7ed0"
      },
      "source": [
        "df"
      ],
      "execution_count": 4,
      "outputs": [
        {
          "output_type": "execute_result",
          "data": {
            "text/plain": [
              "   X1  X2  label\n",
              "0   1   5      1\n",
              "1   2   3      1\n",
              "2   3   6      0\n",
              "3   4   8      1\n",
              "4   5   1      0\n",
              "5   6   9      1\n",
              "6   6   5      0\n",
              "7   7   8      1\n",
              "8   9   9      0\n",
              "9   9   2      0"
            ],
            "text/html": [
              "\n",
              "  <div id=\"df-64495de0-681e-453e-bdca-63b18f938d27\" class=\"colab-df-container\">\n",
              "    <div>\n",
              "<style scoped>\n",
              "    .dataframe tbody tr th:only-of-type {\n",
              "        vertical-align: middle;\n",
              "    }\n",
              "\n",
              "    .dataframe tbody tr th {\n",
              "        vertical-align: top;\n",
              "    }\n",
              "\n",
              "    .dataframe thead th {\n",
              "        text-align: right;\n",
              "    }\n",
              "</style>\n",
              "<table border=\"1\" class=\"dataframe\">\n",
              "  <thead>\n",
              "    <tr style=\"text-align: right;\">\n",
              "      <th></th>\n",
              "      <th>X1</th>\n",
              "      <th>X2</th>\n",
              "      <th>label</th>\n",
              "    </tr>\n",
              "  </thead>\n",
              "  <tbody>\n",
              "    <tr>\n",
              "      <th>0</th>\n",
              "      <td>1</td>\n",
              "      <td>5</td>\n",
              "      <td>1</td>\n",
              "    </tr>\n",
              "    <tr>\n",
              "      <th>1</th>\n",
              "      <td>2</td>\n",
              "      <td>3</td>\n",
              "      <td>1</td>\n",
              "    </tr>\n",
              "    <tr>\n",
              "      <th>2</th>\n",
              "      <td>3</td>\n",
              "      <td>6</td>\n",
              "      <td>0</td>\n",
              "    </tr>\n",
              "    <tr>\n",
              "      <th>3</th>\n",
              "      <td>4</td>\n",
              "      <td>8</td>\n",
              "      <td>1</td>\n",
              "    </tr>\n",
              "    <tr>\n",
              "      <th>4</th>\n",
              "      <td>5</td>\n",
              "      <td>1</td>\n",
              "      <td>0</td>\n",
              "    </tr>\n",
              "    <tr>\n",
              "      <th>5</th>\n",
              "      <td>6</td>\n",
              "      <td>9</td>\n",
              "      <td>1</td>\n",
              "    </tr>\n",
              "    <tr>\n",
              "      <th>6</th>\n",
              "      <td>6</td>\n",
              "      <td>5</td>\n",
              "      <td>0</td>\n",
              "    </tr>\n",
              "    <tr>\n",
              "      <th>7</th>\n",
              "      <td>7</td>\n",
              "      <td>8</td>\n",
              "      <td>1</td>\n",
              "    </tr>\n",
              "    <tr>\n",
              "      <th>8</th>\n",
              "      <td>9</td>\n",
              "      <td>9</td>\n",
              "      <td>0</td>\n",
              "    </tr>\n",
              "    <tr>\n",
              "      <th>9</th>\n",
              "      <td>9</td>\n",
              "      <td>2</td>\n",
              "      <td>0</td>\n",
              "    </tr>\n",
              "  </tbody>\n",
              "</table>\n",
              "</div>\n",
              "    <div class=\"colab-df-buttons\">\n",
              "\n",
              "  <div class=\"colab-df-container\">\n",
              "    <button class=\"colab-df-convert\" onclick=\"convertToInteractive('df-64495de0-681e-453e-bdca-63b18f938d27')\"\n",
              "            title=\"Convert this dataframe to an interactive table.\"\n",
              "            style=\"display:none;\">\n",
              "\n",
              "  <svg xmlns=\"http://www.w3.org/2000/svg\" height=\"24px\" viewBox=\"0 -960 960 960\">\n",
              "    <path d=\"M120-120v-720h720v720H120Zm60-500h600v-160H180v160Zm220 220h160v-160H400v160Zm0 220h160v-160H400v160ZM180-400h160v-160H180v160Zm440 0h160v-160H620v160ZM180-180h160v-160H180v160Zm440 0h160v-160H620v160Z\"/>\n",
              "  </svg>\n",
              "    </button>\n",
              "\n",
              "  <style>\n",
              "    .colab-df-container {\n",
              "      display:flex;\n",
              "      gap: 12px;\n",
              "    }\n",
              "\n",
              "    .colab-df-convert {\n",
              "      background-color: #E8F0FE;\n",
              "      border: none;\n",
              "      border-radius: 50%;\n",
              "      cursor: pointer;\n",
              "      display: none;\n",
              "      fill: #1967D2;\n",
              "      height: 32px;\n",
              "      padding: 0 0 0 0;\n",
              "      width: 32px;\n",
              "    }\n",
              "\n",
              "    .colab-df-convert:hover {\n",
              "      background-color: #E2EBFA;\n",
              "      box-shadow: 0px 1px 2px rgba(60, 64, 67, 0.3), 0px 1px 3px 1px rgba(60, 64, 67, 0.15);\n",
              "      fill: #174EA6;\n",
              "    }\n",
              "\n",
              "    .colab-df-buttons div {\n",
              "      margin-bottom: 4px;\n",
              "    }\n",
              "\n",
              "    [theme=dark] .colab-df-convert {\n",
              "      background-color: #3B4455;\n",
              "      fill: #D2E3FC;\n",
              "    }\n",
              "\n",
              "    [theme=dark] .colab-df-convert:hover {\n",
              "      background-color: #434B5C;\n",
              "      box-shadow: 0px 1px 3px 1px rgba(0, 0, 0, 0.15);\n",
              "      filter: drop-shadow(0px 1px 2px rgba(0, 0, 0, 0.3));\n",
              "      fill: #FFFFFF;\n",
              "    }\n",
              "  </style>\n",
              "\n",
              "    <script>\n",
              "      const buttonEl =\n",
              "        document.querySelector('#df-64495de0-681e-453e-bdca-63b18f938d27 button.colab-df-convert');\n",
              "      buttonEl.style.display =\n",
              "        google.colab.kernel.accessAllowed ? 'block' : 'none';\n",
              "\n",
              "      async function convertToInteractive(key) {\n",
              "        const element = document.querySelector('#df-64495de0-681e-453e-bdca-63b18f938d27');\n",
              "        const dataTable =\n",
              "          await google.colab.kernel.invokeFunction('convertToInteractive',\n",
              "                                                    [key], {});\n",
              "        if (!dataTable) return;\n",
              "\n",
              "        const docLinkHtml = 'Like what you see? Visit the ' +\n",
              "          '<a target=\"_blank\" href=https://colab.research.google.com/notebooks/data_table.ipynb>data table notebook</a>'\n",
              "          + ' to learn more about interactive tables.';\n",
              "        element.innerHTML = '';\n",
              "        dataTable['output_type'] = 'display_data';\n",
              "        await google.colab.output.renderOutput(dataTable, element);\n",
              "        const docLink = document.createElement('div');\n",
              "        docLink.innerHTML = docLinkHtml;\n",
              "        element.appendChild(docLink);\n",
              "      }\n",
              "    </script>\n",
              "  </div>\n",
              "\n",
              "\n",
              "<div id=\"df-6f571b29-47c8-46c3-85d0-476e7fb5eb88\">\n",
              "  <button class=\"colab-df-quickchart\" onclick=\"quickchart('df-6f571b29-47c8-46c3-85d0-476e7fb5eb88')\"\n",
              "            title=\"Suggest charts\"\n",
              "            style=\"display:none;\">\n",
              "\n",
              "<svg xmlns=\"http://www.w3.org/2000/svg\" height=\"24px\"viewBox=\"0 0 24 24\"\n",
              "     width=\"24px\">\n",
              "    <g>\n",
              "        <path d=\"M19 3H5c-1.1 0-2 .9-2 2v14c0 1.1.9 2 2 2h14c1.1 0 2-.9 2-2V5c0-1.1-.9-2-2-2zM9 17H7v-7h2v7zm4 0h-2V7h2v10zm4 0h-2v-4h2v4z\"/>\n",
              "    </g>\n",
              "</svg>\n",
              "  </button>\n",
              "\n",
              "<style>\n",
              "  .colab-df-quickchart {\n",
              "      --bg-color: #E8F0FE;\n",
              "      --fill-color: #1967D2;\n",
              "      --hover-bg-color: #E2EBFA;\n",
              "      --hover-fill-color: #174EA6;\n",
              "      --disabled-fill-color: #AAA;\n",
              "      --disabled-bg-color: #DDD;\n",
              "  }\n",
              "\n",
              "  [theme=dark] .colab-df-quickchart {\n",
              "      --bg-color: #3B4455;\n",
              "      --fill-color: #D2E3FC;\n",
              "      --hover-bg-color: #434B5C;\n",
              "      --hover-fill-color: #FFFFFF;\n",
              "      --disabled-bg-color: #3B4455;\n",
              "      --disabled-fill-color: #666;\n",
              "  }\n",
              "\n",
              "  .colab-df-quickchart {\n",
              "    background-color: var(--bg-color);\n",
              "    border: none;\n",
              "    border-radius: 50%;\n",
              "    cursor: pointer;\n",
              "    display: none;\n",
              "    fill: var(--fill-color);\n",
              "    height: 32px;\n",
              "    padding: 0;\n",
              "    width: 32px;\n",
              "  }\n",
              "\n",
              "  .colab-df-quickchart:hover {\n",
              "    background-color: var(--hover-bg-color);\n",
              "    box-shadow: 0 1px 2px rgba(60, 64, 67, 0.3), 0 1px 3px 1px rgba(60, 64, 67, 0.15);\n",
              "    fill: var(--button-hover-fill-color);\n",
              "  }\n",
              "\n",
              "  .colab-df-quickchart-complete:disabled,\n",
              "  .colab-df-quickchart-complete:disabled:hover {\n",
              "    background-color: var(--disabled-bg-color);\n",
              "    fill: var(--disabled-fill-color);\n",
              "    box-shadow: none;\n",
              "  }\n",
              "\n",
              "  .colab-df-spinner {\n",
              "    border: 2px solid var(--fill-color);\n",
              "    border-color: transparent;\n",
              "    border-bottom-color: var(--fill-color);\n",
              "    animation:\n",
              "      spin 1s steps(1) infinite;\n",
              "  }\n",
              "\n",
              "  @keyframes spin {\n",
              "    0% {\n",
              "      border-color: transparent;\n",
              "      border-bottom-color: var(--fill-color);\n",
              "      border-left-color: var(--fill-color);\n",
              "    }\n",
              "    20% {\n",
              "      border-color: transparent;\n",
              "      border-left-color: var(--fill-color);\n",
              "      border-top-color: var(--fill-color);\n",
              "    }\n",
              "    30% {\n",
              "      border-color: transparent;\n",
              "      border-left-color: var(--fill-color);\n",
              "      border-top-color: var(--fill-color);\n",
              "      border-right-color: var(--fill-color);\n",
              "    }\n",
              "    40% {\n",
              "      border-color: transparent;\n",
              "      border-right-color: var(--fill-color);\n",
              "      border-top-color: var(--fill-color);\n",
              "    }\n",
              "    60% {\n",
              "      border-color: transparent;\n",
              "      border-right-color: var(--fill-color);\n",
              "    }\n",
              "    80% {\n",
              "      border-color: transparent;\n",
              "      border-right-color: var(--fill-color);\n",
              "      border-bottom-color: var(--fill-color);\n",
              "    }\n",
              "    90% {\n",
              "      border-color: transparent;\n",
              "      border-bottom-color: var(--fill-color);\n",
              "    }\n",
              "  }\n",
              "</style>\n",
              "\n",
              "  <script>\n",
              "    async function quickchart(key) {\n",
              "      const quickchartButtonEl =\n",
              "        document.querySelector('#' + key + ' button');\n",
              "      quickchartButtonEl.disabled = true;  // To prevent multiple clicks.\n",
              "      quickchartButtonEl.classList.add('colab-df-spinner');\n",
              "      try {\n",
              "        const charts = await google.colab.kernel.invokeFunction(\n",
              "            'suggestCharts', [key], {});\n",
              "      } catch (error) {\n",
              "        console.error('Error during call to suggestCharts:', error);\n",
              "      }\n",
              "      quickchartButtonEl.classList.remove('colab-df-spinner');\n",
              "      quickchartButtonEl.classList.add('colab-df-quickchart-complete');\n",
              "    }\n",
              "    (() => {\n",
              "      let quickchartButtonEl =\n",
              "        document.querySelector('#df-6f571b29-47c8-46c3-85d0-476e7fb5eb88 button');\n",
              "      quickchartButtonEl.style.display =\n",
              "        google.colab.kernel.accessAllowed ? 'block' : 'none';\n",
              "    })();\n",
              "  </script>\n",
              "</div>\n",
              "    </div>\n",
              "  </div>\n"
            ]
          },
          "metadata": {},
          "execution_count": 4
        }
      ]
    },
    {
      "cell_type": "code",
      "metadata": {
        "colab": {
          "base_uri": "https://localhost:8080/",
          "height": 466
        },
        "id": "o_LksXPgSgug",
        "outputId": "a9805226-47f6-421a-edb2-7326973d4b98"
      },
      "source": [
        "import seaborn as sns\n",
        "sns.scatterplot(x=df['X1'],y=df['X2'],hue=df['label'])"
      ],
      "execution_count": 5,
      "outputs": [
        {
          "output_type": "execute_result",
          "data": {
            "text/plain": [
              "<Axes: xlabel='X1', ylabel='X2'>"
            ]
          },
          "metadata": {},
          "execution_count": 5
        },
        {
          "output_type": "display_data",
          "data": {
            "text/plain": [
              "<Figure size 640x480 with 1 Axes>"
            ],
            "image/png": "[encoded data removed]"
          },
          "metadata": {}
        }
      ]
    },
    {
      "cell_type": "markdown",
      "source": [
        "**We start with the following probabilities:**"
      ],
      "metadata": {
        "id": "pLZEMP2KzY7d"
      }
    },
    {
      "cell_type": "code",
      "metadata": {
        "id": "z1FU8a3eSlg3"
      },
      "source": [
        "df['weights'] = 1/df.shape[0]"
      ],
      "execution_count": 6,
      "outputs": []
    },
    {
      "cell_type": "code",
      "metadata": {
        "colab": {
          "base_uri": "https://localhost:8080/",
          "height": 363
        },
        "id": "vPmSZVAVS0r6",
        "outputId": "deb4f12a-eae1-4b1d-c139-4948ff9e6132"
      },
      "source": [
        "df"
      ],
      "execution_count": 9,
      "outputs": [
        {
          "output_type": "execute_result",
          "data": {
            "text/plain": [
              "   X1  X2  label  weights\n",
              "0   1   5      1      0.1\n",
              "1   2   3      1      0.1\n",
              "2   3   6      0      0.1\n",
              "3   4   8      1      0.1\n",
              "4   5   1      0      0.1\n",
              "5   6   9      1      0.1\n",
              "6   6   5      0      0.1\n",
              "7   7   8      1      0.1\n",
              "8   9   9      0      0.1\n",
              "9   9   2      0      0.1"
            ],
            "text/html": [
              "\n",
              "  <div id=\"df-27aa4081-a066-4d1f-a0ac-1767f6a605c8\" class=\"colab-df-container\">\n",
              "    <div>\n",
              "<style scoped>\n",
              "    .dataframe tbody tr th:only-of-type {\n",
              "        vertical-align: middle;\n",
              "    }\n",
              "\n",
              "    .dataframe tbody tr th {\n",
              "        vertical-align: top;\n",
              "    }\n",
              "\n",
              "    .dataframe thead th {\n",
              "        text-align: right;\n",
              "    }\n",
              "</style>\n",
              "<table border=\"1\" class=\"dataframe\">\n",
              "  <thead>\n",
              "    <tr style=\"text-align: right;\">\n",
              "      <th></th>\n",
              "      <th>X1</th>\n",
              "      <th>X2</th>\n",
              "      <th>label</th>\n",
              "      <th>weights</th>\n",
              "    </tr>\n",
              "  </thead>\n",
              "  <tbody>\n",
              "    <tr>\n",
              "      <th>0</th>\n",
              "      <td>1</td>\n",
              "      <td>5</td>\n",
              "      <td>1</td>\n",
              "      <td>0.1</td>\n",
              "    </tr>\n",
              "    <tr>\n",
              "      <th>1</th>\n",
              "      <td>2</td>\n",
              "      <td>3</td>\n",
              "      <td>1</td>\n",
              "      <td>0.1</td>\n",
              "    </tr>\n",
              "    <tr>\n",
              "      <th>2</th>\n",
              "      <td>3</td>\n",
              "      <td>6</td>\n",
              "      <td>0</td>\n",
              "      <td>0.1</td>\n",
              "    </tr>\n",
              "    <tr>\n",
              "      <th>3</th>\n",
              "      <td>4</td>\n",
              "      <td>8</td>\n",
              "      <td>1</td>\n",
              "      <td>0.1</td>\n",
              "    </tr>\n",
              "    <tr>\n",
              "      <th>4</th>\n",
              "      <td>5</td>\n",
              "      <td>1</td>\n",
              "      <td>0</td>\n",
              "      <td>0.1</td>\n",
              "    </tr>\n",
              "    <tr>\n",
              "      <th>5</th>\n",
              "      <td>6</td>\n",
              "      <td>9</td>\n",
              "      <td>1</td>\n",
              "      <td>0.1</td>\n",
              "    </tr>\n",
              "    <tr>\n",
              "      <th>6</th>\n",
              "      <td>6</td>\n",
              "      <td>5</td>\n",
              "      <td>0</td>\n",
              "      <td>0.1</td>\n",
              "    </tr>\n",
              "    <tr>\n",
              "      <th>7</th>\n",
              "      <td>7</td>\n",
              "      <td>8</td>\n",
              "      <td>1</td>\n",
              "      <td>0.1</td>\n",
              "    </tr>\n",
              "    <tr>\n",
              "      <th>8</th>\n",
              "      <td>9</td>\n",
              "      <td>9</td>\n",
              "      <td>0</td>\n",
              "      <td>0.1</td>\n",
              "    </tr>\n",
              "    <tr>\n",
              "      <th>9</th>\n",
              "      <td>9</td>\n",
              "      <td>2</td>\n",
              "      <td>0</td>\n",
              "      <td>0.1</td>\n",
              "    </tr>\n",
              "  </tbody>\n",
              "</table>\n",
              "</div>\n",
              "    <div class=\"colab-df-buttons\">\n",
              "\n",
              "  <div class=\"colab-df-container\">\n",
              "    <button class=\"colab-df-convert\" onclick=\"convertToInteractive('df-27aa4081-a066-4d1f-a0ac-1767f6a605c8')\"\n",
              "            title=\"Convert this dataframe to an interactive table.\"\n",
              "            style=\"display:none;\">\n",
              "\n",
              "  <svg xmlns=\"http://www.w3.org/2000/svg\" height=\"24px\" viewBox=\"0 -960 960 960\">\n",
              "    <path d=\"M120-120v-720h720v720H120Zm60-500h600v-160H180v160Zm220 220h160v-160H400v160Zm0 220h160v-160H400v160ZM180-400h160v-160H180v160Zm440 0h160v-160H620v160ZM180-180h160v-160H180v160Zm440 0h160v-160H620v160Z\"/>\n",
              "  </svg>\n",
              "    </button>\n",
              "\n",
              "  <style>\n",
              "    .colab-df-container {\n",
              "      display:flex;\n",
              "      gap: 12px;\n",
              "    }\n",
              "\n",
              "    .colab-df-convert {\n",
              "      background-color: #E8F0FE;\n",
              "      border: none;\n",
              "      border-radius: 50%;\n",
              "      cursor: pointer;\n",
              "      display: none;\n",
              "      fill: #1967D2;\n",
              "      height: 32px;\n",
              "      padding: 0 0 0 0;\n",
              "      width: 32px;\n",
              "    }\n",
              "\n",
              "    .colab-df-convert:hover {\n",
              "      background-color: #E2EBFA;\n",
              "      box-shadow: 0px 1px 2px rgba(60, 64, 67, 0.3), 0px 1px 3px 1px rgba(60, 64, 67, 0.15);\n",
              "      fill: #174EA6;\n",
              "    }\n",
              "\n",
              "    .colab-df-buttons div {\n",
              "      margin-bottom: 4px;\n",
              "    }\n",
              "\n",
              "    [theme=dark] .colab-df-convert {\n",
              "      background-color: #3B4455;\n",
              "      fill: #D2E3FC;\n",
              "    }\n",
              "\n",
              "    [theme=dark] .colab-df-convert:hover {\n",
              "      background-color: #434B5C;\n",
              "      box-shadow: 0px 1px 3px 1px rgba(0, 0, 0, 0.15);\n",
              "      filter: drop-shadow(0px 1px 2px rgba(0, 0, 0, 0.3));\n",
              "      fill: #FFFFFF;\n",
              "    }\n",
              "  </style>\n",
              "\n",
              "    <script>\n",
              "      const buttonEl =\n",
              "        document.querySelector('#df-27aa4081-a066-4d1f-a0ac-1767f6a605c8 button.colab-df-convert');\n",
              "      buttonEl.style.display =\n",
              "        google.colab.kernel.accessAllowed ? 'block' : 'none';\n",
              "\n",
              "      async function convertToInteractive(key) {\n",
              "        const element = document.querySelector('#df-27aa4081-a066-4d1f-a0ac-1767f6a605c8');\n",
              "        const dataTable =\n",
              "          await google.colab.kernel.invokeFunction('convertToInteractive',\n",
              "                                                    [key], {});\n",
              "        if (!dataTable) return;\n",
              "\n",
              "        const docLinkHtml = 'Like what you see? Visit the ' +\n",
              "          '<a target=\"_blank\" href=https://colab.research.google.com/notebooks/data_table.ipynb>data table notebook</a>'\n",
              "          + ' to learn more about interactive tables.';\n",
              "        element.innerHTML = '';\n",
              "        dataTable['output_type'] = 'display_data';\n",
              "        await google.colab.output.renderOutput(dataTable, element);\n",
              "        const docLink = document.createElement('div');\n",
              "        docLink.innerHTML = docLinkHtml;\n",
              "        element.appendChild(docLink);\n",
              "      }\n",
              "    </script>\n",
              "  </div>\n",
              "\n",
              "\n",
              "<div id=\"df-85f93d8c-e834-484d-a78f-56b31ef451eb\">\n",
              "  <button class=\"colab-df-quickchart\" onclick=\"quickchart('df-85f93d8c-e834-484d-a78f-56b31ef451eb')\"\n",
              "            title=\"Suggest charts\"\n",
              "            style=\"display:none;\">\n",
              "\n",
              "<svg xmlns=\"http://www.w3.org/2000/svg\" height=\"24px\"viewBox=\"0 0 24 24\"\n",
              "     width=\"24px\">\n",
              "    <g>\n",
              "        <path d=\"M19 3H5c-1.1 0-2 .9-2 2v14c0 1.1.9 2 2 2h14c1.1 0 2-.9 2-2V5c0-1.1-.9-2-2-2zM9 17H7v-7h2v7zm4 0h-2V7h2v10zm4 0h-2v-4h2v4z\"/>\n",
              "    </g>\n",
              "</svg>\n",
              "  </button>\n",
              "\n",
              "<style>\n",
              "  .colab-df-quickchart {\n",
              "      --bg-color: #E8F0FE;\n",
              "      --fill-color: #1967D2;\n",
              "      --hover-bg-color: #E2EBFA;\n",
              "      --hover-fill-color: #174EA6;\n",
              "      --disabled-fill-color: #AAA;\n",
              "      --disabled-bg-color: #DDD;\n",
              "  }\n",
              "\n",
              "  [theme=dark] .colab-df-quickchart {\n",
              "      --bg-color: #3B4455;\n",
              "      --fill-color: #D2E3FC;\n",
              "      --hover-bg-color: #434B5C;\n",
              "      --hover-fill-color: #FFFFFF;\n",
              "      --disabled-bg-color: #3B4455;\n",
              "      --disabled-fill-color: #666;\n",
              "  }\n",
              "\n",
              "  .colab-df-quickchart {\n",
              "    background-color: var(--bg-color);\n",
              "    border: none;\n",
              "    border-radius: 50%;\n",
              "    cursor: pointer;\n",
              "    display: none;\n",
              "    fill: var(--fill-color);\n",
              "    height: 32px;\n",
              "    padding: 0;\n",
              "    width: 32px;\n",
              "  }\n",
              "\n",
              "  .colab-df-quickchart:hover {\n",
              "    background-color: var(--hover-bg-color);\n",
              "    box-shadow: 0 1px 2px rgba(60, 64, 67, 0.3), 0 1px 3px 1px rgba(60, 64, 67, 0.15);\n",
              "    fill: var(--button-hover-fill-color);\n",
              "  }\n",
              "\n",
              "  .colab-df-quickchart-complete:disabled,\n",
              "  .colab-df-quickchart-complete:disabled:hover {\n",
              "    background-color: var(--disabled-bg-color);\n",
              "    fill: var(--disabled-fill-color);\n",
              "    box-shadow: none;\n",
              "  }\n",
              "\n",
              "  .colab-df-spinner {\n",
              "    border: 2px solid var(--fill-color);\n",
              "    border-color: transparent;\n",
              "    border-bottom-color: var(--fill-color);\n",
              "    animation:\n",
              "      spin 1s steps(1) infinite;\n",
              "  }\n",
              "\n",
              "  @keyframes spin {\n",
              "    0% {\n",
              "      border-color: transparent;\n",
              "      border-bottom-color: var(--fill-color);\n",
              "      border-left-color: var(--fill-color);\n",
              "    }\n",
              "    20% {\n",
              "      border-color: transparent;\n",
              "      border-left-color: var(--fill-color);\n",
              "      border-top-color: var(--fill-color);\n",
              "    }\n",
              "    30% {\n",
              "      border-color: transparent;\n",
              "      border-left-color: var(--fill-color);\n",
              "      border-top-color: var(--fill-color);\n",
              "      border-right-color: var(--fill-color);\n",
              "    }\n",
              "    40% {\n",
              "      border-color: transparent;\n",
              "      border-right-color: var(--fill-color);\n",
              "      border-top-color: var(--fill-color);\n",
              "    }\n",
              "    60% {\n",
              "      border-color: transparent;\n",
              "      border-right-color: var(--fill-color);\n",
              "    }\n",
              "    80% {\n",
              "      border-color: transparent;\n",
              "      border-right-color: var(--fill-color);\n",
              "      border-bottom-color: var(--fill-color);\n",
              "    }\n",
              "    90% {\n",
              "      border-color: transparent;\n",
              "      border-bottom-color: var(--fill-color);\n",
              "    }\n",
              "  }\n",
              "</style>\n",
              "\n",
              "  <script>\n",
              "    async function quickchart(key) {\n",
              "      const quickchartButtonEl =\n",
              "        document.querySelector('#' + key + ' button');\n",
              "      quickchartButtonEl.disabled = true;  // To prevent multiple clicks.\n",
              "      quickchartButtonEl.classList.add('colab-df-spinner');\n",
              "      try {\n",
              "        const charts = await google.colab.kernel.invokeFunction(\n",
              "            'suggestCharts', [key], {});\n",
              "      } catch (error) {\n",
              "        console.error('Error during call to suggestCharts:', error);\n",
              "      }\n",
              "      quickchartButtonEl.classList.remove('colab-df-spinner');\n",
              "      quickchartButtonEl.classList.add('colab-df-quickchart-complete');\n",
              "    }\n",
              "    (() => {\n",
              "      let quickchartButtonEl =\n",
              "        document.querySelector('#df-85f93d8c-e834-484d-a78f-56b31ef451eb button');\n",
              "      quickchartButtonEl.style.display =\n",
              "        google.colab.kernel.accessAllowed ? 'block' : 'none';\n",
              "    })();\n",
              "  </script>\n",
              "</div>\n",
              "    </div>\n",
              "  </div>\n"
            ]
          },
          "metadata": {},
          "execution_count": 9
        }
      ]
    },
    {
      "cell_type": "code",
      "metadata": {
        "id": "N3TjT8veS5N-"
      },
      "source": [
        "from sklearn.tree import DecisionTreeClassifier"
      ],
      "execution_count": 10,
      "outputs": []
    },
    {
      "cell_type": "code",
      "metadata": {
        "id": "UScWCgRyTA1G"
      },
      "source": [
        "dt1 = DecisionTreeClassifier(max_depth=1)"
      ],
      "execution_count": 11,
      "outputs": []
    },
    {
      "cell_type": "code",
      "metadata": {
        "id": "aCPCyBdgTEYG"
      },
      "source": [
        "X = df.iloc[:,0:2].values\n",
        "y = df.iloc[:,2].values"
      ],
      "execution_count": 17,
      "outputs": []
    },
    {
      "cell_type": "code",
      "metadata": {
        "colab": {
          "base_uri": "https://localhost:8080/",
          "height": 75
        },
        "id": "1V126mCBTNnC",
        "outputId": "02197d83-9c9f-4b42-cfdc-dfa1bacb152e"
      },
      "source": [
        "# Step 2 - Train 1st model\n",
        "dt1.fit(X,y)"
      ],
      "execution_count": 18,
      "outputs": [
        {
          "output_type": "execute_result",
          "data": {
            "text/plain": [
              "DecisionTreeClassifier(max_depth=1)"
            ],
            "text/html": [
              "<style>#sk-container-id-1 {color: black;background-color: white;}#sk-container-id-1 pre{padding: 0;}#sk-container-id-1 div.sk-toggleable {background-color: white;}#sk-container-id-1 label.sk-toggleable__label {cursor: pointer;display: block;width: 100%;margin-bottom: 0;padding: 0.3em;box-sizing: border-box;text-align: center;}#sk-container-id-1 label.sk-toggleable__label-arrow:before {content: \"▸\";float: left;margin-right: 0.25em;color: #696969;}#sk-container-id-1 label.sk-toggleable__label-arrow:hover:before {color: black;}#sk-container-id-1 div.sk-estimator:hover label.sk-toggleable__label-arrow:before {color: black;}#sk-container-id-1 div.sk-toggleable__content {max-height: 0;max-width: 0;overflow: hidden;text-align: left;background-color: #f0f8ff;}#sk-container-id-1 div.sk-toggleable__content pre {margin: 0.2em;color: black;border-radius: 0.25em;background-color: #f0f8ff;}#sk-container-id-1 input.sk-toggleable__control:checked~div.sk-toggleable__content {max-height: 200px;max-width: 100%;overflow: auto;}#sk-container-id-1 input.sk-toggleable__control:checked~label.sk-toggleable__label-arrow:before {content: \"▾\";}#sk-container-id-1 div.sk-estimator input.sk-toggleable__control:checked~label.sk-toggleable__label {background-color: #d4ebff;}#sk-container-id-1 div.sk-label input.sk-toggleable__control:checked~label.sk-toggleable__label {background-color: #d4ebff;}#sk-container-id-1 input.sk-hidden--visually {border: 0;clip: rect(1px 1px 1px 1px);clip: rect(1px, 1px, 1px, 1px);height: 1px;margin: -1px;overflow: hidden;padding: 0;position: absolute;width: 1px;}#sk-container-id-1 div.sk-estimator {font-family: monospace;background-color: #f0f8ff;border: 1px dotted black;border-radius: 0.25em;box-sizing: border-box;margin-bottom: 0.5em;}#sk-container-id-1 div.sk-estimator:hover {background-color: #d4ebff;}#sk-container-id-1 div.sk-parallel-item::after {content: \"\";width: 100%;border-bottom: 1px solid gray;flex-grow: 1;}#sk-container-id-1 div.sk-label:hover label.sk-toggleable__label {background-color: #d4ebff;}#sk-container-id-1 div.sk-serial::before {content: \"\";position: absolute;border-left: 1px solid gray;box-sizing: border-box;top: 0;bottom: 0;left: 50%;z-index: 0;}#sk-container-id-1 div.sk-serial {display: flex;flex-direction: column;align-items: center;background-color: white;padding-right: 0.2em;padding-left: 0.2em;position: relative;}#sk-container-id-1 div.sk-item {position: relative;z-index: 1;}#sk-container-id-1 div.sk-parallel {display: flex;align-items: stretch;justify-content: center;background-color: white;position: relative;}#sk-container-id-1 div.sk-item::before, #sk-container-id-1 div.sk-parallel-item::before {content: \"\";position: absolute;border-left: 1px solid gray;box-sizing: border-box;top: 0;bottom: 0;left: 50%;z-index: -1;}#sk-container-id-1 div.sk-parallel-item {display: flex;flex-direction: column;z-index: 1;position: relative;background-color: white;}#sk-container-id-1 div.sk-parallel-item:first-child::after {align-self: flex-end;width: 50%;}#sk-container-id-1 div.sk-parallel-item:last-child::after {align-self: flex-start;width: 50%;}#sk-container-id-1 div.sk-parallel-item:only-child::after {width: 0;}#sk-container-id-1 div.sk-dashed-wrapped {border: 1px dashed gray;margin: 0 0.4em 0.5em 0.4em;box-sizing: border-box;padding-bottom: 0.4em;background-color: white;}#sk-container-id-1 div.sk-label label {font-family: monospace;font-weight: bold;display: inline-block;line-height: 1.2em;}#sk-container-id-1 div.sk-label-container {text-align: center;}#sk-container-id-1 div.sk-container {/* jupyter's `normalize.less` sets `[hidden] { display: none; }` but bootstrap.min.css set `[hidden] { display: none !important; }` so we also need the `!important` here to be able to override the default hidden behavior on the sphinx rendered scikit-learn.org. See: https://github.com/scikit-learn/scikit-learn/issues/21755 */display: inline-block !important;position: relative;}#sk-container-id-1 div.sk-text-repr-fallback {display: none;}</style><div id=\"sk-container-id-1\" class=\"sk-top-container\"><div class=\"sk-text-repr-fallback\"><pre>DecisionTreeClassifier(max_depth=1)</pre><b>In a Jupyter environment, please rerun this cell to show the HTML representation or trust the notebook. <br />On GitHub, the HTML representation is unable to render, please try loading this page with nbviewer.org.</b></div><div class=\"sk-container\" hidden><div class=\"sk-item\"><div class=\"sk-estimator sk-toggleable\"><input class=\"sk-toggleable__control sk-hidden--visually\" id=\"sk-estimator-id-1\" type=\"checkbox\" checked><label for=\"sk-estimator-id-1\" class=\"sk-toggleable__label sk-toggleable__label-arrow\">DecisionTreeClassifier</label><div class=\"sk-toggleable__content\"><pre>DecisionTreeClassifier(max_depth=1)</pre></div></div></div></div></div>"
            ]
          },
          "metadata": {},
          "execution_count": 18
        }
      ]
    },
    {
      "cell_type": "code",
      "metadata": {
        "colab": {
          "base_uri": "https://localhost:8080/",
          "height": 458
        },
        "id": "Z3CITcNwioZY",
        "outputId": "5182e73f-6308-49f3-fc6c-2dfe8bd8efd9"
      },
      "source": [
        "from sklearn.tree import plot_tree\n",
        "plot_tree(dt1)"
      ],
      "execution_count": 19,
      "outputs": [
        {
          "output_type": "execute_result",
          "data": {
            "text/plain": [
              "[Text(0.5, 0.75, 'x[1] <= 2.5\\ngini = 0.5\\nsamples = 10\\nvalue = [5, 5]'),\n",
              " Text(0.25, 0.25, 'gini = 0.0\\nsamples = 2\\nvalue = [2, 0]'),\n",
              " Text(0.75, 0.25, 'gini = 0.469\\nsamples = 8\\nvalue = [3, 5]')]"
            ]
          },
          "metadata": {},
          "execution_count": 19
        },
        {
          "output_type": "display_data",
          "data": {
            "text/plain": [
              "<Figure size 640x480 with 1 Axes>"
            ],
            "image/png": "[encoded data removed]"
          },
          "metadata": {}
        }
      ]
    },
    {
      "cell_type": "code",
      "metadata": {
        "colab": {
          "base_uri": "https://localhost:8080/",
          "height": 452
        },
        "id": "uY_6_xIGTQWe",
        "outputId": "b3e67e8a-cb6f-4d77-bb7e-a5277777f6ec"
      },
      "source": [
        "plot_decision_regions(X, y, clf=dt1, legend=2)"
      ],
      "execution_count": 20,
      "outputs": [
        {
          "output_type": "execute_result",
          "data": {
            "text/plain": [
              "<Axes: >"
            ]
          },
          "metadata": {},
          "execution_count": 20
        },
        {
          "output_type": "display_data",
          "data": {
            "text/plain": [
              "<Figure size 640x480 with 1 Axes>"
            ],
            "image/png": "[encoded data removed]"
          },
          "metadata": {}
        }
      ]
    },
    {
      "cell_type": "code",
      "metadata": {
        "id": "dPrZxbHTTWd7"
      },
      "source": [
        "df['y_pred'] = dt1.predict(X)"
      ],
      "execution_count": 21,
      "outputs": []
    },
    {
      "cell_type": "code",
      "metadata": {
        "colab": {
          "base_uri": "https://localhost:8080/",
          "height": 363
        },
        "id": "kxDkSAFNTloe",
        "outputId": "efcc5a4d-89b5-4829-f0b1-bb77713b6cf3"
      },
      "source": [
        "df"
      ],
      "execution_count": 22,
      "outputs": [
        {
          "output_type": "execute_result",
          "data": {
            "text/plain": [
              "   X1  X2  label  weights  y_pred\n",
              "0   1   5      1      0.1       1\n",
              "1   2   3      1      0.1       1\n",
              "2   3   6      0      0.1       1\n",
              "3   4   8      1      0.1       1\n",
              "4   5   1      0      0.1       0\n",
              "5   6   9      1      0.1       1\n",
              "6   6   5      0      0.1       1\n",
              "7   7   8      1      0.1       1\n",
              "8   9   9      0      0.1       1\n",
              "9   9   2      0      0.1       0"
            ],
            "text/html": [
              "\n",
              "  <div id=\"df-92c45dbc-2583-4aea-8404-bb22bc3e47c0\" class=\"colab-df-container\">\n",
              "    <div>\n",
              "<style scoped>\n",
              "    .dataframe tbody tr th:only-of-type {\n",
              "        vertical-align: middle;\n",
              "    }\n",
              "\n",
              "    .dataframe tbody tr th {\n",
              "        vertical-align: top;\n",
              "    }\n",
              "\n",
              "    .dataframe thead th {\n",
              "        text-align: right;\n",
              "    }\n",
              "</style>\n",
              "<table border=\"1\" class=\"dataframe\">\n",
              "  <thead>\n",
              "    <tr style=\"text-align: right;\">\n",
              "      <th></th>\n",
              "      <th>X1</th>\n",
              "      <th>X2</th>\n",
              "      <th>label</th>\n",
              "      <th>weights</th>\n",
              "      <th>y_pred</th>\n",
              "    </tr>\n",
              "  </thead>\n",
              "  <tbody>\n",
              "    <tr>\n",
              "      <th>0</th>\n",
              "      <td>1</td>\n",
              "      <td>5</td>\n",
              "      <td>1</td>\n",
              "      <td>0.1</td>\n",
              "      <td>1</td>\n",
              "    </tr>\n",
              "    <tr>\n",
              "      <th>1</th>\n",
              "      <td>2</td>\n",
              "      <td>3</td>\n",
              "      <td>1</td>\n",
              "      <td>0.1</td>\n",
              "      <td>1</td>\n",
              "    </tr>\n",
              "    <tr>\n",
              "      <th>2</th>\n",
              "      <td>3</td>\n",
              "      <td>6</td>\n",
              "      <td>0</td>\n",
              "      <td>0.1</td>\n",
              "      <td>1</td>\n",
              "    </tr>\n",
              "    <tr>\n",
              "      <th>3</th>\n",
              "      <td>4</td>\n",
              "      <td>8</td>\n",
              "      <td>1</td>\n",
              "      <td>0.1</td>\n",
              "      <td>1</td>\n",
              "    </tr>\n",
              "    <tr>\n",
              "      <th>4</th>\n",
              "      <td>5</td>\n",
              "      <td>1</td>\n",
              "      <td>0</td>\n",
              "      <td>0.1</td>\n",
              "      <td>0</td>\n",
              "    </tr>\n",
              "    <tr>\n",
              "      <th>5</th>\n",
              "      <td>6</td>\n",
              "      <td>9</td>\n",
              "      <td>1</td>\n",
              "      <td>0.1</td>\n",
              "      <td>1</td>\n",
              "    </tr>\n",
              "    <tr>\n",
              "      <th>6</th>\n",
              "      <td>6</td>\n",
              "      <td>5</td>\n",
              "      <td>0</td>\n",
              "      <td>0.1</td>\n",
              "      <td>1</td>\n",
              "    </tr>\n",
              "    <tr>\n",
              "      <th>7</th>\n",
              "      <td>7</td>\n",
              "      <td>8</td>\n",
              "      <td>1</td>\n",
              "      <td>0.1</td>\n",
              "      <td>1</td>\n",
              "    </tr>\n",
              "    <tr>\n",
              "      <th>8</th>\n",
              "      <td>9</td>\n",
              "      <td>9</td>\n",
              "      <td>0</td>\n",
              "      <td>0.1</td>\n",
              "      <td>1</td>\n",
              "    </tr>\n",
              "    <tr>\n",
              "      <th>9</th>\n",
              "      <td>9</td>\n",
              "      <td>2</td>\n",
              "      <td>0</td>\n",
              "      <td>0.1</td>\n",
              "      <td>0</td>\n",
              "    </tr>\n",
              "  </tbody>\n",
              "</table>\n",
              "</div>\n",
              "    <div class=\"colab-df-buttons\">\n",
              "\n",
              "  <div class=\"colab-df-container\">\n",
              "    <button class=\"colab-df-convert\" onclick=\"convertToInteractive('df-92c45dbc-2583-4aea-8404-bb22bc3e47c0')\"\n",
              "            title=\"Convert this dataframe to an interactive table.\"\n",
              "            style=\"display:none;\">\n",
              "\n",
              "  <svg xmlns=\"http://www.w3.org/2000/svg\" height=\"24px\" viewBox=\"0 -960 960 960\">\n",
              "    <path d=\"M120-120v-720h720v720H120Zm60-500h600v-160H180v160Zm220 220h160v-160H400v160Zm0 220h160v-160H400v160ZM180-400h160v-160H180v160Zm440 0h160v-160H620v160ZM180-180h160v-160H180v160Zm440 0h160v-160H620v160Z\"/>\n",
              "  </svg>\n",
              "    </button>\n",
              "\n",
              "  <style>\n",
              "    .colab-df-container {\n",
              "      display:flex;\n",
              "      gap: 12px;\n",
              "    }\n",
              "\n",
              "    .colab-df-convert {\n",
              "      background-color: #E8F0FE;\n",
              "      border: none;\n",
              "      border-radius: 50%;\n",
              "      cursor: pointer;\n",
              "      display: none;\n",
              "      fill: #1967D2;\n",
              "      height: 32px;\n",
              "      padding: 0 0 0 0;\n",
              "      width: 32px;\n",
              "    }\n",
              "\n",
              "    .colab-df-convert:hover {\n",
              "      background-color: #E2EBFA;\n",
              "      box-shadow: 0px 1px 2px rgba(60, 64, 67, 0.3), 0px 1px 3px 1px rgba(60, 64, 67, 0.15);\n",
              "      fill: #174EA6;\n",
              "    }\n",
              "\n",
              "    .colab-df-buttons div {\n",
              "      margin-bottom: 4px;\n",
              "    }\n",
              "\n",
              "    [theme=dark] .colab-df-convert {\n",
              "      background-color: #3B4455;\n",
              "      fill: #D2E3FC;\n",
              "    }\n",
              "\n",
              "    [theme=dark] .colab-df-convert:hover {\n",
              "      background-color: #434B5C;\n",
              "      box-shadow: 0px 1px 3px 1px rgba(0, 0, 0, 0.15);\n",
              "      filter: drop-shadow(0px 1px 2px rgba(0, 0, 0, 0.3));\n",
              "      fill: #FFFFFF;\n",
              "    }\n",
              "  </style>\n",
              "\n",
              "    <script>\n",
              "      const buttonEl =\n",
              "        document.querySelector('#df-92c45dbc-2583-4aea-8404-bb22bc3e47c0 button.colab-df-convert');\n",
              "      buttonEl.style.display =\n",
              "        google.colab.kernel.accessAllowed ? 'block' : 'none';\n",
              "\n",
              "      async function convertToInteractive(key) {\n",
              "        const element = document.querySelector('#df-92c45dbc-2583-4aea-8404-bb22bc3e47c0');\n",
              "        const dataTable =\n",
              "          await google.colab.kernel.invokeFunction('convertToInteractive',\n",
              "                                                    [key], {});\n",
              "        if (!dataTable) return;\n",
              "\n",
              "        const docLinkHtml = 'Like what you see? Visit the ' +\n",
              "          '<a target=\"_blank\" href=https://colab.research.google.com/notebooks/data_table.ipynb>data table notebook</a>'\n",
              "          + ' to learn more about interactive tables.';\n",
              "        element.innerHTML = '';\n",
              "        dataTable['output_type'] = 'display_data';\n",
              "        await google.colab.output.renderOutput(dataTable, element);\n",
              "        const docLink = document.createElement('div');\n",
              "        docLink.innerHTML = docLinkHtml;\n",
              "        element.appendChild(docLink);\n",
              "      }\n",
              "    </script>\n",
              "  </div>\n",
              "\n",
              "\n",
              "<div id=\"df-67d6f6b1-4226-48b7-8b80-0951fe93a9d7\">\n",
              "  <button class=\"colab-df-quickchart\" onclick=\"quickchart('df-67d6f6b1-4226-48b7-8b80-0951fe93a9d7')\"\n",
              "            title=\"Suggest charts\"\n",
              "            style=\"display:none;\">\n",
              "\n",
              "<svg xmlns=\"http://www.w3.org/2000/svg\" height=\"24px\"viewBox=\"0 0 24 24\"\n",
              "     width=\"24px\">\n",
              "    <g>\n",
              "        <path d=\"M19 3H5c-1.1 0-2 .9-2 2v14c0 1.1.9 2 2 2h14c1.1 0 2-.9 2-2V5c0-1.1-.9-2-2-2zM9 17H7v-7h2v7zm4 0h-2V7h2v10zm4 0h-2v-4h2v4z\"/>\n",
              "    </g>\n",
              "</svg>\n",
              "  </button>\n",
              "\n",
              "<style>\n",
              "  .colab-df-quickchart {\n",
              "      --bg-color: #E8F0FE;\n",
              "      --fill-color: #1967D2;\n",
              "      --hover-bg-color: #E2EBFA;\n",
              "      --hover-fill-color: #174EA6;\n",
              "      --disabled-fill-color: #AAA;\n",
              "      --disabled-bg-color: #DDD;\n",
              "  }\n",
              "\n",
              "  [theme=dark] .colab-df-quickchart {\n",
              "      --bg-color: #3B4455;\n",
              "      --fill-color: #D2E3FC;\n",
              "      --hover-bg-color: #434B5C;\n",
              "      --hover-fill-color: #FFFFFF;\n",
              "      --disabled-bg-color: #3B4455;\n",
              "      --disabled-fill-color: #666;\n",
              "  }\n",
              "\n",
              "  .colab-df-quickchart {\n",
              "    background-color: var(--bg-color);\n",
              "    border: none;\n",
              "    border-radius: 50%;\n",
              "    cursor: pointer;\n",
              "    display: none;\n",
              "    fill: var(--fill-color);\n",
              "    height: 32px;\n",
              "    padding: 0;\n",
              "    width: 32px;\n",
              "  }\n",
              "\n",
              "  .colab-df-quickchart:hover {\n",
              "    background-color: var(--hover-bg-color);\n",
              "    box-shadow: 0 1px 2px rgba(60, 64, 67, 0.3), 0 1px 3px 1px rgba(60, 64, 67, 0.15);\n",
              "    fill: var(--button-hover-fill-color);\n",
              "  }\n",
              "\n",
              "  .colab-df-quickchart-complete:disabled,\n",
              "  .colab-df-quickchart-complete:disabled:hover {\n",
              "    background-color: var(--disabled-bg-color);\n",
              "    fill: var(--disabled-fill-color);\n",
              "    box-shadow: none;\n",
              "  }\n",
              "\n",
              "  .colab-df-spinner {\n",
              "    border: 2px solid var(--fill-color);\n",
              "    border-color: transparent;\n",
              "    border-bottom-color: var(--fill-color);\n",
              "    animation:\n",
              "      spin 1s steps(1) infinite;\n",
              "  }\n",
              "\n",
              "  @keyframes spin {\n",
              "    0% {\n",
              "      border-color: transparent;\n",
              "      border-bottom-color: var(--fill-color);\n",
              "      border-left-color: var(--fill-color);\n",
              "    }\n",
              "    20% {\n",
              "      border-color: transparent;\n",
              "      border-left-color: var(--fill-color);\n",
              "      border-top-color: var(--fill-color);\n",
              "    }\n",
              "    30% {\n",
              "      border-color: transparent;\n",
              "      border-left-color: var(--fill-color);\n",
              "      border-top-color: var(--fill-color);\n",
              "      border-right-color: var(--fill-color);\n",
              "    }\n",
              "    40% {\n",
              "      border-color: transparent;\n",
              "      border-right-color: var(--fill-color);\n",
              "      border-top-color: var(--fill-color);\n",
              "    }\n",
              "    60% {\n",
              "      border-color: transparent;\n",
              "      border-right-color: var(--fill-color);\n",
              "    }\n",
              "    80% {\n",
              "      border-color: transparent;\n",
              "      border-right-color: var(--fill-color);\n",
              "      border-bottom-color: var(--fill-color);\n",
              "    }\n",
              "    90% {\n",
              "      border-color: transparent;\n",
              "      border-bottom-color: var(--fill-color);\n",
              "    }\n",
              "  }\n",
              "</style>\n",
              "\n",
              "  <script>\n",
              "    async function quickchart(key) {\n",
              "      const quickchartButtonEl =\n",
              "        document.querySelector('#' + key + ' button');\n",
              "      quickchartButtonEl.disabled = true;  // To prevent multiple clicks.\n",
              "      quickchartButtonEl.classList.add('colab-df-spinner');\n",
              "      try {\n",
              "        const charts = await google.colab.kernel.invokeFunction(\n",
              "            'suggestCharts', [key], {});\n",
              "      } catch (error) {\n",
              "        console.error('Error during call to suggestCharts:', error);\n",
              "      }\n",
              "      quickchartButtonEl.classList.remove('colab-df-spinner');\n",
              "      quickchartButtonEl.classList.add('colab-df-quickchart-complete');\n",
              "    }\n",
              "    (() => {\n",
              "      let quickchartButtonEl =\n",
              "        document.querySelector('#df-67d6f6b1-4226-48b7-8b80-0951fe93a9d7 button');\n",
              "      quickchartButtonEl.style.display =\n",
              "        google.colab.kernel.accessAllowed ? 'block' : 'none';\n",
              "    })();\n",
              "  </script>\n",
              "</div>\n",
              "    </div>\n",
              "  </div>\n"
            ]
          },
          "metadata": {},
          "execution_count": 22
        }
      ]
    },
    {
      "cell_type": "markdown",
      "source": [
        "**Calculate the goodness of of ht:**\n",
        "\n",
        "![image.png](data:image/png;base64,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)\n"
      ],
      "metadata": {
        "id": "5KALaFJ-2vnY"
      }
    },
    {
      "cell_type": "code",
      "metadata": {
        "id": "yGzI8uq-Tm29"
      },
      "source": [
        "def calculate_model_weight(error):\n",
        "\n",
        "  return 0.5*np.log((1-error)/(error))"
      ],
      "execution_count": 23,
      "outputs": []
    },
    {
      "cell_type": "code",
      "metadata": {
        "id": "qfY_9p0aUCDa",
        "colab": {
          "base_uri": "https://localhost:8080/"
        },
        "outputId": "0d2c490b-1eb4-4698-ffc8-2e259702d863"
      },
      "source": [
        "# Step 3 - calculate model weight\n",
        "alpha1 = calculate_model_weight(0.3)\n",
        "alpha1"
      ],
      "execution_count": 24,
      "outputs": [
        {
          "output_type": "execute_result",
          "data": {
            "text/plain": [
              "0.42364893019360184"
            ]
          },
          "metadata": {},
          "execution_count": 24
        }
      ]
    },
    {
      "cell_type": "markdown",
      "source": [
        "![image.png](data:image/png;base64,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)"
      ],
      "metadata": {
        "id": "vNvKpc0E451J"
      }
    },
    {
      "cell_type": "code",
      "metadata": {
        "id": "PqFYf75LUEAG"
      },
      "source": [
        "# Step 4 - Update weights\n",
        "def update_row_weights(row,alpha=0.423):\n",
        "  if row['label'] == row['y_pred']:\n",
        "    return row['weights'] * np.exp(-alpha)\n",
        "  else:\n",
        "    return row['weights'] * np.exp(alpha)"
      ],
      "execution_count": 25,
      "outputs": []
    },
    {
      "cell_type": "code",
      "metadata": {
        "id": "xKzvNNO8UWnj"
      },
      "source": [
        "df['updated_weights'] = df.apply(update_row_weights,axis=1)"
      ],
      "execution_count": 26,
      "outputs": []
    },
    {
      "cell_type": "code",
      "metadata": {
        "colab": {
          "base_uri": "https://localhost:8080/",
          "height": 363
        },
        "id": "pBfKBm5mUwtg",
        "outputId": "ed93155e-6955-47b7-aa04-35325edea17b"
      },
      "source": [
        "df"
      ],
      "execution_count": 27,
      "outputs": [
        {
          "output_type": "execute_result",
          "data": {
            "text/plain": [
              "   X1  X2  label  weights  y_pred  updated_weights\n",
              "0   1   5      1      0.1       1         0.065508\n",
              "1   2   3      1      0.1       1         0.065508\n",
              "2   3   6      0      0.1       1         0.152653\n",
              "3   4   8      1      0.1       1         0.065508\n",
              "4   5   1      0      0.1       0         0.065508\n",
              "5   6   9      1      0.1       1         0.065508\n",
              "6   6   5      0      0.1       1         0.152653\n",
              "7   7   8      1      0.1       1         0.065508\n",
              "8   9   9      0      0.1       1         0.152653\n",
              "9   9   2      0      0.1       0         0.065508"
            ],
            "text/html": [
              "\n",
              "  <div id=\"df-c8752ae0-220c-4657-bb2d-86c7ea459c68\" class=\"colab-df-container\">\n",
              "    <div>\n",
              "<style scoped>\n",
              "    .dataframe tbody tr th:only-of-type {\n",
              "        vertical-align: middle;\n",
              "    }\n",
              "\n",
              "    .dataframe tbody tr th {\n",
              "        vertical-align: top;\n",
              "    }\n",
              "\n",
              "    .dataframe thead th {\n",
              "        text-align: right;\n",
              "    }\n",
              "</style>\n",
              "<table border=\"1\" class=\"dataframe\">\n",
              "  <thead>\n",
              "    <tr style=\"text-align: right;\">\n",
              "      <th></th>\n",
              "      <th>X1</th>\n",
              "      <th>X2</th>\n",
              "      <th>label</th>\n",
              "      <th>weights</th>\n",
              "      <th>y_pred</th>\n",
              "      <th>updated_weights</th>\n",
              "    </tr>\n",
              "  </thead>\n",
              "  <tbody>\n",
              "    <tr>\n",
              "      <th>0</th>\n",
              "      <td>1</td>\n",
              "      <td>5</td>\n",
              "      <td>1</td>\n",
              "      <td>0.1</td>\n",
              "      <td>1</td>\n",
              "      <td>0.065508</td>\n",
              "    </tr>\n",
              "    <tr>\n",
              "      <th>1</th>\n",
              "      <td>2</td>\n",
              "      <td>3</td>\n",
              "      <td>1</td>\n",
              "      <td>0.1</td>\n",
              "      <td>1</td>\n",
              "      <td>0.065508</td>\n",
              "    </tr>\n",
              "    <tr>\n",
              "      <th>2</th>\n",
              "      <td>3</td>\n",
              "      <td>6</td>\n",
              "      <td>0</td>\n",
              "      <td>0.1</td>\n",
              "      <td>1</td>\n",
              "      <td>0.152653</td>\n",
              "    </tr>\n",
              "    <tr>\n",
              "      <th>3</th>\n",
              "      <td>4</td>\n",
              "      <td>8</td>\n",
              "      <td>1</td>\n",
              "      <td>0.1</td>\n",
              "      <td>1</td>\n",
              "      <td>0.065508</td>\n",
              "    </tr>\n",
              "    <tr>\n",
              "      <th>4</th>\n",
              "      <td>5</td>\n",
              "      <td>1</td>\n",
              "      <td>0</td>\n",
              "      <td>0.1</td>\n",
              "      <td>0</td>\n",
              "      <td>0.065508</td>\n",
              "    </tr>\n",
              "    <tr>\n",
              "      <th>5</th>\n",
              "      <td>6</td>\n",
              "      <td>9</td>\n",
              "      <td>1</td>\n",
              "      <td>0.1</td>\n",
              "      <td>1</td>\n",
              "      <td>0.065508</td>\n",
              "    </tr>\n",
              "    <tr>\n",
              "      <th>6</th>\n",
              "      <td>6</td>\n",
              "      <td>5</td>\n",
              "      <td>0</td>\n",
              "      <td>0.1</td>\n",
              "      <td>1</td>\n",
              "      <td>0.152653</td>\n",
              "    </tr>\n",
              "    <tr>\n",
              "      <th>7</th>\n",
              "      <td>7</td>\n",
              "      <td>8</td>\n",
              "      <td>1</td>\n",
              "      <td>0.1</td>\n",
              "      <td>1</td>\n",
              "      <td>0.065508</td>\n",
              "    </tr>\n",
              "    <tr>\n",
              "      <th>8</th>\n",
              "      <td>9</td>\n",
              "      <td>9</td>\n",
              "      <td>0</td>\n",
              "      <td>0.1</td>\n",
              "      <td>1</td>\n",
              "      <td>0.152653</td>\n",
              "    </tr>\n",
              "    <tr>\n",
              "      <th>9</th>\n",
              "      <td>9</td>\n",
              "      <td>2</td>\n",
              "      <td>0</td>\n",
              "      <td>0.1</td>\n",
              "      <td>0</td>\n",
              "      <td>0.065508</td>\n",
              "    </tr>\n",
              "  </tbody>\n",
              "</table>\n",
              "</div>\n",
              "    <div class=\"colab-df-buttons\">\n",
              "\n",
              "  <div class=\"colab-df-container\">\n",
              "    <button class=\"colab-df-convert\" onclick=\"convertToInteractive('df-c8752ae0-220c-4657-bb2d-86c7ea459c68')\"\n",
              "            title=\"Convert this dataframe to an interactive table.\"\n",
              "            style=\"display:none;\">\n",
              "\n",
              "  <svg xmlns=\"http://www.w3.org/2000/svg\" height=\"24px\" viewBox=\"0 -960 960 960\">\n",
              "    <path d=\"M120-120v-720h720v720H120Zm60-500h600v-160H180v160Zm220 220h160v-160H400v160Zm0 220h160v-160H400v160ZM180-400h160v-160H180v160Zm440 0h160v-160H620v160ZM180-180h160v-160H180v160Zm440 0h160v-160H620v160Z\"/>\n",
              "  </svg>\n",
              "    </button>\n",
              "\n",
              "  <style>\n",
              "    .colab-df-container {\n",
              "      display:flex;\n",
              "      gap: 12px;\n",
              "    }\n",
              "\n",
              "    .colab-df-convert {\n",
              "      background-color: #E8F0FE;\n",
              "      border: none;\n",
              "      border-radius: 50%;\n",
              "      cursor: pointer;\n",
              "      display: none;\n",
              "      fill: #1967D2;\n",
              "      height: 32px;\n",
              "      padding: 0 0 0 0;\n",
              "      width: 32px;\n",
              "    }\n",
              "\n",
              "    .colab-df-convert:hover {\n",
              "      background-color: #E2EBFA;\n",
              "      box-shadow: 0px 1px 2px rgba(60, 64, 67, 0.3), 0px 1px 3px 1px rgba(60, 64, 67, 0.15);\n",
              "      fill: #174EA6;\n",
              "    }\n",
              "\n",
              "    .colab-df-buttons div {\n",
              "      margin-bottom: 4px;\n",
              "    }\n",
              "\n",
              "    [theme=dark] .colab-df-convert {\n",
              "      background-color: #3B4455;\n",
              "      fill: #D2E3FC;\n",
              "    }\n",
              "\n",
              "    [theme=dark] .colab-df-convert:hover {\n",
              "      background-color: #434B5C;\n",
              "      box-shadow: 0px 1px 3px 1px rgba(0, 0, 0, 0.15);\n",
              "      filter: drop-shadow(0px 1px 2px rgba(0, 0, 0, 0.3));\n",
              "      fill: #FFFFFF;\n",
              "    }\n",
              "  </style>\n",
              "\n",
              "    <script>\n",
              "      const buttonEl =\n",
              "        document.querySelector('#df-c8752ae0-220c-4657-bb2d-86c7ea459c68 button.colab-df-convert');\n",
              "      buttonEl.style.display =\n",
              "        google.colab.kernel.accessAllowed ? 'block' : 'none';\n",
              "\n",
              "      async function convertToInteractive(key) {\n",
              "        const element = document.querySelector('#df-c8752ae0-220c-4657-bb2d-86c7ea459c68');\n",
              "        const dataTable =\n",
              "          await google.colab.kernel.invokeFunction('convertToInteractive',\n",
              "                                                    [key], {});\n",
              "        if (!dataTable) return;\n",
              "\n",
              "        const docLinkHtml = 'Like what you see? Visit the ' +\n",
              "          '<a target=\"_blank\" href=https://colab.research.google.com/notebooks/data_table.ipynb>data table notebook</a>'\n",
              "          + ' to learn more about interactive tables.';\n",
              "        element.innerHTML = '';\n",
              "        dataTable['output_type'] = 'display_data';\n",
              "        await google.colab.output.renderOutput(dataTable, element);\n",
              "        const docLink = document.createElement('div');\n",
              "        docLink.innerHTML = docLinkHtml;\n",
              "        element.appendChild(docLink);\n",
              "      }\n",
              "    </script>\n",
              "  </div>\n",
              "\n",
              "\n",
              "<div id=\"df-e081d3db-68e5-4090-b151-8b7f29bd313c\">\n",
              "  <button class=\"colab-df-quickchart\" onclick=\"quickchart('df-e081d3db-68e5-4090-b151-8b7f29bd313c')\"\n",
              "            title=\"Suggest charts\"\n",
              "            style=\"display:none;\">\n",
              "\n",
              "<svg xmlns=\"http://www.w3.org/2000/svg\" height=\"24px\"viewBox=\"0 0 24 24\"\n",
              "     width=\"24px\">\n",
              "    <g>\n",
              "        <path d=\"M19 3H5c-1.1 0-2 .9-2 2v14c0 1.1.9 2 2 2h14c1.1 0 2-.9 2-2V5c0-1.1-.9-2-2-2zM9 17H7v-7h2v7zm4 0h-2V7h2v10zm4 0h-2v-4h2v4z\"/>\n",
              "    </g>\n",
              "</svg>\n",
              "  </button>\n",
              "\n",
              "<style>\n",
              "  .colab-df-quickchart {\n",
              "      --bg-color: #E8F0FE;\n",
              "      --fill-color: #1967D2;\n",
              "      --hover-bg-color: #E2EBFA;\n",
              "      --hover-fill-color: #174EA6;\n",
              "      --disabled-fill-color: #AAA;\n",
              "      --disabled-bg-color: #DDD;\n",
              "  }\n",
              "\n",
              "  [theme=dark] .colab-df-quickchart {\n",
              "      --bg-color: #3B4455;\n",
              "      --fill-color: #D2E3FC;\n",
              "      --hover-bg-color: #434B5C;\n",
              "      --hover-fill-color: #FFFFFF;\n",
              "      --disabled-bg-color: #3B4455;\n",
              "      --disabled-fill-color: #666;\n",
              "  }\n",
              "\n",
              "  .colab-df-quickchart {\n",
              "    background-color: var(--bg-color);\n",
              "    border: none;\n",
              "    border-radius: 50%;\n",
              "    cursor: pointer;\n",
              "    display: none;\n",
              "    fill: var(--fill-color);\n",
              "    height: 32px;\n",
              "    padding: 0;\n",
              "    width: 32px;\n",
              "  }\n",
              "\n",
              "  .colab-df-quickchart:hover {\n",
              "    background-color: var(--hover-bg-color);\n",
              "    box-shadow: 0 1px 2px rgba(60, 64, 67, 0.3), 0 1px 3px 1px rgba(60, 64, 67, 0.15);\n",
              "    fill: var(--button-hover-fill-color);\n",
              "  }\n",
              "\n",
              "  .colab-df-quickchart-complete:disabled,\n",
              "  .colab-df-quickchart-complete:disabled:hover {\n",
              "    background-color: var(--disabled-bg-color);\n",
              "    fill: var(--disabled-fill-color);\n",
              "    box-shadow: none;\n",
              "  }\n",
              "\n",
              "  .colab-df-spinner {\n",
              "    border: 2px solid var(--fill-color);\n",
              "    border-color: transparent;\n",
              "    border-bottom-color: var(--fill-color);\n",
              "    animation:\n",
              "      spin 1s steps(1) infinite;\n",
              "  }\n",
              "\n",
              "  @keyframes spin {\n",
              "    0% {\n",
              "      border-color: transparent;\n",
              "      border-bottom-color: var(--fill-color);\n",
              "      border-left-color: var(--fill-color);\n",
              "    }\n",
              "    20% {\n",
              "      border-color: transparent;\n",
              "      border-left-color: var(--fill-color);\n",
              "      border-top-color: var(--fill-color);\n",
              "    }\n",
              "    30% {\n",
              "      border-color: transparent;\n",
              "      border-left-color: var(--fill-color);\n",
              "      border-top-color: var(--fill-color);\n",
              "      border-right-color: var(--fill-color);\n",
              "    }\n",
              "    40% {\n",
              "      border-color: transparent;\n",
              "      border-right-color: var(--fill-color);\n",
              "      border-top-color: var(--fill-color);\n",
              "    }\n",
              "    60% {\n",
              "      border-color: transparent;\n",
              "      border-right-color: var(--fill-color);\n",
              "    }\n",
              "    80% {\n",
              "      border-color: transparent;\n",
              "      border-right-color: var(--fill-color);\n",
              "      border-bottom-color: var(--fill-color);\n",
              "    }\n",
              "    90% {\n",
              "      border-color: transparent;\n",
              "      border-bottom-color: var(--fill-color);\n",
              "    }\n",
              "  }\n",
              "</style>\n",
              "\n",
              "  <script>\n",
              "    async function quickchart(key) {\n",
              "      const quickchartButtonEl =\n",
              "        document.querySelector('#' + key + ' button');\n",
              "      quickchartButtonEl.disabled = true;  // To prevent multiple clicks.\n",
              "      quickchartButtonEl.classList.add('colab-df-spinner');\n",
              "      try {\n",
              "        const charts = await google.colab.kernel.invokeFunction(\n",
              "            'suggestCharts', [key], {});\n",
              "      } catch (error) {\n",
              "        console.error('Error during call to suggestCharts:', error);\n",
              "      }\n",
              "      quickchartButtonEl.classList.remove('colab-df-spinner');\n",
              "      quickchartButtonEl.classList.add('colab-df-quickchart-complete');\n",
              "    }\n",
              "    (() => {\n",
              "      let quickchartButtonEl =\n",
              "        document.querySelector('#df-e081d3db-68e5-4090-b151-8b7f29bd313c button');\n",
              "      quickchartButtonEl.style.display =\n",
              "        google.colab.kernel.accessAllowed ? 'block' : 'none';\n",
              "    })();\n",
              "  </script>\n",
              "</div>\n",
              "    </div>\n",
              "  </div>\n"
            ]
          },
          "metadata": {},
          "execution_count": 27
        }
      ]
    },
    {
      "cell_type": "code",
      "metadata": {
        "colab": {
          "base_uri": "https://localhost:8080/"
        },
        "id": "fQcGzVY8rqDX",
        "outputId": "25f52566-4ece-4725-f197-436e8bb14a05"
      },
      "source": [
        "df['updated_weights'].sum()"
      ],
      "execution_count": 28,
      "outputs": [
        {
          "output_type": "execute_result",
          "data": {
            "text/plain": [
              "0.9165153319682015"
            ]
          },
          "metadata": {},
          "execution_count": 28
        }
      ]
    },
    {
      "cell_type": "code",
      "metadata": {
        "id": "a_l7TmfnUxiD"
      },
      "source": [
        "df['nomalized_weights'] = df['updated_weights']/df['updated_weights'].sum()"
      ],
      "execution_count": null,
      "outputs": []
    },
    {
      "cell_type": "code",
      "metadata": {
        "colab": {
          "base_uri": "https://localhost:8080/",
          "height": 362
        },
        "id": "TlC--WA3U_L5",
        "outputId": "4166220b-2e7f-4899-a2cf-c7535806d315"
      },
      "source": [
        "df"
      ],
      "execution_count": null,
      "outputs": [
        {
          "output_type": "execute_result",
          "data": {
            "text/html": [
              "<div>\n",
              "<style scoped>\n",
              "    .dataframe tbody tr th:only-of-type {\n",
              "        vertical-align: middle;\n",
              "    }\n",
              "\n",
              "    .dataframe tbody tr th {\n",
              "        vertical-align: top;\n",
              "    }\n",
              "\n",
              "    .dataframe thead th {\n",
              "        text-align: right;\n",
              "    }\n",
              "</style>\n",
              "<table border=\"1\" class=\"dataframe\">\n",
              "  <thead>\n",
              "    <tr style=\"text-align: right;\">\n",
              "      <th></th>\n",
              "      <th>X1</th>\n",
              "      <th>X2</th>\n",
              "      <th>label</th>\n",
              "      <th>weights</th>\n",
              "      <th>y_pred</th>\n",
              "      <th>updated_weights</th>\n",
              "      <th>nomalized_weights</th>\n",
              "    </tr>\n",
              "  </thead>\n",
              "  <tbody>\n",
              "    <tr>\n",
              "      <th>0</th>\n",
              "      <td>1</td>\n",
              "      <td>5</td>\n",
              "      <td>1</td>\n",
              "      <td>0.1</td>\n",
              "      <td>1</td>\n",
              "      <td>0.065508</td>\n",
              "      <td>0.071475</td>\n",
              "    </tr>\n",
              "    <tr>\n",
              "      <th>1</th>\n",
              "      <td>2</td>\n",
              "      <td>3</td>\n",
              "      <td>1</td>\n",
              "      <td>0.1</td>\n",
              "      <td>1</td>\n",
              "      <td>0.065508</td>\n",
              "      <td>0.071475</td>\n",
              "    </tr>\n",
              "    <tr>\n",
              "      <th>2</th>\n",
              "      <td>3</td>\n",
              "      <td>6</td>\n",
              "      <td>0</td>\n",
              "      <td>0.1</td>\n",
              "      <td>1</td>\n",
              "      <td>0.152653</td>\n",
              "      <td>0.166559</td>\n",
              "    </tr>\n",
              "    <tr>\n",
              "      <th>3</th>\n",
              "      <td>4</td>\n",
              "      <td>8</td>\n",
              "      <td>1</td>\n",
              "      <td>0.1</td>\n",
              "      <td>1</td>\n",
              "      <td>0.065508</td>\n",
              "      <td>0.071475</td>\n",
              "    </tr>\n",
              "    <tr>\n",
              "      <th>4</th>\n",
              "      <td>5</td>\n",
              "      <td>1</td>\n",
              "      <td>0</td>\n",
              "      <td>0.1</td>\n",
              "      <td>0</td>\n",
              "      <td>0.065508</td>\n",
              "      <td>0.071475</td>\n",
              "    </tr>\n",
              "    <tr>\n",
              "      <th>5</th>\n",
              "      <td>6</td>\n",
              "      <td>9</td>\n",
              "      <td>1</td>\n",
              "      <td>0.1</td>\n",
              "      <td>1</td>\n",
              "      <td>0.065508</td>\n",
              "      <td>0.071475</td>\n",
              "    </tr>\n",
              "    <tr>\n",
              "      <th>6</th>\n",
              "      <td>6</td>\n",
              "      <td>5</td>\n",
              "      <td>0</td>\n",
              "      <td>0.1</td>\n",
              "      <td>1</td>\n",
              "      <td>0.152653</td>\n",
              "      <td>0.166559</td>\n",
              "    </tr>\n",
              "    <tr>\n",
              "      <th>7</th>\n",
              "      <td>7</td>\n",
              "      <td>8</td>\n",
              "      <td>1</td>\n",
              "      <td>0.1</td>\n",
              "      <td>1</td>\n",
              "      <td>0.065508</td>\n",
              "      <td>0.071475</td>\n",
              "    </tr>\n",
              "    <tr>\n",
              "      <th>8</th>\n",
              "      <td>9</td>\n",
              "      <td>9</td>\n",
              "      <td>0</td>\n",
              "      <td>0.1</td>\n",
              "      <td>1</td>\n",
              "      <td>0.152653</td>\n",
              "      <td>0.166559</td>\n",
              "    </tr>\n",
              "    <tr>\n",
              "      <th>9</th>\n",
              "      <td>9</td>\n",
              "      <td>2</td>\n",
              "      <td>0</td>\n",
              "      <td>0.1</td>\n",
              "      <td>0</td>\n",
              "      <td>0.065508</td>\n",
              "      <td>0.071475</td>\n",
              "    </tr>\n",
              "  </tbody>\n",
              "</table>\n",
              "</div>"
            ],
            "text/plain": [
              "   X1  X2  label  weights  y_pred  updated_weights  nomalized_weights\n",
              "0   1   5      1      0.1       1         0.065508           0.071475\n",
              "1   2   3      1      0.1       1         0.065508           0.071475\n",
              "2   3   6      0      0.1       1         0.152653           0.166559\n",
              "3   4   8      1      0.1       1         0.065508           0.071475\n",
              "4   5   1      0      0.1       0         0.065508           0.071475\n",
              "5   6   9      1      0.1       1         0.065508           0.071475\n",
              "6   6   5      0      0.1       1         0.152653           0.166559\n",
              "7   7   8      1      0.1       1         0.065508           0.071475\n",
              "8   9   9      0      0.1       1         0.152653           0.166559\n",
              "9   9   2      0      0.1       0         0.065508           0.071475"
            ]
          },
          "metadata": {
            "tags": []
          },
          "execution_count": 339
        }
      ]
    },
    {
      "cell_type": "code",
      "metadata": {
        "colab": {
          "base_uri": "https://localhost:8080/"
        },
        "id": "BiGnCS0zU_wJ",
        "outputId": "c2203815-f5d1-4fc6-b089-b791ab47e644"
      },
      "source": [
        "df['nomalized_weights'].sum()"
      ],
      "execution_count": null,
      "outputs": [
        {
          "output_type": "execute_result",
          "data": {
            "text/plain": [
              "1.0"
            ]
          },
          "metadata": {
            "tags": []
          },
          "execution_count": 340
        }
      ]
    },
    {
      "cell_type": "code",
      "metadata": {
        "id": "K1f2ULYHVEkO"
      },
      "source": [
        "df['cumsum_upper'] = np.cumsum(df['nomalized_weights'])"
      ],
      "execution_count": null,
      "outputs": []
    },
    {
      "cell_type": "code",
      "metadata": {
        "id": "xBWo1m45VTTd"
      },
      "source": [
        "df['cumsum_lower'] = df['cumsum_upper'] - df['nomalized_weights']"
      ],
      "execution_count": null,
      "outputs": []
    },
    {
      "cell_type": "code",
      "metadata": {
        "colab": {
          "base_uri": "https://localhost:8080/",
          "height": 362
        },
        "id": "oFyKwqOTVfI1",
        "outputId": "ea1353e8-b573-4f9f-ac81-007d2dca43c3"
      },
      "source": [
        "df[['X1','X2','label','weights','y_pred','updated_weights','cumsum_lower','cumsum_upper']]"
      ],
      "execution_count": null,
      "outputs": [
        {
          "output_type": "execute_result",
          "data": {
            "text/html": [
              "<div>\n",
              "<style scoped>\n",
              "    .dataframe tbody tr th:only-of-type {\n",
              "        vertical-align: middle;\n",
              "    }\n",
              "\n",
              "    .dataframe tbody tr th {\n",
              "        vertical-align: top;\n",
              "    }\n",
              "\n",
              "    .dataframe thead th {\n",
              "        text-align: right;\n",
              "    }\n",
              "</style>\n",
              "<table border=\"1\" class=\"dataframe\">\n",
              "  <thead>\n",
              "    <tr style=\"text-align: right;\">\n",
              "      <th></th>\n",
              "      <th>X1</th>\n",
              "      <th>X2</th>\n",
              "      <th>label</th>\n",
              "      <th>weights</th>\n",
              "      <th>y_pred</th>\n",
              "      <th>updated_weights</th>\n",
              "      <th>cumsum_lower</th>\n",
              "      <th>cumsum_upper</th>\n",
              "    </tr>\n",
              "  </thead>\n",
              "  <tbody>\n",
              "    <tr>\n",
              "      <th>0</th>\n",
              "      <td>1</td>\n",
              "      <td>5</td>\n",
              "      <td>1</td>\n",
              "      <td>0.1</td>\n",
              "      <td>1</td>\n",
              "      <td>0.065508</td>\n",
              "      <td>0.000000</td>\n",
              "      <td>0.071475</td>\n",
              "    </tr>\n",
              "    <tr>\n",
              "      <th>1</th>\n",
              "      <td>2</td>\n",
              "      <td>3</td>\n",
              "      <td>1</td>\n",
              "      <td>0.1</td>\n",
              "      <td>1</td>\n",
              "      <td>0.065508</td>\n",
              "      <td>0.071475</td>\n",
              "      <td>0.142950</td>\n",
              "    </tr>\n",
              "    <tr>\n",
              "      <th>2</th>\n",
              "      <td>3</td>\n",
              "      <td>6</td>\n",
              "      <td>0</td>\n",
              "      <td>0.1</td>\n",
              "      <td>1</td>\n",
              "      <td>0.152653</td>\n",
              "      <td>0.142950</td>\n",
              "      <td>0.309508</td>\n",
              "    </tr>\n",
              "    <tr>\n",
              "      <th>3</th>\n",
              "      <td>4</td>\n",
              "      <td>8</td>\n",
              "      <td>1</td>\n",
              "      <td>0.1</td>\n",
              "      <td>1</td>\n",
              "      <td>0.065508</td>\n",
              "      <td>0.309508</td>\n",
              "      <td>0.380983</td>\n",
              "    </tr>\n",
              "    <tr>\n",
              "      <th>4</th>\n",
              "      <td>5</td>\n",
              "      <td>1</td>\n",
              "      <td>0</td>\n",
              "      <td>0.1</td>\n",
              "      <td>0</td>\n",
              "      <td>0.065508</td>\n",
              "      <td>0.380983</td>\n",
              "      <td>0.452458</td>\n",
              "    </tr>\n",
              "    <tr>\n",
              "      <th>5</th>\n",
              "      <td>6</td>\n",
              "      <td>9</td>\n",
              "      <td>1</td>\n",
              "      <td>0.1</td>\n",
              "      <td>1</td>\n",
              "      <td>0.065508</td>\n",
              "      <td>0.452458</td>\n",
              "      <td>0.523933</td>\n",
              "    </tr>\n",
              "    <tr>\n",
              "      <th>6</th>\n",
              "      <td>6</td>\n",
              "      <td>5</td>\n",
              "      <td>0</td>\n",
              "      <td>0.1</td>\n",
              "      <td>1</td>\n",
              "      <td>0.152653</td>\n",
              "      <td>0.523933</td>\n",
              "      <td>0.690492</td>\n",
              "    </tr>\n",
              "    <tr>\n",
              "      <th>7</th>\n",
              "      <td>7</td>\n",
              "      <td>8</td>\n",
              "      <td>1</td>\n",
              "      <td>0.1</td>\n",
              "      <td>1</td>\n",
              "      <td>0.065508</td>\n",
              "      <td>0.690492</td>\n",
              "      <td>0.761967</td>\n",
              "    </tr>\n",
              "    <tr>\n",
              "      <th>8</th>\n",
              "      <td>9</td>\n",
              "      <td>9</td>\n",
              "      <td>0</td>\n",
              "      <td>0.1</td>\n",
              "      <td>1</td>\n",
              "      <td>0.152653</td>\n",
              "      <td>0.761967</td>\n",
              "      <td>0.928525</td>\n",
              "    </tr>\n",
              "    <tr>\n",
              "      <th>9</th>\n",
              "      <td>9</td>\n",
              "      <td>2</td>\n",
              "      <td>0</td>\n",
              "      <td>0.1</td>\n",
              "      <td>0</td>\n",
              "      <td>0.065508</td>\n",
              "      <td>0.928525</td>\n",
              "      <td>1.000000</td>\n",
              "    </tr>\n",
              "  </tbody>\n",
              "</table>\n",
              "</div>"
            ],
            "text/plain": [
              "   X1  X2  label  weights  y_pred  updated_weights  cumsum_lower  cumsum_upper\n",
              "0   1   5      1      0.1       1         0.065508      0.000000      0.071475\n",
              "1   2   3      1      0.1       1         0.065508      0.071475      0.142950\n",
              "2   3   6      0      0.1       1         0.152653      0.142950      0.309508\n",
              "3   4   8      1      0.1       1         0.065508      0.309508      0.380983\n",
              "4   5   1      0      0.1       0         0.065508      0.380983      0.452458\n",
              "5   6   9      1      0.1       1         0.065508      0.452458      0.523933\n",
              "6   6   5      0      0.1       1         0.152653      0.523933      0.690492\n",
              "7   7   8      1      0.1       1         0.065508      0.690492      0.761967\n",
              "8   9   9      0      0.1       1         0.152653      0.761967      0.928525\n",
              "9   9   2      0      0.1       0         0.065508      0.928525      1.000000"
            ]
          },
          "metadata": {
            "tags": []
          },
          "execution_count": 343
        }
      ]
    },
    {
      "cell_type": "code",
      "metadata": {
        "id": "EopBs2EdVtQx"
      },
      "source": [
        "def create_new_dataset(df):\n",
        "\n",
        "  indices = []\n",
        "\n",
        "  for i in range(df.shape[0]):\n",
        "    a = np.random.random()\n",
        "    for index,row in df.iterrows():\n",
        "      if row['cumsum_upper'] > a and a > row['cumsum_lower']:\n",
        "        indices.append(index)\n",
        "  return indices"
      ],
      "execution_count": null,
      "outputs": []
    },
    {
      "cell_type": "code",
      "metadata": {
        "colab": {
          "base_uri": "https://localhost:8080/"
        },
        "id": "yNCXzhisV8oc",
        "outputId": "e63ca1ff-22c6-4be0-a8ab-3aa9f9369c4c"
      },
      "source": [
        "index_values = create_new_dataset(df)\n",
        "\n",
        "index_values"
      ],
      "execution_count": null,
      "outputs": [
        {
          "output_type": "execute_result",
          "data": {
            "text/plain": [
              "[4, 2, 0, 8, 3, 9, 6, 8, 4, 0]"
            ]
          },
          "metadata": {
            "tags": []
          },
          "execution_count": 345
        }
      ]
    },
    {
      "cell_type": "code",
      "metadata": {
        "id": "1Kv4SeR2V-6p"
      },
      "source": [
        "second_df = df.iloc[index_values,[0,1,2,3]]"
      ],
      "execution_count": null,
      "outputs": []
    },
    {
      "cell_type": "code",
      "metadata": {
        "colab": {
          "base_uri": "https://localhost:8080/",
          "height": 362
        },
        "id": "jBM7A-ZHARJ9",
        "outputId": "4ec0d6a8-76ec-42f0-b3c8-cbe6926b2bcd"
      },
      "source": [
        "second_df"
      ],
      "execution_count": null,
      "outputs": [
        {
          "output_type": "execute_result",
          "data": {
            "text/html": [
              "<div>\n",
              "<style scoped>\n",
              "    .dataframe tbody tr th:only-of-type {\n",
              "        vertical-align: middle;\n",
              "    }\n",
              "\n",
              "    .dataframe tbody tr th {\n",
              "        vertical-align: top;\n",
              "    }\n",
              "\n",
              "    .dataframe thead th {\n",
              "        text-align: right;\n",
              "    }\n",
              "</style>\n",
              "<table border=\"1\" class=\"dataframe\">\n",
              "  <thead>\n",
              "    <tr style=\"text-align: right;\">\n",
              "      <th></th>\n",
              "      <th>X1</th>\n",
              "      <th>X2</th>\n",
              "      <th>label</th>\n",
              "      <th>weights</th>\n",
              "    </tr>\n",
              "  </thead>\n",
              "  <tbody>\n",
              "    <tr>\n",
              "      <th>4</th>\n",
              "      <td>5</td>\n",
              "      <td>1</td>\n",
              "      <td>0</td>\n",
              "      <td>0.1</td>\n",
              "    </tr>\n",
              "    <tr>\n",
              "      <th>2</th>\n",
              "      <td>3</td>\n",
              "      <td>6</td>\n",
              "      <td>0</td>\n",
              "      <td>0.1</td>\n",
              "    </tr>\n",
              "    <tr>\n",
              "      <th>0</th>\n",
              "      <td>1</td>\n",
              "      <td>5</td>\n",
              "      <td>1</td>\n",
              "      <td>0.1</td>\n",
              "    </tr>\n",
              "    <tr>\n",
              "      <th>8</th>\n",
              "      <td>9</td>\n",
              "      <td>9</td>\n",
              "      <td>0</td>\n",
              "      <td>0.1</td>\n",
              "    </tr>\n",
              "    <tr>\n",
              "      <th>3</th>\n",
              "      <td>4</td>\n",
              "      <td>8</td>\n",
              "      <td>1</td>\n",
              "      <td>0.1</td>\n",
              "    </tr>\n",
              "    <tr>\n",
              "      <th>9</th>\n",
              "      <td>9</td>\n",
              "      <td>2</td>\n",
              "      <td>0</td>\n",
              "      <td>0.1</td>\n",
              "    </tr>\n",
              "    <tr>\n",
              "      <th>6</th>\n",
              "      <td>6</td>\n",
              "      <td>5</td>\n",
              "      <td>0</td>\n",
              "      <td>0.1</td>\n",
              "    </tr>\n",
              "    <tr>\n",
              "      <th>8</th>\n",
              "      <td>9</td>\n",
              "      <td>9</td>\n",
              "      <td>0</td>\n",
              "      <td>0.1</td>\n",
              "    </tr>\n",
              "    <tr>\n",
              "      <th>4</th>\n",
              "      <td>5</td>\n",
              "      <td>1</td>\n",
              "      <td>0</td>\n",
              "      <td>0.1</td>\n",
              "    </tr>\n",
              "    <tr>\n",
              "      <th>0</th>\n",
              "      <td>1</td>\n",
              "      <td>5</td>\n",
              "      <td>1</td>\n",
              "      <td>0.1</td>\n",
              "    </tr>\n",
              "  </tbody>\n",
              "</table>\n",
              "</div>"
            ],
            "text/plain": [
              "   X1  X2  label  weights\n",
              "4   5   1      0      0.1\n",
              "2   3   6      0      0.1\n",
              "0   1   5      1      0.1\n",
              "8   9   9      0      0.1\n",
              "3   4   8      1      0.1\n",
              "9   9   2      0      0.1\n",
              "6   6   5      0      0.1\n",
              "8   9   9      0      0.1\n",
              "4   5   1      0      0.1\n",
              "0   1   5      1      0.1"
            ]
          },
          "metadata": {
            "tags": []
          },
          "execution_count": 347
        }
      ]
    },
    {
      "cell_type": "code",
      "metadata": {
        "id": "PL0CKvkiXP2J"
      },
      "source": [
        "dt2 = DecisionTreeClassifier(max_depth=1)"
      ],
      "execution_count": null,
      "outputs": []
    },
    {
      "cell_type": "code",
      "metadata": {
        "id": "pLgfOuq_XVJg"
      },
      "source": [
        "X = second_df.iloc[:,0:2].values\n",
        "y = second_df.iloc[:,2].values"
      ],
      "execution_count": null,
      "outputs": []
    },
    {
      "cell_type": "code",
      "metadata": {
        "colab": {
          "base_uri": "https://localhost:8080/"
        },
        "id": "IZV0apJZXcbl",
        "outputId": "5b6be595-36e5-4c80-de75-39de4f88f08f"
      },
      "source": [
        "dt2.fit(X,y)"
      ],
      "execution_count": null,
      "outputs": [
        {
          "output_type": "execute_result",
          "data": {
            "text/plain": [
              "DecisionTreeClassifier(ccp_alpha=0.0, class_weight=None, criterion='gini',\n",
              "                       max_depth=1, max_features=None, max_leaf_nodes=None,\n",
              "                       min_impurity_decrease=0.0, min_impurity_split=None,\n",
              "                       min_samples_leaf=1, min_samples_split=2,\n",
              "                       min_weight_fraction_leaf=0.0, presort='deprecated',\n",
              "                       random_state=None, splitter='best')"
            ]
          },
          "metadata": {
            "tags": []
          },
          "execution_count": 350
        }
      ]
    },
    {
      "cell_type": "code",
      "metadata": {
        "colab": {
          "base_uri": "https://localhost:8080/",
          "height": 300
        },
        "id": "Dra7Xk7knVoy",
        "outputId": "b0888c62-0c46-49dd-d319-95e1019aaf6c"
      },
      "source": [
        "plot_tree(dt2)"
      ],
      "execution_count": null,
      "outputs": [
        {
          "output_type": "execute_result",
          "data": {
            "text/plain": [
              "[Text(167.4, 163.07999999999998, 'X[0] <= 4.5\\ngini = 0.42\\nsamples = 10\\nvalue = [7, 3]'),\n",
              " Text(83.7, 54.360000000000014, 'gini = 0.375\\nsamples = 4\\nvalue = [1, 3]'),\n",
              " Text(251.10000000000002, 54.360000000000014, 'gini = 0.0\\nsamples = 6\\nvalue = [6, 0]')]"
            ]
          },
          "metadata": {
            "tags": []
          },
          "execution_count": 351
        },
        {
          "output_type": "display_data",
          "data": {
            "image/png": "[encoded data removed]",
            "text/plain": [
              "<Figure size 432x288 with 1 Axes>"
            ]
          },
          "metadata": {
            "tags": [],
            "needs_background": "light"
          }
        }
      ]
    },
    {
      "cell_type": "code",
      "metadata": {
        "colab": {
          "base_uri": "https://localhost:8080/",
          "height": 340
        },
        "id": "RjhOT6sGXeQw",
        "outputId": "3d4b0ccf-5b0a-4d74-b9b3-89ec7788b461"
      },
      "source": [
        "plot_decision_regions(X, y, clf=dt2, legend=2)"
      ],
      "execution_count": null,
      "outputs": [
        {
          "output_type": "stream",
          "text": [
            "/usr/local/lib/python3.7/dist-packages/mlxtend/plotting/decision_regions.py:244: MatplotlibDeprecationWarning: Passing unsupported keyword arguments to axis() will raise a TypeError in 3.3.\n",
            "  ax.axis(xmin=xx.min(), xmax=xx.max(), y_min=yy.min(), y_max=yy.max())\n"
          ],
          "name": "stderr"
        },
        {
          "output_type": "execute_result",
          "data": {
            "text/plain": [
              "<matplotlib.axes._subplots.AxesSubplot at 0x7f2591991ed0>"
            ]
          },
          "metadata": {
            "tags": []
          },
          "execution_count": 352
        },
        {
          "output_type": "display_data",
          "data": {
            "image/png": "[encoded data removed]",
            "text/plain": [
              "<Figure size 432x288 with 1 Axes>"
            ]
          },
          "metadata": {
            "tags": [],
            "needs_background": "light"
          }
        }
      ]
    },
    {
      "cell_type": "code",
      "metadata": {
        "id": "Ipwxb1SfXjTw"
      },
      "source": [
        "second_df['y_pred'] = dt2.predict(X)"
      ],
      "execution_count": null,
      "outputs": []
    },
    {
      "cell_type": "code",
      "metadata": {
        "colab": {
          "base_uri": "https://localhost:8080/",
          "height": 362
        },
        "id": "zLwingKnY8-O",
        "outputId": "39447b3c-af1f-4cc2-c301-e5c32bfffdbf"
      },
      "source": [
        "second_df"
      ],
      "execution_count": null,
      "outputs": [
        {
          "output_type": "execute_result",
          "data": {
            "text/html": [
              "<div>\n",
              "<style scoped>\n",
              "    .dataframe tbody tr th:only-of-type {\n",
              "        vertical-align: middle;\n",
              "    }\n",
              "\n",
              "    .dataframe tbody tr th {\n",
              "        vertical-align: top;\n",
              "    }\n",
              "\n",
              "    .dataframe thead th {\n",
              "        text-align: right;\n",
              "    }\n",
              "</style>\n",
              "<table border=\"1\" class=\"dataframe\">\n",
              "  <thead>\n",
              "    <tr style=\"text-align: right;\">\n",
              "      <th></th>\n",
              "      <th>X1</th>\n",
              "      <th>X2</th>\n",
              "      <th>label</th>\n",
              "      <th>weights</th>\n",
              "      <th>y_pred</th>\n",
              "    </tr>\n",
              "  </thead>\n",
              "  <tbody>\n",
              "    <tr>\n",
              "      <th>4</th>\n",
              "      <td>5</td>\n",
              "      <td>1</td>\n",
              "      <td>0</td>\n",
              "      <td>0.1</td>\n",
              "      <td>0</td>\n",
              "    </tr>\n",
              "    <tr>\n",
              "      <th>2</th>\n",
              "      <td>3</td>\n",
              "      <td>6</td>\n",
              "      <td>0</td>\n",
              "      <td>0.1</td>\n",
              "      <td>1</td>\n",
              "    </tr>\n",
              "    <tr>\n",
              "      <th>0</th>\n",
              "      <td>1</td>\n",
              "      <td>5</td>\n",
              "      <td>1</td>\n",
              "      <td>0.1</td>\n",
              "      <td>1</td>\n",
              "    </tr>\n",
              "    <tr>\n",
              "      <th>8</th>\n",
              "      <td>9</td>\n",
              "      <td>9</td>\n",
              "      <td>0</td>\n",
              "      <td>0.1</td>\n",
              "      <td>0</td>\n",
              "    </tr>\n",
              "    <tr>\n",
              "      <th>3</th>\n",
              "      <td>4</td>\n",
              "      <td>8</td>\n",
              "      <td>1</td>\n",
              "      <td>0.1</td>\n",
              "      <td>1</td>\n",
              "    </tr>\n",
              "    <tr>\n",
              "      <th>9</th>\n",
              "      <td>9</td>\n",
              "      <td>2</td>\n",
              "      <td>0</td>\n",
              "      <td>0.1</td>\n",
              "      <td>0</td>\n",
              "    </tr>\n",
              "    <tr>\n",
              "      <th>6</th>\n",
              "      <td>6</td>\n",
              "      <td>5</td>\n",
              "      <td>0</td>\n",
              "      <td>0.1</td>\n",
              "      <td>0</td>\n",
              "    </tr>\n",
              "    <tr>\n",
              "      <th>8</th>\n",
              "      <td>9</td>\n",
              "      <td>9</td>\n",
              "      <td>0</td>\n",
              "      <td>0.1</td>\n",
              "      <td>0</td>\n",
              "    </tr>\n",
              "    <tr>\n",
              "      <th>4</th>\n",
              "      <td>5</td>\n",
              "      <td>1</td>\n",
              "      <td>0</td>\n",
              "      <td>0.1</td>\n",
              "      <td>0</td>\n",
              "    </tr>\n",
              "    <tr>\n",
              "      <th>0</th>\n",
              "      <td>1</td>\n",
              "      <td>5</td>\n",
              "      <td>1</td>\n",
              "      <td>0.1</td>\n",
              "      <td>1</td>\n",
              "    </tr>\n",
              "  </tbody>\n",
              "</table>\n",
              "</div>"
            ],
            "text/plain": [
              "   X1  X2  label  weights  y_pred\n",
              "4   5   1      0      0.1       0\n",
              "2   3   6      0      0.1       1\n",
              "0   1   5      1      0.1       1\n",
              "8   9   9      0      0.1       0\n",
              "3   4   8      1      0.1       1\n",
              "9   9   2      0      0.1       0\n",
              "6   6   5      0      0.1       0\n",
              "8   9   9      0      0.1       0\n",
              "4   5   1      0      0.1       0\n",
              "0   1   5      1      0.1       1"
            ]
          },
          "metadata": {
            "tags": []
          },
          "execution_count": 354
        }
      ]
    },
    {
      "cell_type": "code",
      "metadata": {
        "id": "6pBVQyzhaFQh"
      },
      "source": [
        "alpha2 = calculate_model_weight(0.1)"
      ],
      "execution_count": null,
      "outputs": []
    },
    {
      "cell_type": "code",
      "metadata": {
        "colab": {
          "base_uri": "https://localhost:8080/"
        },
        "id": "7213_TjKGbKg",
        "outputId": "45ca8360-97f9-4cf2-f065-9d93ad92f10f"
      },
      "source": [
        "alpha2"
      ],
      "execution_count": null,
      "outputs": [
        {
          "output_type": "execute_result",
          "data": {
            "text/plain": [
              "1.0986122886681098"
            ]
          },
          "metadata": {
            "tags": []
          },
          "execution_count": 356
        }
      ]
    },
    {
      "cell_type": "code",
      "metadata": {
        "id": "gTEwEvniGcK_"
      },
      "source": [
        "# Step 4 - Update weights\n",
        "def update_row_weights(row,alpha=1.09):\n",
        "  if row['label'] == row['y_pred']:\n",
        "    return row['weights'] * np.exp(-alpha)\n",
        "  else:\n",
        "    return row['weights'] * np.exp(alpha)"
      ],
      "execution_count": null,
      "outputs": []
    },
    {
      "cell_type": "code",
      "metadata": {
        "id": "irgFSCPsGndY"
      },
      "source": [
        "second_df['updated_weights'] = second_df.apply(update_row_weights,axis=1)"
      ],
      "execution_count": null,
      "outputs": []
    },
    {
      "cell_type": "code",
      "metadata": {
        "colab": {
          "base_uri": "https://localhost:8080/",
          "height": 362
        },
        "id": "oSbaVAKEGweU",
        "outputId": "c4245359-a726-4b42-d725-d38ea43e8e9c"
      },
      "source": [
        "second_df"
      ],
      "execution_count": null,
      "outputs": [
        {
          "output_type": "execute_result",
          "data": {
            "text/html": [
              "<div>\n",
              "<style scoped>\n",
              "    .dataframe tbody tr th:only-of-type {\n",
              "        vertical-align: middle;\n",
              "    }\n",
              "\n",
              "    .dataframe tbody tr th {\n",
              "        vertical-align: top;\n",
              "    }\n",
              "\n",
              "    .dataframe thead th {\n",
              "        text-align: right;\n",
              "    }\n",
              "</style>\n",
              "<table border=\"1\" class=\"dataframe\">\n",
              "  <thead>\n",
              "    <tr style=\"text-align: right;\">\n",
              "      <th></th>\n",
              "      <th>X1</th>\n",
              "      <th>X2</th>\n",
              "      <th>label</th>\n",
              "      <th>weights</th>\n",
              "      <th>y_pred</th>\n",
              "      <th>updated_weights</th>\n",
              "    </tr>\n",
              "  </thead>\n",
              "  <tbody>\n",
              "    <tr>\n",
              "      <th>4</th>\n",
              "      <td>5</td>\n",
              "      <td>1</td>\n",
              "      <td>0</td>\n",
              "      <td>0.1</td>\n",
              "      <td>0</td>\n",
              "      <td>0.033622</td>\n",
              "    </tr>\n",
              "    <tr>\n",
              "      <th>2</th>\n",
              "      <td>3</td>\n",
              "      <td>6</td>\n",
              "      <td>0</td>\n",
              "      <td>0.1</td>\n",
              "      <td>1</td>\n",
              "      <td>0.297427</td>\n",
              "    </tr>\n",
              "    <tr>\n",
              "      <th>0</th>\n",
              "      <td>1</td>\n",
              "      <td>5</td>\n",
              "      <td>1</td>\n",
              "      <td>0.1</td>\n",
              "      <td>1</td>\n",
              "      <td>0.033622</td>\n",
              "    </tr>\n",
              "    <tr>\n",
              "      <th>8</th>\n",
              "      <td>9</td>\n",
              "      <td>9</td>\n",
              "      <td>0</td>\n",
              "      <td>0.1</td>\n",
              "      <td>0</td>\n",
              "      <td>0.033622</td>\n",
              "    </tr>\n",
              "    <tr>\n",
              "      <th>3</th>\n",
              "      <td>4</td>\n",
              "      <td>8</td>\n",
              "      <td>1</td>\n",
              "      <td>0.1</td>\n",
              "      <td>1</td>\n",
              "      <td>0.033622</td>\n",
              "    </tr>\n",
              "    <tr>\n",
              "      <th>9</th>\n",
              "      <td>9</td>\n",
              "      <td>2</td>\n",
              "      <td>0</td>\n",
              "      <td>0.1</td>\n",
              "      <td>0</td>\n",
              "      <td>0.033622</td>\n",
              "    </tr>\n",
              "    <tr>\n",
              "      <th>6</th>\n",
              "      <td>6</td>\n",
              "      <td>5</td>\n",
              "      <td>0</td>\n",
              "      <td>0.1</td>\n",
              "      <td>0</td>\n",
              "      <td>0.033622</td>\n",
              "    </tr>\n",
              "    <tr>\n",
              "      <th>8</th>\n",
              "      <td>9</td>\n",
              "      <td>9</td>\n",
              "      <td>0</td>\n",
              "      <td>0.1</td>\n",
              "      <td>0</td>\n",
              "      <td>0.033622</td>\n",
              "    </tr>\n",
              "    <tr>\n",
              "      <th>4</th>\n",
              "      <td>5</td>\n",
              "      <td>1</td>\n",
              "      <td>0</td>\n",
              "      <td>0.1</td>\n",
              "      <td>0</td>\n",
              "      <td>0.033622</td>\n",
              "    </tr>\n",
              "    <tr>\n",
              "      <th>0</th>\n",
              "      <td>1</td>\n",
              "      <td>5</td>\n",
              "      <td>1</td>\n",
              "      <td>0.1</td>\n",
              "      <td>1</td>\n",
              "      <td>0.033622</td>\n",
              "    </tr>\n",
              "  </tbody>\n",
              "</table>\n",
              "</div>"
            ],
            "text/plain": [
              "   X1  X2  label  weights  y_pred  updated_weights\n",
              "4   5   1      0      0.1       0         0.033622\n",
              "2   3   6      0      0.1       1         0.297427\n",
              "0   1   5      1      0.1       1         0.033622\n",
              "8   9   9      0      0.1       0         0.033622\n",
              "3   4   8      1      0.1       1         0.033622\n",
              "9   9   2      0      0.1       0         0.033622\n",
              "6   6   5      0      0.1       0         0.033622\n",
              "8   9   9      0      0.1       0         0.033622\n",
              "4   5   1      0      0.1       0         0.033622\n",
              "0   1   5      1      0.1       1         0.033622"
            ]
          },
          "metadata": {
            "tags": []
          },
          "execution_count": 359
        }
      ]
    },
    {
      "cell_type": "code",
      "metadata": {
        "id": "09h9zhMxGxfs"
      },
      "source": [
        "second_df['nomalized_weights'] = second_df['updated_weights']/second_df['updated_weights'].sum()"
      ],
      "execution_count": null,
      "outputs": []
    },
    {
      "cell_type": "code",
      "metadata": {
        "colab": {
          "base_uri": "https://localhost:8080/",
          "height": 362
        },
        "id": "efMNKx7rG52o",
        "outputId": "8e26dbb7-55ca-4ffc-fabf-3b4c8fdeb7f8"
      },
      "source": [
        "second_df"
      ],
      "execution_count": null,
      "outputs": [
        {
          "output_type": "execute_result",
          "data": {
            "text/html": [
              "<div>\n",
              "<style scoped>\n",
              "    .dataframe tbody tr th:only-of-type {\n",
              "        vertical-align: middle;\n",
              "    }\n",
              "\n",
              "    .dataframe tbody tr th {\n",
              "        vertical-align: top;\n",
              "    }\n",
              "\n",
              "    .dataframe thead th {\n",
              "        text-align: right;\n",
              "    }\n",
              "</style>\n",
              "<table border=\"1\" class=\"dataframe\">\n",
              "  <thead>\n",
              "    <tr style=\"text-align: right;\">\n",
              "      <th></th>\n",
              "      <th>X1</th>\n",
              "      <th>X2</th>\n",
              "      <th>label</th>\n",
              "      <th>weights</th>\n",
              "      <th>y_pred</th>\n",
              "      <th>updated_weights</th>\n",
              "      <th>nomalized_weights</th>\n",
              "    </tr>\n",
              "  </thead>\n",
              "  <tbody>\n",
              "    <tr>\n",
              "      <th>4</th>\n",
              "      <td>5</td>\n",
              "      <td>1</td>\n",
              "      <td>0</td>\n",
              "      <td>0.1</td>\n",
              "      <td>0</td>\n",
              "      <td>0.033622</td>\n",
              "      <td>0.056034</td>\n",
              "    </tr>\n",
              "    <tr>\n",
              "      <th>2</th>\n",
              "      <td>3</td>\n",
              "      <td>6</td>\n",
              "      <td>0</td>\n",
              "      <td>0.1</td>\n",
              "      <td>1</td>\n",
              "      <td>0.297427</td>\n",
              "      <td>0.495694</td>\n",
              "    </tr>\n",
              "    <tr>\n",
              "      <th>0</th>\n",
              "      <td>1</td>\n",
              "      <td>5</td>\n",
              "      <td>1</td>\n",
              "      <td>0.1</td>\n",
              "      <td>1</td>\n",
              "      <td>0.033622</td>\n",
              "      <td>0.056034</td>\n",
              "    </tr>\n",
              "    <tr>\n",
              "      <th>8</th>\n",
              "      <td>9</td>\n",
              "      <td>9</td>\n",
              "      <td>0</td>\n",
              "      <td>0.1</td>\n",
              "      <td>0</td>\n",
              "      <td>0.033622</td>\n",
              "      <td>0.056034</td>\n",
              "    </tr>\n",
              "    <tr>\n",
              "      <th>3</th>\n",
              "      <td>4</td>\n",
              "      <td>8</td>\n",
              "      <td>1</td>\n",
              "      <td>0.1</td>\n",
              "      <td>1</td>\n",
              "      <td>0.033622</td>\n",
              "      <td>0.056034</td>\n",
              "    </tr>\n",
              "    <tr>\n",
              "      <th>9</th>\n",
              "      <td>9</td>\n",
              "      <td>2</td>\n",
              "      <td>0</td>\n",
              "      <td>0.1</td>\n",
              "      <td>0</td>\n",
              "      <td>0.033622</td>\n",
              "      <td>0.056034</td>\n",
              "    </tr>\n",
              "    <tr>\n",
              "      <th>6</th>\n",
              "      <td>6</td>\n",
              "      <td>5</td>\n",
              "      <td>0</td>\n",
              "      <td>0.1</td>\n",
              "      <td>0</td>\n",
              "      <td>0.033622</td>\n",
              "      <td>0.056034</td>\n",
              "    </tr>\n",
              "    <tr>\n",
              "      <th>8</th>\n",
              "      <td>9</td>\n",
              "      <td>9</td>\n",
              "      <td>0</td>\n",
              "      <td>0.1</td>\n",
              "      <td>0</td>\n",
              "      <td>0.033622</td>\n",
              "      <td>0.056034</td>\n",
              "    </tr>\n",
              "    <tr>\n",
              "      <th>4</th>\n",
              "      <td>5</td>\n",
              "      <td>1</td>\n",
              "      <td>0</td>\n",
              "      <td>0.1</td>\n",
              "      <td>0</td>\n",
              "      <td>0.033622</td>\n",
              "      <td>0.056034</td>\n",
              "    </tr>\n",
              "    <tr>\n",
              "      <th>0</th>\n",
              "      <td>1</td>\n",
              "      <td>5</td>\n",
              "      <td>1</td>\n",
              "      <td>0.1</td>\n",
              "      <td>1</td>\n",
              "      <td>0.033622</td>\n",
              "      <td>0.056034</td>\n",
              "    </tr>\n",
              "  </tbody>\n",
              "</table>\n",
              "</div>"
            ],
            "text/plain": [
              "   X1  X2  label  weights  y_pred  updated_weights  nomalized_weights\n",
              "4   5   1      0      0.1       0         0.033622           0.056034\n",
              "2   3   6      0      0.1       1         0.297427           0.495694\n",
              "0   1   5      1      0.1       1         0.033622           0.056034\n",
              "8   9   9      0      0.1       0         0.033622           0.056034\n",
              "3   4   8      1      0.1       1         0.033622           0.056034\n",
              "9   9   2      0      0.1       0         0.033622           0.056034\n",
              "6   6   5      0      0.1       0         0.033622           0.056034\n",
              "8   9   9      0      0.1       0         0.033622           0.056034\n",
              "4   5   1      0      0.1       0         0.033622           0.056034\n",
              "0   1   5      1      0.1       1         0.033622           0.056034"
            ]
          },
          "metadata": {
            "tags": []
          },
          "execution_count": 361
        }
      ]
    },
    {
      "cell_type": "code",
      "metadata": {
        "colab": {
          "base_uri": "https://localhost:8080/"
        },
        "id": "1sMhvRe3G7RU",
        "outputId": "12c4e536-3cb5-4ea6-c8e3-9e2f48cb0f57"
      },
      "source": [
        "second_df['nomalized_weights'].sum()"
      ],
      "execution_count": null,
      "outputs": [
        {
          "output_type": "execute_result",
          "data": {
            "text/plain": [
              "0.9999999999999999"
            ]
          },
          "metadata": {
            "tags": []
          },
          "execution_count": 362
        }
      ]
    },
    {
      "cell_type": "code",
      "metadata": {
        "id": "Kaq0KSZCG_14"
      },
      "source": [
        "second_df['cumsum_upper'] = np.cumsum(second_df['nomalized_weights'])"
      ],
      "execution_count": null,
      "outputs": []
    },
    {
      "cell_type": "code",
      "metadata": {
        "id": "Gu7pLdLjHGpE"
      },
      "source": [
        "second_df['cumsum_lower'] = second_df['cumsum_upper'] - second_df['nomalized_weights']"
      ],
      "execution_count": null,
      "outputs": []
    },
    {
      "cell_type": "code",
      "metadata": {
        "colab": {
          "base_uri": "https://localhost:8080/",
          "height": 362
        },
        "id": "dSn7g8PIHPos",
        "outputId": "5da673bc-4776-47c7-dae2-bbb3a980af8d"
      },
      "source": [
        "second_df[['X1','X2','label','weights','y_pred','nomalized_weights','cumsum_lower','cumsum_upper']]"
      ],
      "execution_count": null,
      "outputs": [
        {
          "output_type": "execute_result",
          "data": {
            "text/html": [
              "<div>\n",
              "<style scoped>\n",
              "    .dataframe tbody tr th:only-of-type {\n",
              "        vertical-align: middle;\n",
              "    }\n",
              "\n",
              "    .dataframe tbody tr th {\n",
              "        vertical-align: top;\n",
              "    }\n",
              "\n",
              "    .dataframe thead th {\n",
              "        text-align: right;\n",
              "    }\n",
              "</style>\n",
              "<table border=\"1\" class=\"dataframe\">\n",
              "  <thead>\n",
              "    <tr style=\"text-align: right;\">\n",
              "      <th></th>\n",
              "      <th>X1</th>\n",
              "      <th>X2</th>\n",
              "      <th>label</th>\n",
              "      <th>weights</th>\n",
              "      <th>y_pred</th>\n",
              "      <th>nomalized_weights</th>\n",
              "      <th>cumsum_lower</th>\n",
              "      <th>cumsum_upper</th>\n",
              "    </tr>\n",
              "  </thead>\n",
              "  <tbody>\n",
              "    <tr>\n",
              "      <th>4</th>\n",
              "      <td>5</td>\n",
              "      <td>1</td>\n",
              "      <td>0</td>\n",
              "      <td>0.1</td>\n",
              "      <td>0</td>\n",
              "      <td>0.056034</td>\n",
              "      <td>0.000000</td>\n",
              "      <td>0.056034</td>\n",
              "    </tr>\n",
              "    <tr>\n",
              "      <th>2</th>\n",
              "      <td>3</td>\n",
              "      <td>6</td>\n",
              "      <td>0</td>\n",
              "      <td>0.1</td>\n",
              "      <td>1</td>\n",
              "      <td>0.495694</td>\n",
              "      <td>0.056034</td>\n",
              "      <td>0.551728</td>\n",
              "    </tr>\n",
              "    <tr>\n",
              "      <th>0</th>\n",
              "      <td>1</td>\n",
              "      <td>5</td>\n",
              "      <td>1</td>\n",
              "      <td>0.1</td>\n",
              "      <td>1</td>\n",
              "      <td>0.056034</td>\n",
              "      <td>0.551728</td>\n",
              "      <td>0.607762</td>\n",
              "    </tr>\n",
              "    <tr>\n",
              "      <th>8</th>\n",
              "      <td>9</td>\n",
              "      <td>9</td>\n",
              "      <td>0</td>\n",
              "      <td>0.1</td>\n",
              "      <td>0</td>\n",
              "      <td>0.056034</td>\n",
              "      <td>0.607762</td>\n",
              "      <td>0.663796</td>\n",
              "    </tr>\n",
              "    <tr>\n",
              "      <th>3</th>\n",
              "      <td>4</td>\n",
              "      <td>8</td>\n",
              "      <td>1</td>\n",
              "      <td>0.1</td>\n",
              "      <td>1</td>\n",
              "      <td>0.056034</td>\n",
              "      <td>0.663796</td>\n",
              "      <td>0.719830</td>\n",
              "    </tr>\n",
              "    <tr>\n",
              "      <th>9</th>\n",
              "      <td>9</td>\n",
              "      <td>2</td>\n",
              "      <td>0</td>\n",
              "      <td>0.1</td>\n",
              "      <td>0</td>\n",
              "      <td>0.056034</td>\n",
              "      <td>0.719830</td>\n",
              "      <td>0.775864</td>\n",
              "    </tr>\n",
              "    <tr>\n",
              "      <th>6</th>\n",
              "      <td>6</td>\n",
              "      <td>5</td>\n",
              "      <td>0</td>\n",
              "      <td>0.1</td>\n",
              "      <td>0</td>\n",
              "      <td>0.056034</td>\n",
              "      <td>0.775864</td>\n",
              "      <td>0.831898</td>\n",
              "    </tr>\n",
              "    <tr>\n",
              "      <th>8</th>\n",
              "      <td>9</td>\n",
              "      <td>9</td>\n",
              "      <td>0</td>\n",
              "      <td>0.1</td>\n",
              "      <td>0</td>\n",
              "      <td>0.056034</td>\n",
              "      <td>0.831898</td>\n",
              "      <td>0.887932</td>\n",
              "    </tr>\n",
              "    <tr>\n",
              "      <th>4</th>\n",
              "      <td>5</td>\n",
              "      <td>1</td>\n",
              "      <td>0</td>\n",
              "      <td>0.1</td>\n",
              "      <td>0</td>\n",
              "      <td>0.056034</td>\n",
              "      <td>0.887932</td>\n",
              "      <td>0.943966</td>\n",
              "    </tr>\n",
              "    <tr>\n",
              "      <th>0</th>\n",
              "      <td>1</td>\n",
              "      <td>5</td>\n",
              "      <td>1</td>\n",
              "      <td>0.1</td>\n",
              "      <td>1</td>\n",
              "      <td>0.056034</td>\n",
              "      <td>0.943966</td>\n",
              "      <td>1.000000</td>\n",
              "    </tr>\n",
              "  </tbody>\n",
              "</table>\n",
              "</div>"
            ],
            "text/plain": [
              "   X1  X2  label  ...  nomalized_weights  cumsum_lower  cumsum_upper\n",
              "4   5   1      0  ...           0.056034      0.000000      0.056034\n",
              "2   3   6      0  ...           0.495694      0.056034      0.551728\n",
              "0   1   5      1  ...           0.056034      0.551728      0.607762\n",
              "8   9   9      0  ...           0.056034      0.607762      0.663796\n",
              "3   4   8      1  ...           0.056034      0.663796      0.719830\n",
              "9   9   2      0  ...           0.056034      0.719830      0.775864\n",
              "6   6   5      0  ...           0.056034      0.775864      0.831898\n",
              "8   9   9      0  ...           0.056034      0.831898      0.887932\n",
              "4   5   1      0  ...           0.056034      0.887932      0.943966\n",
              "0   1   5      1  ...           0.056034      0.943966      1.000000\n",
              "\n",
              "[10 rows x 8 columns]"
            ]
          },
          "metadata": {
            "tags": []
          },
          "execution_count": 365
        }
      ]
    },
    {
      "cell_type": "code",
      "metadata": {
        "id": "0evQl9P3HUEo"
      },
      "source": [
        "index_values = create_new_dataset(second_df)"
      ],
      "execution_count": null,
      "outputs": []
    },
    {
      "cell_type": "code",
      "metadata": {
        "id": "Y8zYrI1bHdP3"
      },
      "source": [
        "third_df = second_df.iloc[index_values,[0,1,2,3]]"
      ],
      "execution_count": null,
      "outputs": []
    },
    {
      "cell_type": "code",
      "metadata": {
        "colab": {
          "base_uri": "https://localhost:8080/",
          "height": 362
        },
        "id": "wLLDZMk4HkLk",
        "outputId": "725d890c-0c0a-4324-e862-95818d97147f"
      },
      "source": [
        "third_df"
      ],
      "execution_count": null,
      "outputs": [
        {
          "output_type": "execute_result",
          "data": {
            "text/html": [
              "<div>\n",
              "<style scoped>\n",
              "    .dataframe tbody tr th:only-of-type {\n",
              "        vertical-align: middle;\n",
              "    }\n",
              "\n",
              "    .dataframe tbody tr th {\n",
              "        vertical-align: top;\n",
              "    }\n",
              "\n",
              "    .dataframe thead th {\n",
              "        text-align: right;\n",
              "    }\n",
              "</style>\n",
              "<table border=\"1\" class=\"dataframe\">\n",
              "  <thead>\n",
              "    <tr style=\"text-align: right;\">\n",
              "      <th></th>\n",
              "      <th>X1</th>\n",
              "      <th>X2</th>\n",
              "      <th>label</th>\n",
              "      <th>weights</th>\n",
              "    </tr>\n",
              "  </thead>\n",
              "  <tbody>\n",
              "    <tr>\n",
              "      <th>3</th>\n",
              "      <td>4</td>\n",
              "      <td>8</td>\n",
              "      <td>1</td>\n",
              "      <td>0.1</td>\n",
              "    </tr>\n",
              "    <tr>\n",
              "      <th>0</th>\n",
              "      <td>1</td>\n",
              "      <td>5</td>\n",
              "      <td>1</td>\n",
              "      <td>0.1</td>\n",
              "    </tr>\n",
              "    <tr>\n",
              "      <th>6</th>\n",
              "      <td>6</td>\n",
              "      <td>5</td>\n",
              "      <td>0</td>\n",
              "      <td>0.1</td>\n",
              "    </tr>\n",
              "    <tr>\n",
              "      <th>0</th>\n",
              "      <td>1</td>\n",
              "      <td>5</td>\n",
              "      <td>1</td>\n",
              "      <td>0.1</td>\n",
              "    </tr>\n",
              "    <tr>\n",
              "      <th>0</th>\n",
              "      <td>1</td>\n",
              "      <td>5</td>\n",
              "      <td>1</td>\n",
              "      <td>0.1</td>\n",
              "    </tr>\n",
              "    <tr>\n",
              "      <th>3</th>\n",
              "      <td>4</td>\n",
              "      <td>8</td>\n",
              "      <td>1</td>\n",
              "      <td>0.1</td>\n",
              "    </tr>\n",
              "    <tr>\n",
              "      <th>0</th>\n",
              "      <td>1</td>\n",
              "      <td>5</td>\n",
              "      <td>1</td>\n",
              "      <td>0.1</td>\n",
              "    </tr>\n",
              "    <tr>\n",
              "      <th>0</th>\n",
              "      <td>1</td>\n",
              "      <td>5</td>\n",
              "      <td>1</td>\n",
              "      <td>0.1</td>\n",
              "    </tr>\n",
              "    <tr>\n",
              "      <th>0</th>\n",
              "      <td>1</td>\n",
              "      <td>5</td>\n",
              "      <td>1</td>\n",
              "      <td>0.1</td>\n",
              "    </tr>\n",
              "    <tr>\n",
              "      <th>0</th>\n",
              "      <td>1</td>\n",
              "      <td>5</td>\n",
              "      <td>1</td>\n",
              "      <td>0.1</td>\n",
              "    </tr>\n",
              "  </tbody>\n",
              "</table>\n",
              "</div>"
            ],
            "text/plain": [
              "   X1  X2  label  weights\n",
              "3   4   8      1      0.1\n",
              "0   1   5      1      0.1\n",
              "6   6   5      0      0.1\n",
              "0   1   5      1      0.1\n",
              "0   1   5      1      0.1\n",
              "3   4   8      1      0.1\n",
              "0   1   5      1      0.1\n",
              "0   1   5      1      0.1\n",
              "0   1   5      1      0.1\n",
              "0   1   5      1      0.1"
            ]
          },
          "metadata": {
            "tags": []
          },
          "execution_count": 368
        }
      ]
    },
    {
      "cell_type": "code",
      "metadata": {
        "colab": {
          "base_uri": "https://localhost:8080/"
        },
        "id": "zpjjNjOgHlOr",
        "outputId": "231b9076-7c2a-4d75-9277-6c71fb9038c1"
      },
      "source": [
        "dt3 = DecisionTreeClassifier(max_depth=1)\n",
        "\n",
        "X = second_df.iloc[:,0:2].values\n",
        "y = second_df.iloc[:,2].values\n",
        "\n",
        "dt3.fit(X,y)"
      ],
      "execution_count": null,
      "outputs": [
        {
          "output_type": "execute_result",
          "data": {
            "text/plain": [
              "DecisionTreeClassifier(ccp_alpha=0.0, class_weight=None, criterion='gini',\n",
              "                       max_depth=1, max_features=None, max_leaf_nodes=None,\n",
              "                       min_impurity_decrease=0.0, min_impurity_split=None,\n",
              "                       min_samples_leaf=1, min_samples_split=2,\n",
              "                       min_weight_fraction_leaf=0.0, presort='deprecated',\n",
              "                       random_state=None, splitter='best')"
            ]
          },
          "metadata": {
            "tags": []
          },
          "execution_count": 369
        }
      ]
    },
    {
      "cell_type": "code",
      "metadata": {
        "colab": {
          "base_uri": "https://localhost:8080/",
          "height": 340
        },
        "id": "EJqD7RmSOKom",
        "outputId": "6f1a1215-157a-45d2-a95e-8e822ca81296"
      },
      "source": [
        "plot_decision_regions(X, y, clf=dt3, legend=2)"
      ],
      "execution_count": null,
      "outputs": [
        {
          "output_type": "stream",
          "text": [
            "/usr/local/lib/python3.7/dist-packages/mlxtend/plotting/decision_regions.py:244: MatplotlibDeprecationWarning: Passing unsupported keyword arguments to axis() will raise a TypeError in 3.3.\n",
            "  ax.axis(xmin=xx.min(), xmax=xx.max(), y_min=yy.min(), y_max=yy.max())\n"
          ],
          "name": "stderr"
        },
        {
          "output_type": "execute_result",
          "data": {
            "text/plain": [
              "<matplotlib.axes._subplots.AxesSubplot at 0x7f259197f910>"
            ]
          },
          "metadata": {
            "tags": []
          },
          "execution_count": 370
        },
        {
          "output_type": "display_data",
          "data": {
            "image/png": "[encoded data removed]",
            "text/plain": [
              "<Figure size 432x288 with 1 Axes>"
            ]
          },
          "metadata": {
            "tags": [],
            "needs_background": "light"
          }
        }
      ]
    },
    {
      "cell_type": "code",
      "metadata": {
        "id": "VisTdFb8NfNT"
      },
      "source": [
        "third_df['y_pred'] = dt3.predict(X)"
      ],
      "execution_count": null,
      "outputs": []
    },
    {
      "cell_type": "code",
      "metadata": {
        "colab": {
          "base_uri": "https://localhost:8080/",
          "height": 362
        },
        "id": "8FaqjGoqN-8r",
        "outputId": "b983a442-9732-473e-ac65-6642d3d87b95"
      },
      "source": [
        "third_df"
      ],
      "execution_count": null,
      "outputs": [
        {
          "output_type": "execute_result",
          "data": {
            "text/html": [
              "<div>\n",
              "<style scoped>\n",
              "    .dataframe tbody tr th:only-of-type {\n",
              "        vertical-align: middle;\n",
              "    }\n",
              "\n",
              "    .dataframe tbody tr th {\n",
              "        vertical-align: top;\n",
              "    }\n",
              "\n",
              "    .dataframe thead th {\n",
              "        text-align: right;\n",
              "    }\n",
              "</style>\n",
              "<table border=\"1\" class=\"dataframe\">\n",
              "  <thead>\n",
              "    <tr style=\"text-align: right;\">\n",
              "      <th></th>\n",
              "      <th>X1</th>\n",
              "      <th>X2</th>\n",
              "      <th>label</th>\n",
              "      <th>weights</th>\n",
              "      <th>y_pred</th>\n",
              "    </tr>\n",
              "  </thead>\n",
              "  <tbody>\n",
              "    <tr>\n",
              "      <th>3</th>\n",
              "      <td>4</td>\n",
              "      <td>8</td>\n",
              "      <td>1</td>\n",
              "      <td>0.1</td>\n",
              "      <td>0</td>\n",
              "    </tr>\n",
              "    <tr>\n",
              "      <th>0</th>\n",
              "      <td>1</td>\n",
              "      <td>5</td>\n",
              "      <td>1</td>\n",
              "      <td>0.1</td>\n",
              "      <td>1</td>\n",
              "    </tr>\n",
              "    <tr>\n",
              "      <th>6</th>\n",
              "      <td>6</td>\n",
              "      <td>5</td>\n",
              "      <td>0</td>\n",
              "      <td>0.1</td>\n",
              "      <td>1</td>\n",
              "    </tr>\n",
              "    <tr>\n",
              "      <th>0</th>\n",
              "      <td>1</td>\n",
              "      <td>5</td>\n",
              "      <td>1</td>\n",
              "      <td>0.1</td>\n",
              "      <td>0</td>\n",
              "    </tr>\n",
              "    <tr>\n",
              "      <th>0</th>\n",
              "      <td>1</td>\n",
              "      <td>5</td>\n",
              "      <td>1</td>\n",
              "      <td>0.1</td>\n",
              "      <td>1</td>\n",
              "    </tr>\n",
              "    <tr>\n",
              "      <th>3</th>\n",
              "      <td>4</td>\n",
              "      <td>8</td>\n",
              "      <td>1</td>\n",
              "      <td>0.1</td>\n",
              "      <td>0</td>\n",
              "    </tr>\n",
              "    <tr>\n",
              "      <th>0</th>\n",
              "      <td>1</td>\n",
              "      <td>5</td>\n",
              "      <td>1</td>\n",
              "      <td>0.1</td>\n",
              "      <td>0</td>\n",
              "    </tr>\n",
              "    <tr>\n",
              "      <th>0</th>\n",
              "      <td>1</td>\n",
              "      <td>5</td>\n",
              "      <td>1</td>\n",
              "      <td>0.1</td>\n",
              "      <td>0</td>\n",
              "    </tr>\n",
              "    <tr>\n",
              "      <th>0</th>\n",
              "      <td>1</td>\n",
              "      <td>5</td>\n",
              "      <td>1</td>\n",
              "      <td>0.1</td>\n",
              "      <td>0</td>\n",
              "    </tr>\n",
              "    <tr>\n",
              "      <th>0</th>\n",
              "      <td>1</td>\n",
              "      <td>5</td>\n",
              "      <td>1</td>\n",
              "      <td>0.1</td>\n",
              "      <td>1</td>\n",
              "    </tr>\n",
              "  </tbody>\n",
              "</table>\n",
              "</div>"
            ],
            "text/plain": [
              "   X1  X2  label  weights  y_pred\n",
              "3   4   8      1      0.1       0\n",
              "0   1   5      1      0.1       1\n",
              "6   6   5      0      0.1       1\n",
              "0   1   5      1      0.1       0\n",
              "0   1   5      1      0.1       1\n",
              "3   4   8      1      0.1       0\n",
              "0   1   5      1      0.1       0\n",
              "0   1   5      1      0.1       0\n",
              "0   1   5      1      0.1       0\n",
              "0   1   5      1      0.1       1"
            ]
          },
          "metadata": {
            "tags": []
          },
          "execution_count": 372
        }
      ]
    },
    {
      "cell_type": "code",
      "metadata": {
        "colab": {
          "base_uri": "https://localhost:8080/"
        },
        "id": "RBPcPiksOcvu",
        "outputId": "c02642df-1dc0-47a2-de63-b4b6e498d0fa"
      },
      "source": [
        "alpha3 = calculate_model_weight(0.7)\n",
        "alpha3"
      ],
      "execution_count": null,
      "outputs": [
        {
          "output_type": "execute_result",
          "data": {
            "text/plain": [
              "-0.4236489301936017"
            ]
          },
          "metadata": {
            "tags": []
          },
          "execution_count": 373
        }
      ]
    },
    {
      "cell_type": "code",
      "metadata": {
        "colab": {
          "base_uri": "https://localhost:8080/"
        },
        "id": "bUYtJlZPpDaf",
        "outputId": "1205eab8-28b5-4e31-a6c1-12fbff7102c2"
      },
      "source": [
        "print(alpha1,alpha2,alpha3)"
      ],
      "execution_count": null,
      "outputs": [
        {
          "output_type": "stream",
          "text": [
            "0.42364893019360184 1.0986122886681098 -0.4236489301936017\n"
          ],
          "name": "stdout"
        }
      ]
    },
    {
      "cell_type": "markdown",
      "metadata": {
        "id": "pxtz976hR-Oh"
      },
      "source": [
        "### Prediction"
      ]
    },
    {
      "cell_type": "code",
      "metadata": {
        "colab": {
          "base_uri": "https://localhost:8080/"
        },
        "id": "dnwU7oa6SAx9",
        "outputId": "9b83244d-abc6-452e-8271-bbcf583b2de8"
      },
      "source": [
        "query = np.array([1,5]).reshape(1,2)\n",
        "dt1.predict(query)"
      ],
      "execution_count": null,
      "outputs": [
        {
          "output_type": "execute_result",
          "data": {
            "text/plain": [
              "array([1])"
            ]
          },
          "metadata": {
            "tags": []
          },
          "execution_count": 375
        }
      ]
    },
    {
      "cell_type": "code",
      "metadata": {
        "colab": {
          "base_uri": "https://localhost:8080/"
        },
        "id": "Yblc8IoJSREF",
        "outputId": "f4b5eced-8a0c-43c5-b1a7-bbfbdebb147d"
      },
      "source": [
        "dt2.predict(query)"
      ],
      "execution_count": null,
      "outputs": [
        {
          "output_type": "execute_result",
          "data": {
            "text/plain": [
              "array([1])"
            ]
          },
          "metadata": {
            "tags": []
          },
          "execution_count": 376
        }
      ]
    },
    {
      "cell_type": "code",
      "metadata": {
        "colab": {
          "base_uri": "https://localhost:8080/"
        },
        "id": "hok5Ku_PSTTJ",
        "outputId": "f00b4804-6f7b-40bc-a35a-f9c694173dde"
      },
      "source": [
        "dt3.predict(query)"
      ],
      "execution_count": null,
      "outputs": [
        {
          "output_type": "execute_result",
          "data": {
            "text/plain": [
              "array([1])"
            ]
          },
          "metadata": {
            "tags": []
          },
          "execution_count": 377
        }
      ]
    },
    {
      "cell_type": "code",
      "metadata": {
        "colab": {
          "base_uri": "https://localhost:8080/"
        },
        "id": "XAwvSWAmSVia",
        "outputId": "80fe3256-9710-4bc8-ade3-3671e85a9611"
      },
      "source": [
        "alpha1*1 + alpha2*(1) + alpha3*(1)"
      ],
      "execution_count": null,
      "outputs": [
        {
          "output_type": "execute_result",
          "data": {
            "text/plain": [
              "1.09861228866811"
            ]
          },
          "metadata": {
            "tags": []
          },
          "execution_count": 378
        }
      ]
    },
    {
      "cell_type": "code",
      "metadata": {
        "colab": {
          "base_uri": "https://localhost:8080/"
        },
        "id": "FOBeTyBYSb51",
        "outputId": "06c20b38-ade0-460d-e363-d60f76a1409a"
      },
      "source": [
        "np.sign(1.09)"
      ],
      "execution_count": null,
      "outputs": [
        {
          "output_type": "execute_result",
          "data": {
            "text/plain": [
              "1.0"
            ]
          },
          "metadata": {
            "tags": []
          },
          "execution_count": 379
        }
      ]
    },
    {
      "cell_type": "code",
      "metadata": {
        "colab": {
          "base_uri": "https://localhost:8080/"
        },
        "id": "gWVkt4HBShlu",
        "outputId": "7a3a28eb-a801-470e-82d2-621a6b200b94"
      },
      "source": [
        "query = np.array([9,9]).reshape(1,2)\n",
        "dt1.predict(query)"
      ],
      "execution_count": null,
      "outputs": [
        {
          "output_type": "execute_result",
          "data": {
            "text/plain": [
              "array([1])"
            ]
          },
          "metadata": {
            "tags": []
          },
          "execution_count": 380
        }
      ]
    },
    {
      "cell_type": "code",
      "metadata": {
        "colab": {
          "base_uri": "https://localhost:8080/"
        },
        "id": "361upwpuSun5",
        "outputId": "d4b9be8a-8ded-41c7-bfde-4afa0af33e9c"
      },
      "source": [
        "dt2.predict(query)"
      ],
      "execution_count": null,
      "outputs": [
        {
          "output_type": "execute_result",
          "data": {
            "text/plain": [
              "array([0])"
            ]
          },
          "metadata": {
            "tags": []
          },
          "execution_count": 381
        }
      ]
    },
    {
      "cell_type": "code",
      "metadata": {
        "colab": {
          "base_uri": "https://localhost:8080/"
        },
        "id": "9xHMQd2ESw6a",
        "outputId": "b2871d99-63c1-4fc0-f94c-f164e6c417e9"
      },
      "source": [
        "dt3.predict(query)"
      ],
      "execution_count": null,
      "outputs": [
        {
          "output_type": "execute_result",
          "data": {
            "text/plain": [
              "array([0])"
            ]
          },
          "metadata": {
            "tags": []
          },
          "execution_count": 382
        }
      ]
    },
    {
      "cell_type": "code",
      "metadata": {
        "colab": {
          "base_uri": "https://localhost:8080/"
        },
        "id": "P_ldTMKsS0iV",
        "outputId": "d3d023e5-ca27-4ca3-ac89-82c1acb6708c"
      },
      "source": [
        "alpha1*(1) + alpha2*(-1) + alpha3*(-1)"
      ],
      "execution_count": null,
      "outputs": [
        {
          "output_type": "execute_result",
          "data": {
            "text/plain": [
              "-0.2513144282809062"
            ]
          },
          "metadata": {
            "tags": []
          },
          "execution_count": 383
        }
      ]
    },
    {
      "cell_type": "code",
      "metadata": {
        "colab": {
          "base_uri": "https://localhost:8080/"
        },
        "id": "LA_CIXxzS7ha",
        "outputId": "db5a98e5-71ba-4074-f7b2-b9b47a995dcb"
      },
      "source": [
        "np.sign(-0.25)"
      ],
      "execution_count": null,
      "outputs": [
        {
          "output_type": "execute_result",
          "data": {
            "text/plain": [
              "-1.0"
            ]
          },
          "metadata": {
            "tags": []
          },
          "execution_count": 384
        }
      ]
    },
    {
      "cell_type": "code",
      "metadata": {
        "id": "QBbsLhusTFNe"
      },
      "source": [],
      "execution_count": null,
      "outputs": []
    }
  ]
}