{
  "nbformat": 4,
  "nbformat_minor": 0,
  "metadata": {
    "colab": {
      "provenance": []
    },
    "kernelspec": {
      "name": "python3",
      "display_name": "Python 3"
    },
    "language_info": {
      "name": "python"
    }
  },
  "cells": [
    {
      "cell_type": "markdown",
      "source": [],
      "metadata": {
        "id": "6mzfpjQTjOeT"
      }
    },
    {
      "cell_type": "code",
      "source": [
        "from sklearn.feature_extraction.text import CountVectorizer\n",
        "from sklearn.linear_model import LogisticRegression\n",
        "from sklearn.metrics import accuracy_score, classification_report\n",
        "\n",
        "X_train = [\n",
        "    \"This is a positive sentence.\",\n",
        "    \"I love natural language processing.\",\n",
        "    \"Negative sentiment detected here.\",\n",
        "    \"Logistic regression is a simple algorithm.\",\n",
        "    \"I'm not sure about this.\",\n",
        "    \"Sentiment analysis is fascinating.\",\n",
        "]\n",
        "y_train = [1, 1, 0, 1, 0, 1]  # 1 for positive, 0 for negative\n",
        "X_test = [\n",
        "    \"This is a positive statement.\",\n",
        "    \"I enjoy natural language processing.\",\n",
        "    \"I detect some negative sentiment here.\"\n",
        "]\n",
        "y_test = [1, 1, 0]\n",
        "#vectorizer = CountVectorizer(max_features=1000, stop_words='english')\n",
        "vectorizer = CountVectorizer(max_features=1000)\n",
        "X_train_bow = vectorizer.fit_transform(X_train)\n",
        "X_test_bow = vectorizer.transform(X_test)\n",
        "model = LogisticRegression()\n",
        "model.fit(X_train_bow, y_train)\n",
        "y_pred = model.predict(X_test_bow)\n",
        "accuracy = accuracy_score(y_test, y_pred)\n",
        "classification_rep = classification_report(y_test, y_pred)\n",
        "\n",
        "print(\"Accuracy:\", accuracy)\n",
        "print(\"Classification Report:\\n\", classification_rep)\n"
      ],
      "metadata": {
        "colab": {
          "base_uri": "https://localhost:8080/"
        },
        "id": "7nYiC4McSWuP",
        "outputId": "ee4047b3-d2fd-4036-840a-cfbee91f392d"
      },
      "execution_count": null,
      "outputs": [
        {
          "output_type": "stream",
          "name": "stdout",
          "text": [
            "Accuracy: 1.0\n",
            "Classification Report:\n",
            "               precision    recall  f1-score   support\n",
            "\n",
            "           0       1.00      1.00      1.00         1\n",
            "           1       1.00      1.00      1.00         2\n",
            "\n",
            "    accuracy                           1.00         3\n",
            "   macro avg       1.00      1.00      1.00         3\n",
            "weighted avg       1.00      1.00      1.00         3\n",
            "\n"
          ]
        }
      ]
    },
    {
      "cell_type": "code",
      "source": [
        "unique_words = vectorizer.get_feature_names_out()\n",
        "unique_words"
      ],
      "metadata": {
        "colab": {
          "base_uri": "https://localhost:8080/"
        },
        "id": "u9C44ZgVS4N3",
        "outputId": "e89831d0-7709-40c7-bc31-586e4ef4a0f5"
      },
      "execution_count": null,
      "outputs": [
        {
          "output_type": "execute_result",
          "data": {
            "text/plain": [
              "array(['about', 'algorithm', 'analysis', 'detected', 'fascinating',\n",
              "       'here', 'is', 'language', 'logistic', 'love', 'natural',\n",
              "       'negative', 'not', 'positive', 'processing', 'regression',\n",
              "       'sentence', 'sentiment', 'simple', 'sure', 'this'], dtype=object)"
            ]
          },
          "metadata": {},
          "execution_count": 18
        }
      ]
    },
    {
      "cell_type": "code",
      "source": [
        "print(\"\\nTF-IDF Matrix (Testing Data):\\n\", X_train_bow.toarray())"
      ],
      "metadata": {
        "colab": {
          "base_uri": "https://localhost:8080/"
        },
        "id": "SRmiAhEbStpY",
        "outputId": "65bbfe45-3320-4c99-aabf-8dfc2dd9750e"
      },
      "execution_count": null,
      "outputs": [
        {
          "output_type": "stream",
          "name": "stdout",
          "text": [
            "\n",
            "TF-IDF Matrix (Testing Data):\n",
            " [[0 0 0 0 0 0 1 0 0 0 0 0 0 1 0 0 1 0 0 0 1]\n",
            " [0 0 0 0 0 0 0 1 0 1 1 0 0 0 1 0 0 0 0 0 0]\n",
            " [0 0 0 1 0 1 0 0 0 0 0 1 0 0 0 0 0 1 0 0 0]\n",
            " [0 1 0 0 0 0 1 0 1 0 0 0 0 0 0 1 0 0 1 0 0]\n",
            " [1 0 0 0 0 0 0 0 0 0 0 0 1 0 0 0 0 0 0 1 1]\n",
            " [0 0 1 0 1 0 1 0 0 0 0 0 0 0 0 0 0 1 0 0 0]]\n"
          ]
        }
      ]
    },
    {
      "cell_type": "code",
      "source": [
        "import numpy as np\n",
        "from sklearn.feature_extraction.text import TfidfVectorizer\n",
        "from sklearn.model_selection import train_test_split\n",
        "from sklearn.linear_model import LogisticRegression\n",
        "from sklearn.metrics import accuracy_score, classification_report\n",
        "\n",
        "# Sample text data\n",
        "X_train = [\n",
        "    \"This is a positive sentence.\",\n",
        "    \"I love natural language processing.\",\n",
        "    \"Negative sentiment detected here.\",\n",
        "    \"Logistic regression is a simple algorithm.\",\n",
        "    \"I'm not sure about this.\",\n",
        "    \"Sentiment analysis is fascinating.\",\n",
        "]\n",
        "y_train = [1, 1, 0, 1, 0, 1]  # 1 for positive, 0 for negative\n",
        "X_test = [\n",
        "    \"This is a positive statement.\",\n",
        "    \"I enjoy natural language processing.\",\n",
        "    \"I detect some negative sentiment here.\"\n",
        "]\n",
        "y_test = [1, 1, 0]\n",
        "\n",
        "tfidf_vectorizer = TfidfVectorizer(max_features=1000, stop_words='english')\n",
        "X_train_tfidf = tfidf_vectorizer.fit_transform(X_train)\n",
        "X_test_tfidf = tfidf_vectorizer.transform(X_test)\n",
        "\n",
        "model = LogisticRegression()\n",
        "model.fit(X_train_tfidf, y_train)\n",
        "y_pred = model.predict(X_test_tfidf)\n",
        "accuracy = accuracy_score(y_test, y_pred)\n",
        "classification_rep = classification_report(y_test, y_pred)\n",
        "\n",
        "print(\"Accuracy:\", accuracy)\n",
        "print(\"Classification Report:\\n\", classification_rep)\n"
      ],
      "metadata": {
        "colab": {
          "base_uri": "https://localhost:8080/"
        },
        "id": "_YkkQKPbNvJv",
        "outputId": "2c38e9a8-3391-4f40-99b2-3fe97f85db7c"
      },
      "execution_count": null,
      "outputs": [
        {
          "output_type": "stream",
          "name": "stdout",
          "text": [
            "Accuracy: 0.6666666666666666\n",
            "Classification Report:\n",
            "               precision    recall  f1-score   support\n",
            "\n",
            "           0       0.00      0.00      0.00         1\n",
            "           1       0.67      1.00      0.80         2\n",
            "\n",
            "    accuracy                           0.67         3\n",
            "   macro avg       0.33      0.50      0.40         3\n",
            "weighted avg       0.44      0.67      0.53         3\n",
            "\n"
          ]
        },
        {
          "output_type": "stream",
          "name": "stderr",
          "text": [
            "/usr/local/lib/python3.10/dist-packages/sklearn/metrics/_classification.py:1344: UndefinedMetricWarning: Precision and F-score are ill-defined and being set to 0.0 in labels with no predicted samples. Use `zero_division` parameter to control this behavior.\n",
            "  _warn_prf(average, modifier, msg_start, len(result))\n",
            "/usr/local/lib/python3.10/dist-packages/sklearn/metrics/_classification.py:1344: UndefinedMetricWarning: Precision and F-score are ill-defined and being set to 0.0 in labels with no predicted samples. Use `zero_division` parameter to control this behavior.\n",
            "  _warn_prf(average, modifier, msg_start, len(result))\n",
            "/usr/local/lib/python3.10/dist-packages/sklearn/metrics/_classification.py:1344: UndefinedMetricWarning: Precision and F-score are ill-defined and being set to 0.0 in labels with no predicted samples. Use `zero_division` parameter to control this behavior.\n",
            "  _warn_prf(average, modifier, msg_start, len(result))\n"
          ]
        }
      ]
    },
    {
      "cell_type": "code",
      "source": [
        "#print(\"TF-IDF Matrix (Training Data):\\n\", X_train_tfidf.toarray())\n",
        "print(\"\\nTF-IDF Matrix (Testing Data):\\n\", X_test_tfidf.toarray())"
      ],
      "metadata": {
        "colab": {
          "base_uri": "https://localhost:8080/"
        },
        "id": "fCB6XtBQQFXm",
        "outputId": "b5ca6290-6182-45a8-af54-d9c7ed408e25"
      },
      "execution_count": null,
      "outputs": [
        {
          "output_type": "stream",
          "name": "stdout",
          "text": [
            "\n",
            "TF-IDF Matrix (Testing Data):\n",
            " [[0.         0.         0.         0.         0.         0.\n",
            "  0.         0.         0.         1.         0.         0.\n",
            "  0.         0.         0.         0.        ]\n",
            " [0.         0.         0.         0.         0.57735027 0.\n",
            "  0.         0.57735027 0.         0.         0.57735027 0.\n",
            "  0.         0.         0.         0.        ]\n",
            " [0.         0.         0.         0.         0.         0.\n",
            "  0.         0.         0.77326237 0.         0.         0.\n",
            "  0.         0.6340862  0.         0.        ]]\n"
          ]
        }
      ]
    },
    {
      "cell_type": "code",
      "source": [
        "unique_words = tfidf_vectorizer.get_feature_names_out()\n",
        "unique_words"
      ],
      "metadata": {
        "colab": {
          "base_uri": "https://localhost:8080/"
        },
        "id": "q7IgnIqJRV_S",
        "outputId": "8f5100f4-dd67-4fd9-fc8d-062c056477c4"
      },
      "execution_count": null,
      "outputs": [
        {
          "output_type": "execute_result",
          "data": {
            "text/plain": [
              "array(['algorithm', 'analysis', 'detected', 'fascinating', 'language',\n",
              "       'logistic', 'love', 'natural', 'negative', 'positive',\n",
              "       'processing', 'regression', 'sentence', 'sentiment', 'simple',\n",
              "       'sure'], dtype=object)"
            ]
          },
          "metadata": {},
          "execution_count": 11
        }
      ]
    },
    {
      "cell_type": "markdown",
      "source": [
        "**Lab tasks:**\n",
        "\n",
        "1. Write a function BagOfWords from scratch which return a matrix based on your training data.\n",
        "2. Write a function BigramBagOfWords from scratch which return a matrix based on your training data.\n",
        "2. Write a function TfIDF from scratch which which returns a matrix based on your training data.\n",
        "3. Write a function LogisticRegression from scratch which computes the probability."
      ],
      "metadata": {
        "id": "owbs-pTiNuc3"
      }
    }
  ]
}