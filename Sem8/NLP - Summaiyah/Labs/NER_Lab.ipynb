{
  "nbformat": 4,
  "nbformat_minor": 0,
  "metadata": {
    "colab": {
      "provenance": []
    },
    "kernelspec": {
      "name": "python3",
      "display_name": "Python 3"
    },
    "language_info": {
      "name": "python"
    }
  },
  "cells": [
    {
      "cell_type": "markdown",
      "source": [
        "# NER Using sklearn and CRF"
      ],
      "metadata": {
        "id": "_4LBwU6gWtZn"
      }
    },
    {
      "cell_type": "code",
      "source": [
        "!pip install sklearn-crfsuite"
      ],
      "metadata": {
        "colab": {
          "base_uri": "https://localhost:8080/"
        },
        "id": "0wTptt3gBL5K",
        "outputId": "02b78fb9-4a06-4119-e55c-1bb707dd3c06"
      },
      "execution_count": 3,
      "outputs": [
        {
          "output_type": "stream",
          "name": "stdout",
          "text": [
            "Collecting sklearn-crfsuite\n",
            "  Downloading sklearn_crfsuite-0.3.6-py2.py3-none-any.whl (12 kB)\n",
            "Collecting python-crfsuite>=0.8.3 (from sklearn-crfsuite)\n",
            "  Downloading python_crfsuite-0.9.9-cp310-cp310-manylinux_2_17_x86_64.manylinux2014_x86_64.whl (993 kB)\n",
            "\u001b[2K     \u001b[90m━━━━━━━━━━━━━━━━━━━━━━━━━━━━━━━━━━━━━━━━\u001b[0m \u001b[32m993.5/993.5 kB\u001b[0m \u001b[31m14.7 MB/s\u001b[0m eta \u001b[36m0:00:00\u001b[0m\n",
            "\u001b[?25hRequirement already satisfied: six in /usr/local/lib/python3.10/dist-packages (from sklearn-crfsuite) (1.16.0)\n",
            "Requirement already satisfied: tabulate in /usr/local/lib/python3.10/dist-packages (from sklearn-crfsuite) (0.9.0)\n",
            "Requirement already satisfied: tqdm>=2.0 in /usr/local/lib/python3.10/dist-packages (from sklearn-crfsuite) (4.66.1)\n",
            "Installing collected packages: python-crfsuite, sklearn-crfsuite\n",
            "Successfully installed python-crfsuite-0.9.9 sklearn-crfsuite-0.3.6\n"
          ]
        }
      ]
    },
    {
      "cell_type": "code",
      "source": [
        "import sklearn_crfsuite\n",
        "from sklearn.model_selection import train_test_split\n",
        "from sklearn.metrics import classification_report\n",
        "data = [\n",
        "    [(\"Apple\", \"ORG\"), (\"is\", \"O\"), (\"a\", \"O\"), (\"great\", \"O\"), (\"company\", \"O\")],\n",
        "    [(\"I\", \"O\"), (\"like\", \"O\"), (\"to\", \"O\"), (\"eat\", \"O\"), (\"bananas\", \"PRODUCT\")],\n",
        "]\n",
        "def word2features(sent, i):\n",
        "    word = sent[i][0]\n",
        "    features = {\n",
        "        'word': word,\n",
        "        'is_upper': word.isupper(),\n",
        "        'is_title': word.istitle(),\n",
        "        'is_digit': word.isdigit(),\n",
        "        'word[-3:]': word[-3:],\n",
        "    }\n",
        "    return features\n",
        "\n",
        "def sent2features(sent):\n",
        "    return [word2features(sent, i) for i in range(len(sent))]\n",
        "\n",
        "def sent2labels(sent):\n",
        "    return [label for word, label in sent]\n",
        "\n",
        "data = [[(word, label) for word, label in sentence] for sentence in data]\n",
        "X = [sent2features(s) for s in data]\n",
        "y = [sent2labels(s) for s in data]\n",
        "\n",
        "\n",
        "X_train, X_test, y_train, y_test = train_test_split(X, y, test_size=0.2, random_state=42)\n",
        "crf = sklearn_crfsuite.CRF(\n",
        "    algorithm='lbfgs',\n",
        "    c1=1.0,\n",
        "    c2=1e-3,\n",
        "    max_iterations=50,\n",
        "    all_possible_transitions=True\n",
        ")\n",
        "crf.fit(X_train, y_train)\n",
        "\n",
        "y_pred = crf.predict(X_test)\n",
        "\n",
        "y_test_flat = [label for labels in y_test for label in labels]\n",
        "y_pred_flat = [label for labels in y_pred for label in labels]\n",
        "\n",
        "report = classification_report(y_test_flat, y_pred_flat)\n",
        "print(report)\n"
      ],
      "metadata": {
        "colab": {
          "base_uri": "https://localhost:8080/"
        },
        "id": "l16SItNAA9vY",
        "outputId": "97036fe7-17d8-4398-cdf0-d941b3697051"
      },
      "execution_count": 9,
      "outputs": [
        {
          "output_type": "stream",
          "name": "stdout",
          "text": [
            "              precision    recall  f1-score   support\n",
            "\n",
            "           O       0.80      1.00      0.89         4\n",
            "     PRODUCT       0.00      0.00      0.00         1\n",
            "\n",
            "    accuracy                           0.80         5\n",
            "   macro avg       0.40      0.50      0.44         5\n",
            "weighted avg       0.64      0.80      0.71         5\n",
            "\n"
          ]
        },
        {
          "output_type": "stream",
          "name": "stderr",
          "text": [
            "/usr/local/lib/python3.10/dist-packages/sklearn/metrics/_classification.py:1344: UndefinedMetricWarning: Precision and F-score are ill-defined and being set to 0.0 in labels with no predicted samples. Use `zero_division` parameter to control this behavior.\n",
            "  _warn_prf(average, modifier, msg_start, len(result))\n",
            "/usr/local/lib/python3.10/dist-packages/sklearn/metrics/_classification.py:1344: UndefinedMetricWarning: Precision and F-score are ill-defined and being set to 0.0 in labels with no predicted samples. Use `zero_division` parameter to control this behavior.\n",
            "  _warn_prf(average, modifier, msg_start, len(result))\n",
            "/usr/local/lib/python3.10/dist-packages/sklearn/metrics/_classification.py:1344: UndefinedMetricWarning: Precision and F-score are ill-defined and being set to 0.0 in labels with no predicted samples. Use `zero_division` parameter to control this behavior.\n",
            "  _warn_prf(average, modifier, msg_start, len(result))\n"
          ]
        }
      ]
    },
    {
      "cell_type": "code",
      "source": [
        "X"
      ],
      "metadata": {
        "colab": {
          "base_uri": "https://localhost:8080/"
        },
        "id": "Syzk5TE5B-Zh",
        "outputId": "4b87e94b-0676-44cc-fdef-398750aa0c7e"
      },
      "execution_count": 17,
      "outputs": [
        {
          "output_type": "execute_result",
          "data": {
            "text/plain": [
              "[[{'word': 'Apple',\n",
              "   'is_upper': False,\n",
              "   'is_title': True,\n",
              "   'is_digit': False,\n",
              "   'word[-3:]': 'ple'},\n",
              "  {'word': 'is',\n",
              "   'is_upper': False,\n",
              "   'is_title': False,\n",
              "   'is_digit': False,\n",
              "   'word[-3:]': 'is'},\n",
              "  {'word': 'a',\n",
              "   'is_upper': False,\n",
              "   'is_title': False,\n",
              "   'is_digit': False,\n",
              "   'word[-3:]': 'a'},\n",
              "  {'word': 'great',\n",
              "   'is_upper': False,\n",
              "   'is_title': False,\n",
              "   'is_digit': False,\n",
              "   'word[-3:]': 'eat'},\n",
              "  {'word': 'company',\n",
              "   'is_upper': False,\n",
              "   'is_title': False,\n",
              "   'is_digit': False,\n",
              "   'word[-3:]': 'any'}],\n",
              " [{'word': 'I',\n",
              "   'is_upper': True,\n",
              "   'is_title': True,\n",
              "   'is_digit': False,\n",
              "   'word[-3:]': 'I'},\n",
              "  {'word': 'like',\n",
              "   'is_upper': False,\n",
              "   'is_title': False,\n",
              "   'is_digit': False,\n",
              "   'word[-3:]': 'ike'},\n",
              "  {'word': 'to',\n",
              "   'is_upper': False,\n",
              "   'is_title': False,\n",
              "   'is_digit': False,\n",
              "   'word[-3:]': 'to'},\n",
              "  {'word': 'eat',\n",
              "   'is_upper': False,\n",
              "   'is_title': False,\n",
              "   'is_digit': False,\n",
              "   'word[-3:]': 'eat'},\n",
              "  {'word': 'bananas',\n",
              "   'is_upper': False,\n",
              "   'is_title': False,\n",
              "   'is_digit': False,\n",
              "   'word[-3:]': 'nas'}]]"
            ]
          },
          "metadata": {},
          "execution_count": 17
        }
      ]
    },
    {
      "cell_type": "markdown",
      "source": [
        "#NER using Spacy"
      ],
      "metadata": {
        "id": "c33xAKpkcjS_"
      }
    },
    {
      "cell_type": "code",
      "source": [
        "!pip install spacy\n",
        "!python -m spacy download en_core_web_sm"
      ],
      "metadata": {
        "colab": {
          "base_uri": "https://localhost:8080/"
        },
        "id": "kZb7qiuIclgI",
        "outputId": "1760a957-d088-40c8-c299-f4ca9af3d88c"
      },
      "execution_count": null,
      "outputs": [
        {
          "output_type": "stream",
          "name": "stdout",
          "text": [
            "Requirement already satisfied: spacy in /usr/local/lib/python3.10/dist-packages (3.6.1)\n",
            "Requirement already satisfied: spacy-legacy<3.1.0,>=3.0.11 in /usr/local/lib/python3.10/dist-packages (from spacy) (3.0.12)\n",
            "Requirement already satisfied: spacy-loggers<2.0.0,>=1.0.0 in /usr/local/lib/python3.10/dist-packages (from spacy) (1.0.5)\n",
            "Requirement already satisfied: murmurhash<1.1.0,>=0.28.0 in /usr/local/lib/python3.10/dist-packages (from spacy) (1.0.10)\n",
            "Requirement already satisfied: cymem<2.1.0,>=2.0.2 in /usr/local/lib/python3.10/dist-packages (from spacy) (2.0.8)\n",
            "Requirement already satisfied: preshed<3.1.0,>=3.0.2 in /usr/local/lib/python3.10/dist-packages (from spacy) (3.0.9)\n",
            "Requirement already satisfied: thinc<8.2.0,>=8.1.8 in /usr/local/lib/python3.10/dist-packages (from spacy) (8.1.12)\n",
            "Requirement already satisfied: wasabi<1.2.0,>=0.9.1 in /usr/local/lib/python3.10/dist-packages (from spacy) (1.1.2)\n",
            "Requirement already satisfied: srsly<3.0.0,>=2.4.3 in /usr/local/lib/python3.10/dist-packages (from spacy) (2.4.8)\n",
            "Requirement already satisfied: catalogue<2.1.0,>=2.0.6 in /usr/local/lib/python3.10/dist-packages (from spacy) (2.0.10)\n",
            "Requirement already satisfied: typer<0.10.0,>=0.3.0 in /usr/local/lib/python3.10/dist-packages (from spacy) (0.9.0)\n",
            "Requirement already satisfied: pathy>=0.10.0 in /usr/local/lib/python3.10/dist-packages (from spacy) (0.10.2)\n",
            "Requirement already satisfied: smart-open<7.0.0,>=5.2.1 in /usr/local/lib/python3.10/dist-packages (from spacy) (6.4.0)\n",
            "Requirement already satisfied: tqdm<5.0.0,>=4.38.0 in /usr/local/lib/python3.10/dist-packages (from spacy) (4.66.1)\n",
            "Requirement already satisfied: numpy>=1.15.0 in /usr/local/lib/python3.10/dist-packages (from spacy) (1.23.5)\n",
            "Requirement already satisfied: requests<3.0.0,>=2.13.0 in /usr/local/lib/python3.10/dist-packages (from spacy) (2.31.0)\n",
            "Requirement already satisfied: pydantic!=1.8,!=1.8.1,<3.0.0,>=1.7.4 in /usr/local/lib/python3.10/dist-packages (from spacy) (1.10.13)\n",
            "Requirement already satisfied: jinja2 in /usr/local/lib/python3.10/dist-packages (from spacy) (3.1.2)\n",
            "Requirement already satisfied: setuptools in /usr/local/lib/python3.10/dist-packages (from spacy) (67.7.2)\n",
            "Requirement already satisfied: packaging>=20.0 in /usr/local/lib/python3.10/dist-packages (from spacy) (23.2)\n",
            "Requirement already satisfied: langcodes<4.0.0,>=3.2.0 in /usr/local/lib/python3.10/dist-packages (from spacy) (3.3.0)\n",
            "Requirement already satisfied: typing-extensions>=4.2.0 in /usr/local/lib/python3.10/dist-packages (from pydantic!=1.8,!=1.8.1,<3.0.0,>=1.7.4->spacy) (4.5.0)\n",
            "Requirement already satisfied: charset-normalizer<4,>=2 in /usr/local/lib/python3.10/dist-packages (from requests<3.0.0,>=2.13.0->spacy) (3.3.0)\n",
            "Requirement already satisfied: idna<4,>=2.5 in /usr/local/lib/python3.10/dist-packages (from requests<3.0.0,>=2.13.0->spacy) (3.4)\n",
            "Requirement already satisfied: urllib3<3,>=1.21.1 in /usr/local/lib/python3.10/dist-packages (from requests<3.0.0,>=2.13.0->spacy) (2.0.6)\n",
            "Requirement already satisfied: certifi>=2017.4.17 in /usr/local/lib/python3.10/dist-packages (from requests<3.0.0,>=2.13.0->spacy) (2023.7.22)\n",
            "Requirement already satisfied: blis<0.8.0,>=0.7.8 in /usr/local/lib/python3.10/dist-packages (from thinc<8.2.0,>=8.1.8->spacy) (0.7.11)\n",
            "Requirement already satisfied: confection<1.0.0,>=0.0.1 in /usr/local/lib/python3.10/dist-packages (from thinc<8.2.0,>=8.1.8->spacy) (0.1.3)\n",
            "Requirement already satisfied: click<9.0.0,>=7.1.1 in /usr/local/lib/python3.10/dist-packages (from typer<0.10.0,>=0.3.0->spacy) (8.1.7)\n",
            "Requirement already satisfied: MarkupSafe>=2.0 in /usr/local/lib/python3.10/dist-packages (from jinja2->spacy) (2.1.3)\n",
            "2023-10-19 01:01:19.350832: I tensorflow/core/platform/cpu_feature_guard.cc:182] This TensorFlow binary is optimized to use available CPU instructions in performance-critical operations.\n",
            "To enable the following instructions: AVX2 FMA, in other operations, rebuild TensorFlow with the appropriate compiler flags.\n",
            "2023-10-19 01:01:21.019672: W tensorflow/compiler/tf2tensorrt/utils/py_utils.cc:38] TF-TRT Warning: Could not find TensorRT\n"
          ]
        }
      ]
    },
    {
      "cell_type": "code",
      "source": [
        "from pprint import pprint\n",
        "import spacy\n",
        "from spacy import displacy\n",
        "\n",
        "nlp = spacy.load('en_core_web_sm')\n",
        "\n",
        "sentence = '''Prime Minister Jacinda Ardern has claimed that New Zealand had won a big\n",
        "battle over the spread of coronavirus. Her words came as the country begins to exit from its lockdown.'''\n",
        "entities= nlp(sentence)\n",
        "pprint([ (X, X.ent_iob_, X.ent_type_) for X in entities] )\n",
        "\n",
        "print(\"Named entities in this text are\\n\")\n",
        "for ent in entities.ents:\n",
        "    print(ent.text,ent.label_)\n",
        "\n",
        "displacy.render(entities, style='ent', jupyter=True)"
      ],
      "metadata": {
        "colab": {
          "base_uri": "https://localhost:8080/",
          "height": 764
        },
        "id": "mLznu_GacoIE",
        "outputId": "6ed7e3a0-bc22-48e0-885b-9922140411cb"
      },
      "execution_count": null,
      "outputs": [
        {
          "output_type": "stream",
          "name": "stdout",
          "text": [
            "[(Prime, 'O', ''),\n",
            " (Minister, 'O', ''),\n",
            " (Jacinda, 'B', 'PERSON'),\n",
            " (Ardern, 'I', 'PERSON'),\n",
            " (has, 'O', ''),\n",
            " (claimed, 'O', ''),\n",
            " (that, 'O', ''),\n",
            " (New, 'B', 'GPE'),\n",
            " (Zealand, 'I', 'GPE'),\n",
            " (had, 'O', ''),\n",
            " (won, 'O', ''),\n",
            " (a, 'O', ''),\n",
            " (big, 'O', ''),\n",
            " (\n",
            ", 'O', ''),\n",
            " (battle, 'O', ''),\n",
            " (over, 'O', ''),\n",
            " (the, 'O', ''),\n",
            " (spread, 'O', ''),\n",
            " (of, 'O', ''),\n",
            " (coronavirus, 'O', ''),\n",
            " (., 'O', ''),\n",
            " (Her, 'O', ''),\n",
            " (words, 'O', ''),\n",
            " (came, 'O', ''),\n",
            " (as, 'O', ''),\n",
            " (the, 'O', ''),\n",
            " (country, 'O', ''),\n",
            " (begins, 'O', ''),\n",
            " (to, 'O', ''),\n",
            " (exit, 'O', ''),\n",
            " (from, 'O', ''),\n",
            " (its, 'O', ''),\n",
            " (lockdown, 'O', ''),\n",
            " (., 'O', '')]\n",
            "Named entities in this text are\n",
            "\n",
            "Jacinda Ardern PERSON\n",
            "New Zealand GPE\n"
          ]
        },
        {
          "output_type": "display_data",
          "data": {
            "text/plain": [
              "<IPython.core.display.HTML object>"
            ],
            "text/html": [
              "<span class=\"tex2jax_ignore\"><div class=\"entities\" style=\"line-height: 2.5; direction: ltr\">Prime Minister \n",
              "<mark class=\"entity\" style=\"background: #aa9cfc; padding: 0.45em 0.6em; margin: 0 0.25em; line-height: 1; border-radius: 0.35em;\">\n",
              "    Jacinda Ardern\n",
              "    <span style=\"font-size: 0.8em; font-weight: bold; line-height: 1; border-radius: 0.35em; vertical-align: middle; margin-left: 0.5rem\">PERSON</span>\n",
              "</mark>\n",
              " has claimed that \n",
              "<mark class=\"entity\" style=\"background: #feca74; padding: 0.45em 0.6em; margin: 0 0.25em; line-height: 1; border-radius: 0.35em;\">\n",
              "    New Zealand\n",
              "    <span style=\"font-size: 0.8em; font-weight: bold; line-height: 1; border-radius: 0.35em; vertical-align: middle; margin-left: 0.5rem\">GPE</span>\n",
              "</mark>\n",
              " had won a big <br>battle over the spread of coronavirus. Her words came as the country begins to exit from its lockdown.</div></span>"
            ]
          },
          "metadata": {}
        }
      ]
    },
    {
      "cell_type": "markdown",
      "source": [
        "# Task\n",
        "Go through the tutorial and run  the code\n",
        "  https://towardsdatascience.com/named-entity-recognition-and-classification-with-scikit-learn-f05372f07ba2\n",
        "  https://www.kaggle.com/code/abhinavwalia95/how-to-loading-and-fitting-dataset-to-scikit/input\n",
        "\n",
        "1. Run the same model with different dataset and submit your results.\n",
        "2. Use the same model i.e. CRF but predict POS tags.\n"
      ],
      "metadata": {
        "id": "7_Fng1ZXXYXl"
      }
    }
  ]
}