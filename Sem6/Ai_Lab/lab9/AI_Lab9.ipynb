{
  "nbformat": 4,
  "nbformat_minor": 0,
  "metadata": {
    "colab": {
      "provenance": []
    },
    "kernelspec": {
      "name": "python3",
      "display_name": "Python 3"
    },
    "language_info": {
      "name": "python"
    }
  },
  "cells": [
    {
      "cell_type": "code",
      "execution_count": null,
      "metadata": {
        "colab": {
          "base_uri": "https://localhost:8080/"
        },
        "id": "jxsM6oYPnkyy",
        "outputId": "5f2c2319-8a0f-48ea-a106-f01b3034904c"
      },
      "outputs": [
        {
          "output_type": "stream",
          "name": "stdout",
          "text": [
            "Probability of Plan 1 being responsible for the defective product:  0.15789473684210525\n",
            "Probability of Plan 2 being responsible for the defective product:  0.3157894736842105\n",
            "Probability of Plan 3 being responsible for the defective product:  0.5263157894736842\n",
            "Plan 3 is most likely responsible for the defective product.\n"
          ]
        }
      ],
      "source": [
        "# Defining the probabilities and sample space\n",
        "prob_p1 = 0.3\n",
        "prob_p2 = 0.2\n",
        "prob_p3 = 0.5\n",
        "\n",
        "prob_d_given_p1 = 0.01\n",
        "prob_d_given_p2 = 0.03\n",
        "prob_d_given_p3 = 0.02\n",
        "\n",
        "# Calculating the total probability of a defective product\n",
        "prob_d = (prob_p1 * prob_d_given_p1) + (prob_p2 * prob_d_given_p2) + (prob_p3 * prob_d_given_p3)\n",
        "\n",
        "# Calculating the probability of each plan being responsible for the defective product\n",
        "prob_p1_given_d = (prob_p1 * prob_d_given_p1) / prob_d\n",
        "prob_p2_given_d = (prob_p2 * prob_d_given_p2) / prob_d\n",
        "prob_p3_given_d = (prob_p3 * prob_d_given_p3) / prob_d\n",
        "\n",
        "# Outputting the probability of each plan being responsible for the defective product\n",
        "print(\"Probability of Plan 1 being responsible for the defective product: \", prob_p1_given_d)\n",
        "print(\"Probability of Plan 2 being responsible for the defective product: \", prob_p2_given_d)\n",
        "print(\"Probability of Plan 3 being responsible for the defective product: \", prob_p3_given_d)\n",
        "\n",
        "# Finding the plan with the highest probability\n",
        "max_prob = max(prob_p1_given_d, prob_p2_given_d, prob_p3_given_d)\n",
        "\n",
        "if max_prob == prob_p1_given_d:\n",
        "    print(\"Plan 1 is most likely responsible for the defective product.\")\n",
        "elif max_prob == prob_p2_given_d:\n",
        "    print(\"Plan 2 is most likely responsible for the defective product.\")\n",
        "else:\n",
        "    print(\"Plan 3 is most likely responsible for the defective product.\")"
      ]
    }
  ]
}