{
  "nbformat": 4,
  "nbformat_minor": 0,
  "metadata": {
    "colab": {
      "provenance": []
    },
    "kernelspec": {
      "name": "python3",
      "display_name": "Python 3"
    },
    "language_info": {
      "name": "python"
    }
  },
  "cells": [
    {
      "cell_type": "markdown",
      "source": [
        "#Mohsin Ali Mirza k200353 Lab 7"
      ],
      "metadata": {
        "id": "ePZrLif1R_Jo"
      }
    },
    {
      "cell_type": "markdown",
      "source": [
        "##Task 1"
      ],
      "metadata": {
        "id": "5NL0nyHPR9HD"
      }
    },
    {
      "cell_type": "code",
      "execution_count": null,
      "metadata": {
        "colab": {
          "base_uri": "https://localhost:8080/"
        },
        "id": "CUCzdIEAROcW",
        "outputId": "102ef9f6-5c10-4eff-f337-1eefda85dd61"
      },
      "outputs": [
        {
          "output_type": "stream",
          "name": "stdout",
          "text": [
            "\n",
            "|   |   |   |\n",
            "|   |   |   |\n",
            "|   |   |   |\n",
            "Player X turn.\n",
            "Enter your move (1-9): 1\n",
            "Computer turn.\n",
            "-1\n",
            "Computer chooses 2\n",
            "\n",
            "| X | O |   |\n",
            "|   |   |   |\n",
            "|   |   |   |\n",
            "Player X turn.\n",
            "Enter your move (1-9): 5\n",
            "Computer turn.\n",
            "-1\n",
            "Computer chooses 9\n",
            "\n",
            "| X | O |   |\n",
            "|   | X |   |\n",
            "|   |   | O |\n",
            "Player X turn.\n",
            "Enter your move (1-9): 4\n",
            "Computer turn.\n",
            "-1\n",
            "Computer chooses 6\n",
            "\n",
            "| X | O |   |\n",
            "| X | X | O |\n",
            "|   |   | O |\n",
            "Player X turn.\n",
            "Enter your move (1-9): 7\n",
            "\n",
            "| X | O |   |\n",
            "| X | X | O |\n",
            "| X |   | O |\n",
            "X wins!\n"
          ]
        }
      ],
      "source": [
        "class TicTacToe:\n",
        "    def __init__(self):\n",
        "        self.board = [\" \" for x in range(9)]\n",
        "        self.player = \"X\"\n",
        "\n",
        "    def display_board(self):\n",
        "        row1 = \"| {} | {} | {} |\".format(self.board[0], self.board[1], self.board[2])\n",
        "        row2 = \"| {} | {} | {} |\".format(self.board[3], self.board[4], self.board[5])\n",
        "        row3 = \"| {} | {} | {} |\".format(self.board[6], self.board[7], self.board[8])\n",
        "\n",
        "        print()\n",
        "        print(row1)\n",
        "        print(row2)\n",
        "        print(row3)\n",
        "\n",
        "    def player_move(self):\n",
        "        print(\"Player {} turn.\".format(self.player))\n",
        "        choice = int(input(\"Enter your move (1-9): \").strip())\n",
        "        if self.board[choice - 1] == \" \":\n",
        "            self.board[choice - 1] = self.player\n",
        "        else:\n",
        "            print(\"That space is already taken.\")\n",
        "            self.player_move()\n",
        "\n",
        "    def check_for_winner(self):\n",
        "        winning_combinations = [\n",
        "            [0, 1, 2], [3, 4, 5], [6, 7, 8],  # rows\n",
        "            [0, 3, 6], [1, 4, 7], [2, 5, 8],  # columns\n",
        "            [0, 4, 8], [2, 4, 6]  # diagonals\n",
        "        ]\n",
        "\n",
        "        for combination in winning_combinations:\n",
        "            if self.board[combination[0]] == self.board[combination[1]] == self.board[combination[2]] != \" \":\n",
        "                return self.board[combination[0]]\n",
        "\n",
        "        if \" \" not in self.board:\n",
        "            return \"Tie\"\n",
        "\n",
        "        return None\n",
        "\n",
        "    def minimax(self, player):\n",
        "        result = self.check_for_winner()\n",
        "\n",
        "        if result is not None:\n",
        "            if result == \"X\":\n",
        "                return -1\n",
        "            elif result == \"O\":\n",
        "                return 1\n",
        "            else:\n",
        "                return 0\n",
        "\n",
        "        if player == \"X\":\n",
        "            best = [None, -2]\n",
        "            for i in range(9):\n",
        "                if self.board[i] == \" \":\n",
        "                    self.board[i] = \"X\"\n",
        "                    score = self.minimax(\"O\")\n",
        "                    self.board[i] = \" \"\n",
        "                    if score > best[1]:\n",
        "                        best = [i, score]\n",
        "        else:\n",
        "            best = [None, 2]\n",
        "            for i in range(9):\n",
        "                if self.board[i] == \" \":\n",
        "                    self.board[i] = \"O\"\n",
        "                    score = self.minimax(\"X\")\n",
        "                    self.board[i] = \" \"\n",
        "                    if score < best[1]:\n",
        "                        best = [i, score]\n",
        "\n",
        "        return best[1]\n",
        "\n",
        "    def computer_move(self):\n",
        "        print(\"Computer turn.\")\n",
        "        move = self.minimax(\"O\")\n",
        "        print(move)\n",
        "        if move == 1:\n",
        "            for i in range(9):\n",
        "                if self.board[i] == \" \":\n",
        "                    self.board[i] = \"O\"\n",
        "                    if self.check_for_winner() == \"O\":\n",
        "                        print(\"Computer chooses {}\".format(i + 1))\n",
        "                        return\n",
        "                    self.board[i] = \" \"\n",
        "\n",
        "        elif move == -1:\n",
        "            for i in range(9):\n",
        "                if self.board[i] == \" \":\n",
        "                    self.board[i] = \"X\"\n",
        "                    if self.check_for_winner() == \"X\":\n",
        "                        self.board[i] = \"O\"\n",
        "                        print(\"Computer chooses {}\".format(i + 1))\n",
        "                        return\n",
        "                    self.board[i] = \" \"\n",
        "\n",
        "        for i in range(9):\n",
        "            if self.board[i] == \" \":\n",
        "                self.board[i] = \"O\"\n",
        "                print(\"Computer chooses {}\".format(i + 1))\n",
        "                break\n",
        "\n",
        "game = TicTacToe()\n",
        "while True:\n",
        "    game.display_board()\n",
        "    game.player_move()\n",
        "    result = game.check_for_winner()\n",
        "    if result is not None:\n",
        "        game.display_board()\n",
        "        if result == \"Tie\":\n",
        "            print(\"Tie game.\")\n",
        "        else:\n",
        "            print(\"{} wins!\".format(result))\n",
        "        break\n",
        "    game.computer_move()\n",
        "    result = game.check_for_winner()\n",
        "    if result is not None:\n",
        "        game.display_board()\n",
        "        if result == \"Tie\":\n",
        "            print(\"Tie game.\")\n",
        "        else:\n",
        "            print(\"{} wins!\".format(result))\n",
        "        break\n"
      ]
    },
    {
      "cell_type": "markdown",
      "source": [
        "## Task 2"
      ],
      "metadata": {
        "id": "nRDPWWoTdCXp"
      }
    },
    {
      "cell_type": "code",
      "source": [
        "import copy\n",
        "\n",
        "class State:\n",
        "    def __init__(self,board):\n",
        "        self.board = board\n",
        "\n",
        "    def __str__(self):\n",
        "        return '\\n'.join([' '.join(map(str,row)) for row in self.board])\n",
        "\n",
        "\n",
        "    def __hash__(self):\n",
        "        return hash(str(self.board))\n",
        "\n",
        "\n",
        "def validPlacement(board,currRow,currCol,totalCols):\n",
        "    #print(\"Row:\",currRow,\" Col:\",currCol)\n",
        "    #Check Upwards if there is Queen or not\n",
        "    for i in range(currRow):\n",
        "        if (board[i][currCol] == 1):\n",
        "            return False\n",
        "\n",
        "    #Check Upper Left\n",
        "    i = currRow - 1\n",
        "    j = currCol - 1\n",
        "    while(i>=0 and j>=0):\n",
        "        if(board[i][j]==1):\n",
        "            return False\n",
        "        i -=  1\n",
        "        j -=  1\n",
        "\n",
        "\n",
        "    #Check Upper Right\n",
        "    i = currRow - 1\n",
        "    j = currCol + 1\n",
        "    while(i>=0 and j<totalCols):\n",
        "        if(board[i][j]==1):\n",
        "            return False\n",
        "        i -=  1\n",
        "        j +=  1\n",
        "\n",
        "\n",
        "    return True\n",
        "\n",
        "def solve(board,solution,currRow,totalRows,totalCols):\n",
        "    if(currRow == totalRows):\n",
        "        new_state = copy.deepcopy(initial_board)\n",
        "        solution.append(new_state)\n",
        "        return True\n",
        "\n",
        "    for currCol in range(totalCols):\n",
        "        if(validPlacement(board,currRow,currCol,totalCols)):\n",
        "            prevState = board[currRow][currCol]\n",
        "            board[currRow][currCol] = 1\n",
        "            if(solve(board,solution,currRow+1,totalRows,totalCols)):\n",
        "                return True\n",
        "            board[currRow][currCol] = prevState\n",
        "\n",
        "    return False\n",
        "\n",
        "board = [[0,0,0,0],\n",
        "         [0,0,0,0],\n",
        "         [0,0,0,0],\n",
        "         [0,0,0,0]]\n",
        "initial_board = State(board)\n",
        "solution = []\n",
        "solve(initial_board.board,solution,0,4,4)\n",
        "for i in range(len(solution)):\n",
        "    print(solution[i],\"\\n\")\n"
      ],
      "metadata": {
        "colab": {
          "base_uri": "https://localhost:8080/"
        },
        "id": "tIiJqfprSEW4",
        "outputId": "6056bf24-c338-4320-8305-248d796e1ce4"
      },
      "execution_count": null,
      "outputs": [
        {
          "output_type": "stream",
          "name": "stdout",
          "text": [
            "0 1 0 0\n",
            "0 0 0 1\n",
            "1 0 0 0\n",
            "0 0 1 0 \n",
            "\n"
          ]
        }
      ]
    },
    {
      "cell_type": "markdown",
      "source": [
        "## Task 3"
      ],
      "metadata": {
        "id": "4xmMwagQSDCm"
      }
    },
    {
      "cell_type": "code",
      "source": [
        "MAX, MIN = 1000, -1000\n",
        "\n",
        "def minimax(depth, nodeIndex, maximizingPlayer,\n",
        "            values, alpha, beta):\n",
        "\n",
        "    if depth == 3:\n",
        "        return values[nodeIndex]\n",
        "\n",
        "    if maximizingPlayer:\n",
        "\n",
        "        best = MIN\n",
        "        for i in range(0, 2):\n",
        "\n",
        "            val = minimax(depth + 1, nodeIndex * 2 + i,\n",
        "                          False, values, alpha, beta)\n",
        "            best = max(best, val)\n",
        "            alpha = max(alpha, best)\n",
        "\n",
        "            if beta <= alpha:\n",
        "                break\n",
        "\n",
        "        return best\n",
        "\n",
        "    else:\n",
        "        best = MAX\n",
        "\n",
        "        for i in range(0, 2):\n",
        "\n",
        "            val = minimax(depth + 1, nodeIndex * 2 + i,\n",
        "                            True, values, alpha, beta)\n",
        "            best = min(best, val)\n",
        "            beta = min(beta, best)\n",
        "\n",
        "            if beta <= alpha:\n",
        "                break\n",
        "\n",
        "        return best\n",
        "\n",
        "if __name__ == \"__main__\":\n",
        "\n",
        "    values = [2, 4, 6, 8, 1, 2, 10, 12]\n",
        "    print(\"The optimal value is :\", minimax(0, 0, True, values, MIN, MAX))\n",
        ""
      ],
      "metadata": {
        "colab": {
          "base_uri": "https://localhost:8080/"
        },
        "id": "hUec-5JTdMqa",
        "outputId": "58bbafc1-5050-4f04-dba6-02c0bd6e76ad"
      },
      "execution_count": null,
      "outputs": [
        {
          "output_type": "stream",
          "name": "stdout",
          "text": [
            "The optimal value is : 4\n"
          ]
        }
      ]
    },
    {
      "cell_type": "markdown",
      "source": [
        "## Task 4"
      ],
      "metadata": {
        "id": "173duS8UXPDj"
      }
    },
    {
      "cell_type": "code",
      "source": [
        "from itertools import permutations\n",
        "\n",
        "def isSolvable(words, result):\n",
        "    mp = [-1]*(26)\n",
        "    used = [0]*(10)\n",
        "    Hash = [0]*(26)\n",
        "    CharAtfront = [0]*(26)\n",
        "    uniq = \"\"\n",
        "    for word in range(len(words)):\n",
        "        for i in range(len(words[word])):\n",
        "            ch = words[word][i]\n",
        "            Hash[ord(ch) - ord('A')] += pow(10, len(words[word]) - i - 1)\n",
        "\n",
        "            if mp[ord(ch) - ord('A')] == -1:\n",
        "                mp[ord(ch) - ord('A')] = 0\n",
        "                uniq += str(ch)\n",
        "            if i == 0 and len(words[word]) > 1:\n",
        "                CharAtfront[ord(ch) - ord('A')] = 1\n",
        "\n",
        "    for i in range(len(result)):\n",
        "        ch = result[i]\n",
        "        Hash[ord(ch) - ord('A')] -= pow(10, len(result) - i - 1)\n",
        "        if mp[ord(ch) - ord('A')] == -1:\n",
        "            mp[ord(ch) - ord('A')] = 0\n",
        "            uniq += str(ch)\n",
        "        if i == 0 and len(result) > 1:\n",
        "            CharAtfront[ord(ch) - ord('A')] = 1\n",
        "\n",
        "    # Check if there are more than 10 unique characters\n",
        "    if len(uniq) > 10:\n",
        "        return False\n",
        "\n",
        "    # Try all possible assignments of digits to characters\n",
        "    for perm in permutations(range(10), len(uniq)):\n",
        "        mp = dict(zip(uniq, perm))\n",
        "        if mp[result[0]] == 0: # Skip if first character in result is assigned 0\n",
        "            continue\n",
        "        s = 0\n",
        "        for word in words:\n",
        "            w = 0\n",
        "            for ch in word:\n",
        "                w = 10 * w + mp[ch]\n",
        "            s += w\n",
        "        r = 0\n",
        "        for ch in result:\n",
        "            r = 10 * r + mp[ch]\n",
        "        if s == r:\n",
        "            # Print the equation and return True\n",
        "            for i in range(len(words)):\n",
        "                print(words[i], end=\"\")\n",
        "                if i != len(words)-1:\n",
        "                    print(\" \"*(max(len(words[i]),len(words[i+1]))-len(words[i])+1), end=\"\")\n",
        "            print(\"\\n+\" + result)\n",
        "            print(\"-\"*(max(len(words[0]),len(words[1]))+2))\n",
        "            print(str(r).rjust(max(len(words[0]),len(words[1]))+2))\n",
        "            print(\"-\"*(max(len(words[0]),len(words[1]))+2))\n",
        "            print(\"YES\")\n",
        "            return True\n",
        "\n",
        "    # No solution found\n",
        "    return False\n",
        "\n",
        "arr = [\"SEND\", \"MORE\"]\n",
        "S = \"MONEY\"\n",
        "\n",
        "if isSolvable(arr, S):\n",
        "    pass\n",
        "else:\n",
        "    print(\"NO\")\n"
      ],
      "metadata": {
        "colab": {
          "base_uri": "https://localhost:8080/"
        },
        "id": "kEyKuffKXTPg",
        "outputId": "53bdce01-a324-47fd-ac02-7abdc98e2808"
      },
      "execution_count": null,
      "outputs": [
        {
          "output_type": "stream",
          "name": "stdout",
          "text": [
            "SEND MORE\n",
            "+MONEY\n",
            "------\n",
            " 10652\n",
            "------\n",
            "YES\n"
          ]
        }
      ]
    }
  ]
}