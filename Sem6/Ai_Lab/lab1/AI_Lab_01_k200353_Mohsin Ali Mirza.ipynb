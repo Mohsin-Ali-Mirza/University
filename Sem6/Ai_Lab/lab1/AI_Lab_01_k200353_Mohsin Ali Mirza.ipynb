{
 "cells": [
  {
   "cell_type": "markdown",
   "id": "e970549f",
   "metadata": {},
   "source": [
    "## AI-Lab 1            k200353 Mohsin Ali Mirza"
   ]
  },
  {
   "cell_type": "markdown",
   "id": "34634d93",
   "metadata": {},
   "source": [
    "-------------------------- Q1 ------------------------------"
   ]
  },
  {
   "cell_type": "code",
   "execution_count": 4,
   "id": "be1a68a5",
   "metadata": {},
   "outputs": [],
   "source": [
    "def fibNumbers (n):\n",
    "    if(n<=1):\n",
    "        return n;\n",
    "    return fibNumbers(n-1)+fibNumbers(n-2);"
   ]
  },
  {
   "cell_type": "code",
   "execution_count": 7,
   "id": "fb8fd878",
   "metadata": {},
   "outputs": [
    {
     "data": {
      "text/plain": [
       "55"
      ]
     },
     "execution_count": 7,
     "metadata": {},
     "output_type": "execute_result"
    }
   ],
   "source": [
    "fibNumbers(10)"
   ]
  },
  {
   "cell_type": "markdown",
   "id": "5613be4b",
   "metadata": {},
   "source": [
    "-------------------------- Q2 ------------------------------"
   ]
  },
  {
   "cell_type": "code",
   "execution_count": 18,
   "id": "388ee237",
   "metadata": {},
   "outputs": [
    {
     "name": "stdout",
     "output_type": "stream",
     "text": [
      "['hello']\n"
     ]
    }
   ],
   "source": [
    "lst = [1,2,[3,4],[5,[100,200,[\"hello\"]],23,11],1,7]\n",
    "print(lst[3][1][2])"
   ]
  },
  {
   "cell_type": "markdown",
   "id": "b316e003",
   "metadata": {},
   "source": [
    "--------------------------Q3------------------------------------"
   ]
  },
  {
   "cell_type": "code",
   "execution_count": 19,
   "id": "b3eb9e9e",
   "metadata": {},
   "outputs": [
    {
     "name": "stdout",
     "output_type": "stream",
     "text": [
      "hello\n"
     ]
    }
   ],
   "source": [
    "d = {'k1':[1,2,3,{'tricky':['oh','man','inception',{'target':[1,2,3,'hello']}]}]}\n",
    "print(d['k1'][3]['tricky'][3]['target'][3])"
   ]
  },
  {
   "cell_type": "markdown",
   "id": "36332bfb",
   "metadata": {},
   "source": [
    "--------------------------Q4------------------------------------"
   ]
  },
  {
   "cell_type": "code",
   "execution_count": 31,
   "id": "9485899b",
   "metadata": {},
   "outputs": [],
   "source": [
    "def trafficRules (speed,isAnniversary):\n",
    "    if(isAnniversary):\n",
    "        speed-=10\n",
    "    if(speed<=70):\n",
    "        return (\"No Fine\")\n",
    "    if(speed>=71 and speed <=80):\n",
    "        return (\"Less Fine\")\n",
    "    if(speed>=81):\n",
    "        return (\"Car Seize\")\n",
    "        "
   ]
  },
  {
   "cell_type": "code",
   "execution_count": 32,
   "id": "6d73c45e",
   "metadata": {},
   "outputs": [
    {
     "data": {
      "text/plain": [
       "'No Fine'"
      ]
     },
     "execution_count": 32,
     "metadata": {},
     "output_type": "execute_result"
    }
   ],
   "source": [
    "trafficRules(70,False)"
   ]
  },
  {
   "cell_type": "markdown",
   "id": "dbbf3ffb",
   "metadata": {},
   "source": [
    "--------------------------Q5------------------------------------"
   ]
  },
  {
   "cell_type": "code",
   "execution_count": 56,
   "id": "b791769c",
   "metadata": {},
   "outputs": [],
   "source": [
    "def checkDup (curr):\n",
    "    if len(curr)!=len(set(curr)):\n",
    "        curr = set(curr)\n",
    "        print(curr)\n",
    "        return True\n",
    "    else:\n",
    "        print(curr)\n",
    "        return False\n",
    "    \n",
    "    \n"
   ]
  },
  {
   "cell_type": "code",
   "execution_count": 58,
   "id": "4dd77609",
   "metadata": {},
   "outputs": [
    {
     "name": "stdout",
     "output_type": "stream",
     "text": [
      "{1, 2, 3, 4, 5, 6}\n",
      "[1, 2, 3, 4]\n"
     ]
    },
    {
     "data": {
      "text/plain": [
       "False"
      ]
     },
     "execution_count": 58,
     "metadata": {},
     "output_type": "execute_result"
    }
   ],
   "source": [
    "list = [1,2,2,3,4,5,4,6]\n",
    "list2 = [1,2,3,4]\n",
    "checkDup(list)\n",
    "checkDup(list2)"
   ]
  },
  {
   "cell_type": "markdown",
   "id": "764e3614",
   "metadata": {},
   "source": [
    "--------------------------Q6------------------------------------"
   ]
  },
  {
   "cell_type": "code",
   "execution_count": 73,
   "id": "66d9a75b",
   "metadata": {
    "scrolled": true
   },
   "outputs": [
    {
     "name": "stdout",
     "output_type": "stream",
     "text": [
      "   Name campus  Year  CGPA\n",
      "0  John    KHI     2   3.0\n",
      "1  Bret    KHI     2   2.1\n",
      "2   Tom    KHI     2   3.8\n"
     ]
    }
   ],
   "source": [
    "import csv\n",
    "\n",
    "fields = ['Name','campus','Year','CGPA']\n",
    "rows = [['John','KHI','2','3.0'],\n",
    "        ['Bret','KHI','2','2.1'],\n",
    "        ['Tom','KHI','2','3.8']]\n",
    "\n",
    "filename = \"university_records.csv\"\n",
    "with open(filename,'w') as csvfile:\n",
    "    csvwriter = csv.writer(csvfile)\n",
    "    csvwriter.writerow(fields)\n",
    "    csvwriter.writerows(rows)\n",
    "\n",
    "import pandas as pd\n",
    "df = pd.read_csv(filename)\n",
    "print(df)"
   ]
  },
  {
   "cell_type": "markdown",
   "id": "7307b15b",
   "metadata": {},
   "source": [
    "--------------------------Q7------------------------------------"
   ]
  },
  {
   "cell_type": "code",
   "execution_count": 76,
   "id": "f336a6d6",
   "metadata": {},
   "outputs": [
    {
     "name": "stdout",
     "output_type": "stream",
     "text": [
      "NumCount: 3\n",
      "StringCount: 14\n"
     ]
    }
   ],
   "source": [
    "text = \"hello I am mohsin353\"\n",
    "stringCount=0\n",
    "numCount=0\n",
    "for i in range(len(text)):\n",
    "    if text[i].isdigit():\n",
    "        numCount+=1\n",
    "    if text[i].isalpha():\n",
    "        stringCount+=1\n",
    "        \n",
    "print(\"NumCount:\",numCount)\n",
    "print(\"StringCount:\",stringCount)"
   ]
  }
 ],
 "metadata": {
  "kernelspec": {
   "display_name": "Python 3 (ipykernel)",
   "language": "python",
   "name": "python3"
  },
  "language_info": {
   "codemirror_mode": {
    "name": "ipython",
    "version": 3
   },
   "file_extension": ".py",
   "mimetype": "text/x-python",
   "name": "python",
   "nbconvert_exporter": "python",
   "pygments_lexer": "ipython3",
   "version": "3.9.13"
  }
 },
 "nbformat": 4,
 "nbformat_minor": 5
}
