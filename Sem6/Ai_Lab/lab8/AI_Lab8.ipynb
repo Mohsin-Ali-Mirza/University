{
  "nbformat": 4,
  "nbformat_minor": 0,
  "metadata": {
    "colab": {
      "provenance": []
    },
    "kernelspec": {
      "name": "python3",
      "display_name": "Python 3"
    },
    "language_info": {
      "name": "python"
    }
  },
  "cells": [
    {
      "cell_type": "code",
      "source": [
        "!pip install pomegranate"
      ],
      "metadata": {
        "id": "T6l2iEnZAaYA"
      },
      "execution_count": null,
      "outputs": []
    },
    {
      "cell_type": "code",
      "source": [
        "!pip install -U numpy"
      ],
      "metadata": {
        "id": "nPRa_nrLCfFD"
      },
      "execution_count": null,
      "outputs": []
    },
    {
      "cell_type": "code",
      "source": [
        "!git clone https://github.com/jmschrei/pomegranate"
      ],
      "metadata": {
        "id": "iHIj_knbDKQd"
      },
      "execution_count": null,
      "outputs": []
    },
    {
      "cell_type": "code",
      "source": [
        "%cd pomegranate\n",
        "!python setup.py install"
      ],
      "metadata": {
        "id": "CeOirZeeDjNs"
      },
      "execution_count": null,
      "outputs": []
    },
    {
      "cell_type": "code",
      "source": [
        "!pip uninstall pomegranate\n",
        "!pip install pomegranate --no-cache-dir"
      ],
      "metadata": {
        "id": "oLP1h8l7HJQn"
      },
      "execution_count": null,
      "outputs": []
    },
    {
      "cell_type": "code",
      "source": [
        "!pip install matplotlib-venn\n",
        "!apt-get -qq install -y libfluidsynth1\n",
        "!apt-get -qq install -y libarchive-dev && pip install -U libarchive\n",
        "import libarchive\n",
        "!apt-get -qq install -y graphviz && pip install pydot\n",
        "import pydot\n",
        "!pip install cartopy\n",
        "import cartopy"
      ],
      "metadata": {
        "id": "UL05RR3jIsmy"
      },
      "execution_count": null,
      "outputs": []
    },
    {
      "cell_type": "code",
      "source": [
        "!pip uninstall pomegranate\n",
        "!pip install pomegranate"
      ],
      "metadata": {
        "id": "SkbzXDukJl7Q"
      },
      "execution_count": null,
      "outputs": []
    },
    {
      "cell_type": "code",
      "source": [
        "!pip install --upgrade pomegranate"
      ],
      "metadata": {
        "id": "bwYEWEK7JxCF"
      },
      "execution_count": null,
      "outputs": []
    },
    {
      "cell_type": "code",
      "source": [
        "!pip install -U numpy\n",
        "!pip uninstall pomegranate\n",
        "!pip install pomegranate==0.13.5"
      ],
      "metadata": {
        "id": "mBAZslm5KeaI"
      },
      "execution_count": null,
      "outputs": []
    },
    {
      "cell_type": "code",
      "source": [
        "!pip install pandas\n",
        "!pip install Cython"
      ],
      "metadata": {
        "id": "zBS809ifPLIN"
      },
      "execution_count": null,
      "outputs": []
    },
    {
      "cell_type": "code",
      "source": [
        "!pip uninstall pomegranate\n",
        "!pip install pomegranate --no-cache-dir"
      ],
      "metadata": {
        "id": "XyY9Zc4yMmvt"
      },
      "execution_count": null,
      "outputs": []
    },
    {
      "cell_type": "code",
      "source": [
        "!pip uninstall pomegranate\n",
        "!pip install pomegranate==0.13.3"
      ],
      "metadata": {
        "colab": {
          "base_uri": "https://localhost:8080/"
        },
        "id": "QMjfn4RfQxYq",
        "outputId": "a6b97aa7-0b53-4fcd-f7cf-a7abbc63268c"
      },
      "execution_count": null,
      "outputs": [
        {
          "output_type": "stream",
          "name": "stdout",
          "text": [
            "\u001b[33mWARNING: Skipping pomegranate as it is not installed.\u001b[0m\u001b[33m\n",
            "\u001b[0mLooking in indexes: https://pypi.org/simple, https://us-python.pkg.dev/colab-wheels/public/simple/\n",
            "Collecting pomegranate==0.13.3\n",
            "  Downloading pomegranate-0.13.3.tar.gz (3.3 MB)\n",
            "\u001b[2K     \u001b[90m━━━━━━━━━━━━━━━━━━━━━━━━━━━━━━━━━━━━━━━━\u001b[0m \u001b[32m3.3/3.3 MB\u001b[0m \u001b[31m3.1 MB/s\u001b[0m eta \u001b[36m0:00:00\u001b[0m\n",
            "\u001b[?25h  Preparing metadata (setup.py) ... \u001b[?25l\u001b[?25hdone\n",
            "Requirement already satisfied: numpy>=1.8.0 in /usr/local/lib/python3.9/dist-packages (from pomegranate==0.13.3) (1.24.2)\n",
            "Requirement already satisfied: joblib>=0.9.0b4 in /usr/local/lib/python3.9/dist-packages (from pomegranate==0.13.3) (1.2.0)\n",
            "Requirement already satisfied: networkx>=2.0 in /usr/local/lib/python3.9/dist-packages (from pomegranate==0.13.3) (3.1)\n",
            "Requirement already satisfied: scipy>=0.17.0 in /usr/local/lib/python3.9/dist-packages (from pomegranate==0.13.3) (1.10.1)\n",
            "Requirement already satisfied: pyyaml in /usr/local/lib/python3.9/dist-packages (from pomegranate==0.13.3) (6.0)\n",
            "Building wheels for collected packages: pomegranate\n"
          ]
        }
      ]
    },
    {
      "cell_type": "code",
      "source": [
        "import pandas as pd\n",
        "from pomegranate import *\n",
        "import numpy as np\n",
        "import urllib\n",
        "import sys\n",
        "\n",
        "import random\n",
        "import math\n",
        "\n",
        "random.seed(0)"
      ],
      "metadata": {
        "colab": {
          "base_uri": "https://localhost:8080/",
          "height": 496
        },
        "id": "R1jCuPG8JSnJ",
        "outputId": "c9481017-61eb-44f6-efdf-1e71c7739aef"
      },
      "execution_count": null,
      "outputs": [
        {
          "output_type": "error",
          "ename": "ModuleNotFoundError",
          "evalue": "ignored",
          "traceback": [
            "\u001b[0;31m---------------------------------------------------------------------------\u001b[0m",
            "\u001b[0;31mModuleNotFoundError\u001b[0m                       Traceback (most recent call last)",
            "\u001b[0;32m<ipython-input-68-40487df9222a>\u001b[0m in \u001b[0;36m<cell line: 3>\u001b[0;34m()\u001b[0m\n\u001b[1;32m      1\u001b[0m \u001b[0;32mimport\u001b[0m \u001b[0mos\u001b[0m\u001b[0;34m\u001b[0m\u001b[0;34m\u001b[0m\u001b[0m\n\u001b[1;32m      2\u001b[0m \u001b[0;32mimport\u001b[0m \u001b[0mmath\u001b[0m\u001b[0;34m\u001b[0m\u001b[0;34m\u001b[0m\u001b[0m\n\u001b[0;32m----> 3\u001b[0;31m \u001b[0;32mfrom\u001b[0m \u001b[0mpomegranate\u001b[0m \u001b[0;32mimport\u001b[0m \u001b[0;34m*\u001b[0m\u001b[0;34m\u001b[0m\u001b[0;34m\u001b[0m\u001b[0m\n\u001b[0m",
            "\u001b[0;32m/content/pomegranate/pomegranate/__init__.py\u001b[0m in \u001b[0;36m<module>\u001b[0;34m\u001b[0m\n\u001b[1;32m      9\u001b[0m \u001b[0;32mimport\u001b[0m \u001b[0mos\u001b[0m\u001b[0;34m\u001b[0m\u001b[0;34m\u001b[0m\u001b[0m\n\u001b[1;32m     10\u001b[0m \u001b[0;34m\u001b[0m\u001b[0m\n\u001b[0;32m---> 11\u001b[0;31m \u001b[0;32mfrom\u001b[0m \u001b[0;34m.\u001b[0m\u001b[0mbase\u001b[0m \u001b[0;32mimport\u001b[0m \u001b[0;34m*\u001b[0m\u001b[0;34m\u001b[0m\u001b[0;34m\u001b[0m\u001b[0m\n\u001b[0m\u001b[1;32m     12\u001b[0m \u001b[0;32mfrom\u001b[0m \u001b[0;34m.\u001b[0m\u001b[0mparallel\u001b[0m \u001b[0;32mimport\u001b[0m \u001b[0;34m*\u001b[0m\u001b[0;34m\u001b[0m\u001b[0;34m\u001b[0m\u001b[0m\n\u001b[1;32m     13\u001b[0m \u001b[0;34m\u001b[0m\u001b[0m\n",
            "\u001b[0;31mModuleNotFoundError\u001b[0m: No module named 'pomegranate.base'",
            "",
            "\u001b[0;31m---------------------------------------------------------------------------\u001b[0;32m\nNOTE: If your import is failing due to a missing package, you can\nmanually install dependencies using either !pip or !apt.\n\nTo view examples of installing some common dependencies, click the\n\"Open Examples\" button below.\n\u001b[0;31m---------------------------------------------------------------------------\u001b[0m\n"
          ],
          "errorDetails": {
            "actions": [
              {
                "action": "open_url",
                "actionText": "Open Examples",
                "url": "/notebooks/snippets/importing_libraries.ipynb"
              }
            ]
          }
        }
      ]
    },
    {
      "cell_type": "code",
      "source": [
        "import numpy\n",
        "import joblib\n",
        "import networkx\n",
        "import scipy\n",
        "import yaml\n",
        "import cython\n",
        "\n",
        "print(f\"numpy version: {numpy.__version__}\")\n",
        "print(f\"joblib version: {joblib.__version__}\")\n",
        "print(f\"networkx version: {networkx.__version__}\")\n",
        "print(f\"scipy version: {scipy.__version__}\")\n",
        "print(f\"pyyaml version: {yaml.__version__}\")\n",
        "print(f\"cython version: {cython.__version__}\")"
      ],
      "metadata": {
        "colab": {
          "base_uri": "https://localhost:8080/"
        },
        "id": "Lwy44YcYGT_M",
        "outputId": "94a8c98c-dcd7-4a95-fb4f-a4eea0c2689c"
      },
      "execution_count": null,
      "outputs": [
        {
          "output_type": "stream",
          "name": "stdout",
          "text": [
            "numpy version: 1.22.4\n",
            "joblib version: 1.2.0\n",
            "networkx version: 3.1\n",
            "scipy version: 1.10.1\n",
            "pyyaml version: 6.0\n",
            "cython version: 0.29.34\n"
          ]
        }
      ]
    },
    {
      "cell_type": "markdown",
      "source": [
        "#** Tried to install a libary in every most concievable way known to mankind yet still cant install it**"
      ],
      "metadata": {
        "id": "yQwFB2QAOZWq"
      }
    },
    {
      "cell_type": "code",
      "execution_count": null,
      "metadata": {
        "colab": {
          "base_uri": "https://localhost:8080/",
          "height": 534
        },
        "id": "many1u7SABDz",
        "outputId": "665cb0ad-7776-405d-ac71-fe5b3b64ef16"
      },
      "outputs": [
        {
          "output_type": "error",
          "ename": "ModuleNotFoundError",
          "evalue": "ignored",
          "traceback": [
            "\u001b[0;31m---------------------------------------------------------------------------\u001b[0m",
            "\u001b[0;31mModuleNotFoundError\u001b[0m                       Traceback (most recent call last)",
            "\u001b[0;32m<ipython-input-41-1103a44a961a>\u001b[0m in \u001b[0;36m<cell line: 2>\u001b[0;34m()\u001b[0m\n\u001b[1;32m      1\u001b[0m \u001b[0;32mimport\u001b[0m \u001b[0mmath\u001b[0m\u001b[0;34m\u001b[0m\u001b[0;34m\u001b[0m\u001b[0m\n\u001b[0;32m----> 2\u001b[0;31m \u001b[0;32mfrom\u001b[0m \u001b[0mpomegranate\u001b[0m \u001b[0;32mimport\u001b[0m \u001b[0;34m*\u001b[0m\u001b[0;34m\u001b[0m\u001b[0;34m\u001b[0m\u001b[0m\n\u001b[0m\u001b[1;32m      3\u001b[0m \u001b[0;34m\u001b[0m\u001b[0m\n\u001b[1;32m      4\u001b[0m \u001b[0mstudy_time\u001b[0m \u001b[0;34m=\u001b[0m \u001b[0mDiscreteDistribution\u001b[0m\u001b[0;34m(\u001b[0m\u001b[0;34m{\u001b[0m\u001b[0;34m'1hour'\u001b[0m\u001b[0;34m:\u001b[0m \u001b[0;36m0.5\u001b[0m\u001b[0;34m,\u001b[0m \u001b[0;34m'2hour'\u001b[0m\u001b[0;34m:\u001b[0m \u001b[0;36m0.4\u001b[0m\u001b[0;34m,\u001b[0m \u001b[0;34m'3hour'\u001b[0m\u001b[0;34m:\u001b[0m \u001b[0;36m0.1\u001b[0m\u001b[0;34m}\u001b[0m\u001b[0;34m)\u001b[0m\u001b[0;34m\u001b[0m\u001b[0;34m\u001b[0m\u001b[0m\n\u001b[1;32m      5\u001b[0m \u001b[0;34m\u001b[0m\u001b[0m\n",
            "\u001b[0;32m/content/pomegranate/pomegranate/__init__.py\u001b[0m in \u001b[0;36m<module>\u001b[0;34m\u001b[0m\n\u001b[1;32m      9\u001b[0m \u001b[0;32mimport\u001b[0m \u001b[0mos\u001b[0m\u001b[0;34m\u001b[0m\u001b[0;34m\u001b[0m\u001b[0m\n\u001b[1;32m     10\u001b[0m \u001b[0;34m\u001b[0m\u001b[0m\n\u001b[0;32m---> 11\u001b[0;31m \u001b[0;32mfrom\u001b[0m \u001b[0;34m.\u001b[0m\u001b[0mbase\u001b[0m \u001b[0;32mimport\u001b[0m \u001b[0;34m*\u001b[0m\u001b[0;34m\u001b[0m\u001b[0;34m\u001b[0m\u001b[0m\n\u001b[0m\u001b[1;32m     12\u001b[0m \u001b[0;32mfrom\u001b[0m \u001b[0;34m.\u001b[0m\u001b[0mparallel\u001b[0m \u001b[0;32mimport\u001b[0m \u001b[0;34m*\u001b[0m\u001b[0;34m\u001b[0m\u001b[0;34m\u001b[0m\u001b[0m\n\u001b[1;32m     13\u001b[0m \u001b[0;34m\u001b[0m\u001b[0m\n",
            "\u001b[0;31mModuleNotFoundError\u001b[0m: No module named 'pomegranate.base'",
            "",
            "\u001b[0;31m---------------------------------------------------------------------------\u001b[0;32m\nNOTE: If your import is failing due to a missing package, you can\nmanually install dependencies using either !pip or !apt.\n\nTo view examples of installing some common dependencies, click the\n\"Open Examples\" button below.\n\u001b[0;31m---------------------------------------------------------------------------\u001b[0m\n"
          ],
          "errorDetails": {
            "actions": [
              {
                "action": "open_url",
                "actionText": "Open Examples",
                "url": "/notebooks/snippets/importing_libraries.ipynb"
              }
            ]
          }
        }
      ],
      "source": [
        "from pomegranate import *\n",
        "\n",
        "# Define variables/nodes\n",
        "study_time = ContinuousDistribution({'low': [0, 1], 'medium': [1, 2], 'high': [2, 3]})\n",
        "exam_score = ConditionalProbabilityTable(\n",
        "    [[ 'low', 'low', 0.1 ],\n",
        "     [ 'low', 'medium', 0.5 ],\n",
        "     [ 'low', 'high', 0.9 ],\n",
        "     [ 'medium', 'low', 0.3 ],\n",
        "     [ 'medium', 'medium', 0.7 ],\n",
        "     [ 'medium', 'high', 0.95 ],\n",
        "     [ 'high', 'low', 0.6 ],\n",
        "     [ 'high', 'medium', 0.85 ],\n",
        "     [ 'high', 'high', 0.98 ]], [study_time])\n",
        "passing_prob = ConditionalProbabilityTable(\n",
        "    [[ 'low', 0.1 ],\n",
        "     [ 'medium', 0.5 ],\n",
        "     [ 'high', 0.9 ]], [exam_score])\n",
        "\n",
        "# Define DAG\n",
        "model = BayesianNetwork('Passing Probability')\n",
        "model.add_states(study_time, exam_score, passing_prob)\n",
        "model.add_edge(study_time, exam_score)\n",
        "model.add_edge(exam_score, passing_prob)\n",
        "model.bake()\n",
        "\n",
        "# Get probability of uncertainties\n",
        "prob_exam_score = model.predict_proba({'study_time': 'medium'})[1].parameters[0]\n",
        "prob_passing = model.predict_proba({'study_time': 'medium'})[2].parameters[0][1]\n",
        "\n",
        "print('Probability of Exam Score =', prob_exam_score)\n",
        "print('Probability of Passing =', prob_passing)\n"
      ]
    },
    {
      "cell_type": "code",
      "source": [
        "age = DiscreteDistribution({'<40': 1./3, '40-60': 1./3, '>60': 1./3})\n",
        "cholestrol = DiscreteDistribution({'100-150': 1./3, '150-250': 1./3, '250-255': 1./3 })\n",
        "\n",
        "heart_disease = ConditionalProbabilityTable(\n",
        "    [        ['<40', '100-150', 'No', 0.75],\n",
        "        ['<40', '100-150', 'Yes', 0.25],\n",
        "        ['<40', '150-250', 'No', 0.4],\n",
        "        ['<40', '150-250', 'Yes', 0.6],\n",
        "        ['<40', '250-255', 'No', 0.2],\n",
        "        ['<40', '250-255', 'Yes', 0.8],\n",
        "        ['40-60', '100-150', 'No', 0.37],\n",
        "        ['40-60', '100-150', 'Yes', 0.63],\n",
        "        ['40-60', '150-250', 'No', 0.37],\n",
        "        ['40-60', '150-250', 'Yes', 0.63],\n",
        "        ['40-60', '250-255', 'No', 0.12],\n",
        "        ['40-60', '250-255', 'Yes', 0.88],\n",
        "        ['>60', '100-150', 'No', 0.375],\n",
        "        ['>60', '100-150', 'Yes', 0.625],\n",
        "        ['>60', '150-250', 'No', 0.5],\n",
        "        ['>60', '150-250', 'Yes', 0.5],\n",
        "        ['>60', '250-255', 'No', 0.375],\n",
        "        ['>60', '250-255', 'Yes', 0.625],\n",
        "    ],\n",
        "    [age, cholestrol]\n",
        ")\n",
        "d1 = State(age, name='age')\n",
        "d2 = State(cholestrol, name='cholestrol')\n",
        "d3 = State(heart_disease, name='heart_disease')\n",
        "\n",
        "network = BayesianNetwork()\n",
        "network.add_states(d1,d2,d3)\n",
        "network.add_edge(d1,d3)\n",
        "network.add_edge(d2,d3)"
      ],
      "metadata": {
        "id": "Gt957unOO-y3"
      },
      "execution_count": null,
      "outputs": []
    },
    {
      "cell_type": "code",
      "source": [
        "from pomegranate import BayesianNetwork, State, ConditionalProbabilityTable\n",
        "\n",
        "# Define the states for the Bayesian network\n",
        "cpu = State(ConditionalProbabilityTable([\n",
        "    [0.3, 0.4, 0.3],\n",
        "    [0.4, 0.2, 0.4],\n",
        "    [0.3, 0.4, 0.3]\n",
        "], [ 'low', 'medium', 'high']), name='cpu')\n",
        "\n",
        "memory = State(ConditionalProbabilityTable([\n",
        "    [0.3, 0.4, 0.3],\n",
        "    [0.4, 0.2, 0.4],\n",
        "    [0.3, 0.4, 0.3]\n",
        "], [ 'low', 'medium', 'high']), name='memory')\n",
        "\n",
        "disk = State(ConditionalProbabilityTable([\n",
        "    [0.3, 0.4, 0.3],\n",
        "    [0.4, 0.2, 0.4],\n",
        "    [0.3, 0.4, 0.3]\n",
        "], [ 'low', 'medium', 'high']), name='disk')\n",
        "\n",
        "network_traffic = State(ConditionalProbabilityTable([\n",
        "    [0.3, 0.4, 0.3],\n",
        "    [0.4, 0.2, 0.4],\n",
        "    [0.3, 0.4, 0.3]\n",
        "], [ 'low', 'medium', 'high']), name='network_traffic')\n",
        "\n",
        "operating_system = State(ConditionalProbabilityTable([\n",
        "    [0.6, 0.4],\n",
        "    [0.4, 0.6]\n",
        "], [ 'Windows', 'Linux']), name='operating_system')\n",
        "\n",
        "application_type = State(ConditionalProbabilityTable([\n",
        "    ['low', 'Windows', 0.2],\n",
        "    ['medium', 'Windows', 0.5],\n",
        "    ['high', 'Windows', 0.8],\n",
        "    ['low', 'Linux', 0.1],\n",
        "    ['medium', 'Linux', 0.4],\n",
        "    ['high', 'Linux', 0.7]\n",
        "], [cpu, memory, disk, operating_system]), name='application_type')\n",
        "\n",
        "# Create the Bayesian network and add states and edges\n",
        "model = BayesianNetwork('system_failure')\n",
        "model.add_states(cpu, memory, disk, network_traffic, operating_system, application_type)\n",
        "model.add_edge(cpu, application_type)\n",
        "model.add_edge(memory, application_type)\n",
        "model.add_edge(disk, application_type)\n",
        "model.add_edge(network_traffic, application_type)\n",
        "model.add_edge(operating_system, application_type)\n",
        "model.bake()\n",
        "\n",
        "# Find the probability of system failure\n",
        "evidence = {'cpu': 'high', 'memory': 'medium', 'disk': 'high', 'network_traffic': 'low', 'operating_system': 'Linux'}\n",
        "system_failure_prob = model.predict_proba({'application_type': 'high', **evidence})[0].parameters[0][1]\n",
        "print(f\"The probability of system failure given the evidence {evidence} is {system_failure_prob:.2f}\")\n"
      ],
      "metadata": {
        "id": "6V4SBO7FPE-a"
      },
      "execution_count": null,
      "outputs": []
    },
    {
      "cell_type": "code",
      "source": [],
      "metadata": {
        "id": "BPnuj4-4OdKQ"
      },
      "execution_count": null,
      "outputs": []
    }
  ]
}