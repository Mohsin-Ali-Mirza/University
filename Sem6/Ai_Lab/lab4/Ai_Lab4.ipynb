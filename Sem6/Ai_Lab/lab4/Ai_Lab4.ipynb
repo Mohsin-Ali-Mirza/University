{
  "nbformat": 4,
  "nbformat_minor": 0,
  "metadata": {
    "colab": {
      "provenance": [],
      "collapsed_sections": [
        "4i_Otc2irVAd",
        "XgM3MvmerW__",
        "Dt1ekfMxrZXG",
        "qeIsug1zvnRr"
      ]
    },
    "kernelspec": {
      "name": "python3",
      "display_name": "Python 3"
    },
    "language_info": {
      "name": "python"
    }
  },
  "cells": [
    {
      "cell_type": "markdown",
      "source": [
        "#AI Lab 4 By Mohsin Ali Mirza k200353 BCS-6E"
      ],
      "metadata": {
        "id": "dd-i8M5VrOYF"
      }
    },
    {
      "cell_type": "markdown",
      "source": [
        "#Task 1"
      ],
      "metadata": {
        "id": "4i_Otc2irVAd"
      }
    },
    {
      "cell_type": "code",
      "execution_count": null,
      "metadata": {
        "id": "C_wtXdUxrL8x",
        "colab": {
          "base_uri": "https://localhost:8080/",
          "height": 355
        },
        "outputId": "9dcbfa75-3f00-4ada-dcae-9f6216fb6808"
      },
      "outputs": [
        {
          "output_type": "stream",
          "name": "stderr",
          "text": [
            "<ipython-input-17-341fe5b767da>:39: DeprecationWarning: nx.nx_pydot.graphviz_layout depends on the pydot package, which hasknown issues and is not actively maintained. Consider usingnx.nx_agraph.graphviz_layout instead.\n",
            "\n",
            "See https://github.com/networkx/networkx/issues/5723\n",
            "  pos = graphviz_layout(G1, prog=\"twopi\")\n"
          ]
        },
        {
          "output_type": "display_data",
          "data": {
            "text/plain": [
              "<Figure size 432x288 with 1 Axes>"
            ],
            "image/png": "[encoded data removed]"
          },
          "metadata": {}
        },
        {
          "output_type": "stream",
          "name": "stdout",
          "text": [
            "Shortest Path is: (1, 2, 4, 3)  And Shortest Distance is: 65\n"
          ]
        }
      ],
      "source": [
        "import networkx as nx\n",
        "import matplotlib.pyplot as plt\n",
        "import pydot\n",
        "from networkx.drawing.nx_pydot import graphviz_layout\n",
        "from queue import PriorityQueue\n",
        "from sys import maxsize\n",
        "import itertools\n",
        "\n",
        "def tsp(graph,startNode):\n",
        "    # Generate all possible permutations of the nodes\n",
        "    nodes = list(graph.nodes())\n",
        "    nodes.remove(startNode)\n",
        "    permutations = itertools.permutations(nodes)\n",
        "\n",
        "    # Find the shortest TSP path among all permutations\n",
        "    shortest_path = None\n",
        "    shortest_distance = float('inf')\n",
        "    for path in permutations:\n",
        "        path = (startNode,) + path\n",
        "        distance = 0\n",
        "        for i in range(len(path)-1):\n",
        "            distance += graph[path[i]][path[i+1]]['weight']\n",
        "        if distance < shortest_distance:\n",
        "            shortest_path = path\n",
        "            shortest_distance = distance\n",
        "\n",
        "    return shortest_path, shortest_distance\n",
        "\n",
        "G1 = nx.Graph()\n",
        "G1.add_edge(1,4, weight=20)\n",
        "G1.add_edge(1,2, weight=10)\n",
        "G1.add_edge(1,3, weight=15)\n",
        "G1.add_edge(4,2, weight=25)\n",
        "G1.add_edge(4,3, weight=30)\n",
        "G1.add_edge(2,3, weight=35)\n",
        "\n",
        "\n",
        "#Draw The Graph with Nodes + Weights\n",
        "pos = graphviz_layout(G1, prog=\"twopi\")\n",
        "nx.draw_networkx(G1, pos)\n",
        "edge_labels = nx.get_edge_attributes(G1, 'weight')\n",
        "nx.draw_networkx_edge_labels(G1, pos, edge_labels=edge_labels)\n",
        "plt.show()\n",
        "\n",
        "shortest_path, shortestDistance = tsp(G1,1)\n",
        "print(\"Shortest Path is:\",shortest_path,\" And Shortest Distance is:\", shortestDistance)\n"
      ]
    },
    {
      "cell_type": "markdown",
      "source": [
        "#Task 2"
      ],
      "metadata": {
        "id": "XgM3MvmerW__"
      }
    },
    {
      "cell_type": "code",
      "source": [
        "import networkx as nx\n",
        "import matplotlib.pyplot as plt\n",
        "\n",
        "def dfs(startNode,G):\n",
        "  visited = set()\n",
        "  path = []\n",
        "  stack = [startNode]\n",
        "\n",
        "  while stack:\n",
        "    curr_vertex = stack.pop()\n",
        "\n",
        "    if(curr_vertex not in visited):\n",
        "      visited.add(curr_vertex)\n",
        "      path.append(curr_vertex)\n",
        "\n",
        "      for neighbour in G.neighbors(curr_vertex):\n",
        "        if neighbour not in visited:\n",
        "          stack.append(neighbour)\n",
        "\n",
        "  return path\n",
        "\n",
        "G = nx.Graph()\n",
        "\n",
        "G.add_edge('A','B')\n",
        "G.add_edge('A','C')\n",
        "G.add_edge('A','D')\n",
        "G.add_edge('D','E')\n",
        "\n",
        "nx.draw_networkx(G)\n",
        "plt.show()\n",
        "path = dfs('A',G)\n",
        "print(\"Result: \" + \" -> \".join(path))"
      ],
      "metadata": {
        "colab": {
          "base_uri": "https://localhost:8080/",
          "height": 265
        },
        "id": "71cJUNDJrY5A",
        "outputId": "c5b37100-437d-4608-eaa1-416b7378e165"
      },
      "execution_count": null,
      "outputs": [
        {
          "output_type": "display_data",
          "data": {
            "text/plain": [
              "<Figure size 432x288 with 1 Axes>"
            ],
            "image/png": "[encoded data removed]"
          },
          "metadata": {}
        },
        {
          "output_type": "stream",
          "name": "stdout",
          "text": [
            "Result: A -> D -> E -> C -> B\n"
          ]
        }
      ]
    },
    {
      "cell_type": "code",
      "source": [
        "import networkx as nx\n",
        "import matplotlib.pyplot as plt\n",
        "class Node:\n",
        "    def __init__(self, key):\n",
        "        self.left = None\n",
        "        self.right = None\n",
        "        self.val = key\n",
        "\n",
        "\n",
        "# A function to do inorder tree traversal\n",
        "def printInorder(root):\n",
        "\n",
        "    if root:\n",
        "\n",
        "        # First recur on left child\n",
        "        printInorder(root.left)\n",
        "\n",
        "        # then print the data of node\n",
        "        print(root.val),\n",
        "\n",
        "        # now recur on right child\n",
        "        printInorder(root.right)\n",
        "\n",
        "G = nx.Graph()\n",
        "G.add_edge(1,2)\n",
        "G.add_edge(1,3)\n",
        "G.add_edge(2,4)\n",
        "G.add_edge(2,5)\n",
        "\n",
        "nx.draw_networkx(G)\n",
        "plt.show()\n",
        "\n",
        "# Driver code\n",
        "root = Node(1)\n",
        "root.left = Node(2)\n",
        "root.right = Node(3)\n",
        "root.left.left = Node(4)\n",
        "root.left.right = Node(5)\n",
        "\n",
        "print (\"\\nInorder traversal of binary tree is\")\n",
        "printInorder(root)"
      ],
      "metadata": {
        "id": "cUuwds5U4HCk",
        "colab": {
          "base_uri": "https://localhost:8080/",
          "height": 370
        },
        "outputId": "cc3abdb3-a2c1-44e3-9f30-9ed36ca99f36"
      },
      "execution_count": null,
      "outputs": [
        {
          "output_type": "display_data",
          "data": {
            "text/plain": [
              "<Figure size 432x288 with 1 Axes>"
            ],
            "image/png": "[encoded data removed]"
          },
          "metadata": {}
        },
        {
          "output_type": "stream",
          "name": "stdout",
          "text": [
            "\n",
            "Inorder traversal of binary tree is\n",
            "4\n",
            "2\n",
            "5\n",
            "1\n",
            "3\n"
          ]
        }
      ]
    },
    {
      "cell_type": "code",
      "source": [],
      "metadata": {
        "id": "ebyLY8lFvbjd"
      },
      "execution_count": null,
      "outputs": []
    },
    {
      "cell_type": "markdown",
      "source": [
        "#Task 3 8 Puzzle Problem"
      ],
      "metadata": {
        "id": "Dt1ekfMxrZXG"
      }
    },
    {
      "cell_type": "code",
      "source": [
        "from queue import Queue\n",
        "\n",
        "# Board size and goal state\n",
        "N = 3\n",
        "goal = [[1, 2, 3], [4, 5, 6], [7, 8, 0]]\n",
        "\n",
        "# Class to represent board state\n",
        "class BoardState:\n",
        "    def __init__(self, board, moves):\n",
        "        self.board = board\n",
        "        self.moves = moves\n",
        "\n",
        "    def __eq__(self, other):\n",
        "        return self.board == other.board\n",
        "\n",
        "    def __hash__(self):\n",
        "        return hash(str(self.board))\n",
        "\n",
        "    def __str__(self):\n",
        "        return '\\n'.join([' '.join(map(str, row)) for row in self.board])\n",
        "\n",
        "# Function to find possible moves\n",
        "def possible_moves(board):\n",
        "    moves = []\n",
        "    row, col = next((i, j) for i, row in enumerate(board) for j, val in enumerate(row) if val == 0)\n",
        "    if row > 0: moves.append((row-1, col)) # Up\n",
        "    if row < N-1: moves.append((row+1, col)) # Down\n",
        "    if col > 0: moves.append((row, col-1)) # Left\n",
        "    if col < N-1: moves.append((row, col+1)) # Right\n",
        "    return moves\n",
        "\n",
        "# Function to perform move and create new board state\n",
        "def perform_move(board, move):\n",
        "    moves, cols = len(board), len(board[0])\n",
        "    row, col = move\n",
        "    row0, col0 = next((i, row.index(0)) for i, row in enumerate(board) if 0 in row)\n",
        "    new_board = [row[:] for row in board]\n",
        "    new_board[row][col], new_board[row0][col0] = new_board[row0][col0], new_board[row][col]\n",
        "    return BoardState(new_board, moves+1)\n",
        "\n",
        "# BFS algorithm to find solution\n",
        "def bfs(initial_state):\n",
        "    queue = Queue()\n",
        "    queue.put(initial_state)\n",
        "    visited = set()\n",
        "    while not queue.empty():\n",
        "        current_state = queue.get()\n",
        "        if current_state.board == goal:\n",
        "            return current_state\n",
        "        for move in possible_moves(current_state.board):\n",
        "            new_state = perform_move(current_state.board, move)\n",
        "            if new_state not in visited:\n",
        "                queue.put(new_state)\n",
        "                visited.add(new_state)\n",
        "    return None\n",
        "\n",
        "# Example usage\n",
        "initial_board = [[1, 2, 3], [4, 0, 5], [7, 8, 6]]\n",
        "initial_state = BoardState(initial_board, 0)\n",
        "solution = bfs(initial_state)\n",
        "if solution is not None:\n",
        "    print(\"Solution found in\", solution.moves, \"moves:\")\n",
        "    print(solution)\n",
        "else:\n",
        "    print(\"No solution found.\")\n"
      ],
      "metadata": {
        "colab": {
          "base_uri": "https://localhost:8080/"
        },
        "id": "J2-9FWJhra0S",
        "outputId": "e3cb71b9-f27b-4590-bcc5-a52ebe931cb4"
      },
      "execution_count": null,
      "outputs": [
        {
          "output_type": "stream",
          "name": "stdout",
          "text": [
            "Solution found in 4 moves:\n",
            "1 2 3\n",
            "4 5 6\n",
            "7 8 0\n"
          ]
        }
      ]
    },
    {
      "cell_type": "markdown",
      "source": [
        "# Task 4     Bi Directional Search"
      ],
      "metadata": {
        "id": "qeIsug1zvnRr"
      }
    },
    {
      "cell_type": "code",
      "source": [
        "from threading import currentThread\n",
        "import networkx as nx\n",
        "import matplotlib.pyplot as plt\n",
        "from queue import Queue\n",
        "\n",
        "def bi(G2,startNode,endNode):\n",
        "  forward_queue = Queue()\n",
        "  backward_queue = Queue()\n",
        "  forward_visited = set()\n",
        "  backward_visited = set()\n",
        "  path = []\n",
        "  forward_path = []\n",
        "  backward_path = []\n",
        "\n",
        "\n",
        "  forward_queue.put(startNode)\n",
        "  backward_queue.put(endNode)\n",
        "  while not forward_queue.empty() and not backward_queue.empty():\n",
        "    current = forward_queue.get()\n",
        "    forward_path.append(current)\n",
        "    path.append(current)\n",
        "\n",
        "    for neighbors in G2.neighbors(current):\n",
        "      if(neighbors not in forward_visited):\n",
        "        forward_visited.add(neighbors)\n",
        "        forward_queue.put(neighbors)\n",
        "\n",
        "      if neighbors in backward_visited:\n",
        "        path.append(neighbors)\n",
        "        print(\"X:\",neighbors)\n",
        "        print(\"Forward Path:\",forward_path,\"Backward Path: \",backward_path)\n",
        "        return path\n",
        "\n",
        "    current = backward_queue.get()\n",
        "    backward_path.append(current)\n",
        "    path.append(current)\n",
        "\n",
        "    for neighbors in G2.neighbors(current):\n",
        "      if(neighbors not in backward_visited):\n",
        "        backward_visited.add(neighbors)\n",
        "        backward_queue.put(neighbors)\n",
        "\n",
        "        if neighbors in forward_visited:\n",
        "          print(\"Forward Path:\",forward_path,\"Backward Path: \",backward_path)\n",
        "          path.append(neighbors)\n",
        "          return path\n",
        "\n",
        "\n",
        "  return path\n",
        "\n",
        "\n",
        "\n",
        "G2 = nx.Graph()\n",
        "\n",
        "G2.add_edge('1','4')\n",
        "G2.add_edge('2','4')\n",
        "G2.add_edge('8','4')\n",
        "G2.add_edge('8','9')\n",
        "G2.add_edge('9','10')\n",
        "G2.add_edge('8','6')\n",
        "G2.add_edge('6','3')\n",
        "G2.add_edge('6','5')\n",
        "G2.add_edge('10','11')\n",
        "G2.add_edge('11','13')\n",
        "G2.add_edge('11','14')\n",
        "G2.add_edge('10','12')\n",
        "G2.add_edge('12','15')\n",
        "G2.add_edge('12','16')\n",
        "\n",
        "nx.draw_networkx(G2)\n",
        "plt.show()\n",
        "\n",
        "path = bi(G2,'1','16')\n",
        "print(\"Result: \" + \" -> \".join(path))"
      ],
      "metadata": {
        "colab": {
          "base_uri": "https://localhost:8080/",
          "height": 300
        },
        "id": "5hhqTMshvmir",
        "outputId": "48d0b43e-07b4-416b-a7e1-799081e31c54"
      },
      "execution_count": null,
      "outputs": [
        {
          "output_type": "display_data",
          "data": {
            "text/plain": [
              "<Figure size 432x288 with 1 Axes>"
            ],
            "image/png": "[encoded data removed]"
          },
          "metadata": {}
        },
        {
          "output_type": "stream",
          "name": "stdout",
          "text": [
            "X: 9\n",
            "Forward Path: ['1', '4', '1', '2', '8'] Backward Path:  ['16', '12', '10', '15']\n",
            "Result: 1 -> 16 -> 4 -> 12 -> 1 -> 10 -> 2 -> 15 -> 8 -> 9\n"
          ]
        }
      ]
    }
  ]
}